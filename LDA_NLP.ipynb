{
  "nbformat": 4,
  "nbformat_minor": 0,
  "metadata": {
    "colab": {
      "name": "LDA_NLP.ipynb",
      "provenance": [],
      "collapsed_sections": [],
      "toc_visible": true
    },
    "kernelspec": {
      "name": "python3",
      "display_name": "Python 3"
    },
    "language_info": {
      "name": "python"
    },
    "widgets": {
      "application/vnd.jupyter.widget-state+json": {
        "bc212c528cb24db7b0ce60fb76fe45bc": {
          "model_module": "@jupyter-widgets/controls",
          "model_name": "HBoxModel",
          "state": {
            "_view_name": "HBoxView",
            "_dom_classes": [],
            "_model_name": "HBoxModel",
            "_view_module": "@jupyter-widgets/controls",
            "_model_module_version": "1.5.0",
            "_view_count": null,
            "_view_module_version": "1.5.0",
            "box_style": "",
            "layout": "IPY_MODEL_0e9c5aee8e0440a2bf19f774fef9afee",
            "_model_module": "@jupyter-widgets/controls",
            "children": [
              "IPY_MODEL_2e17217665c54f1a9c3d8805d51bc7ac",
              "IPY_MODEL_0d93935737af46f78dd8e0463843820c"
            ]
          }
        },
        "0e9c5aee8e0440a2bf19f774fef9afee": {
          "model_module": "@jupyter-widgets/base",
          "model_name": "LayoutModel",
          "state": {
            "_view_name": "LayoutView",
            "grid_template_rows": null,
            "right": null,
            "justify_content": null,
            "_view_module": "@jupyter-widgets/base",
            "overflow": null,
            "_model_module_version": "1.2.0",
            "_view_count": null,
            "flex_flow": null,
            "width": null,
            "min_width": null,
            "border": null,
            "align_items": null,
            "bottom": null,
            "_model_module": "@jupyter-widgets/base",
            "top": null,
            "grid_column": null,
            "overflow_y": null,
            "overflow_x": null,
            "grid_auto_flow": null,
            "grid_area": null,
            "grid_template_columns": null,
            "flex": null,
            "_model_name": "LayoutModel",
            "justify_items": null,
            "grid_row": null,
            "max_height": null,
            "align_content": null,
            "visibility": null,
            "align_self": null,
            "height": null,
            "min_height": null,
            "padding": null,
            "grid_auto_rows": null,
            "grid_gap": null,
            "max_width": null,
            "order": null,
            "_view_module_version": "1.2.0",
            "grid_template_areas": null,
            "object_position": null,
            "object_fit": null,
            "grid_auto_columns": null,
            "margin": null,
            "display": null,
            "left": null
          }
        },
        "2e17217665c54f1a9c3d8805d51bc7ac": {
          "model_module": "@jupyter-widgets/controls",
          "model_name": "FloatProgressModel",
          "state": {
            "_view_name": "ProgressView",
            "style": "IPY_MODEL_27817e879fda4dcaba5d2dec51c8e73f",
            "_dom_classes": [],
            "description": "Downloading: 100%",
            "_model_name": "FloatProgressModel",
            "bar_style": "success",
            "max": 3557225,
            "_view_module": "@jupyter-widgets/controls",
            "_model_module_version": "1.5.0",
            "value": 3557225,
            "_view_count": null,
            "_view_module_version": "1.5.0",
            "orientation": "horizontal",
            "min": 0,
            "description_tooltip": null,
            "_model_module": "@jupyter-widgets/controls",
            "layout": "IPY_MODEL_a4d7498e5e484ab18d1e758924b4ac8b"
          }
        },
        "0d93935737af46f78dd8e0463843820c": {
          "model_module": "@jupyter-widgets/controls",
          "model_name": "HTMLModel",
          "state": {
            "_view_name": "HTMLView",
            "style": "IPY_MODEL_d2679aacf619431db2c7f663f2d01aa9",
            "_dom_classes": [],
            "description": "",
            "_model_name": "HTMLModel",
            "placeholder": "​",
            "_view_module": "@jupyter-widgets/controls",
            "_model_module_version": "1.5.0",
            "value": " 3.56M/3.56M [00:00&lt;00:00, 5.25MB/s]",
            "_view_count": null,
            "_view_module_version": "1.5.0",
            "description_tooltip": null,
            "_model_module": "@jupyter-widgets/controls",
            "layout": "IPY_MODEL_4ea6dfd4dd814bd884a7976796e1a12e"
          }
        },
        "27817e879fda4dcaba5d2dec51c8e73f": {
          "model_module": "@jupyter-widgets/controls",
          "model_name": "ProgressStyleModel",
          "state": {
            "_view_name": "StyleView",
            "_model_name": "ProgressStyleModel",
            "description_width": "initial",
            "_view_module": "@jupyter-widgets/base",
            "_model_module_version": "1.5.0",
            "_view_count": null,
            "_view_module_version": "1.2.0",
            "bar_color": null,
            "_model_module": "@jupyter-widgets/controls"
          }
        },
        "a4d7498e5e484ab18d1e758924b4ac8b": {
          "model_module": "@jupyter-widgets/base",
          "model_name": "LayoutModel",
          "state": {
            "_view_name": "LayoutView",
            "grid_template_rows": null,
            "right": null,
            "justify_content": null,
            "_view_module": "@jupyter-widgets/base",
            "overflow": null,
            "_model_module_version": "1.2.0",
            "_view_count": null,
            "flex_flow": null,
            "width": null,
            "min_width": null,
            "border": null,
            "align_items": null,
            "bottom": null,
            "_model_module": "@jupyter-widgets/base",
            "top": null,
            "grid_column": null,
            "overflow_y": null,
            "overflow_x": null,
            "grid_auto_flow": null,
            "grid_area": null,
            "grid_template_columns": null,
            "flex": null,
            "_model_name": "LayoutModel",
            "justify_items": null,
            "grid_row": null,
            "max_height": null,
            "align_content": null,
            "visibility": null,
            "align_self": null,
            "height": null,
            "min_height": null,
            "padding": null,
            "grid_auto_rows": null,
            "grid_gap": null,
            "max_width": null,
            "order": null,
            "_view_module_version": "1.2.0",
            "grid_template_areas": null,
            "object_position": null,
            "object_fit": null,
            "grid_auto_columns": null,
            "margin": null,
            "display": null,
            "left": null
          }
        },
        "d2679aacf619431db2c7f663f2d01aa9": {
          "model_module": "@jupyter-widgets/controls",
          "model_name": "DescriptionStyleModel",
          "state": {
            "_view_name": "StyleView",
            "_model_name": "DescriptionStyleModel",
            "description_width": "",
            "_view_module": "@jupyter-widgets/base",
            "_model_module_version": "1.5.0",
            "_view_count": null,
            "_view_module_version": "1.2.0",
            "_model_module": "@jupyter-widgets/controls"
          }
        },
        "4ea6dfd4dd814bd884a7976796e1a12e": {
          "model_module": "@jupyter-widgets/base",
          "model_name": "LayoutModel",
          "state": {
            "_view_name": "LayoutView",
            "grid_template_rows": null,
            "right": null,
            "justify_content": null,
            "_view_module": "@jupyter-widgets/base",
            "overflow": null,
            "_model_module_version": "1.2.0",
            "_view_count": null,
            "flex_flow": null,
            "width": null,
            "min_width": null,
            "border": null,
            "align_items": null,
            "bottom": null,
            "_model_module": "@jupyter-widgets/base",
            "top": null,
            "grid_column": null,
            "overflow_y": null,
            "overflow_x": null,
            "grid_auto_flow": null,
            "grid_area": null,
            "grid_template_columns": null,
            "flex": null,
            "_model_name": "LayoutModel",
            "justify_items": null,
            "grid_row": null,
            "max_height": null,
            "align_content": null,
            "visibility": null,
            "align_self": null,
            "height": null,
            "min_height": null,
            "padding": null,
            "grid_auto_rows": null,
            "grid_gap": null,
            "max_width": null,
            "order": null,
            "_view_module_version": "1.2.0",
            "grid_template_areas": null,
            "object_position": null,
            "object_fit": null,
            "grid_auto_columns": null,
            "margin": null,
            "display": null,
            "left": null
          }
        }
      }
    }
  },
  "cells": [
    {
      "cell_type": "code",
      "metadata": {
        "colab": {
          "base_uri": "https://localhost:8080/"
        },
        "id": "M8MO5tY2F78R",
        "outputId": "c7f84309-6362-4a5b-bbac-de230a207ea0"
      },
      "source": [
        "#mount drive (do not have to do)\n",
        "from google.colab import drive\n",
        "drive.mount('/content/drive')"
      ],
      "execution_count": null,
      "outputs": [
        {
          "output_type": "stream",
          "text": [
            "Mounted at /content/drive\n"
          ],
          "name": "stdout"
        }
      ]
    },
    {
      "cell_type": "code",
      "metadata": {
        "colab": {
          "base_uri": "https://localhost:8080/",
          "height": 676
        },
        "id": "RegbYu0-qrbq",
        "outputId": "0c44b08a-92fe-4388-c18a-d750ff770f17"
      },
      "source": [
        "#install libraries\n",
        "!pip install gensim\n",
        "!pip install pythainlp\n",
        "!pip install --upgrade pandas\n",
        "# !pip install pyLDAvis"
      ],
      "execution_count": null,
      "outputs": [
        {
          "output_type": "stream",
          "text": [
            "Requirement already satisfied: gensim in /usr/local/lib/python3.7/dist-packages (3.6.0)\n",
            "Requirement already satisfied: scipy>=0.18.1 in /usr/local/lib/python3.7/dist-packages (from gensim) (1.4.1)\n",
            "Requirement already satisfied: numpy>=1.11.3 in /usr/local/lib/python3.7/dist-packages (from gensim) (1.19.5)\n",
            "Requirement already satisfied: smart-open>=1.2.1 in /usr/local/lib/python3.7/dist-packages (from gensim) (5.0.0)\n",
            "Requirement already satisfied: six>=1.5.0 in /usr/local/lib/python3.7/dist-packages (from gensim) (1.15.0)\n",
            "Collecting pythainlp\n",
            "\u001b[?25l  Downloading https://files.pythonhosted.org/packages/6e/e7/837dd9ab52fac889af830dc094a1598251f70004a2f1707ab0ff8dc0f63a/pythainlp-2.3.1-py3-none-any.whl (11.0MB)\n",
            "\u001b[K     |████████████████████████████████| 11.0MB 14.1MB/s \n",
            "\u001b[?25hRequirement already satisfied: requests>=2.22.0 in /usr/local/lib/python3.7/dist-packages (from pythainlp) (2.23.0)\n",
            "Collecting tinydb>=3.0\n",
            "  Downloading https://files.pythonhosted.org/packages/af/cd/1ce3d93818cdeda0446b8033d21e5f32daeb3a866bbafd878a9a62058a9c/tinydb-4.4.0-py3-none-any.whl\n",
            "Collecting python-crfsuite>=0.9.6\n",
            "\u001b[?25l  Downloading https://files.pythonhosted.org/packages/79/47/58f16c46506139f17de4630dbcfb877ce41a6355a1bbf3c443edb9708429/python_crfsuite-0.9.7-cp37-cp37m-manylinux1_x86_64.whl (743kB)\n",
            "\u001b[K     |████████████████████████████████| 747kB 38.3MB/s \n",
            "\u001b[?25hRequirement already satisfied: urllib3!=1.25.0,!=1.25.1,<1.26,>=1.21.1 in /usr/local/lib/python3.7/dist-packages (from requests>=2.22.0->pythainlp) (1.24.3)\n",
            "Requirement already satisfied: idna<3,>=2.5 in /usr/local/lib/python3.7/dist-packages (from requests>=2.22.0->pythainlp) (2.10)\n",
            "Requirement already satisfied: chardet<4,>=3.0.2 in /usr/local/lib/python3.7/dist-packages (from requests>=2.22.0->pythainlp) (3.0.4)\n",
            "Requirement already satisfied: certifi>=2017.4.17 in /usr/local/lib/python3.7/dist-packages (from requests>=2.22.0->pythainlp) (2020.12.5)\n",
            "Installing collected packages: tinydb, python-crfsuite, pythainlp\n",
            "Successfully installed pythainlp-2.3.1 python-crfsuite-0.9.7 tinydb-4.4.0\n",
            "Collecting pandas\n",
            "\u001b[?25l  Downloading https://files.pythonhosted.org/packages/51/51/48f3fc47c4e2144da2806dfb6629c4dd1fa3d5a143f9652b141e979a8ca9/pandas-1.2.4-cp37-cp37m-manylinux1_x86_64.whl (9.9MB)\n",
            "\u001b[K     |████████████████████████████████| 9.9MB 22.8MB/s \n",
            "\u001b[?25hRequirement already satisfied, skipping upgrade: python-dateutil>=2.7.3 in /usr/local/lib/python3.7/dist-packages (from pandas) (2.8.1)\n",
            "Requirement already satisfied, skipping upgrade: pytz>=2017.3 in /usr/local/lib/python3.7/dist-packages (from pandas) (2018.9)\n",
            "Requirement already satisfied, skipping upgrade: numpy>=1.16.5 in /usr/local/lib/python3.7/dist-packages (from pandas) (1.19.5)\n",
            "Requirement already satisfied, skipping upgrade: six>=1.5 in /usr/local/lib/python3.7/dist-packages (from python-dateutil>=2.7.3->pandas) (1.15.0)\n",
            "\u001b[31mERROR: google-colab 1.0.0 has requirement pandas~=1.1.0; python_version >= \"3.0\", but you'll have pandas 1.2.4 which is incompatible.\u001b[0m\n",
            "Installing collected packages: pandas\n",
            "  Found existing installation: pandas 1.1.5\n",
            "    Uninstalling pandas-1.1.5:\n",
            "      Successfully uninstalled pandas-1.1.5\n",
            "Successfully installed pandas-1.2.4\n"
          ],
          "name": "stdout"
        },
        {
          "output_type": "display_data",
          "data": {
            "application/vnd.colab-display-data+json": {
              "pip_warning": {
                "packages": [
                  "pandas"
                ]
              }
            }
          },
          "metadata": {
            "tags": []
          }
        }
      ]
    },
    {
      "cell_type": "markdown",
      "metadata": {
        "id": "PVJxYkhxUTN6"
      },
      "source": [
        "หลังจาก upgrade pandas ต้อง restart runtime"
      ]
    },
    {
      "cell_type": "code",
      "metadata": {
        "colab": {
          "base_uri": "https://localhost:8080/",
          "height": 323
        },
        "id": "F58ZuJxyKoGI",
        "outputId": "b46969bb-5a00-4834-f76e-2adfac97d7e2"
      },
      "source": [
        "!pip install numpy==1.19"
      ],
      "execution_count": null,
      "outputs": [
        {
          "output_type": "stream",
          "text": [
            "Collecting numpy==1.19\n",
            "\u001b[?25l  Downloading https://files.pythonhosted.org/packages/a8/31/e2c3eda7afe7dab08e1f24767b8e38ff2f30dc82bd74aa3a5324c550366a/numpy-1.19.0-cp37-cp37m-manylinux2010_x86_64.whl (14.6MB)\n",
            "\u001b[K     |████████████████████████████████| 14.6MB 305kB/s \n",
            "\u001b[31mERROR: tensorflow 2.4.1 has requirement numpy~=1.19.2, but you'll have numpy 1.19.0 which is incompatible.\u001b[0m\n",
            "\u001b[31mERROR: google-colab 1.0.0 has requirement pandas~=1.1.0; python_version >= \"3.0\", but you'll have pandas 1.2.4 which is incompatible.\u001b[0m\n",
            "\u001b[31mERROR: datascience 0.10.6 has requirement folium==0.2.1, but you'll have folium 0.8.3 which is incompatible.\u001b[0m\n",
            "\u001b[31mERROR: albumentations 0.1.12 has requirement imgaug<0.2.7,>=0.2.5, but you'll have imgaug 0.2.9 which is incompatible.\u001b[0m\n",
            "\u001b[?25hInstalling collected packages: numpy\n",
            "  Found existing installation: numpy 1.19.5\n",
            "    Uninstalling numpy-1.19.5:\n",
            "      Successfully uninstalled numpy-1.19.5\n",
            "Successfully installed numpy-1.19.0\n"
          ],
          "name": "stdout"
        },
        {
          "output_type": "display_data",
          "data": {
            "application/vnd.colab-display-data+json": {
              "pip_warning": {
                "packages": [
                  "numpy"
                ]
              }
            }
          },
          "metadata": {
            "tags": []
          }
        }
      ]
    },
    {
      "cell_type": "code",
      "metadata": {
        "colab": {
          "base_uri": "https://localhost:8080/",
          "height": 810
        },
        "id": "VbvIXnKCE-Li",
        "outputId": "056ce8cc-cbee-4c81-d744-4a32e84d34b9"
      },
      "source": [
        "!pip install pyLDAvis"
      ],
      "execution_count": null,
      "outputs": [
        {
          "output_type": "stream",
          "text": [
            "Collecting pyLDAvis\n",
            "\u001b[?25l  Downloading https://files.pythonhosted.org/packages/03/a5/15a0da6b0150b8b68610cc78af80364a80a9a4c8b6dd5ee549b8989d4b60/pyLDAvis-3.3.1.tar.gz (1.7MB)\n",
            "\r\u001b[K     |▏                               | 10kB 13.7MB/s eta 0:00:01\r\u001b[K     |▍                               | 20kB 19.0MB/s eta 0:00:01\r\u001b[K     |▋                               | 30kB 23.4MB/s eta 0:00:01\r\u001b[K     |▉                               | 40kB 21.1MB/s eta 0:00:01\r\u001b[K     |█                               | 51kB 15.7MB/s eta 0:00:01\r\u001b[K     |█▏                              | 61kB 17.2MB/s eta 0:00:01\r\u001b[K     |█▍                              | 71kB 16.9MB/s eta 0:00:01\r\u001b[K     |█▋                              | 81kB 15.6MB/s eta 0:00:01\r\u001b[K     |█▉                              | 92kB 14.9MB/s eta 0:00:01\r\u001b[K     |██                              | 102kB 15.4MB/s eta 0:00:01\r\u001b[K     |██▏                             | 112kB 15.4MB/s eta 0:00:01\r\u001b[K     |██▍                             | 122kB 15.4MB/s eta 0:00:01\r\u001b[K     |██▋                             | 133kB 15.4MB/s eta 0:00:01\r\u001b[K     |██▊                             | 143kB 15.4MB/s eta 0:00:01\r\u001b[K     |███                             | 153kB 15.4MB/s eta 0:00:01\r\u001b[K     |███▏                            | 163kB 15.4MB/s eta 0:00:01\r\u001b[K     |███▍                            | 174kB 15.4MB/s eta 0:00:01\r\u001b[K     |███▋                            | 184kB 15.4MB/s eta 0:00:01\r\u001b[K     |███▊                            | 194kB 15.4MB/s eta 0:00:01\r\u001b[K     |████                            | 204kB 15.4MB/s eta 0:00:01\r\u001b[K     |████▏                           | 215kB 15.4MB/s eta 0:00:01\r\u001b[K     |████▍                           | 225kB 15.4MB/s eta 0:00:01\r\u001b[K     |████▋                           | 235kB 15.4MB/s eta 0:00:01\r\u001b[K     |████▊                           | 245kB 15.4MB/s eta 0:00:01\r\u001b[K     |█████                           | 256kB 15.4MB/s eta 0:00:01\r\u001b[K     |█████▏                          | 266kB 15.4MB/s eta 0:00:01\r\u001b[K     |█████▍                          | 276kB 15.4MB/s eta 0:00:01\r\u001b[K     |█████▌                          | 286kB 15.4MB/s eta 0:00:01\r\u001b[K     |█████▊                          | 296kB 15.4MB/s eta 0:00:01\r\u001b[K     |██████                          | 307kB 15.4MB/s eta 0:00:01\r\u001b[K     |██████▏                         | 317kB 15.4MB/s eta 0:00:01\r\u001b[K     |██████▍                         | 327kB 15.4MB/s eta 0:00:01\r\u001b[K     |██████▌                         | 337kB 15.4MB/s eta 0:00:01\r\u001b[K     |██████▊                         | 348kB 15.4MB/s eta 0:00:01\r\u001b[K     |███████                         | 358kB 15.4MB/s eta 0:00:01\r\u001b[K     |███████▏                        | 368kB 15.4MB/s eta 0:00:01\r\u001b[K     |███████▎                        | 378kB 15.4MB/s eta 0:00:01\r\u001b[K     |███████▌                        | 389kB 15.4MB/s eta 0:00:01\r\u001b[K     |███████▊                        | 399kB 15.4MB/s eta 0:00:01\r\u001b[K     |████████                        | 409kB 15.4MB/s eta 0:00:01\r\u001b[K     |████████▏                       | 419kB 15.4MB/s eta 0:00:01\r\u001b[K     |████████▎                       | 430kB 15.4MB/s eta 0:00:01\r\u001b[K     |████████▌                       | 440kB 15.4MB/s eta 0:00:01\r\u001b[K     |████████▊                       | 450kB 15.4MB/s eta 0:00:01\r\u001b[K     |█████████                       | 460kB 15.4MB/s eta 0:00:01\r\u001b[K     |█████████▏                      | 471kB 15.4MB/s eta 0:00:01\r\u001b[K     |█████████▎                      | 481kB 15.4MB/s eta 0:00:01\r\u001b[K     |█████████▌                      | 491kB 15.4MB/s eta 0:00:01\r\u001b[K     |█████████▊                      | 501kB 15.4MB/s eta 0:00:01\r\u001b[K     |██████████                      | 512kB 15.4MB/s eta 0:00:01\r\u001b[K     |██████████                      | 522kB 15.4MB/s eta 0:00:01\r\u001b[K     |██████████▎                     | 532kB 15.4MB/s eta 0:00:01\r\u001b[K     |██████████▌                     | 542kB 15.4MB/s eta 0:00:01\r\u001b[K     |██████████▊                     | 552kB 15.4MB/s eta 0:00:01\r\u001b[K     |███████████                     | 563kB 15.4MB/s eta 0:00:01\r\u001b[K     |███████████                     | 573kB 15.4MB/s eta 0:00:01\r\u001b[K     |███████████▎                    | 583kB 15.4MB/s eta 0:00:01\r\u001b[K     |███████████▌                    | 593kB 15.4MB/s eta 0:00:01\r\u001b[K     |███████████▊                    | 604kB 15.4MB/s eta 0:00:01\r\u001b[K     |███████████▉                    | 614kB 15.4MB/s eta 0:00:01\r\u001b[K     |████████████                    | 624kB 15.4MB/s eta 0:00:01\r\u001b[K     |████████████▎                   | 634kB 15.4MB/s eta 0:00:01\r\u001b[K     |████████████▌                   | 645kB 15.4MB/s eta 0:00:01\r\u001b[K     |████████████▊                   | 655kB 15.4MB/s eta 0:00:01\r\u001b[K     |████████████▉                   | 665kB 15.4MB/s eta 0:00:01\r\u001b[K     |█████████████                   | 675kB 15.4MB/s eta 0:00:01\r\u001b[K     |█████████████▎                  | 686kB 15.4MB/s eta 0:00:01\r\u001b[K     |█████████████▌                  | 696kB 15.4MB/s eta 0:00:01\r\u001b[K     |█████████████▊                  | 706kB 15.4MB/s eta 0:00:01\r\u001b[K     |█████████████▉                  | 716kB 15.4MB/s eta 0:00:01\r\u001b[K     |██████████████                  | 727kB 15.4MB/s eta 0:00:01\r\u001b[K     |██████████████▎                 | 737kB 15.4MB/s eta 0:00:01\r\u001b[K     |██████████████▌                 | 747kB 15.4MB/s eta 0:00:01\r\u001b[K     |██████████████▋                 | 757kB 15.4MB/s eta 0:00:01\r\u001b[K     |██████████████▉                 | 768kB 15.4MB/s eta 0:00:01\r\u001b[K     |███████████████                 | 778kB 15.4MB/s eta 0:00:01\r\u001b[K     |███████████████▎                | 788kB 15.4MB/s eta 0:00:01\r\u001b[K     |███████████████▌                | 798kB 15.4MB/s eta 0:00:01\r\u001b[K     |███████████████▋                | 808kB 15.4MB/s eta 0:00:01\r\u001b[K     |███████████████▉                | 819kB 15.4MB/s eta 0:00:01\r\u001b[K     |████████████████                | 829kB 15.4MB/s eta 0:00:01\r\u001b[K     |████████████████▎               | 839kB 15.4MB/s eta 0:00:01\r\u001b[K     |████████████████▍               | 849kB 15.4MB/s eta 0:00:01\r\u001b[K     |████████████████▋               | 860kB 15.4MB/s eta 0:00:01\r\u001b[K     |████████████████▉               | 870kB 15.4MB/s eta 0:00:01\r\u001b[K     |█████████████████               | 880kB 15.4MB/s eta 0:00:01\r\u001b[K     |█████████████████▎              | 890kB 15.4MB/s eta 0:00:01\r\u001b[K     |█████████████████▍              | 901kB 15.4MB/s eta 0:00:01\r\u001b[K     |█████████████████▋              | 911kB 15.4MB/s eta 0:00:01\r\u001b[K     |█████████████████▉              | 921kB 15.4MB/s eta 0:00:01\r\u001b[K     |██████████████████              | 931kB 15.4MB/s eta 0:00:01\r\u001b[K     |██████████████████▎             | 942kB 15.4MB/s eta 0:00:01\r\u001b[K     |██████████████████▍             | 952kB 15.4MB/s eta 0:00:01\r\u001b[K     |██████████████████▋             | 962kB 15.4MB/s eta 0:00:01\r\u001b[K     |██████████████████▉             | 972kB 15.4MB/s eta 0:00:01\r\u001b[K     |███████████████████             | 983kB 15.4MB/s eta 0:00:01\r\u001b[K     |███████████████████▏            | 993kB 15.4MB/s eta 0:00:01\r\u001b[K     |███████████████████▍            | 1.0MB 15.4MB/s eta 0:00:01\r\u001b[K     |███████████████████▋            | 1.0MB 15.4MB/s eta 0:00:01\r\u001b[K     |███████████████████▉            | 1.0MB 15.4MB/s eta 0:00:01\r\u001b[K     |████████████████████            | 1.0MB 15.4MB/s eta 0:00:01\r\u001b[K     |████████████████████▏           | 1.0MB 15.4MB/s eta 0:00:01\r\u001b[K     |████████████████████▍           | 1.1MB 15.4MB/s eta 0:00:01\r\u001b[K     |████████████████████▋           | 1.1MB 15.4MB/s eta 0:00:01\r\u001b[K     |████████████████████▉           | 1.1MB 15.4MB/s eta 0:00:01\r\u001b[K     |█████████████████████           | 1.1MB 15.4MB/s eta 0:00:01\r\u001b[K     |█████████████████████▏          | 1.1MB 15.4MB/s eta 0:00:01\r\u001b[K     |█████████████████████▍          | 1.1MB 15.4MB/s eta 0:00:01\r\u001b[K     |█████████████████████▋          | 1.1MB 15.4MB/s eta 0:00:01\r\u001b[K     |█████████████████████▉          | 1.1MB 15.4MB/s eta 0:00:01\r\u001b[K     |██████████████████████          | 1.1MB 15.4MB/s eta 0:00:01\r\u001b[K     |██████████████████████▏         | 1.1MB 15.4MB/s eta 0:00:01\r\u001b[K     |██████████████████████▍         | 1.2MB 15.4MB/s eta 0:00:01\r\u001b[K     |██████████████████████▋         | 1.2MB 15.4MB/s eta 0:00:01\r\u001b[K     |██████████████████████▉         | 1.2MB 15.4MB/s eta 0:00:01\r\u001b[K     |███████████████████████         | 1.2MB 15.4MB/s eta 0:00:01\r\u001b[K     |███████████████████████▏        | 1.2MB 15.4MB/s eta 0:00:01\r\u001b[K     |███████████████████████▍        | 1.2MB 15.4MB/s eta 0:00:01\r\u001b[K     |███████████████████████▋        | 1.2MB 15.4MB/s eta 0:00:01\r\u001b[K     |███████████████████████▊        | 1.2MB 15.4MB/s eta 0:00:01\r\u001b[K     |████████████████████████        | 1.2MB 15.4MB/s eta 0:00:01\r\u001b[K     |████████████████████████▏       | 1.2MB 15.4MB/s eta 0:00:01\r\u001b[K     |████████████████████████▍       | 1.3MB 15.4MB/s eta 0:00:01\r\u001b[K     |████████████████████████▋       | 1.3MB 15.4MB/s eta 0:00:01\r\u001b[K     |████████████████████████▊       | 1.3MB 15.4MB/s eta 0:00:01\r\u001b[K     |█████████████████████████       | 1.3MB 15.4MB/s eta 0:00:01\r\u001b[K     |█████████████████████████▏      | 1.3MB 15.4MB/s eta 0:00:01\r\u001b[K     |█████████████████████████▍      | 1.3MB 15.4MB/s eta 0:00:01\r\u001b[K     |█████████████████████████▌      | 1.3MB 15.4MB/s eta 0:00:01\r\u001b[K     |█████████████████████████▊      | 1.3MB 15.4MB/s eta 0:00:01\r\u001b[K     |██████████████████████████      | 1.3MB 15.4MB/s eta 0:00:01\r\u001b[K     |██████████████████████████▏     | 1.4MB 15.4MB/s eta 0:00:01\r\u001b[K     |██████████████████████████▍     | 1.4MB 15.4MB/s eta 0:00:01\r\u001b[K     |██████████████████████████▌     | 1.4MB 15.4MB/s eta 0:00:01\r\u001b[K     |██████████████████████████▊     | 1.4MB 15.4MB/s eta 0:00:01\r\u001b[K     |███████████████████████████     | 1.4MB 15.4MB/s eta 0:00:01\r\u001b[K     |███████████████████████████▏    | 1.4MB 15.4MB/s eta 0:00:01\r\u001b[K     |███████████████████████████▍    | 1.4MB 15.4MB/s eta 0:00:01\r\u001b[K     |███████████████████████████▌    | 1.4MB 15.4MB/s eta 0:00:01\r\u001b[K     |███████████████████████████▊    | 1.4MB 15.4MB/s eta 0:00:01\r\u001b[K     |████████████████████████████    | 1.4MB 15.4MB/s eta 0:00:01\r\u001b[K     |████████████████████████████▏   | 1.5MB 15.4MB/s eta 0:00:01\r\u001b[K     |████████████████████████████▎   | 1.5MB 15.4MB/s eta 0:00:01\r\u001b[K     |████████████████████████████▌   | 1.5MB 15.4MB/s eta 0:00:01\r\u001b[K     |████████████████████████████▊   | 1.5MB 15.4MB/s eta 0:00:01\r\u001b[K     |█████████████████████████████   | 1.5MB 15.4MB/s eta 0:00:01\r\u001b[K     |█████████████████████████████▏  | 1.5MB 15.4MB/s eta 0:00:01\r\u001b[K     |█████████████████████████████▎  | 1.5MB 15.4MB/s eta 0:00:01\r\u001b[K     |█████████████████████████████▌  | 1.5MB 15.4MB/s eta 0:00:01\r\u001b[K     |█████████████████████████████▊  | 1.5MB 15.4MB/s eta 0:00:01\r\u001b[K     |██████████████████████████████  | 1.5MB 15.4MB/s eta 0:00:01\r\u001b[K     |██████████████████████████████▏ | 1.6MB 15.4MB/s eta 0:00:01\r\u001b[K     |██████████████████████████████▎ | 1.6MB 15.4MB/s eta 0:00:01\r\u001b[K     |██████████████████████████████▌ | 1.6MB 15.4MB/s eta 0:00:01\r\u001b[K     |██████████████████████████████▊ | 1.6MB 15.4MB/s eta 0:00:01\r\u001b[K     |███████████████████████████████ | 1.6MB 15.4MB/s eta 0:00:01\r\u001b[K     |███████████████████████████████ | 1.6MB 15.4MB/s eta 0:00:01\r\u001b[K     |███████████████████████████████▎| 1.6MB 15.4MB/s eta 0:00:01\r\u001b[K     |███████████████████████████████▌| 1.6MB 15.4MB/s eta 0:00:01\r\u001b[K     |███████████████████████████████▊| 1.6MB 15.4MB/s eta 0:00:01\r\u001b[K     |████████████████████████████████| 1.6MB 15.4MB/s eta 0:00:01\r\u001b[K     |████████████████████████████████| 1.7MB 15.4MB/s \n",
            "\u001b[?25h  Installing build dependencies ... \u001b[?25l\u001b[?25hdone\n",
            "  Getting requirements to build wheel ... \u001b[?25l\u001b[?25hdone\n",
            "  Installing backend dependencies ... \u001b[?25l\u001b[?25hdone\n",
            "    Preparing wheel metadata ... \u001b[?25l\u001b[?25hdone\n",
            "Requirement already satisfied: sklearn in /usr/local/lib/python3.7/dist-packages (from pyLDAvis) (0.0)\n",
            "Collecting numpy>=1.20.0\n",
            "\u001b[?25l  Downloading https://files.pythonhosted.org/packages/73/ef/8967d406f3f85018ceb5efab50431e901683188f1741ceb053efcab26c87/numpy-1.20.2-cp37-cp37m-manylinux2010_x86_64.whl (15.3MB)\n",
            "\u001b[K     |████████████████████████████████| 15.3MB 325kB/s \n",
            "\u001b[?25hRequirement already satisfied: setuptools in /usr/local/lib/python3.7/dist-packages (from pyLDAvis) (56.0.0)\n",
            "Requirement already satisfied: joblib in /usr/local/lib/python3.7/dist-packages (from pyLDAvis) (1.0.1)\n",
            "Requirement already satisfied: gensim in /usr/local/lib/python3.7/dist-packages (from pyLDAvis) (3.6.0)\n",
            "Requirement already satisfied: scikit-learn in /usr/local/lib/python3.7/dist-packages (from pyLDAvis) (0.22.2.post1)\n",
            "Requirement already satisfied: scipy in /usr/local/lib/python3.7/dist-packages (from pyLDAvis) (1.4.1)\n",
            "Requirement already satisfied: future in /usr/local/lib/python3.7/dist-packages (from pyLDAvis) (0.16.0)\n",
            "Requirement already satisfied: pandas>=1.2.0 in /usr/local/lib/python3.7/dist-packages (from pyLDAvis) (1.2.4)\n",
            "Requirement already satisfied: jinja2 in /usr/local/lib/python3.7/dist-packages (from pyLDAvis) (2.11.3)\n",
            "Requirement already satisfied: numexpr in /usr/local/lib/python3.7/dist-packages (from pyLDAvis) (2.7.3)\n",
            "Collecting funcy\n",
            "  Downloading https://files.pythonhosted.org/packages/66/89/479de0afbbfb98d1c4b887936808764627300208bb771fcd823403645a36/funcy-1.15-py2.py3-none-any.whl\n",
            "Requirement already satisfied: smart-open>=1.2.1 in /usr/local/lib/python3.7/dist-packages (from gensim->pyLDAvis) (5.0.0)\n",
            "Requirement already satisfied: six>=1.5.0 in /usr/local/lib/python3.7/dist-packages (from gensim->pyLDAvis) (1.15.0)\n",
            "Requirement already satisfied: python-dateutil>=2.7.3 in /usr/local/lib/python3.7/dist-packages (from pandas>=1.2.0->pyLDAvis) (2.8.1)\n",
            "Requirement already satisfied: pytz>=2017.3 in /usr/local/lib/python3.7/dist-packages (from pandas>=1.2.0->pyLDAvis) (2018.9)\n",
            "Requirement already satisfied: MarkupSafe>=0.23 in /usr/local/lib/python3.7/dist-packages (from jinja2->pyLDAvis) (1.1.1)\n",
            "Building wheels for collected packages: pyLDAvis\n",
            "  Building wheel for pyLDAvis (PEP 517) ... \u001b[?25l\u001b[?25hdone\n",
            "  Created wheel for pyLDAvis: filename=pyLDAvis-3.3.1-cp37-none-any.whl size=136870 sha256=32b8057d813f47696c601536b0f2e8e5de1de63138f3fa8af2e7d7b77cf274e5\n",
            "  Stored in directory: /root/.cache/pip/wheels/a0/9c/fc/c6e00689d35c82cf96a8adc70edfe7ba7904374fdac3240ac2\n",
            "Successfully built pyLDAvis\n",
            "\u001b[31mERROR: tensorflow 2.4.1 has requirement numpy~=1.19.2, but you'll have numpy 1.20.2 which is incompatible.\u001b[0m\n",
            "\u001b[31mERROR: google-colab 1.0.0 has requirement pandas~=1.1.0; python_version >= \"3.0\", but you'll have pandas 1.2.4 which is incompatible.\u001b[0m\n",
            "\u001b[31mERROR: datascience 0.10.6 has requirement folium==0.2.1, but you'll have folium 0.8.3 which is incompatible.\u001b[0m\n",
            "\u001b[31mERROR: albumentations 0.1.12 has requirement imgaug<0.2.7,>=0.2.5, but you'll have imgaug 0.2.9 which is incompatible.\u001b[0m\n",
            "Installing collected packages: numpy, funcy, pyLDAvis\n",
            "  Found existing installation: numpy 1.19.0\n",
            "    Uninstalling numpy-1.19.0:\n",
            "      Successfully uninstalled numpy-1.19.0\n",
            "Successfully installed funcy-1.15 numpy-1.20.2 pyLDAvis-3.3.1\n"
          ],
          "name": "stdout"
        },
        {
          "output_type": "display_data",
          "data": {
            "application/vnd.colab-display-data+json": {
              "pip_warning": {
                "packages": [
                  "numpy"
                ]
              }
            }
          },
          "metadata": {
            "tags": []
          }
        }
      ]
    },
    {
      "cell_type": "code",
      "metadata": {
        "colab": {
          "base_uri": "https://localhost:8080/"
        },
        "id": "KqytOnlSl8IA",
        "outputId": "4da0db34-1029-40b4-f143-f8dd12643259"
      },
      "source": [
        "!pip install marisa_trie"
      ],
      "execution_count": null,
      "outputs": [
        {
          "output_type": "stream",
          "text": [
            "Requirement already satisfied: marisa_trie in /usr/local/lib/python3.7/dist-packages (0.7.5)\n"
          ],
          "name": "stdout"
        }
      ]
    },
    {
      "cell_type": "code",
      "metadata": {
        "colab": {
          "base_uri": "https://localhost:8080/"
        },
        "id": "sKGdoNxtD-at",
        "outputId": "54264059-b44f-44fa-aaef-c6d12fc6795a"
      },
      "source": [
        "!pip install --upgrade gensim"
      ],
      "execution_count": null,
      "outputs": [
        {
          "output_type": "stream",
          "text": [
            "Requirement already up-to-date: gensim in /usr/local/lib/python3.7/dist-packages (4.0.1)\n",
            "Requirement already satisfied, skipping upgrade: numpy>=1.11.3 in /usr/local/lib/python3.7/dist-packages (from gensim) (1.20.2)\n",
            "Requirement already satisfied, skipping upgrade: scipy>=0.18.1 in /usr/local/lib/python3.7/dist-packages (from gensim) (1.4.1)\n",
            "Requirement already satisfied, skipping upgrade: smart-open>=1.8.1 in /usr/local/lib/python3.7/dist-packages (from gensim) (5.0.0)\n"
          ],
          "name": "stdout"
        }
      ]
    },
    {
      "cell_type": "code",
      "metadata": {
        "colab": {
          "base_uri": "https://localhost:8080/"
        },
        "id": "MikZKwOutI7o",
        "outputId": "480026ed-185b-4b7b-c400-e31b2d4e42ec"
      },
      "source": [
        "!pip -q install torch==1.5.0 torchtext torchvision\n",
        "!pip -q install transformers==3.5.0 thai2transformers==0.1.2"
      ],
      "execution_count": null,
      "outputs": [
        {
          "output_type": "stream",
          "text": [
            "\u001b[K     |████████████████████████████████| 1.3MB 22.1MB/s \n",
            "\u001b[K     |████████████████████████████████| 296kB 39.1MB/s \n",
            "\u001b[K     |████████████████████████████████| 143kB 31.4MB/s \n",
            "\u001b[?25h"
          ],
          "name": "stdout"
        }
      ]
    },
    {
      "cell_type": "markdown",
      "metadata": {
        "id": "urbUpkNLJvoY"
      },
      "source": [
        "# Preprocessing"
      ]
    },
    {
      "cell_type": "code",
      "metadata": {
        "id": "crsRssJQqX4s",
        "colab": {
          "base_uri": "https://localhost:8080/"
        },
        "outputId": "cad31de4-9e0e-47ec-f505-cf9714e57c02"
      },
      "source": [
        "#import libraries\n",
        "from gensim.test.utils import common_texts\n",
        "from gensim.corpora.dictionary import Dictionary\n",
        "from pythainlp.tokenize import word_tokenize\n",
        "import csv\n",
        "from gensim.models import LdaModel\n",
        "import pyLDAvis\n",
        "import pyLDAvis.gensim_models as gensimvis"
      ],
      "execution_count": null,
      "outputs": [
        {
          "output_type": "stream",
          "text": [
            "/usr/local/lib/python3.7/dist-packages/gensim/similarities/__init__.py:15: UserWarning: The gensim.similarities.levenshtein submodule is disabled, because the optional Levenshtein package <https://pypi.org/project/python-Levenshtein/> is unavailable. Install Levenhstein (e.g. `pip install python-Levenshtein`) to suppress this warning.\n",
            "  warnings.warn(msg)\n",
            "/usr/local/lib/python3.7/dist-packages/past/types/oldstr.py:5: DeprecationWarning: Using or importing the ABCs from 'collections' instead of from 'collections.abc' is deprecated since Python 3.3,and in 3.9 it will stop working\n",
            "  from collections import Iterable\n",
            "/usr/local/lib/python3.7/dist-packages/past/builtins/misc.py:4: DeprecationWarning: Using or importing the ABCs from 'collections' instead of from 'collections.abc' is deprecated since Python 3.3,and in 3.9 it will stop working\n",
            "  from collections import Mapping\n",
            "/usr/local/lib/python3.7/dist-packages/sklearn/linear_model/_least_angle.py:30: DeprecationWarning: `np.float` is a deprecated alias for the builtin `float`. To silence this warning, use `float` by itself. Doing this will not modify any behavior and is safe. If you specifically wanted the numpy scalar type, use `np.float64` here.\n",
            "Deprecated in NumPy 1.20; for more details and guidance: https://numpy.org/devdocs/release/1.20.0-notes.html#deprecations\n",
            "  method='lar', copy_X=True, eps=np.finfo(np.float).eps,\n",
            "/usr/local/lib/python3.7/dist-packages/sklearn/linear_model/_least_angle.py:169: DeprecationWarning: `np.float` is a deprecated alias for the builtin `float`. To silence this warning, use `float` by itself. Doing this will not modify any behavior and is safe. If you specifically wanted the numpy scalar type, use `np.float64` here.\n",
            "Deprecated in NumPy 1.20; for more details and guidance: https://numpy.org/devdocs/release/1.20.0-notes.html#deprecations\n",
            "  method='lar', copy_X=True, eps=np.finfo(np.float).eps,\n",
            "/usr/local/lib/python3.7/dist-packages/sklearn/linear_model/_least_angle.py:286: DeprecationWarning: `np.float` is a deprecated alias for the builtin `float`. To silence this warning, use `float` by itself. Doing this will not modify any behavior and is safe. If you specifically wanted the numpy scalar type, use `np.float64` here.\n",
            "Deprecated in NumPy 1.20; for more details and guidance: https://numpy.org/devdocs/release/1.20.0-notes.html#deprecations\n",
            "  eps=np.finfo(np.float).eps, copy_Gram=True, verbose=0,\n",
            "/usr/local/lib/python3.7/dist-packages/sklearn/linear_model/_least_angle.py:858: DeprecationWarning: `np.float` is a deprecated alias for the builtin `float`. To silence this warning, use `float` by itself. Doing this will not modify any behavior and is safe. If you specifically wanted the numpy scalar type, use `np.float64` here.\n",
            "Deprecated in NumPy 1.20; for more details and guidance: https://numpy.org/devdocs/release/1.20.0-notes.html#deprecations\n",
            "  eps=np.finfo(np.float).eps, copy_X=True, fit_path=True):\n",
            "/usr/local/lib/python3.7/dist-packages/sklearn/linear_model/_least_angle.py:1094: DeprecationWarning: `np.float` is a deprecated alias for the builtin `float`. To silence this warning, use `float` by itself. Doing this will not modify any behavior and is safe. If you specifically wanted the numpy scalar type, use `np.float64` here.\n",
            "Deprecated in NumPy 1.20; for more details and guidance: https://numpy.org/devdocs/release/1.20.0-notes.html#deprecations\n",
            "  eps=np.finfo(np.float).eps, copy_X=True, fit_path=True,\n",
            "/usr/local/lib/python3.7/dist-packages/sklearn/linear_model/_least_angle.py:1120: DeprecationWarning: `np.float` is a deprecated alias for the builtin `float`. To silence this warning, use `float` by itself. Doing this will not modify any behavior and is safe. If you specifically wanted the numpy scalar type, use `np.float64` here.\n",
            "Deprecated in NumPy 1.20; for more details and guidance: https://numpy.org/devdocs/release/1.20.0-notes.html#deprecations\n",
            "  eps=np.finfo(np.float).eps, positive=False):\n",
            "/usr/local/lib/python3.7/dist-packages/sklearn/linear_model/_least_angle.py:1349: DeprecationWarning: `np.float` is a deprecated alias for the builtin `float`. To silence this warning, use `float` by itself. Doing this will not modify any behavior and is safe. If you specifically wanted the numpy scalar type, use `np.float64` here.\n",
            "Deprecated in NumPy 1.20; for more details and guidance: https://numpy.org/devdocs/release/1.20.0-notes.html#deprecations\n",
            "  max_n_alphas=1000, n_jobs=None, eps=np.finfo(np.float).eps,\n",
            "/usr/local/lib/python3.7/dist-packages/sklearn/linear_model/_least_angle.py:1590: DeprecationWarning: `np.float` is a deprecated alias for the builtin `float`. To silence this warning, use `float` by itself. Doing this will not modify any behavior and is safe. If you specifically wanted the numpy scalar type, use `np.float64` here.\n",
            "Deprecated in NumPy 1.20; for more details and guidance: https://numpy.org/devdocs/release/1.20.0-notes.html#deprecations\n",
            "  max_n_alphas=1000, n_jobs=None, eps=np.finfo(np.float).eps,\n",
            "/usr/local/lib/python3.7/dist-packages/sklearn/linear_model/_least_angle.py:1723: DeprecationWarning: `np.float` is a deprecated alias for the builtin `float`. To silence this warning, use `float` by itself. Doing this will not modify any behavior and is safe. If you specifically wanted the numpy scalar type, use `np.float64` here.\n",
            "Deprecated in NumPy 1.20; for more details and guidance: https://numpy.org/devdocs/release/1.20.0-notes.html#deprecations\n",
            "  eps=np.finfo(np.float).eps, copy_X=True, positive=False):\n",
            "/usr/local/lib/python3.7/dist-packages/sklearn/decomposition/_lda.py:29: DeprecationWarning: `np.float` is a deprecated alias for the builtin `float`. To silence this warning, use `float` by itself. Doing this will not modify any behavior and is safe. If you specifically wanted the numpy scalar type, use `np.float64` here.\n",
            "Deprecated in NumPy 1.20; for more details and guidance: https://numpy.org/devdocs/release/1.20.0-notes.html#deprecations\n",
            "  EPS = np.finfo(np.float).eps\n"
          ],
          "name": "stderr"
        }
      ]
    },
    {
      "cell_type": "code",
      "metadata": {
        "colab": {
          "base_uri": "https://localhost:8080/"
        },
        "id": "1a_O6QE9t3rs",
        "outputId": "91f9a333-8a1e-4d65-d3c3-c48576ded188"
      },
      "source": [
        "from transformers import AutoTokenizer,AutoModelForSequenceClassification,pipeline,AutoConfig,AdamW,get_linear_schedule_with_warmup\n",
        "from thai2transformers.tokenizers import ThaiWordsNewmmTokenizer\n",
        "\n",
        "import torch"
      ],
      "execution_count": null,
      "outputs": [
        {
          "output_type": "stream",
          "text": [
            "/usr/local/lib/python3.7/dist-packages/tensorboard/compat/tensorflow_stub/dtypes.py:572: DeprecationWarning: `np.object` is a deprecated alias for the builtin `object`. To silence this warning, use `object` by itself. Doing this will not modify any behavior and is safe. \n",
            "Deprecated in NumPy 1.20; for more details and guidance: https://numpy.org/devdocs/release/1.20.0-notes.html#deprecations\n",
            "  (np.object, string),\n",
            "/usr/local/lib/python3.7/dist-packages/tensorboard/compat/tensorflow_stub/dtypes.py:573: DeprecationWarning: `np.bool` is a deprecated alias for the builtin `bool`. To silence this warning, use `bool` by itself. Doing this will not modify any behavior and is safe. If you specifically wanted the numpy scalar type, use `np.bool_` here.\n",
            "Deprecated in NumPy 1.20; for more details and guidance: https://numpy.org/devdocs/release/1.20.0-notes.html#deprecations\n",
            "  (np.bool, bool),\n",
            "/usr/local/lib/python3.7/dist-packages/tensorboard/compat/tensorflow_stub/dtypes.py:597: DeprecationWarning: `np.object` is a deprecated alias for the builtin `object`. To silence this warning, use `object` by itself. Doing this will not modify any behavior and is safe. \n",
            "Deprecated in NumPy 1.20; for more details and guidance: https://numpy.org/devdocs/release/1.20.0-notes.html#deprecations\n",
            "  types_pb2.DT_STRING: np.object,\n",
            "/usr/local/lib/python3.7/dist-packages/tensorboard/compat/tensorflow_stub/dtypes.py:601: DeprecationWarning: `np.bool` is a deprecated alias for the builtin `bool`. To silence this warning, use `bool` by itself. Doing this will not modify any behavior and is safe. If you specifically wanted the numpy scalar type, use `np.bool_` here.\n",
            "Deprecated in NumPy 1.20; for more details and guidance: https://numpy.org/devdocs/release/1.20.0-notes.html#deprecations\n",
            "  types_pb2.DT_BOOL: np.bool,\n",
            "/usr/local/lib/python3.7/dist-packages/tensorboard/compat/tensorflow_stub/dtypes.py:618: DeprecationWarning: `np.object` is a deprecated alias for the builtin `object`. To silence this warning, use `object` by itself. Doing this will not modify any behavior and is safe. \n",
            "Deprecated in NumPy 1.20; for more details and guidance: https://numpy.org/devdocs/release/1.20.0-notes.html#deprecations\n",
            "  types_pb2.DT_STRING_REF: np.object,\n",
            "/usr/local/lib/python3.7/dist-packages/tensorboard/compat/tensorflow_stub/dtypes.py:623: DeprecationWarning: `np.bool` is a deprecated alias for the builtin `bool`. To silence this warning, use `bool` by itself. Doing this will not modify any behavior and is safe. If you specifically wanted the numpy scalar type, use `np.bool_` here.\n",
            "Deprecated in NumPy 1.20; for more details and guidance: https://numpy.org/devdocs/release/1.20.0-notes.html#deprecations\n",
            "  types_pb2.DT_BOOL_REF: np.bool,\n",
            "/usr/local/lib/python3.7/dist-packages/tensorboard/util/tensor_util.py:113: DeprecationWarning: `np.object` is a deprecated alias for the builtin `object`. To silence this warning, use `object` by itself. Doing this will not modify any behavior and is safe. \n",
            "Deprecated in NumPy 1.20; for more details and guidance: https://numpy.org/devdocs/release/1.20.0-notes.html#deprecations\n",
            "  np.object: SlowAppendObjectArrayToTensorProto,\n",
            "/usr/local/lib/python3.7/dist-packages/tensorboard/util/tensor_util.py:114: DeprecationWarning: `np.bool` is a deprecated alias for the builtin `bool`. To silence this warning, use `bool` by itself. Doing this will not modify any behavior and is safe. If you specifically wanted the numpy scalar type, use `np.bool_` here.\n",
            "Deprecated in NumPy 1.20; for more details and guidance: https://numpy.org/devdocs/release/1.20.0-notes.html#deprecations\n",
            "  np.bool: SlowAppendBoolArrayToTensorProto,\n",
            "/usr/local/lib/python3.7/dist-packages/tensorflow/python/framework/dtypes.py:513: DeprecationWarning: `np.object` is a deprecated alias for the builtin `object`. To silence this warning, use `object` by itself. Doing this will not modify any behavior and is safe. \n",
            "Deprecated in NumPy 1.20; for more details and guidance: https://numpy.org/devdocs/release/1.20.0-notes.html#deprecations\n",
            "  np.object,\n",
            "/usr/local/lib/python3.7/dist-packages/tensorflow/python/framework/dtypes.py:521: DeprecationWarning: `np.bool` is a deprecated alias for the builtin `bool`. To silence this warning, use `bool` by itself. Doing this will not modify any behavior and is safe. If you specifically wanted the numpy scalar type, use `np.bool_` here.\n",
            "Deprecated in NumPy 1.20; for more details and guidance: https://numpy.org/devdocs/release/1.20.0-notes.html#deprecations\n",
            "  np.bool,\n",
            "/usr/local/lib/python3.7/dist-packages/tensorflow/python/framework/dtypes.py:555: DeprecationWarning: `np.object` is a deprecated alias for the builtin `object`. To silence this warning, use `object` by itself. Doing this will not modify any behavior and is safe. \n",
            "Deprecated in NumPy 1.20; for more details and guidance: https://numpy.org/devdocs/release/1.20.0-notes.html#deprecations\n",
            "  np.object,\n",
            "/usr/local/lib/python3.7/dist-packages/tensorflow/python/framework/dtypes.py:565: DeprecationWarning: `np.bool` is a deprecated alias for the builtin `bool`. To silence this warning, use `bool` by itself. Doing this will not modify any behavior and is safe. If you specifically wanted the numpy scalar type, use `np.bool_` here.\n",
            "Deprecated in NumPy 1.20; for more details and guidance: https://numpy.org/devdocs/release/1.20.0-notes.html#deprecations\n",
            "  np.bool,\n",
            "/usr/local/lib/python3.7/dist-packages/tensorflow/python/framework/tensor_util.py:108: DeprecationWarning: `np.object` is a deprecated alias for the builtin `object`. To silence this warning, use `object` by itself. Doing this will not modify any behavior and is safe. \n",
            "Deprecated in NumPy 1.20; for more details and guidance: https://numpy.org/devdocs/release/1.20.0-notes.html#deprecations\n",
            "  np.object:\n",
            "/usr/local/lib/python3.7/dist-packages/tensorflow/python/framework/tensor_util.py:110: DeprecationWarning: `np.bool` is a deprecated alias for the builtin `bool`. To silence this warning, use `bool` by itself. Doing this will not modify any behavior and is safe. If you specifically wanted the numpy scalar type, use `np.bool_` here.\n",
            "Deprecated in NumPy 1.20; for more details and guidance: https://numpy.org/devdocs/release/1.20.0-notes.html#deprecations\n",
            "  np.bool:\n",
            "/usr/local/lib/python3.7/dist-packages/tensorflow/python/ops/numpy_ops/np_random.py:95: DeprecationWarning: `np.int` is a deprecated alias for the builtin `int`. To silence this warning, use `int` by itself. Doing this will not modify any behavior and is safe. When replacing `np.int`, you may wish to use e.g. `np.int64` or `np.int32` to specify the precision. If you wish to review your current use, check the release note link for additional information.\n",
            "Deprecated in NumPy 1.20; for more details and guidance: https://numpy.org/devdocs/release/1.20.0-notes.html#deprecations\n",
            "  def randint(low, high=None, size=None, dtype=onp.int):  # pylint: disable=missing-function-docstring\n",
            "/usr/local/lib/python3.7/dist-packages/fsspec/__init__.py:47: DeprecationWarning: SelectableGroups dict interface is deprecated. Use select.\n",
            "  for spec in entry_points.get(\"fsspec.specs\", []):\n"
          ],
          "name": "stderr"
        }
      ]
    },
    {
      "cell_type": "code",
      "metadata": {
        "id": "6I9ZDFzpt8-R",
        "colab": {
          "base_uri": "https://localhost:8080/",
          "height": 66,
          "referenced_widgets": [
            "bc212c528cb24db7b0ce60fb76fe45bc",
            "0e9c5aee8e0440a2bf19f774fef9afee",
            "2e17217665c54f1a9c3d8805d51bc7ac",
            "0d93935737af46f78dd8e0463843820c",
            "27817e879fda4dcaba5d2dec51c8e73f",
            "a4d7498e5e484ab18d1e758924b4ac8b",
            "d2679aacf619431db2c7f663f2d01aa9",
            "4ea6dfd4dd814bd884a7976796e1a12e"
          ]
        },
        "outputId": "6688a129-c7cf-4b06-b112-f2cc9797860e"
      },
      "source": [
        "model_names = [\n",
        "    'wangchanberta-base-att-spm-uncased',\n",
        "    'wangchanberta-base-wiki-newmm',\n",
        "\n",
        "]\n",
        "\n",
        "tokenizers = {\n",
        "    'wangchanberta-base-att-spm-uncased': AutoTokenizer,\n",
        "    'wangchanberta-base-wiki-newmm': ThaiWordsNewmmTokenizer,\n",
        "    'xlm-roberta-base':AutoTokenizer,\n",
        "}\n",
        "public_models = ['xlm-roberta-base', 'bert-base-multilingual-cased'] \n",
        "#@title Choose Pretrained Model\n",
        "model_name = \"wangchanberta-base-wiki-newmm\" #@param [\"wangchanberta-base-att-spm-uncased\",\"wangchanberta-base-wiki-newmm\",\"xlm-roberta-base\"]\n",
        "\n",
        "#create tokenizer\n",
        "tokenizer = tokenizers[model_name].from_pretrained(\n",
        "                f'airesearch/{model_name}' if model_name not in public_models else f'{model_name}',\n",
        "                revision='main')"
      ],
      "execution_count": null,
      "outputs": [
        {
          "output_type": "display_data",
          "data": {
            "application/vnd.jupyter.widget-view+json": {
              "model_id": "bc212c528cb24db7b0ce60fb76fe45bc",
              "version_minor": 0,
              "version_major": 2
            },
            "text/plain": [
              "HBox(children=(FloatProgress(value=0.0, description='Downloading', max=3557225.0, style=ProgressStyle(descript…"
            ]
          },
          "metadata": {
            "tags": []
          }
        },
        {
          "output_type": "stream",
          "text": [
            "\n"
          ],
          "name": "stdout"
        }
      ]
    },
    {
      "cell_type": "code",
      "metadata": {
        "id": "lcLC-qHfOGSN"
      },
      "source": [
        "from pythainlp.corpus.common import thai_words\n",
        "from pythainlp.tokenize import Tokenizer\n",
        "import marisa_trie\n",
        "\n",
        "custom_words_list = set(thai_words())\n",
        "custom_words_list.add('<PHONE_NUMBER_REMOVED>')\n",
        "trie = marisa_trie.Trie(custom_words_list)\n",
        "tokenizer2 = Tokenizer(custom_dict=trie,engine=\"newmm\")"
      ],
      "execution_count": null,
      "outputs": []
    },
    {
      "cell_type": "code",
      "metadata": {
        "id": "9bfNL81v06zi"
      },
      "source": [
        "#change the path to your data path\n",
        "path = '/content/drive/MyDrive/Colab Notebooks/project/data.csv'\n",
        "reader = csv.reader(open(path))\n",
        "\n",
        "#list of text sentences\n",
        "sentences_raw = []\n",
        "for sentence in reader:\n",
        "  sen_str = \"\"\n",
        "  for sen_piece in sentence[0].strip().split():\n",
        "    sen_str += sen_piece\n",
        "  sentences_raw.append(sen_str)"
      ],
      "execution_count": null,
      "outputs": []
    },
    {
      "cell_type": "code",
      "metadata": {
        "id": "Od6atP0hurHy"
      },
      "source": [
        "#list of tokenized sentences\n",
        "sentences = []\n",
        "for sentence in sentences_raw:\n",
        "  sentences.append(tokenizer.tokenize(sentence))"
      ],
      "execution_count": null,
      "outputs": []
    },
    {
      "cell_type": "code",
      "metadata": {
        "id": "J6zdodZlcgvh"
      },
      "source": [
        "#rule base to fix \"บอ\" tokenize\n",
        "for sentence_i in range(len(sentences)):\n",
        "  for word_i in range(len(sentences[sentence_i])):\n",
        "    if sentences[sentence_i][word_i] == \"บอ\":\n",
        "      sentences[sentence_i][word_i] += sentences[sentence_i][word_i+1][0]\n",
        "      sentences[sentence_i][word_i+1] = sentences[sentence_i][word_i+1][1:]"
      ],
      "execution_count": null,
      "outputs": []
    },
    {
      "cell_type": "code",
      "metadata": {
        "id": "4YDhrDr_MF56",
        "colab": {
          "base_uri": "https://localhost:8080/"
        },
        "outputId": "ba642b3d-eae7-4c27-d0b7-73e3702cd34b"
      },
      "source": [
        "sentences[2]"
      ],
      "execution_count": null,
      "outputs": [
        {
          "output_type": "execute_result",
          "data": {
            "text/plain": [
              "['ก็', 'แค่', 'เด็ก', 'ขี้แย', 'ไม่ต้อง', 'มา', 'แคร์', 'ก็ได้']"
            ]
          },
          "metadata": {
            "tags": []
          },
          "execution_count": 11
        }
      ]
    },
    {
      "cell_type": "code",
      "metadata": {
        "id": "ZYNH__E9uorG",
        "colab": {
          "base_uri": "https://localhost:8080/"
        },
        "outputId": "33c7ec4a-fdcd-430e-b5d8-275a1fd494fb"
      },
      "source": [
        "a = tokenizer.tokenize(sentences_raw[2])\n",
        "a"
      ],
      "execution_count": null,
      "outputs": [
        {
          "output_type": "execute_result",
          "data": {
            "text/plain": [
              "['ก็', 'แค่', 'เด็ก', 'ขี้แย', 'ไม่ต้อง', 'มา', 'แคร์', 'ก็ได้']"
            ]
          },
          "metadata": {
            "tags": []
          },
          "execution_count": 12
        }
      ]
    },
    {
      "cell_type": "code",
      "metadata": {
        "id": "eNL17s_8xu66",
        "colab": {
          "base_uri": "https://localhost:8080/"
        },
        "outputId": "b935eed0-0b84-4343-9d16-fb7717978cc5"
      },
      "source": [
        "len(sentences)"
      ],
      "execution_count": null,
      "outputs": [
        {
          "output_type": "execute_result",
          "data": {
            "text/plain": [
              "2303"
            ]
          },
          "metadata": {
            "tags": []
          },
          "execution_count": 13
        }
      ]
    },
    {
      "cell_type": "code",
      "metadata": {
        "id": "lzVO7DFR-Jw7"
      },
      "source": [
        "#create corpara dictionary https://radimrehurek.com/gensim/corpora/dictionary.html\n",
        "dictionary = Dictionary(sentences)\n",
        "#create corpus as bag of word (just wordID no embedding)\n",
        "corpus = [dictionary.doc2bow(text) for text in sentences]"
      ],
      "execution_count": null,
      "outputs": []
    },
    {
      "cell_type": "code",
      "metadata": {
        "id": "oY11f-c_C3jw"
      },
      "source": [
        "#count word frequency\n",
        "word_freq = {}\n",
        "for sentence in sentences:\n",
        "  for word in sentence:\n",
        "    if dictionary.token2id[word] not in word_freq:\n",
        "      word_freq[dictionary.token2id[word]] = 1\n",
        "    else:\n",
        "      word_freq[dictionary.token2id[word]] += 1"
      ],
      "execution_count": null,
      "outputs": []
    },
    {
      "cell_type": "code",
      "metadata": {
        "id": "ydurktkELBYF"
      },
      "source": [
        "#sort word frequency dict with frequency\n",
        "sorted_word_freq = {k: v for k, v in sorted(word_freq.items(),reverse = True, key=lambda item: item[1])}"
      ],
      "execution_count": null,
      "outputs": []
    },
    {
      "cell_type": "code",
      "metadata": {
        "id": "MeScDbJHWgxH"
      },
      "source": [
        "for sentence_i in range(len(sentences)):\n",
        "  for word in sentences[sentence_i]:\n",
        "    if word == \"บอ\" :\n",
        "      print(sentences[sentence_i])"
      ],
      "execution_count": null,
      "outputs": []
    },
    {
      "cell_type": "code",
      "metadata": {
        "id": "EUQZlx41X75P"
      },
      "source": [
        "#find top [TOP] common words\n",
        "top_freq = []\n",
        "TOP = 80\n",
        "top_num = 0\n",
        "for word in sorted_word_freq:\n",
        "  top_freq.append(word)\n",
        "  top_num += 1\n",
        "  if top_num >= TOP:\n",
        "    break"
      ],
      "execution_count": null,
      "outputs": []
    },
    {
      "cell_type": "code",
      "metadata": {
        "id": "Z8kI8EVPsJlR"
      },
      "source": [
        "top_freq = []\n",
        "threshold = 28\n",
        "for word in sorted_word_freq:\n",
        "  if sorted_word_freq[word] >= threshold:\n",
        "    top_freq.append(word)"
      ],
      "execution_count": null,
      "outputs": []
    },
    {
      "cell_type": "code",
      "metadata": {
        "id": "Jvn5bsnwdrW_"
      },
      "source": [
        "#create corpus that no top common words\n",
        "train_corpus = []\n",
        "for sentence in corpus:\n",
        "  sen = []\n",
        "  for word in sentence:\n",
        "    if word[0] not in top_freq:\n",
        "      sen.append(word)\n",
        "  train_corpus.append(sen)"
      ],
      "execution_count": null,
      "outputs": []
    },
    {
      "cell_type": "code",
      "metadata": {
        "id": "mEhg0JVi38uB",
        "colab": {
          "base_uri": "https://localhost:8080/"
        },
        "outputId": "f7f0ade0-1511-478c-cd55-569f0c0e5e65"
      },
      "source": [
        "fr = 0\n",
        "for sentence_i in range(len(sentences)):\n",
        "  for word in sentences[sentence_i]:\n",
        "    if word == \"บอ\" :\n",
        "      print(sentences[sentence_i])\n",
        "print(fr)"
      ],
      "execution_count": null,
      "outputs": [
        {
          "output_type": "stream",
          "text": [
            "0\n"
          ],
          "name": "stdout"
        }
      ]
    },
    {
      "cell_type": "markdown",
      "metadata": {
        "id": "OFCroJA1J83x"
      },
      "source": [
        "# LDA 2 topics"
      ]
    },
    {
      "cell_type": "code",
      "metadata": {
        "id": "pRNw2ejnoAop"
      },
      "source": [
        "#train LDA model\n",
        "lda_top = LdaModel(train_corpus,id2word=dictionary,iterations=100, num_topics=2,alpha=0.2,eta=0.7)"
      ],
      "execution_count": null,
      "outputs": []
    },
    {
      "cell_type": "code",
      "metadata": {
        "id": "RWV9hNSvobf5",
        "colab": {
          "base_uri": "https://localhost:8080/"
        },
        "outputId": "5e181c58-dc21-478e-a4cf-acdda20b2dee"
      },
      "source": [
        "#print revelant words of topics\n",
        "lda_top.print_topics()"
      ],
      "execution_count": null,
      "outputs": [
        {
          "output_type": "execute_result",
          "data": {
            "text/plain": [
              "[(0,\n",
              "  '0.008*\"เหนื่อย\" + 0.005*\"หยุด\" + 0.004*\"น้อย\" + 0.004*\"ต่อ\" + 0.004*\"สร้าง\" + 0.003*\"ปัจจุบัน\" + 0.003*\"คาดหวัง\" + 0.003*\"ตาย\" + 0.003*\"บ่อย\" + 0.003*\"สัก\"'),\n",
              " (1,\n",
              "  '0.005*\"เพียง\" + 0.005*\"หนู\" + 0.004*\"ไกล\" + 0.004*\"อนาคต\" + 0.004*\"บ้าน\" + 0.004*\"ซื้อ\" + 0.003*\"ใส่\" + 0.003*\"หรอ\" + 0.003*\"ขนาด\" + 0.003*\"ระวัง\"')]"
            ]
          },
          "metadata": {
            "tags": []
          },
          "execution_count": 23
        }
      ]
    },
    {
      "cell_type": "code",
      "metadata": {
        "id": "6f9lzB3MCc-i"
      },
      "source": [
        "pyLDAvis.enable_notebook()\n",
        "\n",
        "#visualize model output\n",
        "# feed the LDA model into the pyLDAvis instance\n",
        "lda_viz = gensimvis.prepare(lda_top, train_corpus, dictionary)"
      ],
      "execution_count": null,
      "outputs": []
    },
    {
      "cell_type": "code",
      "metadata": {
        "id": "yJ2PE57OE6y_",
        "colab": {
          "base_uri": "https://localhost:8080/",
          "height": 881
        },
        "outputId": "0b0d1ebc-aa5d-400c-dce6-2f56426c22d7"
      },
      "source": [
        "lda_viz"
      ],
      "execution_count": null,
      "outputs": [
        {
          "output_type": "execute_result",
          "data": {
            "text/html": [
              "\n",
              "<link rel=\"stylesheet\" type=\"text/css\" href=\"https://cdn.jsdelivr.net/gh/bmabey/pyLDAvis@3.3.1/pyLDAvis/js/ldavis.v1.0.0.css\">\n",
              "\n",
              "\n",
              "<div id=\"ldavis_el10831398539608378405593528533\"></div>\n",
              "<script type=\"text/javascript\">\n",
              "\n",
              "var ldavis_el10831398539608378405593528533_data = {\"mdsDat\": {\"x\": [0.08743716387401815, -0.08743716387401815], \"y\": [0.0, 0.0], \"topics\": [1, 2], \"cluster\": [1, 1], \"Freq\": [51.66486356344271, 48.335136436557285]}, \"tinfo\": {\"Term\": [\"\\u0e40\\u0e2b\\u0e19\\u0e37\\u0e48\\u0e2d\\u0e22\", \"\\u0e40\\u0e1e\\u0e35\\u0e22\\u0e07\", \"\\u0e2b\\u0e19\\u0e39\", \"\\u0e44\\u0e01\\u0e25\", \"\\u0e19\\u0e49\\u0e2d\\u0e22\", \"\\u0e0b\\u0e37\\u0e49\\u0e2d\", \"\\u0e15\\u0e32\\u0e22\", \"\\u0e41\\u0e04\\u0e23\\u0e4c\", \"\\u0e43\\u0e2a\\u0e48\", \"\\u0e15\\u0e48\\u0e2d\", \"\\u0e17\\u0e33\\u0e23\\u0e49\\u0e32\\u0e22\", \"\\u0e04\\u0e32\\u0e14\\u0e2b\\u0e27\\u0e31\\u0e07\", \"\\u0e02\\u0e19\\u0e32\\u0e14\", \"\\u0e1a\\u0e49\\u0e32\\u0e19\", \"\\u0e1b\\u0e25\\u0e48\\u0e2d\\u0e22\", \"\\u0e04\\u0e27\\u0e32\\u0e21\\u0e1d\\u0e31\\u0e19\", \"\\u0e23\\u0e35\\u0e1a\", \"\\u0e32\\u0e27\", \"\\u0e08\\u0e33\", \"\\u0e1c\\u0e34\\u0e14\", \"\\u0e2b\\u0e23\\u0e2d\", \"\\u0e2b\\u0e19\\u0e35\", \"\\u0e41\\u0e23\\u0e07\", \"\\u0e2d\\u0e22\\u0e32\\u0e01\\u0e44\\u0e14\\u0e49\", \"\\u0e17\\u0e33\\u0e25\\u0e32\\u0e22\", \"\\u0e2b\\u0e22\\u0e38\\u0e14\", \"\\u0e43\\u0e1a\\u0e44\\u0e21\\u0e49\", \"\\u0e2b\\u0e25\\u0e07\\u0e17\\u0e32\\u0e07\", \"\\u0e15\\u0e31\\u0e27\\u0e15\\u0e19\", \"\\u0e2d\\u0e49\\u0e27\\u0e19\", \"\\u0e2b\\u0e19\\u0e39\", \"\\u0e40\\u0e1e\\u0e35\\u0e22\\u0e07\", \"\\u0e44\\u0e01\\u0e25\", \"\\u0e0b\\u0e37\\u0e49\\u0e2d\", \"\\u0e43\\u0e1a\\u0e44\\u0e21\\u0e49\", \"\\u0e2b\\u0e19\\u0e35\", \"\\u0e17\\u0e31\\u0e49\\u0e07\\u0e2b\\u0e21\\u0e14\", \"\\u0e04\\u0e27\\u0e32\\u0e21\\u0e1d\\u0e31\\u0e19\", \"\\u0e2b\\u0e25\\u0e07\\u0e17\\u0e32\\u0e07\", \"\\u0e40\\u0e1b\\u0e23\\u0e35\\u0e22\\u0e1a\\u0e40\\u0e17\\u0e35\\u0e22\\u0e1a\", \"\\u0e40\\u0e15\\u0e34\\u0e21\", \"\\u0e2b\\u0e27\\u0e07\", \"\\u0e43\\u0e1a\", \"\\u0e32\\u0e27\", \"\\u0e40\\u0e1e\\u0e35\\u0e22\\u0e07\\u0e41\\u0e04\\u0e48\", \"\\u0e2d\\u0e32\", \"\\u0e25\\u0e31\\u0e01\", \"\\u0e08\\u0e49\\u0e2d\\u0e07\", \"\\u0e02\\u0e49\\u0e2d\\u0e2d\\u0e49\\u0e32\\u0e07\", \"\\u0e14\\u0e27\\u0e07\\u0e15\\u0e32\", \"\\u0e40\\u0e02\\u0e35\\u0e22\\u0e27\", \"\\u0e01\\u0e14\\u0e1b\\u0e38\\u0e48\\u0e21\", \"\\u0e02\\u0e19\\u0e32\\u0e14\", \"\\u0e17\\u0e31\\u0e49\\u0e07\", \"\\u0e40\\u0e21\\u0e35\\u0e22\", \"\\u0e2d\\u0e49\\u0e27\\u0e19\", \"\\u0e41\\u0e1b\\u0e25\", \"\\u0e1a\\u0e19\", \"\\u0e08\\u0e33\\u0e44\\u0e27\\u0e49\", \"\\u0e15\\u0e34\\u0e14\", \"\\u0e43\\u0e2a\\u0e48\", \"\\u0e2b\\u0e23\\u0e2d\", \"\\u0e27\\u0e34\\u0e48\\u0e07\", \"\\u0e19\\u0e31\\u0e48\\u0e19\", \"\\u0e25\\u0e30\\u0e40\\u0e25\\u0e22\", \"\\u0e1a\\u0e49\\u0e32\\u0e19\", \"\\u0e2d\\u0e48\\u0e2d\\u0e19\\u0e41\\u0e2d\", \"\\u0e2d\\u0e19\\u0e32\\u0e04\\u0e15\", \"\\u0e2d\\u0e2d\\u0e01\", \"\\u0e23\\u0e30\\u0e27\\u0e31\\u0e07\", \"\\u0e44\\u0e02\", \"\\u0e01\\u0e25\\u0e31\\u0e1a\\u0e21\\u0e32\", \"\\u0e07\\u0e32\\u0e19\", \"\\u0e22\\u0e31\\u0e07\\u0e44\\u0e07\", \"\\u0e1b\\u0e31\\u0e0d\\u0e2b\\u0e32\", \"\\u0e40\\u0e23\\u0e37\\u0e48\\u0e2d\\u0e22\", \"\\u0e17\\u0e38\\u0e01\\u0e27\\u0e31\\u0e19\", \"\\u0e41\\u0e2d\\u0e1a\", \"\\u0e19\\u0e36\\u0e07\", \"\\u0e17\\u0e33\\u0e07\\u0e32\\u0e19\", \"\\u0e2b\\u0e25\\u0e07\", \"\\u0e40\\u0e14\\u0e35\\u0e4b\\u0e22\\u0e27\", \"\\u0e17\\u0e33\\u0e25\\u0e32\\u0e22\", \"\\u0e41\\u0e04\\u0e23\\u0e4c\", \"\\u0e23\\u0e35\\u0e1a\", \"\\u0e15\\u0e31\\u0e27\\u0e15\\u0e19\", \"\\u0e40\\u0e2b\\u0e19\\u0e37\\u0e48\\u0e2d\\u0e22\", \"\\u0e40\\u0e2b\\u0e15\\u0e38\\u0e1c\\u0e25\", \"\\u0e16\\u0e19\\u0e31\\u0e14\", \"\\u0e1d\\u0e48\\u0e32\\u0e22\", \"\\u0e2d\\u0e01\\u0e2b\\u0e31\\u0e01\", \"\\u0e43\\u0e2b\\u0e49\\u0e42\\u0e2d\\u0e01\\u0e32\\u0e2a\", \"\\u0e42\\u0e25\\u0e40\\u0e04\\u0e0a\\u0e31\\u0e48\\u0e19\", \"\\u0e1d\\u0e37\\u0e19\", \"\\u0e04\\u0e39\\u0e48\", \"\\u0e19\\u0e38\\u0e48\\u0e21\", \"\\u0e43\\u0e2b\\u0e49\\u0e01\\u0e33\\u0e25\\u0e31\\u0e07\\u0e43\\u0e08\", \"\\u0e15\\u0e32\\u0e22\", \"\\u0e23\\u0e32\\u0e22\\u0e44\\u0e14\\u0e49\", \"\\u0e23\\u0e32\", \"\\u0e40\\u0e25\\u0e27\", \"\\u0e04\\u0e27\\u0e32\\u0e21\\u0e40\\u0e2b\\u0e47\\u0e19\\u0e2d\\u0e01\\u0e40\\u0e2b\\u0e47\\u0e19\\u0e43\\u0e08\", \"\\u0e1d\\u0e36\\u0e01\", \"\\u0e19\\u0e34\\u0e14\\u0e2b\\u0e19\\u0e48\\u0e2d\\u0e22\", \"\\u0e17\\u0e35\\u0e48\\u0e2a\\u0e35\\u0e48\", \"\\u0e40\\u0e2d\\u0e47\\u0e19\", \"\\u0e40\\u0e2d\\u0e47\\u0e19\\u0e14\\u0e39\", \"\\u0e19\\u0e49\\u0e2d\\u0e22\", \"\\u0e21\\u0e31\\u0e19\\u0e14\\u0e35\", \"\\u0e2b\\u0e19\\u0e32\\u0e27\", \"\\u0e02\\u0e31\\u0e1a\\u0e23\\u0e16\", \"\\u0e17\\u0e33\\u0e23\\u0e49\\u0e32\\u0e22\", \"\\u0e1b\\u0e25\\u0e48\\u0e2d\\u0e22\", \"\\u0e1c\\u0e34\\u0e14\", \"\\u0e04\\u0e32\\u0e14\\u0e2b\\u0e27\\u0e31\\u0e07\", \"\\u0e08\\u0e33\", \"\\u0e01\\u0e14\", \"\\u0e15\\u0e48\\u0e2d\", \"\\u0e41\\u0e23\\u0e07\", \"\\u0e2d\\u0e22\\u0e32\\u0e01\\u0e44\\u0e14\\u0e49\", \"\\u0e1e\\u0e1a\", \"\\u0e2d\\u0e32\\u0e01\\u0e32\\u0e28\", \"\\u0e01\\u0e32\\u0e23\\u0e25\\u0e07\\u0e17\\u0e38\\u0e19\", \"\\u0e40\\u0e1e\\u0e37\\u0e48\\u0e2d\\u0e19\", \"\\u0e17\\u0e31\\u0e01\", \"\\u0e42\\u0e2d\\u0e01\\u0e32\\u0e2a\", \"\\u0e2b\\u0e22\\u0e38\\u0e14\", \"\\u0e17\\u0e38\\u0e01\\u0e04\\u0e19\", \"\\u0e2a\\u0e2d\\u0e07\", \"\\u0e2a\\u0e23\\u0e49\\u0e32\\u0e07\", \"\\u0e41\\u0e17\\u0e19\", \"\\u0e40\\u0e02\\u0e49\\u0e32\\u0e21\\u0e32\", \"\\u0e21\\u0e35\\u0e04\\u0e48\\u0e32\", \"\\u0e43\\u0e14\", \"\\u0e1d\\u0e31\\u0e19\", \"\\u0e2a\\u0e31\\u0e01\", \"\\u0e1a\\u0e48\\u0e2d\\u0e22\", \"\\u0e1b\\u0e31\\u0e08\\u0e08\\u0e38\\u0e1a\\u0e31\\u0e19\", \"\\u0e2b\\u0e49\\u0e32\\u0e21\", \"\\u0e1c\\u0e48\\u0e32\\u0e19\", \"\\u0e23\\u0e39\\u0e49\\u0e08\\u0e31\\u0e01\", \"\\u0e40\\u0e1b\\u0e25\\u0e48\\u0e32\", \"\\u0e2d\\u0e14\\u0e35\\u0e15\", \"\\u0e25\\u0e07\"], \"Freq\": [45.0, 25.0, 25.0, 24.0, 21.0, 19.0, 18.0, 15.0, 20.0, 21.0, 17.0, 18.0, 16.0, 25.0, 17.0, 15.0, 13.0, 15.0, 16.0, 16.0, 17.0, 13.0, 17.0, 18.0, 11.0, 29.0, 12.0, 13.0, 11.0, 14.0, 24.736221497399445, 25.40800724607714, 23.506931143133418, 19.051145866706815, 12.20134930965359, 13.08113924038923, 9.808292733868427, 14.454676702032703, 12.800228254414781, 9.070761416595921, 9.070453304430389, 9.069887061333569, 10.69268916291463, 14.610452392326655, 12.509817037890762, 8.576183184921469, 8.574422453593588, 8.57385874119217, 12.727852896533282, 8.305715746208724, 8.302680809744533, 8.298186294705632, 15.681077002146463, 12.216894106177493, 7.6120717486460325, 13.713433487275227, 10.049064992701403, 13.217422249327813, 6.629462826983159, 12.74998762389125, 18.990442076032192, 15.768492282818611, 14.593529632154846, 12.583822163612945, 11.885328720980832, 22.264678567004076, 10.848163700455414, 22.805346456064356, 12.009999634054548, 15.499293355177516, 11.916914330327977, 12.006149180996166, 11.951750617922569, 13.563485988498499, 14.258876798564344, 13.97708513058903, 13.957917643593174, 13.750538543300213, 13.59153368566975, 12.524420415724085, 12.759548591130535, 12.353980610907096, 11.128594637081653, 15.191233742762812, 12.709274907083229, 11.244725205080409, 42.72238326128951, 8.77250665801952, 7.926071670522248, 7.925388619169187, 7.9247831065745755, 7.70947573132726, 7.709421868525589, 7.708619253590796, 11.341460429286181, 7.494103839097723, 7.493800786850957, 16.95264087743988, 7.258780809989826, 7.257528943775161, 7.25638243556816, 7.25606221825273, 7.25606221825273, 7.255826642482783, 7.253398673115144, 7.252804406600003, 7.252804406600003, 19.947888537089092, 7.632498093053182, 10.63116870415365, 7.593876688558183, 16.045277590869787, 15.519820508913826, 14.555597044544383, 16.9868715757503, 14.900515485681238, 11.48864911738703, 19.177416081219018, 15.39420180123607, 15.82091238645792, 10.069412829062667, 11.328050367366815, 11.99485172749284, 13.270288540929204, 12.244038804991332, 10.852381454920454, 23.626322502752917, 9.640189632927694, 14.927378226242173, 18.579140042797132, 11.321033997575494, 14.893860174230788, 13.844430492808884, 12.414377843630241, 12.309752606828019, 16.23920380144932, 16.312057088052576, 17.0928889588111, 13.207054795565071, 13.054579266315573, 11.96981440319953, 12.499980632958744, 13.200277552937212, 12.577635403596688], \"Total\": [45.0, 25.0, 25.0, 24.0, 21.0, 19.0, 18.0, 15.0, 20.0, 21.0, 17.0, 18.0, 16.0, 25.0, 17.0, 15.0, 13.0, 15.0, 16.0, 16.0, 17.0, 13.0, 17.0, 18.0, 11.0, 29.0, 12.0, 13.0, 11.0, 14.0, 25.187147666245977, 25.914676864430408, 24.173329938006844, 19.762629232338956, 12.657027317012941, 13.657311442556352, 10.25481920706554, 15.118754883205007, 13.406560037130568, 9.517282229759616, 9.517205735040006, 9.517166134006779, 11.224397548314823, 15.353295968471912, 13.154089689318894, 9.022953520473399, 9.022602174460125, 9.02248815726277, 13.396575634539252, 8.756713867767653, 8.756123954758719, 8.755156898324044, 16.560441324192347, 12.918102106567748, 8.059520067416527, 14.59583306698012, 10.713964507611827, 14.103568993117099, 7.077287556472749, 13.629288908702211, 20.398030977419353, 17.00072646811069, 15.779631585600761, 13.593173777299052, 12.856383142805075, 25.30327631161588, 11.672162167511498, 27.074699748480057, 13.32079234564723, 18.454983226241136, 13.509550662553256, 13.749059178490539, 13.72870294189624, 16.9363627911698, 19.156483442077086, 18.69163401148143, 19.976064112813255, 21.43790329859199, 22.70595075451741, 17.864486890907763, 23.653244590629548, 23.62156258466151, 11.64022663195723, 15.95096961876961, 13.378289781545377, 11.869367261736182, 45.24703362559664, 9.297136106783505, 8.436761099985889, 8.436757263554204, 8.436658680882864, 8.221542412680726, 8.221524849541266, 8.221713397278604, 12.101482036621027, 8.00504617993338, 8.005099718485996, 18.15242142526454, 7.774792370973966, 7.774811467442124, 7.774834852270216, 7.774872253849175, 7.774872253849175, 7.774866852734718, 7.775067366423991, 7.774983667706765, 7.774983667706765, 21.387157648502647, 8.232312525187599, 11.483440643899952, 8.237772275853574, 17.546642533599062, 17.13088714322904, 16.05803626747299, 18.8634185971462, 16.483833203051425, 12.57059526760554, 21.744239851773077, 17.394710982823884, 18.06905691464803, 11.073455554540615, 12.594118448024064, 13.481619144621915, 15.260916305972103, 13.936083105374305, 12.172054488389204, 29.91014042065488, 10.644613544400988, 17.70782131745201, 23.05707048570025, 12.840676729697378, 17.957415640080313, 16.880760737493713, 14.64820338088314, 14.663046738244708, 22.65878846642729, 23.38447955253875, 26.918159495476388, 16.973613719594965, 16.76395269895735, 14.22025474662717, 16.338153808227148, 24.800724626853484, 20.011054608163345], \"Category\": [\"Default\", \"Default\", \"Default\", \"Default\", \"Default\", \"Default\", \"Default\", \"Default\", \"Default\", \"Default\", \"Default\", \"Default\", \"Default\", \"Default\", \"Default\", \"Default\", \"Default\", \"Default\", \"Default\", \"Default\", \"Default\", \"Default\", \"Default\", \"Default\", \"Default\", \"Default\", \"Default\", \"Default\", \"Default\", \"Default\", \"Topic1\", \"Topic1\", \"Topic1\", \"Topic1\", \"Topic1\", \"Topic1\", \"Topic1\", \"Topic1\", \"Topic1\", \"Topic1\", \"Topic1\", \"Topic1\", \"Topic1\", \"Topic1\", \"Topic1\", \"Topic1\", \"Topic1\", \"Topic1\", \"Topic1\", \"Topic1\", \"Topic1\", \"Topic1\", \"Topic1\", \"Topic1\", \"Topic1\", \"Topic1\", \"Topic1\", \"Topic1\", \"Topic1\", \"Topic1\", \"Topic1\", \"Topic1\", \"Topic1\", \"Topic1\", \"Topic1\", \"Topic1\", \"Topic1\", \"Topic1\", \"Topic1\", \"Topic1\", \"Topic1\", \"Topic1\", \"Topic1\", \"Topic1\", \"Topic1\", \"Topic1\", \"Topic1\", \"Topic1\", \"Topic1\", \"Topic1\", \"Topic1\", \"Topic1\", \"Topic2\", \"Topic2\", \"Topic2\", \"Topic2\", \"Topic2\", \"Topic2\", \"Topic2\", \"Topic2\", \"Topic2\", \"Topic2\", \"Topic2\", \"Topic2\", \"Topic2\", \"Topic2\", \"Topic2\", \"Topic2\", \"Topic2\", \"Topic2\", \"Topic2\", \"Topic2\", \"Topic2\", \"Topic2\", \"Topic2\", \"Topic2\", \"Topic2\", \"Topic2\", \"Topic2\", \"Topic2\", \"Topic2\", \"Topic2\", \"Topic2\", \"Topic2\", \"Topic2\", \"Topic2\", \"Topic2\", \"Topic2\", \"Topic2\", \"Topic2\", \"Topic2\", \"Topic2\", \"Topic2\", \"Topic2\", \"Topic2\", \"Topic2\", \"Topic2\", \"Topic2\", \"Topic2\", \"Topic2\", \"Topic2\", \"Topic2\", \"Topic2\", \"Topic2\", \"Topic2\", \"Topic2\", \"Topic2\", \"Topic2\", \"Topic2\", \"Topic2\", \"Topic2\", \"Topic2\", \"Topic2\", \"Topic2\"], \"logprob\": [30.0, 29.0, 28.0, 27.0, 26.0, 25.0, 24.0, 23.0, 22.0, 21.0, 20.0, 19.0, 18.0, 17.0, 16.0, 15.0, 14.0, 13.0, 12.0, 11.0, 10.0, 9.0, 8.0, 7.0, 6.0, 5.0, 4.0, 3.0, 2.0, 1.0, -5.3923, -5.3655, -5.4433, -5.6534, -6.099, -6.0294, -6.3173, -5.9295, -6.0511, -6.3955, -6.3955, -6.3956, -6.231, -5.9188, -6.074, -6.4516, -6.4518, -6.4518, -6.0568, -6.4836, -6.484, -6.4845, -5.8481, -6.0977, -6.5708, -5.9822, -6.2931, -6.019, -6.709, -6.055, -5.6566, -5.8425, -5.92, -6.0681, -6.1252, -5.4975, -6.2166, -5.4736, -6.1148, -5.8598, -6.1226, -6.1151, -6.1197, -5.9932, -5.9432, -5.9631, -5.9645, -5.9795, -5.9911, -6.0729, -6.0543, -6.0866, -6.1244, -5.8132, -5.9916, -6.114, -4.7792, -6.3623, -6.4638, -6.4639, -6.4639, -6.4915, -6.4915, -6.4916, -6.1055, -6.5198, -6.5199, -5.7035, -6.5517, -6.5519, -6.552, -6.5521, -6.5521, -6.5521, -6.5525, -6.5525, -6.5525, -5.5408, -6.5015, -6.1701, -6.5066, -5.7585, -5.7918, -5.856, -5.7015, -5.8325, -6.0926, -5.5802, -5.7999, -5.7726, -6.2244, -6.1066, -6.0494, -5.9484, -6.0289, -6.1495, -5.3716, -6.268, -5.8307, -5.6119, -6.1073, -5.833, -5.906, -6.0151, -6.0235, -5.7465, -5.742, -5.6953, -5.9532, -5.9648, -6.0515, -6.0082, -5.9537, -6.002], \"loglift\": [30.0, 29.0, 28.0, 27.0, 26.0, 25.0, 24.0, 23.0, 22.0, 21.0, 20.0, 19.0, 18.0, 17.0, 16.0, 15.0, 14.0, 13.0, 12.0, 11.0, 10.0, 9.0, 8.0, 7.0, 6.0, 5.0, 4.0, 3.0, 2.0, 1.0, 0.6423, 0.6406, 0.6324, 0.6237, 0.6237, 0.6173, 0.6159, 0.6155, 0.6141, 0.6123, 0.6123, 0.6123, 0.6119, 0.6108, 0.6102, 0.6096, 0.6094, 0.6094, 0.6092, 0.6075, 0.6072, 0.6068, 0.6058, 0.6046, 0.6033, 0.598, 0.5963, 0.5955, 0.595, 0.5937, 0.5889, 0.5851, 0.5823, 0.5832, 0.5819, 0.5325, 0.5872, 0.4888, 0.5568, 0.4859, 0.535, 0.5248, 0.5218, 0.4383, 0.3651, 0.3697, 0.3019, 0.2163, 0.1472, 0.3053, 0.0432, 0.0122, 0.6821, 0.6782, 0.6757, 0.6729, 0.6696, 0.6689, 0.6646, 0.6645, 0.6644, 0.6627, 0.6627, 0.6626, 0.6621, 0.6611, 0.661, 0.6586, 0.6583, 0.6582, 0.658, 0.658, 0.658, 0.6579, 0.6576, 0.6575, 0.6575, 0.6573, 0.6514, 0.6499, 0.6456, 0.6376, 0.6282, 0.6288, 0.6222, 0.626, 0.637, 0.6014, 0.6048, 0.5941, 0.632, 0.6211, 0.6102, 0.5872, 0.5976, 0.6123, 0.4912, 0.6279, 0.5562, 0.5111, 0.6011, 0.54, 0.5287, 0.5615, 0.5521, 0.3939, 0.3668, 0.2729, 0.4761, 0.4769, 0.5547, 0.4592, 0.0964, 0.2626]}, \"token.table\": {\"Topic\": [1, 2, 1, 1, 2, 1, 2, 1, 2, 1, 2, 1, 2, 1, 2, 1, 2, 1, 2, 1, 2, 1, 2, 1, 2, 1, 1, 1, 2, 1, 1, 2, 1, 2, 1, 2, 1, 2, 1, 2, 1, 2, 1, 2, 1, 1, 2, 1, 2, 1, 2, 1, 2, 1, 2, 1, 2, 1, 2, 1, 2, 1, 2, 1, 2, 1, 2, 1, 2, 1, 2, 1, 2, 1, 2, 1, 2, 1, 2, 1, 2, 1, 2, 1, 2, 1, 2, 1, 2, 1, 2, 1, 2, 1, 2, 1, 2, 1, 2, 1, 2, 1, 2, 1, 2, 1, 2, 1, 2, 1, 2, 1, 2, 1, 1, 2, 1, 2, 1, 2, 1, 2, 1, 2, 1, 2, 1, 1, 2, 1, 2, 1, 2, 1, 2, 1, 1, 2, 1, 2, 1, 2, 1, 2, 1, 2, 1, 2, 1, 1, 2, 1, 2, 1, 2, 1, 2, 1, 1, 2, 1, 2, 1, 1, 1, 2, 1, 2, 1, 2, 1, 2, 1, 1, 2, 1, 2, 1, 2, 1, 2, 1, 2, 1, 2, 1, 2, 1, 2, 1, 2, 1, 2, 1, 2, 1, 2, 1, 2, 1, 2, 1, 2, 1, 1, 2, 1, 2, 1, 2, 1, 2, 1, 2], \"Freq\": [0.07955072760770548, 0.8750580036847604, 0.9137471884177656, 0.8727869917654568, 0.14546449862757613, 0.07417506675367846, 0.8901008010441415, 0.9661578267619217, 0.06038486417262011, 0.12139204223102694, 0.9711363378482155, 0.9703972384168985, 0.0746459414166845, 0.9260021812743455, 0.06614301294816755, 0.1286194766100396, 0.9003363362702774, 0.10602532036809993, 0.9012152231288494, 0.08263450682931557, 0.9089795751224713, 0.8740811168241749, 0.14568018613736247, 0.12133100204082188, 0.9099825153061641, 0.9890794946713641, 0.9975075437206677, 0.961410537870588, 0.050600554624767785, 0.9135847214840467, 0.08425048934358492, 0.9267553827794343, 0.05508906919757824, 0.93651417635883, 0.9538281921443155, 0.07337139939571657, 0.13796757304235552, 0.8737946292682517, 0.1185288984894538, 0.9482311879156304, 0.1435123473990135, 0.861074084394081, 0.9289290254099345, 0.07741075211749454, 0.975151272594843, 0.7277007215145053, 0.27988489289019436, 0.11398191968465274, 0.9118553574772219, 0.08590898026457552, 0.9449987829103307, 0.12861624894961302, 0.9003137426472911, 0.09394422783211279, 0.9394422783211278, 0.7008387598746229, 0.3003594685176955, 0.9563623781305829, 0.07356633677927561, 0.12861956596057486, 0.9003369617240239, 0.6165784534353692, 0.39637186292273735, 0.12492120314143175, 0.8744484219900223, 0.04675703131921374, 0.9351406263842749, 0.9217525015366204, 0.07090403857974002, 0.29934384403436687, 0.6842145006499813, 0.8694526245955171, 0.11856172153575233, 0.11674818608506783, 0.9339854886805427, 0.3714964242514614, 0.6315439212274844, 0.7308230679357932, 0.2610082385484976, 0.12454823034938473, 0.9341117276203854, 0.23860721106954588, 0.7754734359760241, 0.13639730103181932, 0.818383806190916, 0.1286194766100396, 0.9003363362702774, 0.12162914853380818, 0.9730331882704655, 0.11852895238788984, 0.9482316191031187, 0.09030604720221728, 0.9030604720221729, 0.12147255062783369, 0.9717804050226695, 0.17771710923766165, 0.8293465097757544, 0.8266237664263577, 0.1771336642342195, 0.8127886011118939, 0.16255772022237877, 0.12862048220559555, 0.900343375439169, 0.12862079812360672, 0.9003455868652469, 0.07474796975764762, 0.971723606849419, 0.14064445649079316, 0.843866738944759, 0.34980665122688775, 0.6496409237070773, 0.9333884862256661, 0.07778237385213883, 0.9974949383755272, 0.9505925356133035, 0.06337283570755356, 0.1734825767428155, 0.8240422395283736, 0.1694166631918371, 0.8470833159591855, 0.2647979175448848, 0.7061277801196928, 0.08708191482064252, 0.9579010630270678, 0.9518710951770374, 0.07322085347515672, 0.992569715764331, 0.20060086364076757, 0.8024034545630703, 0.9411362526190974, 0.05882101578869359, 0.5496074735197247, 0.4650524775936132, 0.9696745447001642, 0.07459034959232032, 0.9456596504962923, 0.23565989341340157, 0.7658946535935551, 0.11853033740311915, 0.9482426992249532, 0.4838568300140214, 0.5241782325151898, 0.8495015720826671, 0.14773940384046383, 0.11068646302058308, 0.8854917041646646, 0.900847313630047, 0.07507060946917059, 0.997456096784571, 0.07940214347887871, 0.8734235782676658, 0.9424132257704227, 0.08567392961549297, 0.9591778650628677, 0.0685127046473477, 0.9769889169597585, 0.06513259446398391, 0.9136462710366513, 0.16706190134086482, 0.835309506704324, 0.5080104229765101, 0.46567622106180095, 0.9456557156124321, 0.9456481149479707, 0.24482570350058663, 0.7344771105017599, 0.9647042921192716, 0.03858817168477086, 0.9882857960559586, 0.07602198431199682, 0.13105372966479958, 0.8518492428211973, 0.9926149365075524, 0.748998187713307, 0.26749935275475245, 0.12862009534620591, 0.9003406674234414, 0.10756000434051581, 0.9680400390646423, 0.06630268902982568, 0.9503385427608347, 0.12861763352037373, 0.9003234346426162, 0.12861763352037373, 0.9003234346426162, 0.0626921136394927, 0.9403817045923906, 0.15575503083684708, 0.856652669602659, 0.9333613148424578, 0.09333613148424577, 0.1149774780377131, 0.8623310852828482, 0.6530489388353338, 0.3731708221916193, 0.12163193790696827, 0.9730555032557462, 0.08215539956331033, 0.9037093951964137, 0.13653551551653975, 0.8192130930992385, 0.9800080541205962, 0.08909164128369057, 0.9480899187023324, 0.9314624544414618, 0.04902433970744536, 0.12492036766146992, 0.8744425736302895, 0.12163167807267186, 0.9730534245813749, 0.9928297037085353, 0.04136790432118897, 0.8882604832492662, 0.1480434138748777], \"Term\": [\"\\u0e01\\u0e14\", \"\\u0e01\\u0e14\", \"\\u0e01\\u0e14\\u0e1b\\u0e38\\u0e48\\u0e21\", \"\\u0e01\\u0e25\\u0e31\\u0e1a\\u0e21\\u0e32\", \"\\u0e01\\u0e25\\u0e31\\u0e1a\\u0e21\\u0e32\", \"\\u0e01\\u0e32\\u0e23\\u0e25\\u0e07\\u0e17\\u0e38\\u0e19\", \"\\u0e01\\u0e32\\u0e23\\u0e25\\u0e07\\u0e17\\u0e38\\u0e19\", \"\\u0e02\\u0e19\\u0e32\\u0e14\", \"\\u0e02\\u0e19\\u0e32\\u0e14\", \"\\u0e02\\u0e31\\u0e1a\\u0e23\\u0e16\", \"\\u0e02\\u0e31\\u0e1a\\u0e23\\u0e16\", \"\\u0e02\\u0e49\\u0e2d\\u0e2d\\u0e49\\u0e32\\u0e07\", \"\\u0e02\\u0e49\\u0e2d\\u0e2d\\u0e49\\u0e32\\u0e07\", \"\\u0e04\\u0e27\\u0e32\\u0e21\\u0e1d\\u0e31\\u0e19\", \"\\u0e04\\u0e27\\u0e32\\u0e21\\u0e1d\\u0e31\\u0e19\", \"\\u0e04\\u0e27\\u0e32\\u0e21\\u0e40\\u0e2b\\u0e47\\u0e19\\u0e2d\\u0e01\\u0e40\\u0e2b\\u0e47\\u0e19\\u0e43\\u0e08\", \"\\u0e04\\u0e27\\u0e32\\u0e21\\u0e40\\u0e2b\\u0e47\\u0e19\\u0e2d\\u0e01\\u0e40\\u0e2b\\u0e47\\u0e19\\u0e43\\u0e08\", \"\\u0e04\\u0e32\\u0e14\\u0e2b\\u0e27\\u0e31\\u0e07\", \"\\u0e04\\u0e32\\u0e14\\u0e2b\\u0e27\\u0e31\\u0e07\", \"\\u0e04\\u0e39\\u0e48\", \"\\u0e04\\u0e39\\u0e48\", \"\\u0e07\\u0e32\\u0e19\", \"\\u0e07\\u0e32\\u0e19\", \"\\u0e08\\u0e33\", \"\\u0e08\\u0e33\", \"\\u0e08\\u0e33\\u0e44\\u0e27\\u0e49\", \"\\u0e08\\u0e49\\u0e2d\\u0e07\", \"\\u0e0b\\u0e37\\u0e49\\u0e2d\", \"\\u0e0b\\u0e37\\u0e49\\u0e2d\", \"\\u0e14\\u0e27\\u0e07\\u0e15\\u0e32\", \"\\u0e15\\u0e31\\u0e27\\u0e15\\u0e19\", \"\\u0e15\\u0e31\\u0e27\\u0e15\\u0e19\", \"\\u0e15\\u0e32\\u0e22\", \"\\u0e15\\u0e32\\u0e22\", \"\\u0e15\\u0e34\\u0e14\", \"\\u0e15\\u0e34\\u0e14\", \"\\u0e15\\u0e48\\u0e2d\", \"\\u0e15\\u0e48\\u0e2d\", \"\\u0e16\\u0e19\\u0e31\\u0e14\", \"\\u0e16\\u0e19\\u0e31\\u0e14\", \"\\u0e17\\u0e31\\u0e01\", \"\\u0e17\\u0e31\\u0e01\", \"\\u0e17\\u0e31\\u0e49\\u0e07\", \"\\u0e17\\u0e31\\u0e49\\u0e07\", \"\\u0e17\\u0e31\\u0e49\\u0e07\\u0e2b\\u0e21\\u0e14\", \"\\u0e17\\u0e33\\u0e07\\u0e32\\u0e19\", \"\\u0e17\\u0e33\\u0e07\\u0e32\\u0e19\", \"\\u0e17\\u0e33\\u0e23\\u0e49\\u0e32\\u0e22\", \"\\u0e17\\u0e33\\u0e23\\u0e49\\u0e32\\u0e22\", \"\\u0e17\\u0e33\\u0e25\\u0e32\\u0e22\", \"\\u0e17\\u0e33\\u0e25\\u0e32\\u0e22\", \"\\u0e17\\u0e35\\u0e48\\u0e2a\\u0e35\\u0e48\", \"\\u0e17\\u0e35\\u0e48\\u0e2a\\u0e35\\u0e48\", \"\\u0e17\\u0e38\\u0e01\\u0e04\\u0e19\", \"\\u0e17\\u0e38\\u0e01\\u0e04\\u0e19\", \"\\u0e17\\u0e38\\u0e01\\u0e27\\u0e31\\u0e19\", \"\\u0e17\\u0e38\\u0e01\\u0e27\\u0e31\\u0e19\", \"\\u0e19\\u0e31\\u0e48\\u0e19\", \"\\u0e19\\u0e31\\u0e48\\u0e19\", \"\\u0e19\\u0e34\\u0e14\\u0e2b\\u0e19\\u0e48\\u0e2d\\u0e22\", \"\\u0e19\\u0e34\\u0e14\\u0e2b\\u0e19\\u0e48\\u0e2d\\u0e22\", \"\\u0e19\\u0e36\\u0e07\", \"\\u0e19\\u0e36\\u0e07\", \"\\u0e19\\u0e38\\u0e48\\u0e21\", \"\\u0e19\\u0e38\\u0e48\\u0e21\", \"\\u0e19\\u0e49\\u0e2d\\u0e22\", \"\\u0e19\\u0e49\\u0e2d\\u0e22\", \"\\u0e1a\\u0e19\", \"\\u0e1a\\u0e19\", \"\\u0e1a\\u0e48\\u0e2d\\u0e22\", \"\\u0e1a\\u0e48\\u0e2d\\u0e22\", \"\\u0e1a\\u0e49\\u0e32\\u0e19\", \"\\u0e1a\\u0e49\\u0e32\\u0e19\", \"\\u0e1b\\u0e25\\u0e48\\u0e2d\\u0e22\", \"\\u0e1b\\u0e25\\u0e48\\u0e2d\\u0e22\", \"\\u0e1b\\u0e31\\u0e08\\u0e08\\u0e38\\u0e1a\\u0e31\\u0e19\", \"\\u0e1b\\u0e31\\u0e08\\u0e08\\u0e38\\u0e1a\\u0e31\\u0e19\", \"\\u0e1b\\u0e31\\u0e0d\\u0e2b\\u0e32\", \"\\u0e1b\\u0e31\\u0e0d\\u0e2b\\u0e32\", \"\\u0e1c\\u0e34\\u0e14\", \"\\u0e1c\\u0e34\\u0e14\", \"\\u0e1c\\u0e48\\u0e32\\u0e19\", \"\\u0e1c\\u0e48\\u0e32\\u0e19\", \"\\u0e1d\\u0e31\\u0e19\", \"\\u0e1d\\u0e31\\u0e19\", \"\\u0e1d\\u0e36\\u0e01\", \"\\u0e1d\\u0e36\\u0e01\", \"\\u0e1d\\u0e37\\u0e19\", \"\\u0e1d\\u0e37\\u0e19\", \"\\u0e1d\\u0e48\\u0e32\\u0e22\", \"\\u0e1d\\u0e48\\u0e32\\u0e22\", \"\\u0e1e\\u0e1a\", \"\\u0e1e\\u0e1a\", \"\\u0e21\\u0e31\\u0e19\\u0e14\\u0e35\", \"\\u0e21\\u0e31\\u0e19\\u0e14\\u0e35\", \"\\u0e21\\u0e35\\u0e04\\u0e48\\u0e32\", \"\\u0e21\\u0e35\\u0e04\\u0e48\\u0e32\", \"\\u0e22\\u0e31\\u0e07\\u0e44\\u0e07\", \"\\u0e22\\u0e31\\u0e07\\u0e44\\u0e07\", \"\\u0e23\\u0e30\\u0e27\\u0e31\\u0e07\", \"\\u0e23\\u0e30\\u0e27\\u0e31\\u0e07\", \"\\u0e23\\u0e32\", \"\\u0e23\\u0e32\", \"\\u0e23\\u0e32\\u0e22\\u0e44\\u0e14\\u0e49\", \"\\u0e23\\u0e32\\u0e22\\u0e44\\u0e14\\u0e49\", \"\\u0e23\\u0e35\\u0e1a\", \"\\u0e23\\u0e35\\u0e1a\", \"\\u0e23\\u0e39\\u0e49\\u0e08\\u0e31\\u0e01\", \"\\u0e23\\u0e39\\u0e49\\u0e08\\u0e31\\u0e01\", \"\\u0e25\\u0e07\", \"\\u0e25\\u0e07\", \"\\u0e25\\u0e30\\u0e40\\u0e25\\u0e22\", \"\\u0e25\\u0e30\\u0e40\\u0e25\\u0e22\", \"\\u0e25\\u0e31\\u0e01\", \"\\u0e27\\u0e34\\u0e48\\u0e07\", \"\\u0e27\\u0e34\\u0e48\\u0e07\", \"\\u0e2a\\u0e23\\u0e49\\u0e32\\u0e07\", \"\\u0e2a\\u0e23\\u0e49\\u0e32\\u0e07\", \"\\u0e2a\\u0e2d\\u0e07\", \"\\u0e2a\\u0e2d\\u0e07\", \"\\u0e2a\\u0e31\\u0e01\", \"\\u0e2a\\u0e31\\u0e01\", \"\\u0e2b\\u0e19\\u0e32\\u0e27\", \"\\u0e2b\\u0e19\\u0e32\\u0e27\", \"\\u0e2b\\u0e19\\u0e35\", \"\\u0e2b\\u0e19\\u0e35\", \"\\u0e2b\\u0e19\\u0e39\", \"\\u0e2b\\u0e22\\u0e38\\u0e14\", \"\\u0e2b\\u0e22\\u0e38\\u0e14\", \"\\u0e2b\\u0e23\\u0e2d\", \"\\u0e2b\\u0e23\\u0e2d\", \"\\u0e2b\\u0e25\\u0e07\", \"\\u0e2b\\u0e25\\u0e07\", \"\\u0e2b\\u0e25\\u0e07\\u0e17\\u0e32\\u0e07\", \"\\u0e2b\\u0e25\\u0e07\\u0e17\\u0e32\\u0e07\", \"\\u0e2b\\u0e27\\u0e07\", \"\\u0e2b\\u0e49\\u0e32\\u0e21\", \"\\u0e2b\\u0e49\\u0e32\\u0e21\", \"\\u0e2d\\u0e01\\u0e2b\\u0e31\\u0e01\", \"\\u0e2d\\u0e01\\u0e2b\\u0e31\\u0e01\", \"\\u0e2d\\u0e14\\u0e35\\u0e15\", \"\\u0e2d\\u0e14\\u0e35\\u0e15\", \"\\u0e2d\\u0e19\\u0e32\\u0e04\\u0e15\", \"\\u0e2d\\u0e19\\u0e32\\u0e04\\u0e15\", \"\\u0e2d\\u0e22\\u0e32\\u0e01\\u0e44\\u0e14\\u0e49\", \"\\u0e2d\\u0e22\\u0e32\\u0e01\\u0e44\\u0e14\\u0e49\", \"\\u0e2d\\u0e2d\\u0e01\", \"\\u0e2d\\u0e2d\\u0e01\", \"\\u0e2d\\u0e32\", \"\\u0e2d\\u0e32\\u0e01\\u0e32\\u0e28\", \"\\u0e2d\\u0e32\\u0e01\\u0e32\\u0e28\", \"\\u0e2d\\u0e48\\u0e2d\\u0e19\\u0e41\\u0e2d\", \"\\u0e2d\\u0e48\\u0e2d\\u0e19\\u0e41\\u0e2d\", \"\\u0e2d\\u0e49\\u0e27\\u0e19\", \"\\u0e2d\\u0e49\\u0e27\\u0e19\", \"\\u0e32\\u0e27\", \"\\u0e32\\u0e27\", \"\\u0e40\\u0e02\\u0e35\\u0e22\\u0e27\", \"\\u0e40\\u0e02\\u0e49\\u0e32\\u0e21\\u0e32\", \"\\u0e40\\u0e02\\u0e49\\u0e32\\u0e21\\u0e32\", \"\\u0e40\\u0e14\\u0e35\\u0e4b\\u0e22\\u0e27\", \"\\u0e40\\u0e14\\u0e35\\u0e4b\\u0e22\\u0e27\", \"\\u0e40\\u0e15\\u0e34\\u0e21\", \"\\u0e40\\u0e1b\\u0e23\\u0e35\\u0e22\\u0e1a\\u0e40\\u0e17\\u0e35\\u0e22\\u0e1a\", \"\\u0e40\\u0e1b\\u0e25\\u0e48\\u0e32\", \"\\u0e40\\u0e1b\\u0e25\\u0e48\\u0e32\", \"\\u0e40\\u0e1e\\u0e35\\u0e22\\u0e07\", \"\\u0e40\\u0e1e\\u0e35\\u0e22\\u0e07\", \"\\u0e40\\u0e1e\\u0e35\\u0e22\\u0e07\\u0e41\\u0e04\\u0e48\", \"\\u0e40\\u0e1e\\u0e35\\u0e22\\u0e07\\u0e41\\u0e04\\u0e48\", \"\\u0e40\\u0e1e\\u0e37\\u0e48\\u0e2d\\u0e19\", \"\\u0e40\\u0e1e\\u0e37\\u0e48\\u0e2d\\u0e19\", \"\\u0e40\\u0e21\\u0e35\\u0e22\", \"\\u0e40\\u0e23\\u0e37\\u0e48\\u0e2d\\u0e22\", \"\\u0e40\\u0e23\\u0e37\\u0e48\\u0e2d\\u0e22\", \"\\u0e40\\u0e25\\u0e27\", \"\\u0e40\\u0e25\\u0e27\", \"\\u0e40\\u0e2b\\u0e15\\u0e38\\u0e1c\\u0e25\", \"\\u0e40\\u0e2b\\u0e15\\u0e38\\u0e1c\\u0e25\", \"\\u0e40\\u0e2b\\u0e19\\u0e37\\u0e48\\u0e2d\\u0e22\", \"\\u0e40\\u0e2b\\u0e19\\u0e37\\u0e48\\u0e2d\\u0e22\", \"\\u0e40\\u0e2d\\u0e47\\u0e19\", \"\\u0e40\\u0e2d\\u0e47\\u0e19\", \"\\u0e40\\u0e2d\\u0e47\\u0e19\\u0e14\\u0e39\", \"\\u0e40\\u0e2d\\u0e47\\u0e19\\u0e14\\u0e39\", \"\\u0e41\\u0e04\\u0e23\\u0e4c\", \"\\u0e41\\u0e04\\u0e23\\u0e4c\", \"\\u0e41\\u0e17\\u0e19\", \"\\u0e41\\u0e17\\u0e19\", \"\\u0e41\\u0e1b\\u0e25\", \"\\u0e41\\u0e1b\\u0e25\", \"\\u0e41\\u0e23\\u0e07\", \"\\u0e41\\u0e23\\u0e07\", \"\\u0e41\\u0e2d\\u0e1a\", \"\\u0e41\\u0e2d\\u0e1a\", \"\\u0e42\\u0e25\\u0e40\\u0e04\\u0e0a\\u0e31\\u0e48\\u0e19\", \"\\u0e42\\u0e25\\u0e40\\u0e04\\u0e0a\\u0e31\\u0e48\\u0e19\", \"\\u0e42\\u0e2d\\u0e01\\u0e32\\u0e2a\", \"\\u0e42\\u0e2d\\u0e01\\u0e32\\u0e2a\", \"\\u0e43\\u0e14\", \"\\u0e43\\u0e14\", \"\\u0e43\\u0e1a\", \"\\u0e43\\u0e1a\", \"\\u0e43\\u0e1a\\u0e44\\u0e21\\u0e49\", \"\\u0e43\\u0e2a\\u0e48\", \"\\u0e43\\u0e2a\\u0e48\", \"\\u0e43\\u0e2b\\u0e49\\u0e01\\u0e33\\u0e25\\u0e31\\u0e07\\u0e43\\u0e08\", \"\\u0e43\\u0e2b\\u0e49\\u0e01\\u0e33\\u0e25\\u0e31\\u0e07\\u0e43\\u0e08\", \"\\u0e43\\u0e2b\\u0e49\\u0e42\\u0e2d\\u0e01\\u0e32\\u0e2a\", \"\\u0e43\\u0e2b\\u0e49\\u0e42\\u0e2d\\u0e01\\u0e32\\u0e2a\", \"\\u0e44\\u0e01\\u0e25\", \"\\u0e44\\u0e01\\u0e25\", \"\\u0e44\\u0e02\", \"\\u0e44\\u0e02\"]}, \"R\": 30, \"lambda.step\": 0.01, \"plot.opts\": {\"xlab\": \"PC1\", \"ylab\": \"PC2\"}, \"topic.order\": [2, 1]};\n",
              "\n",
              "function LDAvis_load_lib(url, callback){\n",
              "  var s = document.createElement('script');\n",
              "  s.src = url;\n",
              "  s.async = true;\n",
              "  s.onreadystatechange = s.onload = callback;\n",
              "  s.onerror = function(){console.warn(\"failed to load library \" + url);};\n",
              "  document.getElementsByTagName(\"head\")[0].appendChild(s);\n",
              "}\n",
              "\n",
              "if(typeof(LDAvis) !== \"undefined\"){\n",
              "   // already loaded: just create the visualization\n",
              "   !function(LDAvis){\n",
              "       new LDAvis(\"#\" + \"ldavis_el10831398539608378405593528533\", ldavis_el10831398539608378405593528533_data);\n",
              "   }(LDAvis);\n",
              "}else if(typeof define === \"function\" && define.amd){\n",
              "   // require.js is available: use it to load d3/LDAvis\n",
              "   require.config({paths: {d3: \"https://d3js.org/d3.v5\"}});\n",
              "   require([\"d3\"], function(d3){\n",
              "      window.d3 = d3;\n",
              "      LDAvis_load_lib(\"https://cdn.jsdelivr.net/gh/bmabey/pyLDAvis@3.3.1/pyLDAvis/js/ldavis.v3.0.0.js\", function(){\n",
              "        new LDAvis(\"#\" + \"ldavis_el10831398539608378405593528533\", ldavis_el10831398539608378405593528533_data);\n",
              "      });\n",
              "    });\n",
              "}else{\n",
              "    // require.js not available: dynamically load d3 & LDAvis\n",
              "    LDAvis_load_lib(\"https://d3js.org/d3.v5.js\", function(){\n",
              "         LDAvis_load_lib(\"https://cdn.jsdelivr.net/gh/bmabey/pyLDAvis@3.3.1/pyLDAvis/js/ldavis.v3.0.0.js\", function(){\n",
              "                 new LDAvis(\"#\" + \"ldavis_el10831398539608378405593528533\", ldavis_el10831398539608378405593528533_data);\n",
              "            })\n",
              "         });\n",
              "}\n",
              "</script>"
            ],
            "text/plain": [
              "PreparedData(topic_coordinates=              x    y  topics  cluster       Freq\n",
              "topic                                           \n",
              "1      0.087437  0.0       1        1  51.664864\n",
              "0     -0.087437  0.0       2        1  48.335136, topic_info=         Term       Freq      Total Category  logprob  loglift\n",
              "1189  เหนื่อย  45.000000  45.000000  Default  30.0000  30.0000\n",
              "323     เพียง  25.000000  25.000000  Default  29.0000  29.0000\n",
              "1990      หนู  25.000000  25.000000  Default  28.0000  28.0000\n",
              "673       ไกล  24.000000  24.000000  Default  27.0000  27.0000\n",
              "388      น้อย  21.000000  21.000000  Default  26.0000  26.0000\n",
              "...       ...        ...        ...      ...      ...      ...\n",
              "228      ผ่าน  13.054579  16.763953   Topic2  -5.9648   0.4769\n",
              "390    รู้จัก  11.969814  14.220255   Topic2  -6.0515   0.5547\n",
              "665     เปล่า  12.499981  16.338154   Topic2  -6.0082   0.4592\n",
              "472      อดีต  13.200278  24.800725   Topic2  -5.9537   0.0964\n",
              "1058       ลง  12.577635  20.011055   Topic2  -6.0020   0.2626\n",
              "\n",
              "[144 rows x 6 columns], token_table=      Topic      Freq      Term\n",
              "term                           \n",
              "61        1  0.079551        กด\n",
              "61        2  0.875058        กด\n",
              "3291      1  0.913747    กดปุ่ม\n",
              "34        1  0.872787    กลับมา\n",
              "34        2  0.145464    กลับมา\n",
              "...     ...       ...       ...\n",
              "478       2  0.973053  ให้โอกาส\n",
              "673       1  0.992830       ไกล\n",
              "673       2  0.041368       ไกล\n",
              "978       1  0.888260        ไข\n",
              "978       2  0.148043        ไข\n",
              "\n",
              "[214 rows x 3 columns], R=30, lambda_step=0.01, plot_opts={'xlab': 'PC1', 'ylab': 'PC2'}, topic_order=[2, 1])"
            ]
          },
          "metadata": {
            "tags": []
          },
          "execution_count": 25
        }
      ]
    },
    {
      "cell_type": "code",
      "metadata": {
        "id": "fLntPvqAOfUM",
        "colab": {
          "base_uri": "https://localhost:8080/"
        },
        "outputId": "ca5e3eef-b47e-495c-adcc-1bd72eff9314"
      },
      "source": [
        "#get probability of each topics of sentence\n",
        "lda_top.get_document_topics(bow = corpus[0])"
      ],
      "execution_count": null,
      "outputs": [
        {
          "output_type": "execute_result",
          "data": {
            "text/plain": [
              "[(0, 0.016535591), (1, 0.9834644)]"
            ]
          },
          "metadata": {
            "tags": []
          },
          "execution_count": 26
        }
      ]
    },
    {
      "cell_type": "code",
      "metadata": {
        "id": "nUA0b0YwxqEZ"
      },
      "source": [
        "y = []\n",
        "for sentence in corpus:\n",
        "  prediction = lda_top.get_document_topics(bow = sentence)\n",
        "  if len(prediction) == 1:\n",
        "    y.append(prediction[0][0])\n",
        "  elif prediction[0][1] < prediction[1][1]:\n",
        "    y.append(1)\n",
        "  else:\n",
        "    y.append(0)"
      ],
      "execution_count": null,
      "outputs": []
    },
    {
      "cell_type": "code",
      "metadata": {
        "colab": {
          "base_uri": "https://localhost:8080/"
        },
        "id": "IR9XUYgoAwYM",
        "outputId": "2d334f1a-4325-4d24-c7be-1b37a846ef23"
      },
      "source": [
        "label_0 = 0\n",
        "label_1 = 0\n",
        "for label in y:\n",
        "  if label == 0:\n",
        "    label_0 += 1\n",
        "  elif label == 1:\n",
        "    label_1 += 1\n",
        "print(label_0)\n",
        "print(label_1)"
      ],
      "execution_count": null,
      "outputs": [
        {
          "output_type": "stream",
          "text": [
            "994\n",
            "1309\n"
          ],
          "name": "stdout"
        }
      ]
    },
    {
      "cell_type": "markdown",
      "metadata": {
        "id": "C82z3Un4KIdg"
      },
      "source": [
        "# 2 topics classification model"
      ]
    },
    {
      "cell_type": "code",
      "metadata": {
        "id": "oP7IuuXoILjH"
      },
      "source": [
        "import tensorflow as tf\n",
        "from tensorflow.keras.preprocessing import sequence\n",
        "from tensorflow.keras.models import Sequential, Model\n",
        "from tensorflow.keras.layers import GRU, Dropout, LSTM\n",
        "from tensorflow.keras.models import load_model\n",
        "from tensorflow.keras.layers import Embedding, Reshape, Activation, Input, Dense, Masking, Conv1D, Bidirectional\n",
        "from tensorflow.python.keras.layers.merge import Dot\n",
        "from tensorflow.python.keras.utils import np_utils\n",
        "from tensorflow.python.keras.utils.data_utils import get_file\n",
        "from tensorflow.python.keras.utils.np_utils import to_categorical\n",
        "from tensorflow.keras.preprocessing.sequence import skipgrams\n",
        "from tensorflow.keras.preprocessing import sequence\n",
        "from tensorflow.keras import backend as K\n",
        "from tensorflow.keras.optimizers import Adam\n",
        "from tensorflow.keras.callbacks import ModelCheckpoint"
      ],
      "execution_count": null,
      "outputs": []
    },
    {
      "cell_type": "code",
      "metadata": {
        "id": "lJdl2O5gJvYa"
      },
      "source": [
        "max_len = 0\n",
        "for sentence in corpus:\n",
        "  if max_len < len(sentence):\n",
        "    max_len = len(sentence)"
      ],
      "execution_count": null,
      "outputs": []
    },
    {
      "cell_type": "code",
      "metadata": {
        "id": "sadHxD79rv01"
      },
      "source": [
        "indexed_sentence = []\n",
        "for sentence in corpus:\n",
        "  sen = []\n",
        "  for word in sentence:\n",
        "    sen.append(word[0])\n",
        "  indexed_sentence.append(sen)"
      ],
      "execution_count": null,
      "outputs": []
    },
    {
      "cell_type": "code",
      "metadata": {
        "id": "Qd82XDt-sWcg"
      },
      "source": [
        "indexed_sentence = sequence.pad_sequences(indexed_sentence)"
      ],
      "execution_count": null,
      "outputs": []
    },
    {
      "cell_type": "code",
      "metadata": {
        "id": "Rwyg49Oa2G47"
      },
      "source": [
        "max_word = 0\n",
        "for sentence in indexed_sentence:\n",
        "  for word in sentence:\n",
        "    if word > max_word:\n",
        "      max_word = word"
      ],
      "execution_count": null,
      "outputs": []
    },
    {
      "cell_type": "code",
      "metadata": {
        "id": "XGOnE454siwp"
      },
      "source": [
        "x_train = indexed_sentence[:int(len(indexed_sentence)*0.6)]\n",
        "x_val = indexed_sentence[int(len(indexed_sentence)*0.6):int(len(indexed_sentence)*0.8)]\n",
        "x_test = indexed_sentence[int(len(indexed_sentence)*0.8):]"
      ],
      "execution_count": null,
      "outputs": []
    },
    {
      "cell_type": "code",
      "metadata": {
        "id": "TxQUZpqWskZp"
      },
      "source": [
        "y_train = y[:int(len(indexed_sentence)*0.6)]\n",
        "y_val = y[int(len(indexed_sentence)*0.6):int(len(indexed_sentence)*0.8)]\n",
        "y_test = y[int(len(indexed_sentence)*0.8):]"
      ],
      "execution_count": null,
      "outputs": []
    },
    {
      "cell_type": "code",
      "metadata": {
        "id": "ZOKaZtLvDIbg"
      },
      "source": [
        "y_train = to_categorical(y_train,num_classes=2)\n",
        "y_val = to_categorical(y_val,num_classes=2)\n",
        "y_test = to_categorical(y_test,num_classes=2)"
      ],
      "execution_count": null,
      "outputs": []
    },
    {
      "cell_type": "code",
      "metadata": {
        "id": "dTkQD_BTs69l"
      },
      "source": [
        "callbacks_list = [\n",
        "        ModelCheckpoint(\n",
        "            \"/content/drive/MyDrive/Colab Notebooks/model_weight_lda.h5\",\n",
        "            save_best_only=True,\n",
        "            save_weights_only=True,\n",
        "            monitor='val_loss',\n",
        "            mode='min',\n",
        "            verbose=1\n",
        "        )\n",
        "  ]"
      ],
      "execution_count": null,
      "outputs": []
    },
    {
      "cell_type": "code",
      "metadata": {
        "id": "m7YtEtyU85qX",
        "colab": {
          "base_uri": "https://localhost:8080/"
        },
        "outputId": "5518fa2b-6684-4a69-cb39-0cb13690a9bb"
      },
      "source": [
        "max_word"
      ],
      "execution_count": null,
      "outputs": [
        {
          "output_type": "execute_result",
          "data": {
            "text/plain": [
              "3458"
            ]
          },
          "metadata": {
            "tags": []
          },
          "execution_count": 38
        }
      ]
    },
    {
      "cell_type": "code",
      "metadata": {
        "id": "9x_UrnZ21-Dd",
        "colab": {
          "base_uri": "https://localhost:8080/"
        },
        "outputId": "45d8c450-098e-4af7-8ca5-805ba6238bd8"
      },
      "source": [
        "input = Input(shape = (max_len,))\n",
        "embedding = Embedding(max_word+1, 256,mask_zero=True,trainable = True)(input)\n",
        "gru = GRU(32)(embedding)\n",
        "dropout = Dropout(0.5)(gru)\n",
        "output = Dense(2, activation='softmax')(dropout)\n",
        "cls_model = Model(input,output)\n",
        "opt=Adam(lr=0.01)\n",
        "cls_model.compile(loss='categorical_crossentropy', optimizer=opt, metrics=['accuracy'])\n",
        "cls_model.summary()"
      ],
      "execution_count": null,
      "outputs": [
        {
          "output_type": "stream",
          "text": [
            "Model: \"model\"\n",
            "_________________________________________________________________\n",
            "Layer (type)                 Output Shape              Param #   \n",
            "=================================================================\n",
            "input_1 (InputLayer)         [(None, 34)]              0         \n",
            "_________________________________________________________________\n",
            "embedding (Embedding)        (None, 34, 256)           885504    \n",
            "_________________________________________________________________\n",
            "gru (GRU)                    (None, 32)                27840     \n",
            "_________________________________________________________________\n",
            "dropout (Dropout)            (None, 32)                0         \n",
            "_________________________________________________________________\n",
            "dense (Dense)                (None, 2)                 66        \n",
            "=================================================================\n",
            "Total params: 913,410\n",
            "Trainable params: 913,410\n",
            "Non-trainable params: 0\n",
            "_________________________________________________________________\n"
          ],
          "name": "stdout"
        }
      ]
    },
    {
      "cell_type": "code",
      "metadata": {
        "id": "9BAdyHgFCmP0",
        "colab": {
          "base_uri": "https://localhost:8080/"
        },
        "outputId": "777037af-e638-461d-b6ab-77f614d4ec21"
      },
      "source": [
        "cls_model.fit(x_train,y_train,\n",
        "          epochs=20,\n",
        "          callbacks = callbacks_list,\n",
        "          validation_data=(x_val, y_val))"
      ],
      "execution_count": null,
      "outputs": [
        {
          "output_type": "stream",
          "text": [
            "Epoch 1/20\n",
            "44/44 [==============================] - 7s 69ms/step - loss: 0.6743 - accuracy: 0.5730 - val_loss: 0.5918 - val_accuracy: 0.6855\n",
            "\n",
            "Epoch 00001: val_loss improved from inf to 0.59178, saving model to /content/drive/MyDrive/Colab Notebooks/model_weight_lda.h5\n",
            "Epoch 2/20\n",
            "44/44 [==============================] - 2s 37ms/step - loss: 0.1689 - accuracy: 0.9561 - val_loss: 0.7131 - val_accuracy: 0.6941\n",
            "\n",
            "Epoch 00002: val_loss did not improve from 0.59178\n",
            "Epoch 3/20\n",
            "44/44 [==============================] - 2s 37ms/step - loss: 0.0739 - accuracy: 0.9754 - val_loss: 1.0263 - val_accuracy: 0.6876\n",
            "\n",
            "Epoch 00003: val_loss did not improve from 0.59178\n",
            "Epoch 4/20\n",
            "44/44 [==============================] - 2s 37ms/step - loss: 0.0224 - accuracy: 0.9933 - val_loss: 1.1327 - val_accuracy: 0.7028\n",
            "\n",
            "Epoch 00004: val_loss did not improve from 0.59178\n",
            "Epoch 5/20\n",
            "44/44 [==============================] - 2s 39ms/step - loss: 0.0087 - accuracy: 0.9989 - val_loss: 1.3173 - val_accuracy: 0.6898\n",
            "\n",
            "Epoch 00005: val_loss did not improve from 0.59178\n",
            "Epoch 6/20\n",
            "44/44 [==============================] - 2s 37ms/step - loss: 0.0128 - accuracy: 0.9961 - val_loss: 1.3564 - val_accuracy: 0.6855\n",
            "\n",
            "Epoch 00006: val_loss did not improve from 0.59178\n",
            "Epoch 7/20\n",
            "44/44 [==============================] - 2s 38ms/step - loss: 0.0069 - accuracy: 0.9989 - val_loss: 1.3553 - val_accuracy: 0.6963\n",
            "\n",
            "Epoch 00007: val_loss did not improve from 0.59178\n",
            "Epoch 8/20\n",
            "44/44 [==============================] - 2s 38ms/step - loss: 0.0062 - accuracy: 0.9983 - val_loss: 1.5115 - val_accuracy: 0.7050\n",
            "\n",
            "Epoch 00008: val_loss did not improve from 0.59178\n",
            "Epoch 9/20\n",
            "44/44 [==============================] - 2s 37ms/step - loss: 0.0040 - accuracy: 0.9980 - val_loss: 1.5958 - val_accuracy: 0.6985\n",
            "\n",
            "Epoch 00009: val_loss did not improve from 0.59178\n",
            "Epoch 10/20\n",
            "44/44 [==============================] - 2s 37ms/step - loss: 0.0057 - accuracy: 0.9994 - val_loss: 1.4449 - val_accuracy: 0.6963\n",
            "\n",
            "Epoch 00010: val_loss did not improve from 0.59178\n",
            "Epoch 11/20\n",
            "44/44 [==============================] - 2s 37ms/step - loss: 0.0022 - accuracy: 0.9995 - val_loss: 1.5322 - val_accuracy: 0.6941\n",
            "\n",
            "Epoch 00011: val_loss did not improve from 0.59178\n",
            "Epoch 12/20\n",
            "44/44 [==============================] - 2s 37ms/step - loss: 6.3313e-04 - accuracy: 1.0000 - val_loss: 1.5661 - val_accuracy: 0.6941\n",
            "\n",
            "Epoch 00012: val_loss did not improve from 0.59178\n",
            "Epoch 13/20\n",
            "44/44 [==============================] - 2s 38ms/step - loss: 1.9432e-04 - accuracy: 1.0000 - val_loss: 1.6054 - val_accuracy: 0.6985\n",
            "\n",
            "Epoch 00013: val_loss did not improve from 0.59178\n",
            "Epoch 14/20\n",
            "44/44 [==============================] - 2s 37ms/step - loss: 3.2735e-04 - accuracy: 1.0000 - val_loss: 1.6254 - val_accuracy: 0.6963\n",
            "\n",
            "Epoch 00014: val_loss did not improve from 0.59178\n",
            "Epoch 15/20\n",
            "44/44 [==============================] - 2s 38ms/step - loss: 2.1126e-04 - accuracy: 1.0000 - val_loss: 1.6682 - val_accuracy: 0.6985\n",
            "\n",
            "Epoch 00015: val_loss did not improve from 0.59178\n",
            "Epoch 16/20\n",
            "44/44 [==============================] - 2s 38ms/step - loss: 2.8491e-04 - accuracy: 1.0000 - val_loss: 1.7046 - val_accuracy: 0.6963\n",
            "\n",
            "Epoch 00016: val_loss did not improve from 0.59178\n",
            "Epoch 17/20\n",
            "44/44 [==============================] - 2s 37ms/step - loss: 1.2548e-04 - accuracy: 1.0000 - val_loss: 1.7363 - val_accuracy: 0.6963\n",
            "\n",
            "Epoch 00017: val_loss did not improve from 0.59178\n",
            "Epoch 18/20\n",
            "44/44 [==============================] - 2s 37ms/step - loss: 1.0673e-04 - accuracy: 1.0000 - val_loss: 1.7612 - val_accuracy: 0.6963\n",
            "\n",
            "Epoch 00018: val_loss did not improve from 0.59178\n",
            "Epoch 19/20\n",
            "44/44 [==============================] - 2s 37ms/step - loss: 5.3726e-04 - accuracy: 1.0000 - val_loss: 1.8423 - val_accuracy: 0.6855\n",
            "\n",
            "Epoch 00019: val_loss did not improve from 0.59178\n",
            "Epoch 20/20\n",
            "44/44 [==============================] - 2s 38ms/step - loss: 6.5178e-05 - accuracy: 1.0000 - val_loss: 1.8695 - val_accuracy: 0.6855\n",
            "\n",
            "Epoch 00020: val_loss did not improve from 0.59178\n"
          ],
          "name": "stdout"
        },
        {
          "output_type": "execute_result",
          "data": {
            "text/plain": [
              "<tensorflow.python.keras.callbacks.History at 0x7f9a6c9c8290>"
            ]
          },
          "metadata": {
            "tags": []
          },
          "execution_count": 40
        }
      ]
    },
    {
      "cell_type": "code",
      "metadata": {
        "id": "4FrEkpqTI8LG"
      },
      "source": [
        "cls_model.load_weights(\"/content/drive/MyDrive/Colab Notebooks/model_weight_lda.h5\")"
      ],
      "execution_count": null,
      "outputs": []
    },
    {
      "cell_type": "code",
      "metadata": {
        "id": "LaiB0EWHLJNO",
        "colab": {
          "base_uri": "https://localhost:8080/"
        },
        "outputId": "210dd4fe-159a-4bc9-bcc3-72c71ab01618"
      },
      "source": [
        "results = cls_model.evaluate(x_test, y_test)\n",
        "print(\"test loss, test acc:\", results)"
      ],
      "execution_count": null,
      "outputs": [
        {
          "output_type": "stream",
          "text": [
            "15/15 [==============================] - 0s 6ms/step - loss: 0.5069 - accuracy: 0.7636\n",
            "test loss, test acc: [0.506865918636322, 0.763557493686676]\n"
          ],
          "name": "stdout"
        }
      ]
    },
    {
      "cell_type": "code",
      "metadata": {
        "id": "g-Tw8G2_N4mr"
      },
      "source": [
        "from keras import backend as K\n",
        "\n",
        "def recall_m(y_true, y_pred):\n",
        "    true_positives = K.sum(K.round(K.clip(y_true * y_pred, 0, 1)))\n",
        "    possible_positives = K.sum(K.round(K.clip(y_true, 0, 1)))\n",
        "    recall = true_positives / (possible_positives + K.epsilon())\n",
        "    return recall\n",
        "\n",
        "def precision_m(y_true, y_pred):\n",
        "    true_positives = K.sum(K.round(K.clip(y_true * y_pred, 0, 1)))\n",
        "    predicted_positives = K.sum(K.round(K.clip(y_pred, 0, 1)))\n",
        "    precision = true_positives / (predicted_positives + K.epsilon())\n",
        "    return precision\n",
        "\n",
        "def f1_m(y_true, y_pred):\n",
        "    precision = precision_m(y_true, y_pred)\n",
        "    recall = recall_m(y_true, y_pred)\n",
        "    return 2*((precision*recall)/(precision+recall+K.epsilon()))"
      ],
      "execution_count": null,
      "outputs": []
    },
    {
      "cell_type": "code",
      "metadata": {
        "id": "w5ZPMPG-N5OG"
      },
      "source": [
        "y_pred = cls_model.predict(x_test)"
      ],
      "execution_count": null,
      "outputs": []
    },
    {
      "cell_type": "code",
      "metadata": {
        "id": "3b-aFjmUOS-J"
      },
      "source": [
        "recall = recall_m(y_test,y_pred)\n",
        "precision = precision_m(y_test,y_pred)\n",
        "f1_score = f1_m(y_test,y_pred)"
      ],
      "execution_count": null,
      "outputs": []
    },
    {
      "cell_type": "code",
      "metadata": {
        "colab": {
          "base_uri": "https://localhost:8080/"
        },
        "id": "ziAqJSs6OXYU",
        "outputId": "0ba2f6ac-3764-4dca-c466-740ba1d23c75"
      },
      "source": [
        "print(recall)"
      ],
      "execution_count": null,
      "outputs": [
        {
          "output_type": "stream",
          "text": [
            "tf.Tensor(0.7635575, shape=(), dtype=float32)\n"
          ],
          "name": "stdout"
        }
      ]
    },
    {
      "cell_type": "code",
      "metadata": {
        "colab": {
          "base_uri": "https://localhost:8080/"
        },
        "id": "Lrz2p_X2Pnp5",
        "outputId": "b9301ec8-5cd7-46f0-80b1-c4a9f61ce71b"
      },
      "source": [
        "print(precision)"
      ],
      "execution_count": null,
      "outputs": [
        {
          "output_type": "stream",
          "text": [
            "tf.Tensor(0.7635575, shape=(), dtype=float32)\n"
          ],
          "name": "stdout"
        }
      ]
    },
    {
      "cell_type": "code",
      "metadata": {
        "colab": {
          "base_uri": "https://localhost:8080/"
        },
        "id": "9qDC07QbfAQV",
        "outputId": "143b9228-2208-4aa7-c09a-6a2f23e9e283"
      },
      "source": [
        "print(f1_score)"
      ],
      "execution_count": null,
      "outputs": [
        {
          "output_type": "stream",
          "text": [
            "tf.Tensor(0.76355743, shape=(), dtype=float32)\n"
          ],
          "name": "stdout"
        }
      ]
    },
    {
      "cell_type": "code",
      "metadata": {
        "id": "PEGCkeBjKxkH"
      },
      "source": [
        "from sklearn.metrics import confusion_matrix"
      ],
      "execution_count": null,
      "outputs": []
    },
    {
      "cell_type": "code",
      "metadata": {
        "id": "-RbOF4VvPphm"
      },
      "source": [
        "matrix = confusion_matrix(y_test.argmax(axis=1), y_pred.argmax(axis=1),normalize =\"all\")"
      ],
      "execution_count": null,
      "outputs": []
    },
    {
      "cell_type": "code",
      "metadata": {
        "colab": {
          "base_uri": "https://localhost:8080/"
        },
        "id": "Ao9hBu2YNVLZ",
        "outputId": "0a1cdf2c-b6ac-42a7-db81-c934b8af3855"
      },
      "source": [
        "matrix"
      ],
      "execution_count": null,
      "outputs": [
        {
          "output_type": "execute_result",
          "data": {
            "text/plain": [
              "array([[0.34707158, 0.15401302],\n",
              "       [0.0824295 , 0.4164859 ]])"
            ]
          },
          "metadata": {
            "tags": []
          },
          "execution_count": 51
        }
      ]
    },
    {
      "cell_type": "code",
      "metadata": {
        "id": "szeT_KsNNrJr"
      },
      "source": [
        "label = []\n",
        "path = '/content/drive/MyDrive/Colab Notebooks/project/data.csv'\n",
        "reader = csv.reader(open(path))\n",
        "for sentence in reader:\n",
        "  label.append(sentence[2])"
      ],
      "execution_count": null,
      "outputs": []
    },
    {
      "cell_type": "markdown",
      "metadata": {
        "id": "pG7E9BzXKVwa"
      },
      "source": [
        "# Supervised labeling test"
      ]
    },
    {
      "cell_type": "code",
      "metadata": {
        "id": "J2AFK-otXQJf"
      },
      "source": [
        "import numpy as np"
      ],
      "execution_count": null,
      "outputs": []
    },
    {
      "cell_type": "code",
      "metadata": {
        "id": "w_Z37Z9RW_uS"
      },
      "source": [
        "label = np.array(label)\n",
        "label = label.astype(int)"
      ],
      "execution_count": null,
      "outputs": []
    },
    {
      "cell_type": "code",
      "metadata": {
        "id": "F0nIkqgiXX9B"
      },
      "source": [
        "label_train = label[:int(len(indexed_sentence)*0.6)]\n",
        "label_val = label[int(len(indexed_sentence)*0.6):int(len(indexed_sentence)*0.8)]\n",
        "label_test = label[int(len(indexed_sentence)*0.8):]"
      ],
      "execution_count": null,
      "outputs": []
    },
    {
      "cell_type": "code",
      "metadata": {
        "id": "VmPbv7p9Xjhg"
      },
      "source": [
        "label_train = to_categorical(label_train,num_classes=3)\n",
        "label_val = to_categorical(label_val,num_classes=3)\n",
        "label_test = to_categorical(label_test,num_classes=3)"
      ],
      "execution_count": null,
      "outputs": []
    },
    {
      "cell_type": "code",
      "metadata": {
        "id": "WaAy3uvvXtRi"
      },
      "source": [
        "hand_callbacks_list = [\n",
        "        ModelCheckpoint(\n",
        "            \"/content/drive/MyDrive/Colab Notebooks/model_weight_hand.h5\",\n",
        "            save_best_only=True,\n",
        "            save_weights_only=True,\n",
        "            monitor='val_loss',\n",
        "            mode='min',\n",
        "            verbose=1\n",
        "        )\n",
        "  ]"
      ],
      "execution_count": null,
      "outputs": []
    },
    {
      "cell_type": "code",
      "metadata": {
        "colab": {
          "base_uri": "https://localhost:8080/"
        },
        "id": "fpudsFtLX0uG",
        "outputId": "0dd23d00-3da8-4b6c-96cc-8f6a5f121530"
      },
      "source": [
        "input = Input(shape = (max_len,))\n",
        "embedding = Embedding(max_word+1, 256,mask_zero=True,trainable = True)(input)\n",
        "gru = GRU(32)(embedding)\n",
        "dropout = Dropout(0.5)(gru)\n",
        "output = Dense(3, activation='softmax')(dropout)\n",
        "hand_label_model = Model(input,output)\n",
        "opt=Adam(lr=0.01)\n",
        "hand_label_model.compile(loss='categorical_crossentropy', optimizer=opt, metrics=['accuracy'])\n",
        "hand_label_model.summary()"
      ],
      "execution_count": null,
      "outputs": [
        {
          "output_type": "stream",
          "text": [
            "Model: \"model_1\"\n",
            "_________________________________________________________________\n",
            "Layer (type)                 Output Shape              Param #   \n",
            "=================================================================\n",
            "input_2 (InputLayer)         [(None, 34)]              0         \n",
            "_________________________________________________________________\n",
            "embedding_1 (Embedding)      (None, 34, 256)           885504    \n",
            "_________________________________________________________________\n",
            "gru_1 (GRU)                  (None, 32)                27840     \n",
            "_________________________________________________________________\n",
            "dropout_1 (Dropout)          (None, 32)                0         \n",
            "_________________________________________________________________\n",
            "dense_1 (Dense)              (None, 3)                 99        \n",
            "=================================================================\n",
            "Total params: 913,443\n",
            "Trainable params: 913,443\n",
            "Non-trainable params: 0\n",
            "_________________________________________________________________\n"
          ],
          "name": "stdout"
        }
      ]
    },
    {
      "cell_type": "code",
      "metadata": {
        "colab": {
          "base_uri": "https://localhost:8080/"
        },
        "id": "szEfgLOJYCwM",
        "outputId": "05cbb258-1953-464f-90a9-a540c8afe56f"
      },
      "source": [
        "hand_label_model.fit(x_train,label_train,\n",
        "          epochs=20,\n",
        "          callbacks = callbacks_list,\n",
        "          validation_data=(x_val, label_val))"
      ],
      "execution_count": null,
      "outputs": [
        {
          "output_type": "stream",
          "text": [
            "Epoch 1/20\n",
            "44/44 [==============================] - 7s 68ms/step - loss: 0.9890 - accuracy: 0.5005 - val_loss: 0.9195 - val_accuracy: 0.5662\n",
            "\n",
            "Epoch 00001: val_loss did not improve from 0.59178\n",
            "Epoch 2/20\n",
            "44/44 [==============================] - 2s 41ms/step - loss: 0.3438 - accuracy: 0.9024 - val_loss: 1.3328 - val_accuracy: 0.5466\n",
            "\n",
            "Epoch 00002: val_loss did not improve from 0.59178\n",
            "Epoch 3/20\n",
            "44/44 [==============================] - 2s 38ms/step - loss: 0.0820 - accuracy: 0.9818 - val_loss: 1.5952 - val_accuracy: 0.5466\n",
            "\n",
            "Epoch 00003: val_loss did not improve from 0.59178\n",
            "Epoch 4/20\n",
            "44/44 [==============================] - 2s 38ms/step - loss: 0.0267 - accuracy: 0.9955 - val_loss: 2.1184 - val_accuracy: 0.5531\n",
            "\n",
            "Epoch 00004: val_loss did not improve from 0.59178\n",
            "Epoch 5/20\n",
            "44/44 [==============================] - 2s 38ms/step - loss: 0.0335 - accuracy: 0.9894 - val_loss: 2.2112 - val_accuracy: 0.5423\n",
            "\n",
            "Epoch 00005: val_loss did not improve from 0.59178\n",
            "Epoch 6/20\n",
            "44/44 [==============================] - 2s 38ms/step - loss: 0.0094 - accuracy: 0.9975 - val_loss: 2.2712 - val_accuracy: 0.5423\n",
            "\n",
            "Epoch 00006: val_loss did not improve from 0.59178\n",
            "Epoch 7/20\n",
            "44/44 [==============================] - 2s 37ms/step - loss: 0.0197 - accuracy: 0.9931 - val_loss: 2.5180 - val_accuracy: 0.5445\n",
            "\n",
            "Epoch 00007: val_loss did not improve from 0.59178\n",
            "Epoch 8/20\n",
            "44/44 [==============================] - 2s 37ms/step - loss: 0.0150 - accuracy: 0.9951 - val_loss: 2.9529 - val_accuracy: 0.5076\n",
            "\n",
            "Epoch 00008: val_loss did not improve from 0.59178\n",
            "Epoch 9/20\n",
            "44/44 [==============================] - 2s 38ms/step - loss: 0.0169 - accuracy: 0.9940 - val_loss: 2.7209 - val_accuracy: 0.5510\n",
            "\n",
            "Epoch 00009: val_loss did not improve from 0.59178\n",
            "Epoch 10/20\n",
            "44/44 [==============================] - 2s 38ms/step - loss: 0.0169 - accuracy: 0.9917 - val_loss: 2.7914 - val_accuracy: 0.5358\n",
            "\n",
            "Epoch 00010: val_loss did not improve from 0.59178\n",
            "Epoch 11/20\n",
            "44/44 [==============================] - 2s 37ms/step - loss: 0.0157 - accuracy: 0.9960 - val_loss: 2.9012 - val_accuracy: 0.5315\n",
            "\n",
            "Epoch 00011: val_loss did not improve from 0.59178\n",
            "Epoch 12/20\n",
            "44/44 [==============================] - 2s 37ms/step - loss: 0.0382 - accuracy: 0.9936 - val_loss: 2.9419 - val_accuracy: 0.5401\n",
            "\n",
            "Epoch 00012: val_loss did not improve from 0.59178\n",
            "Epoch 13/20\n",
            "44/44 [==============================] - 2s 37ms/step - loss: 0.0183 - accuracy: 0.9964 - val_loss: 3.1695 - val_accuracy: 0.5293\n",
            "\n",
            "Epoch 00013: val_loss did not improve from 0.59178\n",
            "Epoch 14/20\n",
            "44/44 [==============================] - 2s 37ms/step - loss: 0.0079 - accuracy: 0.9989 - val_loss: 3.1388 - val_accuracy: 0.5488\n",
            "\n",
            "Epoch 00014: val_loss did not improve from 0.59178\n",
            "Epoch 15/20\n",
            "44/44 [==============================] - 2s 37ms/step - loss: 0.0182 - accuracy: 0.9955 - val_loss: 3.2930 - val_accuracy: 0.5445\n",
            "\n",
            "Epoch 00015: val_loss did not improve from 0.59178\n",
            "Epoch 16/20\n",
            "44/44 [==============================] - 2s 37ms/step - loss: 0.0030 - accuracy: 0.9995 - val_loss: 3.4850 - val_accuracy: 0.5336\n",
            "\n",
            "Epoch 00016: val_loss did not improve from 0.59178\n",
            "Epoch 17/20\n",
            "44/44 [==============================] - 2s 37ms/step - loss: 0.0038 - accuracy: 0.9993 - val_loss: 3.5925 - val_accuracy: 0.5358\n",
            "\n",
            "Epoch 00017: val_loss did not improve from 0.59178\n",
            "Epoch 18/20\n",
            "44/44 [==============================] - 2s 38ms/step - loss: 0.0084 - accuracy: 0.9979 - val_loss: 3.5675 - val_accuracy: 0.5401\n",
            "\n",
            "Epoch 00018: val_loss did not improve from 0.59178\n",
            "Epoch 19/20\n",
            "44/44 [==============================] - 2s 37ms/step - loss: 0.0063 - accuracy: 0.9962 - val_loss: 3.7694 - val_accuracy: 0.5249\n",
            "\n",
            "Epoch 00019: val_loss did not improve from 0.59178\n",
            "Epoch 20/20\n",
            "44/44 [==============================] - 2s 38ms/step - loss: 0.0230 - accuracy: 0.9929 - val_loss: 3.4651 - val_accuracy: 0.5315\n",
            "\n",
            "Epoch 00020: val_loss did not improve from 0.59178\n"
          ],
          "name": "stdout"
        },
        {
          "output_type": "execute_result",
          "data": {
            "text/plain": [
              "<tensorflow.python.keras.callbacks.History at 0x7f9a680f9cd0>"
            ]
          },
          "metadata": {
            "tags": []
          },
          "execution_count": 59
        }
      ]
    },
    {
      "cell_type": "code",
      "metadata": {
        "id": "tU7YFkUeeycF"
      },
      "source": [
        "label_pred = hand_label_model.predict(x_test)"
      ],
      "execution_count": null,
      "outputs": []
    },
    {
      "cell_type": "code",
      "metadata": {
        "id": "O447XAVse5To"
      },
      "source": [
        "recall = recall_m(label_test,label_pred)\n",
        "precision = precision_m(label_test,label_pred)\n",
        "f1_score = f1_m(label_test,label_pred)"
      ],
      "execution_count": null,
      "outputs": []
    },
    {
      "cell_type": "code",
      "metadata": {
        "colab": {
          "base_uri": "https://localhost:8080/"
        },
        "id": "KHEgmL_5fNvU",
        "outputId": "d888329e-c98f-4e93-8aca-eeb1e9cb93ac"
      },
      "source": [
        "print(recall)"
      ],
      "execution_count": null,
      "outputs": [
        {
          "output_type": "stream",
          "text": [
            "tf.Tensor(0.5965293, shape=(), dtype=float32)\n"
          ],
          "name": "stdout"
        }
      ]
    },
    {
      "cell_type": "code",
      "metadata": {
        "colab": {
          "base_uri": "https://localhost:8080/"
        },
        "id": "v8YrAqk6fPof",
        "outputId": "b3aded28-82ca-4e63-bb17-a949b1495ce5"
      },
      "source": [
        "print(f1_score)"
      ],
      "execution_count": null,
      "outputs": [
        {
          "output_type": "stream",
          "text": [
            "tf.Tensor(0.5991285, shape=(), dtype=float32)\n"
          ],
          "name": "stdout"
        }
      ]
    },
    {
      "cell_type": "code",
      "metadata": {
        "id": "EHlbTjXA7QFW"
      },
      "source": [
        "label_train = label[:int(len(indexed_sentence)*0.6)]\n",
        "label_val = label[int(len(indexed_sentence)*0.6):int(len(indexed_sentence)*0.8)]\n",
        "label_test = label[int(len(indexed_sentence)*0.8):]"
      ],
      "execution_count": null,
      "outputs": []
    },
    {
      "cell_type": "markdown",
      "metadata": {
        "id": "GOPzCEGQKjlS"
      },
      "source": [
        "# LDA 3 topics"
      ]
    },
    {
      "cell_type": "code",
      "metadata": {
        "id": "0qYq_pPMGC0K"
      },
      "source": [
        "#train LDA model\n",
        "lda_3_top = LdaModel(train_corpus,id2word=dictionary,iterations=100, num_topics=3,alpha=0.2,eta=0.7)"
      ],
      "execution_count": null,
      "outputs": []
    },
    {
      "cell_type": "code",
      "metadata": {
        "id": "XKgmp5M7yQoc"
      },
      "source": [
        "#print revelant words of topics\n",
        "lda_3_top.print_topics()"
      ],
      "execution_count": null,
      "outputs": []
    },
    {
      "cell_type": "code",
      "metadata": {
        "id": "2_rSVVmYybpw"
      },
      "source": [
        "pyLDAvis.enable_notebook()\n",
        "\n",
        "#visualize model output\n",
        "# feed the LDA model into the pyLDAvis instance\n",
        "lda_viz = gensimvis.prepare(lda_3_top, train_corpus, dictionary)"
      ],
      "execution_count": null,
      "outputs": []
    },
    {
      "cell_type": "code",
      "metadata": {
        "colab": {
          "base_uri": "https://localhost:8080/",
          "height": 881
        },
        "id": "KB0tFDR2DHMk",
        "outputId": "bd99e0a4-2f1e-4a81-fc94-aada38aaeb2f"
      },
      "source": [
        "lda_viz"
      ],
      "execution_count": null,
      "outputs": [
        {
          "output_type": "execute_result",
          "data": {
            "text/html": [
              "\n",
              "<link rel=\"stylesheet\" type=\"text/css\" href=\"https://cdn.jsdelivr.net/gh/bmabey/pyLDAvis@3.3.1/pyLDAvis/js/ldavis.v1.0.0.css\">\n",
              "\n",
              "\n",
              "<div id=\"ldavis_el10831398539396794407917055144\"></div>\n",
              "<script type=\"text/javascript\">\n",
              "\n",
              "var ldavis_el10831398539396794407917055144_data = {\"mdsDat\": {\"x\": [0.08554129013728487, -0.0035604891997738633, -0.08198080093751102], \"y\": [0.04170560727069845, -0.08909184858760968, 0.047386241316911194], \"topics\": [1, 2, 3], \"cluster\": [1, 1, 1], \"Freq\": [34.59581735336411, 34.2768393511632, 31.12734329547269]}, \"tinfo\": {\"Term\": [\"\\u0e1a\\u0e48\\u0e2d\\u0e22\", \"\\u0e02\\u0e32\\u0e14\", \"\\u0e41\\u0e2d\\u0e1a\", \"\\u0e17\\u0e33\\u0e23\\u0e49\\u0e32\\u0e22\", \"\\u0e2b\\u0e49\\u0e32\\u0e21\", \"\\u0e23\\u0e27\\u0e22\", \"\\u0e2a\\u0e2d\\u0e07\", \"\\u0e2d\\u0e22\\u0e32\\u0e01\\u0e44\\u0e14\\u0e49\", \"\\u0e17\\u0e33\\u0e44\\u0e14\\u0e49\", \"\\u0e41\\u0e04\\u0e23\\u0e4c\", \"\\u0e40\\u0e25\\u0e48\\u0e19\", \"\\u0e2d\\u0e14\\u0e35\\u0e15\", \"\\u0e2b\\u0e22\\u0e38\\u0e14\", \"\\u0e1b\\u0e31\\u0e08\\u0e08\\u0e38\\u0e1a\\u0e31\\u0e19\", \"\\u0e2d\\u0e14\\u0e17\\u0e19\", \"\\u0e2a\\u0e2d\\u0e19\", \"\\u0e21\\u0e35\\u0e04\\u0e48\\u0e32\", \"\\u0e41\\u0e17\\u0e19\", \"\\u0e17\\u0e38\\u0e01\\u0e27\\u0e31\\u0e19\", \"\\u0e2b\\u0e25\\u0e07\\u0e17\\u0e32\\u0e07\", \"\\u0e42\\u0e14\\u0e19\", \"\\u0e40\\u0e14\\u0e35\\u0e4b\\u0e22\\u0e27\", \"\\u0e2b\\u0e25\\u0e07\", \"\\u0e04\\u0e27\\u0e32\\u0e21\\u0e1d\\u0e31\\u0e19\", \"\\u0e19\\u0e49\\u0e2d\\u0e07\\u0e40\\u0e21\\u0e35\\u0e22\", \"\\u0e27\\u0e08\\u0e30\", \"\\u0e1a\\u0e19\", \"\\u0e15\\u0e19\\u0e40\\u0e2d\\u0e07\", \"\\u0e08\\u0e19\\u0e01\\u0e27\\u0e48\\u0e32\", \"\\u0e41\\u0e23\\u0e07\", \"\\u0e2b\\u0e0d\\u0e49\\u0e32\", \"\\u0e2a\\u0e2d\\u0e19\", \"\\u0e43\\u0e2b\\u0e49\\u0e01\\u0e33\\u0e25\\u0e31\\u0e07\\u0e43\\u0e08\", \"\\u0e25\\u0e31\\u0e01\", \"\\u0e04\\u0e27\\u0e32\\u0e21\\u0e21\\u0e31\\u0e48\\u0e19\\u0e43\\u0e08\", \"\\u0e2d\\u0e14\\u0e17\\u0e19\", \"\\u0e15\\u0e19\\u0e40\\u0e2d\\u0e07\", \"\\u0e01\\u0e14\\u0e1b\\u0e38\\u0e48\\u0e21\", \"\\u0e01\\u0e33\\u0e25\\u0e31\\u0e07\\u0e08\\u0e30\", \"\\u0e40\\u0e19\\u0e37\\u0e49\\u0e2d\\u0e04\\u0e39\\u0e48\", \"\\u0e1a\\u0e19\", \"\\u0e43\\u0e2b\\u0e0d\\u0e48\", \"\\u0e16\\u0e19\\u0e31\\u0e14\", \"\\u0e17\\u0e33\\u0e25\\u0e32\\u0e22\", \"\\u0e21\\u0e37\\u0e2d\", \"\\u0e43\\u0e2b\\u0e49\\u0e42\\u0e2d\\u0e01\\u0e32\\u0e2a\", \"\\u0e2a\\u0e2d\\u0e07\", \"\\u0e27\\u0e08\\u0e30\", \"\\u0e2b\\u0e19\\u0e35\", \"\\u0e04\\u0e27\\u0e32\\u0e21\\u0e1d\\u0e31\\u0e19\", \"\\u0e17\\u0e33\\u0e44\\u0e14\\u0e49\", \"\\u0e17\\u0e35\\u0e48\\u0e2d\\u0e22\\u0e39\\u0e48\", \"\\u0e15\\u0e01\", \"\\u0e15\\u0e25\\u0e2d\\u0e14\\u0e44\\u0e1b\", \"\\u0e1e\\u0e32\", \"\\u0e40\\u0e01\\u0e48\\u0e07\", \"\\u0e17\\u0e33\\u0e14\\u0e35\", \"\\u0e42\\u0e2d\\u0e01\\u0e32\\u0e2a\", \"\\u0e14\\u0e2d\\u0e01\", \"\\u0e40\\u0e25\\u0e35\\u0e49\\u0e22\\u0e07\", \"\\u0e19\\u0e49\\u0e2d\\u0e07\\u0e40\\u0e21\\u0e35\\u0e22\", \"\\u0e21\\u0e35\\u0e04\\u0e48\\u0e32\", \"\\u0e40\\u0e25\\u0e48\\u0e19\", \"\\u0e21\\u0e31\\u0e27\\u0e41\\u0e15\\u0e48\", \"\\u0e40\\u0e14\\u0e35\\u0e4b\\u0e22\\u0e27\", \"\\u0e40\\u0e23\\u0e37\\u0e48\\u0e2d\\u0e22\", \"\\u0e2a\\u0e33\\u0e2b\\u0e23\\u0e31\\u0e1a\", \"\\u0e1b\\u0e31\\u0e08\\u0e08\\u0e38\\u0e1a\\u0e31\\u0e19\", \"\\u0e2d\\u0e14\\u0e35\\u0e15\", \"\\u0e40\\u0e25\\u0e34\\u0e01\", \"\\u0e40\\u0e2b\\u0e19\\u0e37\\u0e48\\u0e2d\\u0e22\", \"\\u0e2d\\u0e19\\u0e32\\u0e04\\u0e15\", \"\\u0e2b\\u0e19\\u0e39\", \"\\u0e08\\u0e33\", \"\\u0e01\\u0e25\\u0e31\\u0e1a\", \"\\u0e04\\u0e23\\u0e31\\u0e49\\u0e07\", \"\\u0e43\\u0e2a\\u0e48\\u0e43\\u0e08\", \"\\u0e44\\u0e01\\u0e25\", \"\\u0e43\\u0e2a\\u0e48\", \"\\u0e04\\u0e32\\u0e14\\u0e2b\\u0e27\\u0e31\\u0e07\", \"\\u0e1a\\u0e48\\u0e2d\\u0e22\", \"\\u0e27\\u0e32\\u0e07\", \"\\u0e2d\\u0e32\", \"\\u0e23\\u0e27\\u0e22\", \"\\u0e40\\u0e02\\u0e35\\u0e22\\u0e27\", \"\\u0e2b\\u0e32\\u0e40\\u0e07\\u0e34\\u0e19\", \"\\u0e04\\u0e27\\u0e32\\u0e21\\u0e40\\u0e2b\\u0e47\\u0e19\\u0e2d\\u0e01\\u0e40\\u0e2b\\u0e47\\u0e19\\u0e43\\u0e08\", \"\\u0e1d\\u0e36\\u0e01\", \"\\u0e01\\u0e23\\u0e30\\u0e08\\u0e32\\u0e22\", \"\\u0e08\\u0e19\\u0e01\\u0e27\\u0e48\\u0e32\", \"\\u0e41\\u0e17\\u0e19\", \"\\u0e40\\u0e1b\\u0e23\\u0e35\\u0e22\\u0e1a\\u0e40\\u0e17\\u0e35\\u0e22\\u0e1a\", \"\\u0e1e\\u0e23\\u0e38\\u0e48\\u0e07\\u0e19\\u0e35\\u0e49\", \"\\u0e2a\\u0e35\", \"\\u0e02\\u0e32\\u0e22\", \"\\u0e0b\\u0e30\", \"\\u0e15\\u0e31\\u0e27\\u0e15\\u0e19\", \"\\u0e17\\u0e31\\u0e49\\u0e07\\u0e2b\\u0e21\\u0e14\", \"\\u0e19\\u0e36\\u0e01\", \"\\u0e17\\u0e49\\u0e2d\\u0e07\", \"\\u0e42\\u0e14\\u0e19\", \"\\u0e14\\u0e49\\u0e27\\u0e22\\u0e01\\u0e31\\u0e19\", \"\\u0e2b\\u0e22\\u0e2d\\u0e14\", \"\\u0e40\\u0e1b\\u0e47\\u0e19\\u0e2b\\u0e48\\u0e27\\u0e07\", \"\\u0e17\\u0e49\\u0e2d\\u0e41\\u0e17\\u0e49\", \"\\u0e07\\u0e49\\u0e2d\", \"\\u0e2b\\u0e25\\u0e07\\u0e43\\u0e2b\\u0e25\", \"\\u0e27\\u0e38\\u0e48\\u0e19\\u0e27\\u0e32\\u0e22\", \"\\u0e40\\u0e1a\\u0e32\", \"\\u0e17\\u0e35\\u0e48\\u0e44\\u0e2b\\u0e19\\u0e44\\u0e14\\u0e49\", \"\\u0e02\\u0e31\\u0e1a\\u0e23\\u0e16\", \"\\u0e15\\u0e34\\u0e14\", \"\\u0e17\\u0e38\\u0e01\\u0e27\\u0e31\\u0e19\", \"\\u0e1c\\u0e48\\u0e32\\u0e19\", \"\\u0e2b\\u0e19\\u0e48\\u0e2d\\u0e22\", \"\\u0e2b\\u0e25\\u0e07\", \"\\u0e2a\\u0e34\", \"\\u0e40\\u0e2a\\u0e37\\u0e2d\\u0e01\", \"\\u0e2b\\u0e22\\u0e38\\u0e14\", \"\\u0e40\\u0e02\\u0e49\\u0e32\\u0e21\\u0e32\", \"\\u0e22\\u0e2d\\u0e14\\u0e40\\u0e22\\u0e35\\u0e48\\u0e22\\u0e21\", \"\\u0e15\\u0e32\\u0e22\", \"\\u0e15\\u0e32\\u0e21\", \"\\u0e17\\u0e31\\u0e49\\u0e07\", \"\\u0e1b\\u0e31\\u0e0d\\u0e2b\\u0e32\", \"\\u0e2b\\u0e19\\u0e32\\u0e27\", \"\\u0e19\\u0e36\\u0e07\", \"\\u0e25\\u0e07\", \"\\u0e1a\\u0e49\\u0e32\\u0e19\", \"\\u0e41\\u0e1e\\u0e49\", \"\\u0e01\\u0e14\", \"\\u0e1b\\u0e23\\u0e30\\u0e2a\\u0e1a\\u0e04\\u0e27\\u0e32\\u0e21\\u0e2a\\u0e33\\u0e40\\u0e23\\u0e47\\u0e08\", \"\\u0e23\\u0e30\\u0e27\\u0e31\\u0e07\", \"\\u0e44\\u0e07\", \"\\u0e19\\u0e31\\u0e48\\u0e07\", \"\\u0e19\\u0e49\\u0e2d\\u0e22\", \"\\u0e02\\u0e32\\u0e14\", \"\\u0e41\\u0e2d\\u0e1a\", \"\\u0e2b\\u0e49\\u0e32\\u0e21\", \"\\u0e2b\\u0e48\\u0e27\\u0e07\", \"\\u0e17\\u0e33\\u0e23\\u0e49\\u0e32\\u0e22\", \"\\u0e2b\\u0e48\\u0e27\\u0e07\\u0e43\\u0e22\", \"\\u0e2b\\u0e25\\u0e07\\u0e17\\u0e32\\u0e07\", \"\\u0e40\\u0e19\\u0e47\\u0e15\", \"\\u0e23\\u0e32\", \"\\u0e40\\u0e25\\u0e27\", \"\\u0e44\\u0e2d\", \"\\u0e2a\\u0e32\\u0e22\\u0e15\\u0e32\", \"\\u0e2b\\u0e27\\u0e07\", \"\\u0e08\\u0e48\\u0e32\\u0e22\", \"\\u0e42\\u0e2d\\u0e40\\u0e04\", \"\\u0e2d\\u0e01\\u0e2b\\u0e31\\u0e01\", \"\\u0e41\\u0e2a\\u0e19\", \"\\u0e41\\u0e04\\u0e23\\u0e4c\", \"\\u0e40\\u0e17\\u0e04\\u0e41\\u0e04\\u0e23\\u0e4c\", \"\\u0e23\\u0e2d\\u0e1a\", \"\\u0e2d\\u0e22\\u0e32\\u0e01\\u0e44\\u0e14\\u0e49\", \"\\u0e0a\\u0e19\\u0e30\", \"\\u0e17\\u0e48\\u0e32\", \"\\u0e19\\u0e48\\u0e32\", \"\\u0e04\\u0e39\\u0e48\", \"\\u0e22\\u0e39\", \"\\u0e41\\u0e0b\\u0e07\", \"\\u0e27\\u0e48\\u0e32\\u0e41\\u0e15\\u0e48\", \"\\u0e40\\u0e08\\u0e2d\\u0e01\\u0e31\\u0e19\", \"\\u0e23\\u0e39\\u0e1b\", \"\\u0e40\\u0e2a\\u0e35\\u0e22\\u0e40\\u0e27\\u0e25\\u0e32\", \"\\u0e41\\u0e1b\\u0e25\", \"\\u0e22\\u0e37\\u0e19\", \"\\u0e41\\u0e23\\u0e07\", \"\\u0e1b\\u0e25\\u0e48\\u0e2d\\u0e22\", \"\\u0e01\\u0e32\\u0e23\\u0e25\\u0e07\\u0e17\\u0e38\\u0e19\", \"\\u0e2b\\u0e27\\u0e31\\u0e07\", \"\\u0e2a\\u0e23\\u0e49\\u0e32\\u0e07\", \"\\u0e25\\u0e30\\u0e40\\u0e25\\u0e22\", \"\\u0e40\\u0e02\\u0e49\\u0e32\\u0e43\\u0e08\", \"\\u0e40\\u0e23\\u0e34\\u0e48\\u0e21\\u0e15\\u0e49\\u0e19\", \"\\u0e40\\u0e23\\u0e34\\u0e48\\u0e21\", \"\\u0e40\\u0e2b\\u0e19\\u0e37\\u0e48\\u0e2d\\u0e22\", \"\\u0e23\\u0e39\\u0e49\\u0e08\\u0e31\\u0e01\", \"\\u0e40\\u0e04\\u0e49\\u0e32\", \"\\u0e15\\u0e48\\u0e2d\", \"\\u0e2a\\u0e31\\u0e01\", \"\\u0e01\\u0e33\\u0e25\\u0e31\\u0e07\", \"\\u0e40\\u0e1e\\u0e37\\u0e48\\u0e2d\\u0e19\", \"\\u0e43\\u0e14\", \"\\u0e40\\u0e1e\\u0e35\\u0e22\\u0e07\", \"\\u0e2b\\u0e22\\u0e38\\u0e14\"], \"Freq\": [22.0, 16.0, 17.0, 15.0, 14.0, 16.0, 16.0, 15.0, 16.0, 14.0, 17.0, 22.0, 27.0, 24.0, 12.0, 12.0, 16.0, 12.0, 17.0, 10.0, 14.0, 21.0, 21.0, 13.0, 14.0, 12.0, 12.0, 11.0, 11.0, 15.0, 7.5771634827721766, 11.046221739350353, 7.164624040586843, 7.162771838591679, 7.162399025747273, 11.346221693338249, 10.416478992108223, 6.929037673093145, 6.9238208351772155, 7.779344972105162, 10.829197214998487, 7.750949342890197, 7.369914280661024, 9.993964264429266, 8.068552841549417, 7.152495760916774, 14.842750325435727, 11.25075957532037, 10.299544548856387, 11.333318979714118, 14.005259315252092, 5.497521504416288, 7.576896582667659, 7.979591223854912, 5.218940071990488, 8.14263583754444, 7.975721595990359, 9.935172526168332, 4.308689127758512, 4.308491282760401, 11.997788396110765, 13.401458410867196, 14.274885190043912, 9.656334784912001, 16.241067933969173, 12.964438721635084, 10.718361650960368, 16.746190362251266, 15.492561418631858, 10.490657733220104, 23.82967507646078, 14.933440439045206, 14.136660591470726, 10.922022529444112, 11.283432384622976, 9.621337826445291, 10.564184051854275, 11.244428535380818, 10.345886880019913, 10.476391710808134, 21.063986557339554, 7.456998813532914, 7.246712524224448, 14.88474812751061, 7.0132160241444215, 7.011556353039989, 7.010668592699605, 7.010668592699605, 7.004835818378106, 10.127661467471341, 11.161481259941894, 7.452324534974753, 8.17492535399059, 9.864272418738475, 7.424513081247503, 4.77213661134161, 9.992967866210327, 7.658082616930001, 7.435486890391232, 4.356820077633558, 12.503368581595009, 5.390551723687334, 7.44495381555294, 4.150647287774624, 4.150338355571067, 4.150020188980991, 4.1498350815057625, 4.479949708503288, 3.9425663378649163, 3.9422221470946495, 6.81355977295426, 9.730349469006985, 14.026807300177403, 12.3982266961753, 8.777157623705984, 15.691625315860827, 9.863469866600974, 5.393109229008354, 18.515618242035696, 12.110271660831895, 8.698864297346462, 11.54119083872099, 10.73859001081892, 8.457592443817138, 9.927457449262645, 8.276268548592109, 10.626343524207092, 9.798227246862355, 9.981021928013014, 8.047553781749741, 8.244504777434573, 8.48706524762819, 8.312139103281705, 8.26561878246624, 8.386130884502574, 8.31423782749065, 15.579035176229013, 15.84211589782286, 13.12161011715423, 6.939891654706568, 13.675050109068549, 6.7570242901055675, 9.341111407107068, 6.187002718791595, 6.18582602548324, 6.184063081994046, 6.93832349264937, 6.754519195054545, 6.569260326139772, 6.5683752332139544, 6.383581019026387, 6.510158836842595, 6.935725390417512, 11.865656394233337, 6.414323322885185, 6.248903190584155, 13.188637800378821, 7.304183247897739, 6.356168296006098, 6.792131451455123, 8.93469747159875, 4.025034028488634, 6.935516505437604, 5.9565053858247206, 3.9824439820285145, 7.931187345729122, 6.394469339192616, 6.9323283412552, 8.201922863247288, 10.77785203072323, 9.805487112770363, 8.312909399433556, 9.807190211475167, 10.669552029826008, 7.462182626934419, 7.116075462304429, 7.115570783995307, 8.11971976246772, 12.757423728806955, 7.864323568601904, 7.980914168610467, 8.389179861842138, 8.282112587267957, 7.258493089135434, 7.4044884430128315, 7.293495807995035, 7.560533908898029, 7.585468981609181], \"Total\": [22.0, 16.0, 17.0, 15.0, 14.0, 16.0, 16.0, 15.0, 16.0, 14.0, 17.0, 22.0, 27.0, 24.0, 12.0, 12.0, 16.0, 12.0, 17.0, 10.0, 14.0, 21.0, 21.0, 13.0, 14.0, 12.0, 12.0, 11.0, 11.0, 15.0, 8.390121369248474, 12.254867720138284, 7.977846728393851, 7.977588281378377, 7.977490673033715, 12.653024776664477, 11.635466942713984, 7.75839025427067, 7.7578682723265855, 8.802565653430392, 12.256372554238157, 8.778518959151356, 8.391881224365182, 11.38211365553284, 9.199897255382329, 8.159345793616017, 16.934700043883606, 12.850287303702796, 11.798244471491367, 13.006779955811323, 16.073532673758603, 6.347315443110289, 8.76414992815824, 9.39784678517149, 6.147812676489332, 9.614755121479806, 9.422628865985004, 11.763253349543024, 5.120914759361753, 5.120861845419523, 14.32625644118841, 16.13062653229961, 17.83244394416177, 11.786170441917404, 21.15491521141617, 16.552880648464082, 13.516811319150841, 24.188539139337543, 22.014776498309104, 13.530630667472417, 41.89400419662822, 22.87649350623411, 21.53022463379106, 15.547444922033634, 16.911717214195875, 13.130865656490945, 16.646571335342674, 19.85504961225491, 16.9738251482926, 18.250494159958173, 22.12078006223555, 8.264063048109726, 8.05481556274892, 16.621420880097876, 7.832777601989318, 7.832565803330406, 7.83243336602573, 7.83243336602573, 7.831737577844036, 11.323436279659655, 12.578334560669932, 8.446359779819826, 9.271775377671629, 11.350502885699639, 8.648404147958132, 5.580347452019688, 11.764527456333774, 9.042223056211377, 8.810016695432015, 5.16506068033601, 14.828749075356761, 6.407678620929421, 8.878528087347162, 4.957596916599188, 4.9575055131704255, 4.957530526731559, 4.957515669845625, 5.362528814258151, 4.749314201006125, 4.749318424563655, 8.214642197386423, 11.937267108315643, 17.662065110467683, 16.035006861577678, 11.083936357467087, 21.165308478251777, 12.78010963134176, 6.590406520000036, 27.554878536124043, 17.10202320396087, 11.543955225497061, 17.218691253325503, 16.059383502677438, 11.195543067142362, 16.444942890652488, 11.238482870572607, 20.102519008173548, 18.42410873050374, 21.18143796157864, 11.257750463761937, 12.347932525462316, 14.723410862343677, 15.84924092175591, 15.388764772959878, 17.801052629609874, 20.352015427840207, 16.96880595116752, 17.35257593597082, 14.616089288879294, 7.799410320223708, 15.373988128376588, 7.616261472955385, 10.575124692581792, 7.055414517728337, 7.0554520723474905, 7.055492537843715, 8.004529109172164, 7.823887604890596, 7.638288380150012, 7.6408252127042156, 7.456743552290181, 7.645266986620642, 8.212254705958284, 14.152405858801515, 7.6573297498686195, 7.471365470336506, 15.848809887304245, 8.78536586498601, 7.666179637882386, 8.228795339577722, 10.837754521229279, 4.883687389749281, 8.419347709854863, 7.304621153490819, 4.888669549015319, 9.740985767916895, 7.871059547202745, 8.622800552864014, 10.736309730917679, 15.557928494948344, 15.432960148539305, 12.16161929363522, 16.500432614983023, 20.69985388243076, 10.381067752821423, 9.432768959238057, 9.432812705763293, 12.597192937655974, 41.89400419662822, 12.846591616894688, 14.44368500938742, 19.910278008558173, 20.357640920954438, 11.892196371829565, 13.891924311896705, 13.333532285138652, 21.294338034740928, 27.554878536124043], \"Category\": [\"Default\", \"Default\", \"Default\", \"Default\", \"Default\", \"Default\", \"Default\", \"Default\", \"Default\", \"Default\", \"Default\", \"Default\", \"Default\", \"Default\", \"Default\", \"Default\", \"Default\", \"Default\", \"Default\", \"Default\", \"Default\", \"Default\", \"Default\", \"Default\", \"Default\", \"Default\", \"Default\", \"Default\", \"Default\", \"Default\", \"Topic1\", \"Topic1\", \"Topic1\", \"Topic1\", \"Topic1\", \"Topic1\", \"Topic1\", \"Topic1\", \"Topic1\", \"Topic1\", \"Topic1\", \"Topic1\", \"Topic1\", \"Topic1\", \"Topic1\", \"Topic1\", \"Topic1\", \"Topic1\", \"Topic1\", \"Topic1\", \"Topic1\", \"Topic1\", \"Topic1\", \"Topic1\", \"Topic1\", \"Topic1\", \"Topic1\", \"Topic1\", \"Topic1\", \"Topic1\", \"Topic1\", \"Topic1\", \"Topic1\", \"Topic1\", \"Topic1\", \"Topic1\", \"Topic1\", \"Topic1\", \"Topic1\", \"Topic1\", \"Topic1\", \"Topic1\", \"Topic1\", \"Topic1\", \"Topic1\", \"Topic1\", \"Topic1\", \"Topic1\", \"Topic1\", \"Topic1\", \"Topic2\", \"Topic2\", \"Topic2\", \"Topic2\", \"Topic2\", \"Topic2\", \"Topic2\", \"Topic2\", \"Topic2\", \"Topic2\", \"Topic2\", \"Topic2\", \"Topic2\", \"Topic2\", \"Topic2\", \"Topic2\", \"Topic2\", \"Topic2\", \"Topic2\", \"Topic2\", \"Topic2\", \"Topic2\", \"Topic2\", \"Topic2\", \"Topic2\", \"Topic2\", \"Topic2\", \"Topic2\", \"Topic2\", \"Topic2\", \"Topic2\", \"Topic2\", \"Topic2\", \"Topic2\", \"Topic2\", \"Topic2\", \"Topic2\", \"Topic2\", \"Topic2\", \"Topic2\", \"Topic2\", \"Topic2\", \"Topic2\", \"Topic2\", \"Topic2\", \"Topic2\", \"Topic2\", \"Topic2\", \"Topic2\", \"Topic2\", \"Topic2\", \"Topic2\", \"Topic2\", \"Topic2\", \"Topic2\", \"Topic2\", \"Topic3\", \"Topic3\", \"Topic3\", \"Topic3\", \"Topic3\", \"Topic3\", \"Topic3\", \"Topic3\", \"Topic3\", \"Topic3\", \"Topic3\", \"Topic3\", \"Topic3\", \"Topic3\", \"Topic3\", \"Topic3\", \"Topic3\", \"Topic3\", \"Topic3\", \"Topic3\", \"Topic3\", \"Topic3\", \"Topic3\", \"Topic3\", \"Topic3\", \"Topic3\", \"Topic3\", \"Topic3\", \"Topic3\", \"Topic3\", \"Topic3\", \"Topic3\", \"Topic3\", \"Topic3\", \"Topic3\", \"Topic3\", \"Topic3\", \"Topic3\", \"Topic3\", \"Topic3\", \"Topic3\", \"Topic3\", \"Topic3\", \"Topic3\", \"Topic3\", \"Topic3\", \"Topic3\", \"Topic3\", \"Topic3\", \"Topic3\", \"Topic3\", \"Topic3\"], \"logprob\": [30.0, 29.0, 28.0, 27.0, 26.0, 25.0, 24.0, 23.0, 22.0, 21.0, 20.0, 19.0, 18.0, 17.0, 16.0, 15.0, 14.0, 13.0, 12.0, 11.0, 10.0, 9.0, 8.0, 7.0, 6.0, 5.0, 4.0, 3.0, 2.0, 1.0, -6.1744, -5.7974, -6.2303, -6.2306, -6.2307, -5.7706, -5.8561, -6.2638, -6.2645, -6.148, -5.8173, -6.1517, -6.2021, -5.8975, -6.1115, -6.232, -5.502, -5.7791, -5.8674, -5.7718, -5.5601, -6.4952, -6.1744, -6.1226, -6.5472, -6.1024, -6.1231, -5.9034, -6.7389, -6.7389, -5.7148, -5.6041, -5.541, -5.9319, -5.412, -5.6373, -5.8275, -5.3813, -5.4591, -5.849, -5.0286, -5.4959, -5.5507, -5.8087, -5.7762, -5.9355, -5.842, -5.7796, -5.8629, -5.8504, -5.1427, -6.1811, -6.2097, -5.4899, -6.2424, -6.2427, -6.2428, -6.2428, -6.2436, -5.875, -5.7778, -6.1817, -6.0892, -5.9013, -6.1855, -6.6274, -5.8884, -6.1545, -6.184, -6.7185, -5.6642, -6.5056, -6.1827, -6.767, -6.767, -6.7671, -6.7672, -6.6906, -6.8184, -6.8185, -6.2713, -5.915, -5.5493, -5.6727, -6.0181, -5.4371, -5.9014, -6.5051, -5.2716, -5.6962, -6.027, -5.7443, -5.8164, -6.0552, -5.8949, -6.0768, -5.8269, -5.908, -5.8896, -6.1049, -6.0807, -6.0517, -6.0725, -6.0781, -6.0637, -6.0723, -5.3479, -5.3312, -5.5196, -6.1566, -5.4783, -6.1833, -5.8594, -6.2714, -6.2716, -6.2719, -6.1568, -6.1836, -6.2115, -6.2116, -6.2401, -6.2205, -6.1572, -5.6202, -6.2353, -6.2614, -5.5145, -6.1054, -6.2444, -6.1781, -5.9039, -6.7013, -6.1572, -6.3094, -6.712, -6.0231, -6.2384, -6.1577, -5.9895, -5.7164, -5.8109, -5.976, -5.8107, -5.7265, -6.084, -6.1315, -6.1316, -5.9996, -5.5477, -6.0315, -6.0168, -5.9669, -5.9798, -6.1117, -6.0918, -6.1069, -6.0709, -6.0676], \"loglift\": [30.0, 29.0, 28.0, 27.0, 26.0, 25.0, 24.0, 23.0, 22.0, 21.0, 20.0, 19.0, 18.0, 17.0, 16.0, 15.0, 14.0, 13.0, 12.0, 11.0, 10.0, 9.0, 8.0, 7.0, 6.0, 5.0, 4.0, 3.0, 2.0, 1.0, 0.9595, 0.9576, 0.9539, 0.9537, 0.9537, 0.9524, 0.9508, 0.9484, 0.9477, 0.9379, 0.9376, 0.9369, 0.9316, 0.9314, 0.9302, 0.9297, 0.9296, 0.9285, 0.9256, 0.9237, 0.9237, 0.9177, 0.9159, 0.8978, 0.8976, 0.8953, 0.8947, 0.8925, 0.8887, 0.8887, 0.8841, 0.8761, 0.8389, 0.8621, 0.7971, 0.8171, 0.8295, 0.6937, 0.7101, 0.807, 0.4972, 0.6349, 0.6408, 0.7083, 0.6568, 0.7505, 0.6067, 0.4929, 0.5664, 0.5064, 1.0217, 0.9679, 0.965, 0.9603, 0.9602, 0.96, 0.9599, 0.9599, 0.9591, 0.9591, 0.9512, 0.9455, 0.9448, 0.9304, 0.9181, 0.9142, 0.9075, 0.9046, 0.9011, 0.9005, 0.9001, 0.8979, 0.8946, 0.893, 0.893, 0.8929, 0.8929, 0.8909, 0.8845, 0.8844, 0.8837, 0.8663, 0.8403, 0.8135, 0.8374, 0.7715, 0.8116, 0.8702, 0.6731, 0.7256, 0.7877, 0.6706, 0.6683, 0.7902, 0.566, 0.7647, 0.4332, 0.4392, 0.3183, 0.735, 0.6668, 0.5198, 0.4253, 0.4492, 0.318, 0.1755, 1.0816, 1.076, 1.0592, 1.0503, 1.05, 1.0474, 1.043, 1.0357, 1.0355, 1.0353, 1.0241, 1.0201, 1.0163, 1.0158, 1.0117, 1.0064, 0.9981, 0.9908, 0.99, 0.9884, 0.9833, 0.9824, 0.9797, 0.9752, 0.974, 0.9737, 0.9732, 0.9631, 0.9621, 0.9615, 0.9593, 0.9489, 0.8978, 0.8, 0.7135, 0.7866, 0.6468, 0.5044, 0.8369, 0.8853, 0.8852, 0.7279, -0.0219, 0.6763, 0.5739, 0.3028, 0.2677, 0.6734, 0.5379, 0.5638, 0.1316, -0.1229]}, \"token.table\": {\"Topic\": [1, 2, 3, 1, 2, 1, 2, 3, 1, 2, 3, 2, 3, 1, 1, 2, 3, 1, 3, 1, 2, 3, 1, 2, 3, 1, 2, 3, 1, 2, 1, 2, 3, 2, 3, 2, 1, 2, 3, 1, 2, 3, 2, 3, 1, 2, 3, 2, 1, 1, 2, 1, 2, 3, 1, 2, 3, 1, 2, 3, 1, 2, 1, 2, 3, 1, 2, 3, 1, 2, 3, 1, 2, 3, 1, 2, 1, 2, 3, 1, 2, 3, 1, 2, 1, 2, 3, 1, 3, 1, 2, 3, 1, 2, 1, 2, 3, 1, 2, 3, 2, 2, 1, 2, 3, 2, 3, 1, 2, 3, 1, 2, 3, 1, 3, 1, 2, 3, 1, 2, 3, 1, 2, 1, 2, 3, 1, 2, 3, 1, 2, 3, 1, 2, 3, 1, 2, 3, 1, 2, 3, 2, 1, 2, 3, 1, 2, 1, 2, 3, 1, 2, 3, 1, 2, 1, 2, 1, 2, 3, 3, 2, 3, 1, 3, 1, 2, 3, 3, 2, 3, 1, 2, 3, 1, 2, 3, 1, 3, 1, 1, 2, 3, 2, 2, 2, 3, 1, 2, 3, 1, 2, 3, 1, 2, 3, 1, 2, 3, 2, 3, 1, 2, 1, 2, 1, 2, 1, 1, 2, 3, 1, 2, 3, 1, 2, 3, 1, 2, 3, 1, 2, 1, 2, 3, 1, 2, 3, 2, 3, 2, 1, 3, 1, 2, 3, 2, 3, 3, 1, 2, 3, 1, 3, 1, 2, 3, 1, 2, 3, 1, 2, 3, 1, 2, 3, 2, 1, 2, 3, 2, 1, 2, 3, 1, 2, 3, 1, 2, 3, 3, 1, 2, 3, 1, 3, 1, 2, 3, 2, 2, 3, 2, 1, 2, 3, 1, 2, 3, 1, 2, 3, 1, 2, 3, 1, 2, 3, 3, 1, 2, 1, 1, 2, 2, 3, 1, 2, 3, 1, 2, 3, 1, 2, 3, 1, 2, 3, 1, 2, 3, 1, 2, 3, 1, 2, 3, 2, 3, 1, 2, 3, 1, 2, 3, 1, 2, 3, 1, 2, 3, 2, 3, 1, 2, 3, 1, 2, 3, 1, 2, 3, 1, 3, 1, 1, 3, 1, 2, 3, 1, 2, 3, 1, 3], \"Freq\": [0.3239408695951096, 0.6478817391902192, 0.0809852173987774, 0.9022490195239653, 0.8937991001898455, 0.6504366091674288, 0.059130600833402616, 0.23652240333361046, 0.08222589244537114, 0.2466776773361134, 0.6578071395629691, 0.3363550243313563, 0.5886212925798735, 0.9023097266255462, 0.12173384743624753, 0.8521369320537328, 0.12173384743624753, 0.058931665721075444, 0.9429066515372071, 0.11562826885652629, 0.809397881995684, 0.11562826885652629, 0.7615644133147251, 0.15231288266294504, 0.15231288266294504, 0.8457127772877628, 0.07688297975343299, 0.07688297975343299, 0.877468904308729, 0.8937197002356221, 0.5479303690274937, 0.3835512583192456, 0.05479303690274937, 0.09227003601541017, 0.8304303241386916, 0.806853327161891, 0.08831241465069266, 0.8831241465069265, 0.08831241465069266, 0.707511752262968, 0.06431925020572436, 0.25727700082289745, 0.13087591616901853, 0.9161314131831296, 0.11382565226856291, 0.11382565226856291, 0.7967795658799404, 0.8960015559945745, 0.781110443732233, 0.15606275831838642, 0.7803137915919321, 0.9128095782908607, 0.11410119728635759, 0.11410119728635759, 0.8594412282063079, 0.08594412282063078, 0.08594412282063078, 0.8512588237364009, 0.10640735296705012, 0.10640735296705012, 0.08500128914753997, 0.8500128914753997, 0.06226889094673397, 0.6849578004140737, 0.24907556378693588, 0.058076423189646696, 0.6969170782757604, 0.2903821159482335, 0.08377126782254776, 0.8377126782254777, 0.08377126782254776, 0.5022531576757306, 0.10045063153514612, 0.4018025261405845, 0.8341395466461129, 0.11916279237801614, 0.0893212588261918, 0.7145700706095344, 0.1786425176523836, 0.11059227291601369, 0.8847381833281095, 0.11059227291601369, 0.849019961815477, 0.10612749522693463, 0.06504493119480473, 0.06504493119480473, 0.9106290367272663, 0.8785714413543045, 0.08785714413543046, 0.8709970784988779, 0.062214077035634134, 0.062214077035634134, 0.7877346013151535, 0.8422261138170581, 0.05661852075312163, 0.7926592905437029, 0.16985556225936488, 0.1304430690690452, 0.1304430690690452, 0.7826584144142712, 0.7744342704875603, 0.80685739821637, 0.4494116256188681, 0.4494116256188681, 0.05617645320235851, 0.7945501401409935, 0.11350716287728478, 0.2487250477398894, 0.5471951050277567, 0.1989800381919115, 0.12152447092593714, 0.12152447092593714, 0.85067129648156, 0.8376228674435595, 0.13960381124059326, 0.39308146303075864, 0.39308146303075864, 0.19654073151537932, 0.8974923005417527, 0.08159020914015933, 0.08159020914015933, 0.0452063623971016, 0.9493336103391337, 0.18884459153602629, 0.47211147884006577, 0.330478035188046, 0.20375713399893938, 0.543352357330505, 0.20375713399893938, 0.323981916098788, 0.0647963832197576, 0.647963832197576, 0.7028121831612847, 0.04134189312713439, 0.28939325188994075, 0.06080896763517571, 0.608089676351757, 0.36485380581105425, 0.18709065894997884, 0.7483626357999154, 0.062363552983326284, 0.8937197002356221, 0.10785420906638968, 0.8628336725311174, 0.10785420906638968, 0.8132973893497382, 0.16265947786994764, 0.8484520098602252, 0.08484520098602252, 0.08484520098602252, 0.8059203388020353, 0.12398774443108235, 0.061993872215541174, 0.8695749287112594, 0.10869686608890743, 0.17325084522006917, 0.7796288034903113, 0.0931418732379031, 0.1862837464758062, 0.7451349859032248, 0.8190532441523355, 0.9024499233973836, 0.06016332822649224, 0.1338443426399486, 0.8030660558396916, 0.252378017328848, 0.504756034657696, 0.252378017328848, 0.8504061736193864, 0.10265901458285874, 0.8212721166628699, 0.07784165869216933, 0.3113666347686773, 0.6227332695373546, 0.3256602578591031, 0.5427670964318384, 0.16283012892955154, 0.19265840929093533, 0.6743044325182737, 0.8774581681959815, 0.8560119894619291, 0.07781927176926628, 0.07781927176926628, 0.8470409723702603, 0.7459167378951151, 0.13689963914447612, 0.8213978348668567, 0.19323807900861786, 0.2898571185129268, 0.5314047172736991, 0.885755281234971, 0.059050352082331406, 0.059050352082331406, 0.8976025079343636, 0.08160022799403305, 0.08160022799403305, 0.3929728415518654, 0.1964864207759327, 0.3929728415518654, 0.12781369703916948, 0.8946958792741864, 0.8138014018450505, 0.1479638912445546, 0.15649318023808093, 0.7824659011904046, 0.08810182333506016, 0.8810182333506015, 0.9535022972756568, 0.1779599633716485, 0.711839853486594, 0.08897998168582424, 0.8475837252028006, 0.08475837252028005, 0.08475837252028005, 0.6502486731154401, 0.32512433655772005, 0.04644633379396001, 0.09022065516699891, 0.8119858965029902, 0.09022065516699891, 0.11263128191542306, 0.7884189734079614, 0.03629121422868965, 0.6895330703451034, 0.2903297138295172, 0.047247126165325726, 0.7559540186452116, 0.1889885046613029, 0.09456153275445321, 0.8510537947900789, 0.8068557451729765, 0.13091938275055812, 0.9164356792539068, 0.12120894322394454, 0.3030223580598614, 0.6060447161197228, 0.8937045887343328, 0.8975037486935578, 0.9190860929415737, 0.06841775390362823, 0.06841775390362823, 0.8894308007471668, 0.13079987942213378, 0.9155991559549364, 0.8693573429403938, 0.07903248572185399, 0.07903248572185399, 0.6813605398697602, 0.04542403599131735, 0.27254421594790407, 0.6556948946704759, 0.08742598595606345, 0.26227795786819036, 0.0630962202910298, 0.1261924405820596, 0.8202508637833875, 0.8690453487691111, 0.8320544724147608, 0.1040068090518451, 0.1040068090518451, 0.8936804229220278, 0.17541784175016165, 0.7016713670006466, 0.11694522783344109, 0.10601340967019467, 0.21202681934038933, 0.7420938676913628, 0.3461720465899345, 0.1384688186359738, 0.5538752745438952, 0.8182185275348964, 0.7563254137443037, 0.09454067671803797, 0.14181101507705696, 0.130593827439279, 0.7835629646356741, 0.9088259395012147, 0.11360324243765184, 0.8504107001684497, 0.8422268628073953, 0.8287593925047462, 0.11839419892924945, 0.8068425221516233, 0.3287258795544505, 0.3287258795544505, 0.37568671949080057, 0.35992133902702894, 0.07198426780540579, 0.5038898746378405, 0.07938276447372372, 0.23814829342117116, 0.6350621157897898, 0.10601291801214462, 0.21202583602428923, 0.7420904260850123, 0.7853617914659616, 0.181237336492145, 0.06041244549738166, 0.8504012962692052, 0.7390638504412038, 0.22171915513236112, 0.7811185149581599, 0.78508588300279, 0.16823268921488357, 0.12704769847096187, 0.7622861908257712, 0.15173570810317702, 0.758678540515885, 0.15173570810317702, 0.5728743399021192, 0.1193488208129415, 0.3103069341136479, 0.14131872841649612, 0.07065936420824806, 0.8479123704989768, 0.11877404692877787, 0.11877404692877787, 0.8314183285014451, 0.07950178103282532, 0.8745195913610785, 0.07950178103282532, 0.11597160271413859, 0.11597160271413859, 0.8118012189989702, 0.17765538563302563, 0.7106215425321025, 0.08882769281651282, 0.25710363698475663, 0.7070350017080808, 0.1217692382671064, 0.1217692382671064, 0.8523846678697448, 0.05762833159122282, 0.05762833159122282, 0.9220533054595651, 0.134873143367414, 0.8766754318881909, 0.067436571683707, 0.8501049584542424, 0.08501049584542424, 0.08501049584542424, 0.13410679782501989, 0.8046407869501194, 0.07499888091279341, 0.37499440456396704, 0.5249921663895539, 0.5891423949896115, 0.05891423949896114, 0.3534854369937669, 0.6607967357605753, 0.24028972209475466, 0.12014486104737733, 0.9113154550586495, 0.11391443188233119, 0.8774297424249066, 0.857911918070306, 0.12255884543861513, 0.5540152361649398, 0.10073004293907996, 0.35255515028677986, 0.06498247356130454, 0.5198597884904363, 0.38989484136782726, 0.12492927271063681, 0.8745049089744577], \"Term\": [\"\\u0e01\\u0e14\", \"\\u0e01\\u0e14\", \"\\u0e01\\u0e14\", \"\\u0e01\\u0e14\\u0e1b\\u0e38\\u0e48\\u0e21\", \"\\u0e01\\u0e23\\u0e30\\u0e08\\u0e32\\u0e22\", \"\\u0e01\\u0e25\\u0e31\\u0e1a\", \"\\u0e01\\u0e25\\u0e31\\u0e1a\", \"\\u0e01\\u0e25\\u0e31\\u0e1a\", \"\\u0e01\\u0e32\\u0e23\\u0e25\\u0e07\\u0e17\\u0e38\\u0e19\", \"\\u0e01\\u0e32\\u0e23\\u0e25\\u0e07\\u0e17\\u0e38\\u0e19\", \"\\u0e01\\u0e32\\u0e23\\u0e25\\u0e07\\u0e17\\u0e38\\u0e19\", \"\\u0e01\\u0e33\\u0e25\\u0e31\\u0e07\", \"\\u0e01\\u0e33\\u0e25\\u0e31\\u0e07\", \"\\u0e01\\u0e33\\u0e25\\u0e31\\u0e07\\u0e08\\u0e30\", \"\\u0e02\\u0e31\\u0e1a\\u0e23\\u0e16\", \"\\u0e02\\u0e31\\u0e1a\\u0e23\\u0e16\", \"\\u0e02\\u0e31\\u0e1a\\u0e23\\u0e16\", \"\\u0e02\\u0e32\\u0e14\", \"\\u0e02\\u0e32\\u0e14\", \"\\u0e02\\u0e32\\u0e22\", \"\\u0e02\\u0e32\\u0e22\", \"\\u0e02\\u0e32\\u0e22\", \"\\u0e04\\u0e23\\u0e31\\u0e49\\u0e07\", \"\\u0e04\\u0e23\\u0e31\\u0e49\\u0e07\", \"\\u0e04\\u0e23\\u0e31\\u0e49\\u0e07\", \"\\u0e04\\u0e27\\u0e32\\u0e21\\u0e1d\\u0e31\\u0e19\", \"\\u0e04\\u0e27\\u0e32\\u0e21\\u0e1d\\u0e31\\u0e19\", \"\\u0e04\\u0e27\\u0e32\\u0e21\\u0e1d\\u0e31\\u0e19\", \"\\u0e04\\u0e27\\u0e32\\u0e21\\u0e21\\u0e31\\u0e48\\u0e19\\u0e43\\u0e08\", \"\\u0e04\\u0e27\\u0e32\\u0e21\\u0e40\\u0e2b\\u0e47\\u0e19\\u0e2d\\u0e01\\u0e40\\u0e2b\\u0e47\\u0e19\\u0e43\\u0e08\", \"\\u0e04\\u0e32\\u0e14\\u0e2b\\u0e27\\u0e31\\u0e07\", \"\\u0e04\\u0e32\\u0e14\\u0e2b\\u0e27\\u0e31\\u0e07\", \"\\u0e04\\u0e32\\u0e14\\u0e2b\\u0e27\\u0e31\\u0e07\", \"\\u0e04\\u0e39\\u0e48\", \"\\u0e04\\u0e39\\u0e48\", \"\\u0e07\\u0e49\\u0e2d\", \"\\u0e08\\u0e19\\u0e01\\u0e27\\u0e48\\u0e32\", \"\\u0e08\\u0e19\\u0e01\\u0e27\\u0e48\\u0e32\", \"\\u0e08\\u0e19\\u0e01\\u0e27\\u0e48\\u0e32\", \"\\u0e08\\u0e33\", \"\\u0e08\\u0e33\", \"\\u0e08\\u0e33\", \"\\u0e08\\u0e48\\u0e32\\u0e22\", \"\\u0e08\\u0e48\\u0e32\\u0e22\", \"\\u0e0a\\u0e19\\u0e30\", \"\\u0e0a\\u0e19\\u0e30\", \"\\u0e0a\\u0e19\\u0e30\", \"\\u0e0b\\u0e30\", \"\\u0e14\\u0e2d\\u0e01\", \"\\u0e14\\u0e49\\u0e27\\u0e22\\u0e01\\u0e31\\u0e19\", \"\\u0e14\\u0e49\\u0e27\\u0e22\\u0e01\\u0e31\\u0e19\", \"\\u0e15\\u0e01\", \"\\u0e15\\u0e01\", \"\\u0e15\\u0e01\", \"\\u0e15\\u0e19\\u0e40\\u0e2d\\u0e07\", \"\\u0e15\\u0e19\\u0e40\\u0e2d\\u0e07\", \"\\u0e15\\u0e19\\u0e40\\u0e2d\\u0e07\", \"\\u0e15\\u0e25\\u0e2d\\u0e14\\u0e44\\u0e1b\", \"\\u0e15\\u0e25\\u0e2d\\u0e14\\u0e44\\u0e1b\", \"\\u0e15\\u0e25\\u0e2d\\u0e14\\u0e44\\u0e1b\", \"\\u0e15\\u0e31\\u0e27\\u0e15\\u0e19\", \"\\u0e15\\u0e31\\u0e27\\u0e15\\u0e19\", \"\\u0e15\\u0e32\\u0e21\", \"\\u0e15\\u0e32\\u0e21\", \"\\u0e15\\u0e32\\u0e21\", \"\\u0e15\\u0e32\\u0e22\", \"\\u0e15\\u0e32\\u0e22\", \"\\u0e15\\u0e32\\u0e22\", \"\\u0e15\\u0e34\\u0e14\", \"\\u0e15\\u0e34\\u0e14\", \"\\u0e15\\u0e34\\u0e14\", \"\\u0e15\\u0e48\\u0e2d\", \"\\u0e15\\u0e48\\u0e2d\", \"\\u0e15\\u0e48\\u0e2d\", \"\\u0e16\\u0e19\\u0e31\\u0e14\", \"\\u0e16\\u0e19\\u0e31\\u0e14\", \"\\u0e17\\u0e31\\u0e49\\u0e07\", \"\\u0e17\\u0e31\\u0e49\\u0e07\", \"\\u0e17\\u0e31\\u0e49\\u0e07\", \"\\u0e17\\u0e31\\u0e49\\u0e07\\u0e2b\\u0e21\\u0e14\", \"\\u0e17\\u0e31\\u0e49\\u0e07\\u0e2b\\u0e21\\u0e14\", \"\\u0e17\\u0e31\\u0e49\\u0e07\\u0e2b\\u0e21\\u0e14\", \"\\u0e17\\u0e33\\u0e14\\u0e35\", \"\\u0e17\\u0e33\\u0e14\\u0e35\", \"\\u0e17\\u0e33\\u0e23\\u0e49\\u0e32\\u0e22\", \"\\u0e17\\u0e33\\u0e23\\u0e49\\u0e32\\u0e22\", \"\\u0e17\\u0e33\\u0e23\\u0e49\\u0e32\\u0e22\", \"\\u0e17\\u0e33\\u0e25\\u0e32\\u0e22\", \"\\u0e17\\u0e33\\u0e25\\u0e32\\u0e22\", \"\\u0e17\\u0e33\\u0e44\\u0e14\\u0e49\", \"\\u0e17\\u0e33\\u0e44\\u0e14\\u0e49\", \"\\u0e17\\u0e33\\u0e44\\u0e14\\u0e49\", \"\\u0e17\\u0e35\\u0e48\\u0e2d\\u0e22\\u0e39\\u0e48\", \"\\u0e17\\u0e35\\u0e48\\u0e44\\u0e2b\\u0e19\\u0e44\\u0e14\\u0e49\", \"\\u0e17\\u0e38\\u0e01\\u0e27\\u0e31\\u0e19\", \"\\u0e17\\u0e38\\u0e01\\u0e27\\u0e31\\u0e19\", \"\\u0e17\\u0e38\\u0e01\\u0e27\\u0e31\\u0e19\", \"\\u0e17\\u0e48\\u0e32\", \"\\u0e17\\u0e48\\u0e32\", \"\\u0e17\\u0e48\\u0e32\", \"\\u0e17\\u0e49\\u0e2d\\u0e07\", \"\\u0e17\\u0e49\\u0e2d\\u0e41\\u0e17\\u0e49\", \"\\u0e19\\u0e31\\u0e48\\u0e07\", \"\\u0e19\\u0e31\\u0e48\\u0e07\", \"\\u0e19\\u0e31\\u0e48\\u0e07\", \"\\u0e19\\u0e36\\u0e01\", \"\\u0e19\\u0e36\\u0e01\", \"\\u0e19\\u0e36\\u0e07\", \"\\u0e19\\u0e36\\u0e07\", \"\\u0e19\\u0e36\\u0e07\", \"\\u0e19\\u0e48\\u0e32\", \"\\u0e19\\u0e48\\u0e32\", \"\\u0e19\\u0e48\\u0e32\", \"\\u0e19\\u0e49\\u0e2d\\u0e07\\u0e40\\u0e21\\u0e35\\u0e22\", \"\\u0e19\\u0e49\\u0e2d\\u0e07\\u0e40\\u0e21\\u0e35\\u0e22\", \"\\u0e19\\u0e49\\u0e2d\\u0e22\", \"\\u0e19\\u0e49\\u0e2d\\u0e22\", \"\\u0e19\\u0e49\\u0e2d\\u0e22\", \"\\u0e1a\\u0e19\", \"\\u0e1a\\u0e19\", \"\\u0e1a\\u0e19\", \"\\u0e1a\\u0e48\\u0e2d\\u0e22\", \"\\u0e1a\\u0e48\\u0e2d\\u0e22\", \"\\u0e1a\\u0e49\\u0e32\\u0e19\", \"\\u0e1a\\u0e49\\u0e32\\u0e19\", \"\\u0e1a\\u0e49\\u0e32\\u0e19\", \"\\u0e1b\\u0e23\\u0e30\\u0e2a\\u0e1a\\u0e04\\u0e27\\u0e32\\u0e21\\u0e2a\\u0e33\\u0e40\\u0e23\\u0e47\\u0e08\", \"\\u0e1b\\u0e23\\u0e30\\u0e2a\\u0e1a\\u0e04\\u0e27\\u0e32\\u0e21\\u0e2a\\u0e33\\u0e40\\u0e23\\u0e47\\u0e08\", \"\\u0e1b\\u0e23\\u0e30\\u0e2a\\u0e1a\\u0e04\\u0e27\\u0e32\\u0e21\\u0e2a\\u0e33\\u0e40\\u0e23\\u0e47\\u0e08\", \"\\u0e1b\\u0e25\\u0e48\\u0e2d\\u0e22\", \"\\u0e1b\\u0e25\\u0e48\\u0e2d\\u0e22\", \"\\u0e1b\\u0e25\\u0e48\\u0e2d\\u0e22\", \"\\u0e1b\\u0e31\\u0e08\\u0e08\\u0e38\\u0e1a\\u0e31\\u0e19\", \"\\u0e1b\\u0e31\\u0e08\\u0e08\\u0e38\\u0e1a\\u0e31\\u0e19\", \"\\u0e1b\\u0e31\\u0e08\\u0e08\\u0e38\\u0e1a\\u0e31\\u0e19\", \"\\u0e1b\\u0e31\\u0e0d\\u0e2b\\u0e32\", \"\\u0e1b\\u0e31\\u0e0d\\u0e2b\\u0e32\", \"\\u0e1b\\u0e31\\u0e0d\\u0e2b\\u0e32\", \"\\u0e1c\\u0e48\\u0e32\\u0e19\", \"\\u0e1c\\u0e48\\u0e32\\u0e19\", \"\\u0e1c\\u0e48\\u0e32\\u0e19\", \"\\u0e1d\\u0e36\\u0e01\", \"\\u0e1e\\u0e23\\u0e38\\u0e48\\u0e07\\u0e19\\u0e35\\u0e49\", \"\\u0e1e\\u0e23\\u0e38\\u0e48\\u0e07\\u0e19\\u0e35\\u0e49\", \"\\u0e1e\\u0e23\\u0e38\\u0e48\\u0e07\\u0e19\\u0e35\\u0e49\", \"\\u0e1e\\u0e32\", \"\\u0e1e\\u0e32\", \"\\u0e21\\u0e31\\u0e27\\u0e41\\u0e15\\u0e48\", \"\\u0e21\\u0e31\\u0e27\\u0e41\\u0e15\\u0e48\", \"\\u0e21\\u0e31\\u0e27\\u0e41\\u0e15\\u0e48\", \"\\u0e21\\u0e35\\u0e04\\u0e48\\u0e32\", \"\\u0e21\\u0e35\\u0e04\\u0e48\\u0e32\", \"\\u0e21\\u0e35\\u0e04\\u0e48\\u0e32\", \"\\u0e21\\u0e37\\u0e2d\", \"\\u0e21\\u0e37\\u0e2d\", \"\\u0e22\\u0e2d\\u0e14\\u0e40\\u0e22\\u0e35\\u0e48\\u0e22\\u0e21\", \"\\u0e22\\u0e2d\\u0e14\\u0e40\\u0e22\\u0e35\\u0e48\\u0e22\\u0e21\", \"\\u0e22\\u0e37\\u0e19\", \"\\u0e22\\u0e37\\u0e19\", \"\\u0e22\\u0e37\\u0e19\", \"\\u0e22\\u0e39\", \"\\u0e23\\u0e27\\u0e22\", \"\\u0e23\\u0e27\\u0e22\", \"\\u0e23\\u0e2d\\u0e1a\", \"\\u0e23\\u0e2d\\u0e1a\", \"\\u0e23\\u0e30\\u0e27\\u0e31\\u0e07\", \"\\u0e23\\u0e30\\u0e27\\u0e31\\u0e07\", \"\\u0e23\\u0e30\\u0e27\\u0e31\\u0e07\", \"\\u0e23\\u0e32\", \"\\u0e23\\u0e39\\u0e1b\", \"\\u0e23\\u0e39\\u0e1b\", \"\\u0e23\\u0e39\\u0e49\\u0e08\\u0e31\\u0e01\", \"\\u0e23\\u0e39\\u0e49\\u0e08\\u0e31\\u0e01\", \"\\u0e23\\u0e39\\u0e49\\u0e08\\u0e31\\u0e01\", \"\\u0e25\\u0e07\", \"\\u0e25\\u0e07\", \"\\u0e25\\u0e07\", \"\\u0e25\\u0e30\\u0e40\\u0e25\\u0e22\", \"\\u0e25\\u0e30\\u0e40\\u0e25\\u0e22\", \"\\u0e25\\u0e31\\u0e01\", \"\\u0e27\\u0e08\\u0e30\", \"\\u0e27\\u0e08\\u0e30\", \"\\u0e27\\u0e08\\u0e30\", \"\\u0e27\\u0e32\\u0e07\", \"\\u0e27\\u0e38\\u0e48\\u0e19\\u0e27\\u0e32\\u0e22\", \"\\u0e27\\u0e48\\u0e32\\u0e41\\u0e15\\u0e48\", \"\\u0e27\\u0e48\\u0e32\\u0e41\\u0e15\\u0e48\", \"\\u0e2a\\u0e23\\u0e49\\u0e32\\u0e07\", \"\\u0e2a\\u0e23\\u0e49\\u0e32\\u0e07\", \"\\u0e2a\\u0e23\\u0e49\\u0e32\\u0e07\", \"\\u0e2a\\u0e2d\\u0e07\", \"\\u0e2a\\u0e2d\\u0e07\", \"\\u0e2a\\u0e2d\\u0e07\", \"\\u0e2a\\u0e2d\\u0e19\", \"\\u0e2a\\u0e2d\\u0e19\", \"\\u0e2a\\u0e2d\\u0e19\", \"\\u0e2a\\u0e31\\u0e01\", \"\\u0e2a\\u0e31\\u0e01\", \"\\u0e2a\\u0e31\\u0e01\", \"\\u0e2a\\u0e32\\u0e22\\u0e15\\u0e32\", \"\\u0e2a\\u0e32\\u0e22\\u0e15\\u0e32\", \"\\u0e2a\\u0e33\\u0e2b\\u0e23\\u0e31\\u0e1a\", \"\\u0e2a\\u0e33\\u0e2b\\u0e23\\u0e31\\u0e1a\", \"\\u0e2a\\u0e34\", \"\\u0e2a\\u0e34\", \"\\u0e2a\\u0e35\", \"\\u0e2a\\u0e35\", \"\\u0e2b\\u0e0d\\u0e49\\u0e32\", \"\\u0e2b\\u0e19\\u0e32\\u0e27\", \"\\u0e2b\\u0e19\\u0e32\\u0e27\", \"\\u0e2b\\u0e19\\u0e32\\u0e27\", \"\\u0e2b\\u0e19\\u0e35\", \"\\u0e2b\\u0e19\\u0e35\", \"\\u0e2b\\u0e19\\u0e35\", \"\\u0e2b\\u0e19\\u0e39\", \"\\u0e2b\\u0e19\\u0e39\", \"\\u0e2b\\u0e19\\u0e39\", \"\\u0e2b\\u0e19\\u0e48\\u0e2d\\u0e22\", \"\\u0e2b\\u0e19\\u0e48\\u0e2d\\u0e22\", \"\\u0e2b\\u0e19\\u0e48\\u0e2d\\u0e22\", \"\\u0e2b\\u0e22\\u0e2d\\u0e14\", \"\\u0e2b\\u0e22\\u0e2d\\u0e14\", \"\\u0e2b\\u0e22\\u0e38\\u0e14\", \"\\u0e2b\\u0e22\\u0e38\\u0e14\", \"\\u0e2b\\u0e22\\u0e38\\u0e14\", \"\\u0e2b\\u0e25\\u0e07\", \"\\u0e2b\\u0e25\\u0e07\", \"\\u0e2b\\u0e25\\u0e07\", \"\\u0e2b\\u0e25\\u0e07\\u0e17\\u0e32\\u0e07\", \"\\u0e2b\\u0e25\\u0e07\\u0e17\\u0e32\\u0e07\", \"\\u0e2b\\u0e25\\u0e07\\u0e43\\u0e2b\\u0e25\", \"\\u0e2b\\u0e27\\u0e07\", \"\\u0e2b\\u0e27\\u0e07\", \"\\u0e2b\\u0e27\\u0e31\\u0e07\", \"\\u0e2b\\u0e27\\u0e31\\u0e07\", \"\\u0e2b\\u0e27\\u0e31\\u0e07\", \"\\u0e2b\\u0e32\\u0e40\\u0e07\\u0e34\\u0e19\", \"\\u0e2b\\u0e48\\u0e27\\u0e07\", \"\\u0e2b\\u0e48\\u0e27\\u0e07\\u0e43\\u0e22\", \"\\u0e2b\\u0e49\\u0e32\\u0e21\", \"\\u0e2b\\u0e49\\u0e32\\u0e21\", \"\\u0e2b\\u0e49\\u0e32\\u0e21\", \"\\u0e2d\\u0e01\\u0e2b\\u0e31\\u0e01\", \"\\u0e2d\\u0e01\\u0e2b\\u0e31\\u0e01\", \"\\u0e2d\\u0e14\\u0e17\\u0e19\", \"\\u0e2d\\u0e14\\u0e17\\u0e19\", \"\\u0e2d\\u0e14\\u0e17\\u0e19\", \"\\u0e2d\\u0e14\\u0e35\\u0e15\", \"\\u0e2d\\u0e14\\u0e35\\u0e15\", \"\\u0e2d\\u0e14\\u0e35\\u0e15\", \"\\u0e2d\\u0e19\\u0e32\\u0e04\\u0e15\", \"\\u0e2d\\u0e19\\u0e32\\u0e04\\u0e15\", \"\\u0e2d\\u0e19\\u0e32\\u0e04\\u0e15\", \"\\u0e2d\\u0e22\\u0e32\\u0e01\\u0e44\\u0e14\\u0e49\", \"\\u0e2d\\u0e22\\u0e32\\u0e01\\u0e44\\u0e14\\u0e49\", \"\\u0e2d\\u0e22\\u0e32\\u0e01\\u0e44\\u0e14\\u0e49\", \"\\u0e2d\\u0e32\", \"\\u0e40\\u0e01\\u0e48\\u0e07\", \"\\u0e40\\u0e01\\u0e48\\u0e07\", \"\\u0e40\\u0e01\\u0e48\\u0e07\", \"\\u0e40\\u0e02\\u0e35\\u0e22\\u0e27\", \"\\u0e40\\u0e02\\u0e49\\u0e32\\u0e21\\u0e32\", \"\\u0e40\\u0e02\\u0e49\\u0e32\\u0e21\\u0e32\", \"\\u0e40\\u0e02\\u0e49\\u0e32\\u0e21\\u0e32\", \"\\u0e40\\u0e02\\u0e49\\u0e32\\u0e43\\u0e08\", \"\\u0e40\\u0e02\\u0e49\\u0e32\\u0e43\\u0e08\", \"\\u0e40\\u0e02\\u0e49\\u0e32\\u0e43\\u0e08\", \"\\u0e40\\u0e04\\u0e49\\u0e32\", \"\\u0e40\\u0e04\\u0e49\\u0e32\", \"\\u0e40\\u0e04\\u0e49\\u0e32\", \"\\u0e40\\u0e08\\u0e2d\\u0e01\\u0e31\\u0e19\", \"\\u0e40\\u0e14\\u0e35\\u0e4b\\u0e22\\u0e27\", \"\\u0e40\\u0e14\\u0e35\\u0e4b\\u0e22\\u0e27\", \"\\u0e40\\u0e14\\u0e35\\u0e4b\\u0e22\\u0e27\", \"\\u0e40\\u0e17\\u0e04\\u0e41\\u0e04\\u0e23\\u0e4c\", \"\\u0e40\\u0e17\\u0e04\\u0e41\\u0e04\\u0e23\\u0e4c\", \"\\u0e40\\u0e19\\u0e37\\u0e49\\u0e2d\\u0e04\\u0e39\\u0e48\", \"\\u0e40\\u0e19\\u0e37\\u0e49\\u0e2d\\u0e04\\u0e39\\u0e48\", \"\\u0e40\\u0e19\\u0e47\\u0e15\", \"\\u0e40\\u0e1a\\u0e32\", \"\\u0e40\\u0e1b\\u0e23\\u0e35\\u0e22\\u0e1a\\u0e40\\u0e17\\u0e35\\u0e22\\u0e1a\", \"\\u0e40\\u0e1b\\u0e23\\u0e35\\u0e22\\u0e1a\\u0e40\\u0e17\\u0e35\\u0e22\\u0e1a\", \"\\u0e40\\u0e1b\\u0e47\\u0e19\\u0e2b\\u0e48\\u0e27\\u0e07\", \"\\u0e40\\u0e1e\\u0e35\\u0e22\\u0e07\", \"\\u0e40\\u0e1e\\u0e35\\u0e22\\u0e07\", \"\\u0e40\\u0e1e\\u0e35\\u0e22\\u0e07\", \"\\u0e40\\u0e1e\\u0e37\\u0e48\\u0e2d\\u0e19\", \"\\u0e40\\u0e1e\\u0e37\\u0e48\\u0e2d\\u0e19\", \"\\u0e40\\u0e1e\\u0e37\\u0e48\\u0e2d\\u0e19\", \"\\u0e40\\u0e23\\u0e34\\u0e48\\u0e21\", \"\\u0e40\\u0e23\\u0e34\\u0e48\\u0e21\", \"\\u0e40\\u0e23\\u0e34\\u0e48\\u0e21\", \"\\u0e40\\u0e23\\u0e34\\u0e48\\u0e21\\u0e15\\u0e49\\u0e19\", \"\\u0e40\\u0e23\\u0e34\\u0e48\\u0e21\\u0e15\\u0e49\\u0e19\", \"\\u0e40\\u0e23\\u0e34\\u0e48\\u0e21\\u0e15\\u0e49\\u0e19\", \"\\u0e40\\u0e23\\u0e37\\u0e48\\u0e2d\\u0e22\", \"\\u0e40\\u0e23\\u0e37\\u0e48\\u0e2d\\u0e22\", \"\\u0e40\\u0e23\\u0e37\\u0e48\\u0e2d\\u0e22\", \"\\u0e40\\u0e25\\u0e27\", \"\\u0e40\\u0e25\\u0e34\\u0e01\", \"\\u0e40\\u0e25\\u0e34\\u0e01\", \"\\u0e40\\u0e25\\u0e35\\u0e49\\u0e22\\u0e07\", \"\\u0e40\\u0e25\\u0e48\\u0e19\", \"\\u0e40\\u0e25\\u0e48\\u0e19\", \"\\u0e40\\u0e2a\\u0e35\\u0e22\\u0e40\\u0e27\\u0e25\\u0e32\", \"\\u0e40\\u0e2a\\u0e35\\u0e22\\u0e40\\u0e27\\u0e25\\u0e32\", \"\\u0e40\\u0e2a\\u0e37\\u0e2d\\u0e01\", \"\\u0e40\\u0e2a\\u0e37\\u0e2d\\u0e01\", \"\\u0e40\\u0e2a\\u0e37\\u0e2d\\u0e01\", \"\\u0e40\\u0e2b\\u0e19\\u0e37\\u0e48\\u0e2d\\u0e22\", \"\\u0e40\\u0e2b\\u0e19\\u0e37\\u0e48\\u0e2d\\u0e22\", \"\\u0e40\\u0e2b\\u0e19\\u0e37\\u0e48\\u0e2d\\u0e22\", \"\\u0e41\\u0e04\\u0e23\\u0e4c\", \"\\u0e41\\u0e04\\u0e23\\u0e4c\", \"\\u0e41\\u0e04\\u0e23\\u0e4c\", \"\\u0e41\\u0e0b\\u0e07\", \"\\u0e41\\u0e0b\\u0e07\", \"\\u0e41\\u0e0b\\u0e07\", \"\\u0e41\\u0e17\\u0e19\", \"\\u0e41\\u0e17\\u0e19\", \"\\u0e41\\u0e17\\u0e19\", \"\\u0e41\\u0e1b\\u0e25\", \"\\u0e41\\u0e1b\\u0e25\", \"\\u0e41\\u0e1b\\u0e25\", \"\\u0e41\\u0e1e\\u0e49\", \"\\u0e41\\u0e1e\\u0e49\", \"\\u0e41\\u0e1e\\u0e49\", \"\\u0e41\\u0e23\\u0e07\", \"\\u0e41\\u0e23\\u0e07\", \"\\u0e41\\u0e2a\\u0e19\", \"\\u0e41\\u0e2a\\u0e19\", \"\\u0e41\\u0e2a\\u0e19\", \"\\u0e41\\u0e2d\\u0e1a\", \"\\u0e41\\u0e2d\\u0e1a\", \"\\u0e41\\u0e2d\\u0e1a\", \"\\u0e42\\u0e14\\u0e19\", \"\\u0e42\\u0e14\\u0e19\", \"\\u0e42\\u0e14\\u0e19\", \"\\u0e42\\u0e2d\\u0e01\\u0e32\\u0e2a\", \"\\u0e42\\u0e2d\\u0e01\\u0e32\\u0e2a\", \"\\u0e42\\u0e2d\\u0e01\\u0e32\\u0e2a\", \"\\u0e42\\u0e2d\\u0e40\\u0e04\", \"\\u0e42\\u0e2d\\u0e40\\u0e04\", \"\\u0e43\\u0e14\", \"\\u0e43\\u0e14\", \"\\u0e43\\u0e14\", \"\\u0e43\\u0e2a\\u0e48\", \"\\u0e43\\u0e2a\\u0e48\", \"\\u0e43\\u0e2a\\u0e48\", \"\\u0e43\\u0e2a\\u0e48\\u0e43\\u0e08\", \"\\u0e43\\u0e2a\\u0e48\\u0e43\\u0e08\", \"\\u0e43\\u0e2a\\u0e48\\u0e43\\u0e08\", \"\\u0e43\\u0e2b\\u0e0d\\u0e48\", \"\\u0e43\\u0e2b\\u0e0d\\u0e48\", \"\\u0e43\\u0e2b\\u0e49\\u0e01\\u0e33\\u0e25\\u0e31\\u0e07\\u0e43\\u0e08\", \"\\u0e43\\u0e2b\\u0e49\\u0e42\\u0e2d\\u0e01\\u0e32\\u0e2a\", \"\\u0e43\\u0e2b\\u0e49\\u0e42\\u0e2d\\u0e01\\u0e32\\u0e2a\", \"\\u0e44\\u0e01\\u0e25\", \"\\u0e44\\u0e01\\u0e25\", \"\\u0e44\\u0e01\\u0e25\", \"\\u0e44\\u0e07\", \"\\u0e44\\u0e07\", \"\\u0e44\\u0e07\", \"\\u0e44\\u0e2d\", \"\\u0e44\\u0e2d\"]}, \"R\": 30, \"lambda.step\": 0.01, \"plot.opts\": {\"xlab\": \"PC1\", \"ylab\": \"PC2\"}, \"topic.order\": [1, 2, 3]};\n",
              "\n",
              "function LDAvis_load_lib(url, callback){\n",
              "  var s = document.createElement('script');\n",
              "  s.src = url;\n",
              "  s.async = true;\n",
              "  s.onreadystatechange = s.onload = callback;\n",
              "  s.onerror = function(){console.warn(\"failed to load library \" + url);};\n",
              "  document.getElementsByTagName(\"head\")[0].appendChild(s);\n",
              "}\n",
              "\n",
              "if(typeof(LDAvis) !== \"undefined\"){\n",
              "   // already loaded: just create the visualization\n",
              "   !function(LDAvis){\n",
              "       new LDAvis(\"#\" + \"ldavis_el10831398539396794407917055144\", ldavis_el10831398539396794407917055144_data);\n",
              "   }(LDAvis);\n",
              "}else if(typeof define === \"function\" && define.amd){\n",
              "   // require.js is available: use it to load d3/LDAvis\n",
              "   require.config({paths: {d3: \"https://d3js.org/d3.v5\"}});\n",
              "   require([\"d3\"], function(d3){\n",
              "      window.d3 = d3;\n",
              "      LDAvis_load_lib(\"https://cdn.jsdelivr.net/gh/bmabey/pyLDAvis@3.3.1/pyLDAvis/js/ldavis.v3.0.0.js\", function(){\n",
              "        new LDAvis(\"#\" + \"ldavis_el10831398539396794407917055144\", ldavis_el10831398539396794407917055144_data);\n",
              "      });\n",
              "    });\n",
              "}else{\n",
              "    // require.js not available: dynamically load d3 & LDAvis\n",
              "    LDAvis_load_lib(\"https://d3js.org/d3.v5.js\", function(){\n",
              "         LDAvis_load_lib(\"https://cdn.jsdelivr.net/gh/bmabey/pyLDAvis@3.3.1/pyLDAvis/js/ldavis.v3.0.0.js\", function(){\n",
              "                 new LDAvis(\"#\" + \"ldavis_el10831398539396794407917055144\", ldavis_el10831398539396794407917055144_data);\n",
              "            })\n",
              "         });\n",
              "}\n",
              "</script>"
            ],
            "text/plain": [
              "PreparedData(topic_coordinates=              x         y  topics  cluster       Freq\n",
              "topic                                                \n",
              "0      0.085541  0.041706       1        1  34.595817\n",
              "1     -0.003560 -0.089092       2        1  34.276839\n",
              "2     -0.081981  0.047386       3        1  31.127343, topic_info=        Term       Freq      Total Category  logprob  loglift\n",
              "63      บ่อย  22.000000  22.000000  Default  30.0000  30.0000\n",
              "795      ขาด  16.000000  16.000000  Default  29.0000  29.0000\n",
              "766      แอบ  17.000000  17.000000  Default  28.0000  28.0000\n",
              "554   ทำร้าย  15.000000  15.000000  Default  27.0000  27.0000\n",
              "46      ห้าม  14.000000  14.000000  Default  26.0000  26.0000\n",
              "...      ...        ...        ...      ...      ...      ...\n",
              "1057   กำลัง   7.258493  11.892196   Topic3  -6.1117   0.6734\n",
              "1545  เพื่อน   7.404488  13.891924   Topic3  -6.0918   0.5379\n",
              "427       ใด   7.293496  13.333532   Topic3  -6.1069   0.5638\n",
              "323    เพียง   7.560534  21.294338   Topic3  -6.0709   0.1316\n",
              "480     หยุด   7.585469  27.554879   Topic3  -6.0676  -0.1229\n",
              "\n",
              "[188 rows x 6 columns], token_table=      Topic      Freq    Term\n",
              "term                         \n",
              "61        1  0.323941      กด\n",
              "61        2  0.647882      กด\n",
              "61        3  0.080985      กด\n",
              "3291      1  0.902249  กดปุ่ม\n",
              "3276      2  0.893799  กระจาย\n",
              "...     ...       ...     ...\n",
              "202       1  0.064982      ไง\n",
              "202       2  0.519860      ไง\n",
              "202       3  0.389895      ไง\n",
              "1833      1  0.124929      ไอ\n",
              "1833      3  0.874505      ไอ\n",
              "\n",
              "[365 rows x 3 columns], R=30, lambda_step=0.01, plot_opts={'xlab': 'PC1', 'ylab': 'PC2'}, topic_order=[1, 2, 3])"
            ]
          },
          "metadata": {
            "tags": []
          },
          "execution_count": 32
        }
      ]
    },
    {
      "cell_type": "markdown",
      "metadata": {
        "id": "z396NJfEQZh9"
      },
      "source": [
        "# LDA 4 topics"
      ]
    },
    {
      "cell_type": "code",
      "metadata": {
        "colab": {
          "base_uri": "https://localhost:8080/"
        },
        "id": "f3DPSEK9DHKT",
        "outputId": "4c22c30b-4906-4392-a180-2cacbc259342"
      },
      "source": [
        "#train LDA model\n",
        "lda_4_top = LdaModel(train_corpus,id2word=dictionary,iterations=100, num_topics=4,alpha=0.2,eta=0.7)\n",
        "#print revelant words of topics\n",
        "lda_4_top.print_topics()"
      ],
      "execution_count": null,
      "outputs": [
        {
          "output_type": "execute_result",
          "data": {
            "text/plain": [
              "[(0,\n",
              "  '0.005*\"ทำร้าย\" + 0.005*\"เล่น\" + 0.005*\"ระวัง\" + 0.004*\"ใด\" + 0.004*\"กลับ\" + 0.004*\"ตาย\" + 0.004*\"อยากได้\" + 0.004*\"เพื่อน\" + 0.004*\"หนู\" + 0.004*\"หลัง\"'),\n",
              " (1,\n",
              "  '0.007*\"หยุด\" + 0.006*\"สร้าง\" + 0.005*\"เหนื่อย\" + 0.005*\"รวย\" + 0.004*\"เปล่า\" + 0.004*\"ปัจจุบัน\" + 0.004*\"รู้จัก\" + 0.004*\"ไกล\" + 0.003*\"นั่ง\" + 0.003*\"ปล่อย\"'),\n",
              " (2,\n",
              "  '0.008*\"เหนื่อย\" + 0.006*\"อนาคต\" + 0.005*\"แรง\" + 0.005*\"น้องเมีย\" + 0.004*\"ผิด\" + 0.004*\"ต่อ\" + 0.004*\"คู่\" + 0.004*\"สัก\" + 0.003*\"ยืน\" + 0.003*\"ทั้ง\"'),\n",
              " (3,\n",
              "  '0.005*\"เพียง\" + 0.005*\"นึง\" + 0.005*\"เรื่อย\" + 0.004*\"ลง\" + 0.004*\"คำพูด\" + 0.004*\"วิ่ง\" + 0.004*\"ขนาด\" + 0.004*\"นั่น\" + 0.003*\"หมา\" + 0.003*\"ขาด\"')]"
            ]
          },
          "metadata": {
            "tags": []
          },
          "execution_count": 33
        }
      ]
    },
    {
      "cell_type": "code",
      "metadata": {
        "id": "1nBC9DrdOxt2"
      },
      "source": [
        "pyLDAvis.enable_notebook()\n",
        "\n",
        "#visualize model output\n",
        "# feed the LDA model into the pyLDAvis instance\n",
        "lda_viz_4 = gensimvis.prepare(lda_4_top, train_corpus, dictionary)"
      ],
      "execution_count": null,
      "outputs": []
    },
    {
      "cell_type": "code",
      "metadata": {
        "colab": {
          "base_uri": "https://localhost:8080/",
          "height": 881
        },
        "id": "xQUIgCjJOxrS",
        "outputId": "8fd697fe-60e4-42a2-927e-e029709aef13"
      },
      "source": [
        "lda_viz_4"
      ],
      "execution_count": null,
      "outputs": [
        {
          "output_type": "execute_result",
          "data": {
            "text/html": [
              "\n",
              "<link rel=\"stylesheet\" type=\"text/css\" href=\"https://cdn.jsdelivr.net/gh/bmabey/pyLDAvis@3.3.1/pyLDAvis/js/ldavis.v1.0.0.css\">\n",
              "\n",
              "\n",
              "<div id=\"ldavis_el10831398539392569126878115436\"></div>\n",
              "<script type=\"text/javascript\">\n",
              "\n",
              "var ldavis_el10831398539392569126878115436_data = {\"mdsDat\": {\"x\": [0.05929039342332725, -0.06461393408087204, 0.04945439056857179, -0.04413084991102699], \"y\": [0.07197606351844317, 0.0034073787850821815, -0.0787951210591162, 0.0034116787555907796], \"topics\": [1, 2, 3, 4], \"cluster\": [1, 1, 1, 1], \"Freq\": [27.90476720897088, 24.545307411010967, 24.539522159825438, 23.010403220192714]}, \"tinfo\": {\"Term\": [\"\\u0e40\\u0e2b\\u0e19\\u0e37\\u0e48\\u0e2d\\u0e22\", \"\\u0e2b\\u0e22\\u0e38\\u0e14\", \"\\u0e2a\\u0e23\\u0e49\\u0e32\\u0e07\", \"\\u0e41\\u0e23\\u0e07\", \"\\u0e19\\u0e49\\u0e2d\\u0e07\\u0e40\\u0e21\\u0e35\\u0e22\", \"\\u0e23\\u0e27\\u0e22\", \"\\u0e2d\\u0e19\\u0e32\\u0e04\\u0e15\", \"\\u0e17\\u0e33\\u0e23\\u0e49\\u0e32\\u0e22\", \"\\u0e23\\u0e30\\u0e27\\u0e31\\u0e07\", \"\\u0e40\\u0e23\\u0e37\\u0e48\\u0e2d\\u0e22\", \"\\u0e40\\u0e1b\\u0e25\\u0e48\\u0e32\", \"\\u0e40\\u0e25\\u0e48\\u0e19\", \"\\u0e04\\u0e39\\u0e48\", \"\\u0e1c\\u0e34\\u0e14\", \"\\u0e19\\u0e36\\u0e07\", \"\\u0e04\\u0e33\\u0e1e\\u0e39\\u0e14\", \"\\u0e43\\u0e14\", \"\\u0e19\\u0e31\\u0e48\\u0e19\", \"\\u0e1c\\u0e31\\u0e27\", \"\\u0e2b\\u0e25\\u0e31\\u0e07\", \"\\u0e27\\u0e34\\u0e48\\u0e07\", \"\\u0e22\\u0e37\\u0e19\", \"\\u0e1b\\u0e31\\u0e08\\u0e08\\u0e38\\u0e1a\\u0e31\\u0e19\", \"\\u0e1c\\u0e39\\u0e49\\u0e2d\\u0e37\\u0e48\\u0e19\", \"\\u0e41\\u0e2d\\u0e1a\", \"\\u0e23\\u0e39\\u0e49\\u0e08\\u0e31\\u0e01\", \"\\u0e15\\u0e34\\u0e14\", \"\\u0e2b\\u0e25\\u0e07\\u0e17\\u0e32\\u0e07\", \"\\u0e2b\\u0e21\\u0e32\", \"\\u0e40\\u0e1e\\u0e35\\u0e22\\u0e07\", \"\\u0e1c\\u0e31\\u0e27\", \"\\u0e2b\\u0e25\\u0e31\\u0e07\", \"\\u0e17\\u0e33\\u0e23\\u0e49\\u0e32\\u0e22\", \"\\u0e23\\u0e30\\u0e27\\u0e31\\u0e07\", \"\\u0e43\\u0e14\", \"\\u0e14\\u0e27\\u0e07\\u0e15\\u0e32\", \"\\u0e41\\u0e1a\\u0e48\\u0e07\\u0e1b\\u0e31\\u0e19\", \"\\u0e40\\u0e1a\\u0e37\\u0e48\\u0e2d\", \"\\u0e08\\u0e19\\u0e01\\u0e27\\u0e48\\u0e32\", \"\\u0e40\\u0e2b\\u0e19\\u0e35\\u0e22\\u0e07\", \"\\u0e1f\\u0e49\\u0e32\", \"\\u0e2b\\u0e21\\u0e2d\", \"\\u0e2b\\u0e27\\u0e07\", \"\\u0e41\\u0e1b\\u0e25\", \"\\u0e40\\u0e25\\u0e48\\u0e19\", \"\\u0e2b\\u0e21\\u0e14\", \"\\u0e40\\u0e40\\u0e25\\u0e49\\u0e27\", \"\\u0e27\\u0e38\\u0e48\\u0e19\\u0e27\\u0e32\\u0e22\", \"\\u0e40\\u0e01\\u0e25\\u0e35\\u0e22\\u0e14\", \"\\u0e2d\\u0e49\\u0e27\\u0e19\", \"\\u0e04\\u0e27\\u0e32\\u0e21\\u0e17\\u0e23\\u0e07\\u0e08\\u0e33\", \"\\u0e40\\u0e17\\u0e04\\u0e41\\u0e04\\u0e23\\u0e4c\", \"\\u0e08\\u0e49\\u0e2d\\u0e07\", \"\\u0e04\\u0e19\\u0e42\\u0e1b\\u0e23\\u0e14\", \"\\u0e17\\u0e31\\u0e01\", \"\\u0e40\\u0e1e\\u0e37\\u0e48\\u0e2d\\u0e19\", \"\\u0e22\\u0e32\", \"\\u0e1b\\u0e27\\u0e14\", \"\\u0e1e\\u0e35\\u0e48\\u0e19\\u0e49\\u0e2d\\u0e07\", \"\\u0e21\\u0e37\\u0e2d\\u0e16\\u0e37\\u0e2d\", \"\\u0e0a\\u0e31\\u0e14\\u0e40\\u0e08\\u0e19\", \"\\u0e04\\u0e27\\u0e32\\u0e21\\u0e40\\u0e2b\\u0e07\\u0e32\", \"\\u0e2b\\u0e25\\u0e07\\u0e15\\u0e31\\u0e27\\u0e40\\u0e2d\\u0e07\", \"\\u0e40\\u0e01\\u0e47\\u0e1a\", \"\\u0e01\\u0e25\\u0e31\\u0e1a\", \"\\u0e2d\\u0e22\\u0e32\\u0e01\\u0e44\\u0e14\\u0e49\", \"\\u0e15\\u0e32\\u0e22\", \"\\u0e41\\u0e04\\u0e23\\u0e4c\", \"\\u0e23\\u0e35\\u0e1a\", \"\\u0e2a\\u0e33\\u0e2b\\u0e23\\u0e31\\u0e1a\", \"\\u0e40\\u0e17\\u0e48\\u0e32\", \"\\u0e1d\\u0e31\\u0e19\", \"\\u0e2b\\u0e19\\u0e39\", \"\\u0e2d\\u0e2d\\u0e01\", \"\\u0e43\\u0e2a\\u0e48\\u0e43\\u0e08\", \"\\u0e1b\\u0e31\\u0e08\\u0e08\\u0e38\\u0e1a\\u0e31\\u0e19\", \"\\u0e1c\\u0e48\\u0e32\\u0e19\", \"\\u0e2d\\u0e14\\u0e35\\u0e15\", \"\\u0e19\\u0e49\\u0e2d\\u0e22\", \"\\u0e19\\u0e31\\u0e48\\u0e19\", \"\\u0e04\\u0e33\\u0e1e\\u0e39\\u0e14\", \"\\u0e0a\\u0e19\\u0e30\", \"\\u0e27\\u0e32\\u0e07\", \"\\u0e2d\\u0e32\", \"\\u0e43\\u0e2b\\u0e49\\u0e01\\u0e33\\u0e25\\u0e31\\u0e07\\u0e43\\u0e08\", \"\\u0e04\\u0e27\\u0e32\\u0e21\\u0e1c\\u0e34\\u0e14\", \"\\u0e40\\u0e02\\u0e35\\u0e22\\u0e27\", \"\\u0e40\\u0e25\\u0e27\", \"\\u0e2b\\u0e25\\u0e07\\u0e17\\u0e32\\u0e07\", \"\\u0e23\\u0e2d\\u0e1a\", \"\\u0e15\\u0e34\\u0e14\", \"\\u0e40\\u0e23\\u0e37\\u0e48\\u0e2d\\u0e22\", \"\\u0e2b\\u0e21\\u0e32\", \"\\u0e27\\u0e34\\u0e48\\u0e07\", \"\\u0e40\\u0e1b\\u0e23\\u0e35\\u0e22\\u0e1a\\u0e40\\u0e17\\u0e35\\u0e22\\u0e1a\", \"\\u0e08\\u0e48\\u0e32\\u0e22\", \"\\u0e17\\u0e31\\u0e49\\u0e07\\u0e2b\\u0e21\\u0e14\", \"\\u0e1b\\u0e49\\u0e32\", \"\\u0e1b\\u0e0f\\u0e34\\u0e40\\u0e2a\\u0e18\", \"\\u0e44\\u0e02\\u0e48\", \"\\u0e2b\\u0e01\", \"\\u0e2e\\u0e2d\\u0e14\", \"\\u0e27\\u0e19\", \"\\u0e15\\u0e48\\u0e32\\u0e07\", \"\\u0e41\\u0e01\\u0e25\\u0e49\\u0e07\", \"\\u0e02\\u0e31\\u0e1a\\u0e23\\u0e16\", \"\\u0e1e\\u0e31\\u0e12\\u0e19\\u0e32\", \"\\u0e15\\u0e23\\u0e07\\u0e19\\u0e35\\u0e49\", \"\\u0e40\\u0e1a\\u0e32\", \"\\u0e07\\u0e32\\u0e19\", \"\\u0e17\\u0e35\\u0e48\\u0e1c\\u0e48\\u0e32\\u0e19\\u0e21\\u0e32\", \"\\u0e02\\u0e19\\u0e32\\u0e14\", \"\\u0e1e\\u0e25\\u0e32\\u0e14\", \"\\u0e19\\u0e36\\u0e07\", \"\\u0e16\\u0e19\\u0e31\\u0e14\", \"\\u0e42\\u0e14\\u0e22\", \"\\u0e40\\u0e1e\\u0e35\\u0e22\\u0e07\", \"\\u0e01\\u0e25\\u0e31\\u0e1a\\u0e21\\u0e32\", \"\\u0e25\\u0e07\", \"\\u0e08\\u0e33\", \"\\u0e32\\u0e27\", \"\\u0e44\\u0e07\", \"\\u0e41\\u0e2d\\u0e1a\", \"\\u0e02\\u0e32\\u0e14\", \"\\u0e2b\\u0e25\\u0e07\", \"\\u0e0b\\u0e37\\u0e49\\u0e2d\", \"\\u0e1a\\u0e49\\u0e32\\u0e19\", \"\\u0e27\\u0e08\\u0e30\", \"\\u0e40\\u0e14\\u0e35\\u0e4b\\u0e22\\u0e27\", \"\\u0e44\\u0e01\\u0e25\", \"\\u0e2b\\u0e49\\u0e32\\u0e21\", \"\\u0e19\\u0e49\\u0e2d\\u0e22\", \"\\u0e43\\u0e2a\\u0e48\", \"\\u0e2b\\u0e27\\u0e31\\u0e07\", \"\\u0e23\\u0e27\\u0e22\", \"\\u0e1c\\u0e39\\u0e49\\u0e2d\\u0e37\\u0e48\\u0e19\", \"\\u0e42\\u0e2d\\u0e40\\u0e04\", \"\\u0e25\\u0e31\\u0e01\", \"\\u0e40\\u0e1b\\u0e25\\u0e48\\u0e32\", \"\\u0e2a\\u0e23\\u0e49\\u0e32\\u0e07\", \"\\u0e04\\u0e27\\u0e32\\u0e21\\u0e40\\u0e2b\\u0e47\\u0e19\\u0e2d\\u0e01\\u0e40\\u0e2b\\u0e47\\u0e19\\u0e43\\u0e08\", \"\\u0e1d\\u0e36\\u0e01\", \"\\u0e44\\u0e2d\", \"\\u0e1d\\u0e48\\u0e32\\u0e22\", \"\\u0e2d\\u0e1a\\u0e2d\\u0e38\\u0e48\\u0e19\", \"\\u0e40\\u0e23\\u0e34\\u0e48\\u0e21\\u0e15\\u0e49\\u0e19\", \"\\u0e40\\u0e15\\u0e34\\u0e21\", \"\\u0e2a\\u0e32\\u0e22\\u0e15\\u0e32\", \"\\u0e21\\u0e35\\u0e0a\\u0e35\\u0e27\\u0e34\\u0e15\", \"\\u0e23\\u0e39\\u0e49\\u0e08\\u0e31\\u0e01\", \"\\u0e44\\u0e23\\u0e49\\u0e04\\u0e48\\u0e32\", \"\\u0e2b\\u0e22\\u0e2d\\u0e14\", \"\\u0e40\\u0e15\\u0e34\\u0e1a\\u0e42\\u0e15\", \"\\u0e02\\u0e36\\u0e49\\u0e19\\u0e2d\\u0e22\\u0e39\\u0e48\\u0e01\\u0e31\\u0e1a\", \"\\u0e44\\u0e14\\u0e49\\u0e23\\u0e31\\u0e1a\", \"\\u0e40\\u0e2b\\u0e15\\u0e38\\u0e1c\\u0e25\", \"\\u0e2a\\u0e34\\u0e48\\u0e07\\u0e43\\u0e14\", \"\\u0e14\\u0e39\\u0e41\\u0e25\", \"\\u0e41\\u0e19\\u0e48\\u0e19\\u0e2d\\u0e19\", \"\\u0e2b\\u0e22\\u0e38\\u0e14\", \"\\u0e40\\u0e23\\u0e47\\u0e27\", \"\\u0e1e\\u0e49\\u0e19\", \"\\u0e02\\u0e36\\u0e49\\u0e19\\u0e04\\u0e32\\u0e19\", \"\\u0e41\\u0e04\\u0e48\\u0e19\\u0e31\\u0e49\\u0e19\", \"\\u0e04\\u0e27\\u0e32\\u0e21\\u0e04\\u0e34\\u0e14\", \"\\u0e04\\u0e34\\u0e14\\u0e21\\u0e32\\u0e01\", \"\\u0e1c\\u0e25\\u0e01\\u0e33\\u0e44\\u0e23\", \"\\u0e2b\\u0e19\\u0e32\\u0e27\", \"\\u0e1e\\u0e31\\u0e01\", \"\\u0e21\\u0e31\\u0e27\\u0e41\\u0e15\\u0e48\", \"\\u0e1b\\u0e25\\u0e48\\u0e2d\\u0e22\", \"\\u0e1b\\u0e31\\u0e08\\u0e08\\u0e38\\u0e1a\\u0e31\\u0e19\", \"\\u0e19\\u0e31\\u0e48\\u0e07\", \"\\u0e40\\u0e23\\u0e34\\u0e48\\u0e21\", \"\\u0e44\\u0e01\\u0e25\", \"\\u0e40\\u0e2b\\u0e19\\u0e37\\u0e48\\u0e2d\\u0e22\", \"\\u0e2b\\u0e32\\u0e22\", \"\\u0e21\\u0e35\\u0e04\\u0e48\\u0e32\", \"\\u0e1b\\u0e31\\u0e0d\\u0e2b\\u0e32\", \"\\u0e1a\\u0e19\", \"\\u0e2d\\u0e14\\u0e35\\u0e15\", \"\\u0e42\\u0e2d\\u0e01\\u0e32\\u0e2a\", \"\\u0e2b\\u0e19\\u0e39\", \"\\u0e2a\\u0e16\\u0e32\\u0e19\\u0e30\", \"\\u0e42\\u0e14\\u0e19\", \"\\u0e19\\u0e49\\u0e2d\\u0e07\\u0e40\\u0e21\\u0e35\\u0e22\", \"\\u0e41\\u0e23\\u0e07\", \"\\u0e04\\u0e39\\u0e48\", \"\\u0e17\\u0e48\\u0e32\", \"\\u0e41\\u0e0b\\u0e07\", \"\\u0e19\\u0e48\\u0e32\", \"\\u0e41\\u0e2a\\u0e19\", \"\\u0e01\\u0e14\\u0e1b\\u0e38\\u0e48\\u0e21\", \"\\u0e2d\\u0e27\\u0e14\", \"\\u0e19\\u0e38\\u0e48\\u0e21\", \"\\u0e22\\u0e37\\u0e19\", \"\\u0e17\\u0e33\\u0e14\\u0e35\", \"\\u0e40\\u0e2a\\u0e37\\u0e2d\", \"\\u0e04\\u0e49\\u0e19\\u0e2b\\u0e32\", \"\\u0e1e\\u0e39\\u0e14\\u0e27\\u0e48\\u0e32\", \"\\u0e27\\u0e48\\u0e32\\u0e41\\u0e15\\u0e48\", \"\\u0e1c\\u0e34\\u0e14\", \"\\u0e42\\u0e25\\u0e40\\u0e04\\u0e0a\\u0e31\\u0e48\\u0e19\", \"\\u0e40\\u0e0a\\u0e34\\u0e0d\", \"\\u0e0a\\u0e32\\u0e15\\u0e34\", \"\\u0e0b\\u0e49\\u0e33\", \"I\", \"\\u0e40\\u0e2b\\u0e21\\u0e32\\u0e30\\u0e2a\\u0e21\", \"\\u0e1c\\u0e35\", \"\\u0e44\\u0e1b\\u0e2b\\u0e32\", \"\\u0e25\\u0e39\\u0e01\", \"\\u0e2b\\u0e22\\u0e38\\u0e14\\u0e1e\\u0e31\\u0e01\", \"\\u0e40\\u0e2b\\u0e07\\u0e37\\u0e48\\u0e2d\", \"\\u0e1b\\u0e01\\u0e15\\u0e34\", \"\\u0e15\\u0e34\\u0e14\\u0e15\\u0e32\\u0e21\", \"\\u0e2d\\u0e19\\u0e32\\u0e04\\u0e15\", \"\\u0e17\\u0e31\\u0e49\\u0e07\", \"\\u0e22\\u0e2d\\u0e21\\u0e41\\u0e1e\\u0e49\", \"\\u0e25\\u0e49\\u0e21\\u0e40\\u0e2b\\u0e25\\u0e27\", \"\\u0e41\\u0e19\\u0e48\", \"\\u0e01\\u0e25\\u0e32\\u0e22\\u0e40\\u0e1b\\u0e47\\u0e19\", \"\\u0e40\\u0e02\\u0e49\\u0e32\\u0e43\\u0e08\", \"\\u0e40\\u0e2b\\u0e19\\u0e37\\u0e48\\u0e2d\\u0e22\", \"\\u0e41\\u0e1e\\u0e49\", \"\\u0e42\\u0e1f\\u0e01\\u0e31\\u0e2a\", \"\\u0e01\\u0e14\", \"\\u0e15\\u0e48\\u0e2d\", \"\\u0e04\\u0e27\\u0e32\\u0e21\\u0e1d\\u0e31\\u0e19\", \"\\u0e2a\\u0e31\\u0e01\", \"\\u0e25\\u0e07\\u0e21\\u0e37\\u0e2d\\u0e17\\u0e33\", \"\\u0e2b\\u0e19\\u0e48\\u0e2d\\u0e22\", \"\\u0e1a\\u0e48\\u0e2d\\u0e22\", \"\\u0e41\\u0e2d\\u0e1a\", \"\\u0e2b\\u0e49\\u0e32\\u0e21\", \"\\u0e1a\\u0e49\\u0e32\\u0e19\"], \"Freq\": [35.0, 24.0, 18.0, 14.0, 12.0, 13.0, 19.0, 16.0, 15.0, 14.0, 13.0, 16.0, 10.0, 13.0, 17.0, 11.0, 13.0, 10.0, 11.0, 11.0, 11.0, 9.0, 21.0, 9.0, 16.0, 11.0, 10.0, 10.0, 11.0, 18.0, 10.13295927939151, 10.59034166060463, 14.044653774091904, 13.38750869970767, 11.606255187514392, 6.529471840113769, 6.936982403441616, 8.214463100614278, 9.165360037129242, 6.735452364525482, 7.515047982019115, 9.686798108459705, 6.734168886061002, 7.506097120757506, 13.838318550360134, 9.702080250070061, 5.405729378192761, 4.2474912113966585, 4.247355550866733, 9.637579648088831, 6.922238803380785, 6.455708050109339, 6.159991331436873, 4.054356406483549, 10.128947554904556, 11.02834338031842, 4.78571086616446, 3.8622354675459754, 3.6672906026151995, 3.6670493524032923, 8.009431858197859, 4.2455280634258274, 5.695973544253763, 6.88776599335583, 11.567432355963122, 11.384598866755612, 11.53873793274178, 10.203537609799058, 8.685813390696968, 8.885441448480702, 8.55784211327656, 8.85099324187679, 10.665940455761952, 7.682665622167415, 8.367276315577499, 9.231874019065934, 8.042004053947137, 8.836618693131625, 8.127357422120184, 9.087653445028689, 9.600308411444288, 7.208082481820624, 6.179248605916539, 6.005601531855073, 6.004443716372579, 6.0030526545727385, 5.810041326969159, 5.8067337980051486, 8.55451007400542, 6.038824103319277, 8.577250387646021, 11.69850511549249, 8.996680167460232, 9.595436088243034, 5.996134616892289, 5.9346531720111075, 6.169219014270673, 5.616384363940762, 3.439576136568276, 3.439048627177887, 3.4391174588875164, 3.438660885232815, 3.4382448892235282, 6.792647946916413, 3.9523155646013675, 5.498219855892455, 5.727534049109927, 3.7807619964681405, 3.2674616952028748, 7.820593923823799, 6.1803986064451015, 9.213879378632683, 6.008931303380274, 12.167562257374117, 5.442231121324645, 6.143402013382196, 12.18337731953064, 7.363238773729418, 10.289595163172955, 8.281953336082717, 7.32792600266364, 8.100384303335732, 8.901657541454554, 8.915669152703765, 8.362567591639573, 7.253072570455041, 7.495238154838019, 6.489849140728992, 6.815170042997231, 6.711275640828183, 6.422927886761055, 6.526546360941284, 6.404907805295191, 6.331218200072111, 12.385358319896579, 8.428238277346434, 6.0227698179318745, 5.851199889117144, 11.063340107698508, 15.455047074430587, 5.66127696028064, 5.66127696028064, 6.357571282061579, 5.993522935786951, 5.845271540156382, 7.19260904321201, 5.883930217184266, 6.014266748072096, 5.874126564685489, 9.349161371342639, 7.970172951689223, 6.0125430553693935, 6.302508675944582, 4.020673698354655, 6.186094509581896, 6.206622559774897, 3.687580000199404, 6.687355526288157, 3.8004590338991533, 18.291498810382237, 6.013659128364135, 3.3527785360696996, 3.3506350388506654, 3.3504817816542953, 7.597327642342955, 5.414015405708891, 5.152894592516385, 6.976580704251863, 5.821404887116968, 6.780925355262507, 8.47900427288755, 10.853352506309793, 8.515328632461705, 7.2509759946844685, 9.158825549588856, 12.945629367291438, 7.39380448959799, 7.568051310775984, 7.5913265713399944, 6.804293171152953, 7.736212318736555, 6.459191621409955, 7.0412678623008995, 6.445718210318882, 6.3228714487689475, 11.072056780892154, 12.573646506448604, 8.85205932248077, 6.074389401726738, 6.6226865087751605, 6.460205898316597, 6.458205266476342, 5.5988792259346845, 5.594246213439263, 5.7303973817635265, 8.24494025797923, 6.618716240799215, 5.958699343324778, 5.803330274610494, 5.709441467684676, 5.337514428090577, 10.115914811796992, 5.44650828718946, 3.4849028567750424, 3.4843911458705485, 3.484035822384554, 3.318230218163312, 3.313669622904926, 5.176539081757458, 3.8150654386977005, 3.6494184761280173, 3.152229622782429, 3.1517412995459266, 3.151216345022209, 3.1511735145940794, 14.212934931324623, 7.117158165946722, 5.844305468931997, 6.216729003357439, 5.68378604123515, 6.280670887646816, 6.111494077885177, 20.494815215007833, 6.436426557330794, 5.505466625742673, 6.652269936330766, 9.313358249507829, 6.793507217995399, 8.6896542288297, 6.854550158570332, 5.938073674389135, 6.537635986117155, 6.303234633455315, 6.138727467476313, 6.3537181828215505], \"Total\": [35.0, 24.0, 18.0, 14.0, 12.0, 13.0, 19.0, 16.0, 15.0, 14.0, 13.0, 16.0, 10.0, 13.0, 17.0, 11.0, 13.0, 10.0, 11.0, 11.0, 11.0, 9.0, 21.0, 9.0, 16.0, 11.0, 10.0, 10.0, 11.0, 18.0, 11.25453378875865, 11.986767820202964, 16.11074286796346, 15.360715511238606, 13.458048244016274, 7.591695386141566, 8.157224991943197, 9.66583591657569, 10.795279024691173, 7.961713152839862, 8.91070656809395, 11.530316455182275, 8.134200296684421, 9.075186244565586, 16.757279486620792, 11.886762057724567, 6.6250219134096175, 5.300416174712889, 5.300375947736584, 12.044564093703427, 8.66829593755996, 8.093240402513807, 7.731614630942705, 5.107200548965973, 12.762290535051754, 13.897986306961016, 6.040231964473731, 4.914014166504299, 4.7200406357463995, 4.720021509069082, 10.325214666243852, 5.465960423314173, 7.473683963092161, 9.17148297075495, 16.126664673199837, 16.1126941351999, 16.365931641257532, 14.43474682925401, 12.228144676825481, 12.629988622714507, 12.060614480032223, 13.069583439181486, 19.34555329905704, 10.958619504314399, 15.332437059830866, 21.972564599287605, 14.455434146027724, 20.073372512846536, 18.468568813801056, 10.381011329170116, 11.257708654320835, 8.474823384169365, 7.2748349317568755, 7.10184179168463, 7.1017674563726425, 7.1017446233218475, 6.920606036193568, 6.920503594790194, 10.196911366565214, 7.269630292246682, 10.353016709747996, 14.263050419329343, 11.083326781215343, 11.871560034805105, 7.488692182209962, 7.4358031523522845, 7.992940137418252, 7.281580277677074, 4.534580662093566, 4.534495421401172, 4.5345900652156885, 4.534492060201342, 4.534530757501698, 8.964536355473577, 5.216495629195905, 7.2825931795199494, 7.6241721831007565, 5.046266568381264, 4.362164237171516, 10.530138713699863, 8.325297384484639, 12.552225542775954, 8.105496661394199, 17.554799672202947, 7.530487451731031, 8.635382581400869, 18.887919886621116, 10.692407528290104, 15.952044215978855, 13.84456113264938, 11.483856890065205, 13.696194477745728, 16.35522772131527, 16.427408783750042, 18.998956315470036, 15.221938041475, 18.92766343047883, 11.646043522291293, 19.003630750177297, 17.61365336717359, 13.79170662498392, 18.468568813801056, 15.515401751931812, 14.98924628197343, 13.994912105033091, 9.821126106551802, 7.128938662074878, 6.960154235831447, 13.188389805977558, 18.498196511737685, 6.783939547148908, 6.783939547148908, 7.657665670383091, 7.297908506082805, 7.126033733982854, 8.806559955900337, 7.30416986208631, 7.466703142079637, 7.299182955005808, 11.71226375968311, 10.017246652755002, 7.638748840959446, 8.031219738816846, 5.1282102258078215, 8.01520587476443, 8.04549480387368, 4.792749933777081, 8.738807339762321, 4.96841571243529, 24.094590353760182, 7.99134236251291, 4.457352190537316, 4.457254810884003, 4.4572665064994865, 10.1583336299231, 7.341313135325022, 7.003036208041349, 9.685892191478276, 7.980029923039822, 10.403930377187057, 14.599878284450728, 21.972564599287605, 15.098145252914719, 11.66366653463211, 17.61365336717359, 35.691428571626304, 12.664962566318469, 14.152700095962564, 14.393318634172584, 10.83739758500347, 20.073372512846536, 10.479743747808103, 19.34555329905704, 11.296013752624159, 12.762431461400917, 12.192347237982071, 14.054624498860706, 10.049226397813058, 7.246573302997043, 7.907806489265394, 7.73739921645482, 7.741746295563548, 6.730204672259874, 6.730243164408172, 6.905683491203077, 9.949928064413704, 8.071133352612593, 7.410877067083266, 7.264599000229982, 7.270947203078084, 6.919548932978445, 13.140073853482544, 7.107309127177718, 4.592955707665562, 4.593012791120326, 4.592896770990656, 4.426849232893765, 4.42695044670363, 6.925634590609546, 5.117532021908428, 4.930739042645548, 4.26041237360673, 4.260421935075655, 4.260380944607695, 4.2604367716687745, 19.687201628278952, 9.732116963337546, 8.016350688157797, 8.607598609817074, 7.863900329683411, 8.971999948722335, 8.85325428877681, 35.691428571626304, 9.726407937058386, 8.166472276151204, 10.489329039799202, 17.81485621835223, 11.15306275275396, 18.16968237290016, 12.547430656527347, 9.693505495544164, 19.054123859204196, 16.35522772131527, 13.79170662498392, 18.92766343047883], \"Category\": [\"Default\", \"Default\", \"Default\", \"Default\", \"Default\", \"Default\", \"Default\", \"Default\", \"Default\", \"Default\", \"Default\", \"Default\", \"Default\", \"Default\", \"Default\", \"Default\", \"Default\", \"Default\", \"Default\", \"Default\", \"Default\", \"Default\", \"Default\", \"Default\", \"Default\", \"Default\", \"Default\", \"Default\", \"Default\", \"Default\", \"Topic1\", \"Topic1\", \"Topic1\", \"Topic1\", \"Topic1\", \"Topic1\", \"Topic1\", \"Topic1\", \"Topic1\", \"Topic1\", \"Topic1\", \"Topic1\", \"Topic1\", \"Topic1\", \"Topic1\", \"Topic1\", \"Topic1\", \"Topic1\", \"Topic1\", \"Topic1\", \"Topic1\", \"Topic1\", \"Topic1\", \"Topic1\", \"Topic1\", \"Topic1\", \"Topic1\", \"Topic1\", \"Topic1\", \"Topic1\", \"Topic1\", \"Topic1\", \"Topic1\", \"Topic1\", \"Topic1\", \"Topic1\", \"Topic1\", \"Topic1\", \"Topic1\", \"Topic1\", \"Topic1\", \"Topic1\", \"Topic1\", \"Topic1\", \"Topic1\", \"Topic1\", \"Topic1\", \"Topic1\", \"Topic1\", \"Topic2\", \"Topic2\", \"Topic2\", \"Topic2\", \"Topic2\", \"Topic2\", \"Topic2\", \"Topic2\", \"Topic2\", \"Topic2\", \"Topic2\", \"Topic2\", \"Topic2\", \"Topic2\", \"Topic2\", \"Topic2\", \"Topic2\", \"Topic2\", \"Topic2\", \"Topic2\", \"Topic2\", \"Topic2\", \"Topic2\", \"Topic2\", \"Topic2\", \"Topic2\", \"Topic2\", \"Topic2\", \"Topic2\", \"Topic2\", \"Topic2\", \"Topic2\", \"Topic2\", \"Topic2\", \"Topic2\", \"Topic2\", \"Topic2\", \"Topic2\", \"Topic2\", \"Topic2\", \"Topic2\", \"Topic2\", \"Topic2\", \"Topic2\", \"Topic2\", \"Topic2\", \"Topic2\", \"Topic2\", \"Topic2\", \"Topic2\", \"Topic2\", \"Topic2\", \"Topic2\", \"Topic2\", \"Topic2\", \"Topic3\", \"Topic3\", \"Topic3\", \"Topic3\", \"Topic3\", \"Topic3\", \"Topic3\", \"Topic3\", \"Topic3\", \"Topic3\", \"Topic3\", \"Topic3\", \"Topic3\", \"Topic3\", \"Topic3\", \"Topic3\", \"Topic3\", \"Topic3\", \"Topic3\", \"Topic3\", \"Topic3\", \"Topic3\", \"Topic3\", \"Topic3\", \"Topic3\", \"Topic3\", \"Topic3\", \"Topic3\", \"Topic3\", \"Topic3\", \"Topic3\", \"Topic3\", \"Topic3\", \"Topic3\", \"Topic3\", \"Topic3\", \"Topic3\", \"Topic3\", \"Topic3\", \"Topic3\", \"Topic3\", \"Topic3\", \"Topic3\", \"Topic3\", \"Topic3\", \"Topic3\", \"Topic3\", \"Topic3\", \"Topic3\", \"Topic3\", \"Topic3\", \"Topic4\", \"Topic4\", \"Topic4\", \"Topic4\", \"Topic4\", \"Topic4\", \"Topic4\", \"Topic4\", \"Topic4\", \"Topic4\", \"Topic4\", \"Topic4\", \"Topic4\", \"Topic4\", \"Topic4\", \"Topic4\", \"Topic4\", \"Topic4\", \"Topic4\", \"Topic4\", \"Topic4\", \"Topic4\", \"Topic4\", \"Topic4\", \"Topic4\", \"Topic4\", \"Topic4\", \"Topic4\", \"Topic4\", \"Topic4\", \"Topic4\", \"Topic4\", \"Topic4\", \"Topic4\", \"Topic4\", \"Topic4\", \"Topic4\", \"Topic4\", \"Topic4\", \"Topic4\", \"Topic4\", \"Topic4\", \"Topic4\", \"Topic4\", \"Topic4\", \"Topic4\", \"Topic4\", \"Topic4\", \"Topic4\", \"Topic4\"], \"logprob\": [30.0, 29.0, 28.0, 27.0, 26.0, 25.0, 24.0, 23.0, 22.0, 21.0, 20.0, 19.0, 18.0, 17.0, 16.0, 15.0, 14.0, 13.0, 12.0, 11.0, 10.0, 9.0, 8.0, 7.0, 6.0, 5.0, 4.0, 3.0, 2.0, 1.0, -5.6688, -5.6246, -5.3423, -5.3902, -5.533, -6.1082, -6.0477, -5.8787, -5.7691, -6.0772, -5.9677, -5.7138, -6.0774, -5.9689, -5.3571, -5.7122, -6.2971, -6.5382, -6.5383, -5.7189, -6.0498, -6.1196, -6.1665, -6.5848, -5.6692, -5.5841, -6.4189, -6.6333, -6.6851, -6.6852, -5.9039, -6.5387, -6.2448, -6.0548, -5.5364, -5.5523, -5.5389, -5.6618, -5.8229, -5.8002, -5.8377, -5.804, -5.6175, -5.9456, -5.8602, -5.7619, -5.8999, -5.8057, -5.8893, -5.6494, -5.5945, -5.8811, -6.0351, -6.0636, -6.0638, -6.064, -6.0967, -6.0973, -5.7098, -6.0581, -5.7072, -5.3968, -5.6594, -5.595, -6.0652, -6.0755, -6.0367, -6.1306, -6.6209, -6.6211, -6.6211, -6.6212, -6.6213, -5.9404, -6.482, -6.1519, -6.111, -6.5264, -6.6723, -5.7995, -6.0349, -5.6356, -6.063, -5.3575, -6.1621, -6.0409, -5.3562, -5.8598, -5.5252, -5.7422, -5.8646, -5.7644, -5.6701, -5.6685, -5.7325, -5.8749, -5.842, -5.986, -5.9371, -5.9525, -5.9964, -5.9804, -5.9992, -6.0108, -5.3395, -5.7245, -6.0605, -6.0894, -5.4524, -5.1181, -6.1224, -6.1224, -6.0064, -6.0654, -6.0904, -5.883, -6.0838, -6.0619, -6.0855, -5.6208, -5.7803, -6.0622, -6.0151, -6.4646, -6.0337, -6.0304, -6.5511, -5.9558, -6.5209, -4.9496, -6.062, -6.6463, -6.6469, -6.6469, -5.8283, -6.1671, -6.2165, -5.9135, -6.0945, -5.9419, -5.7185, -5.4716, -5.7142, -5.8749, -5.6413, -5.2953, -5.8554, -5.8321, -5.829, -5.9385, -5.8101, -5.9905, -5.9043, -5.9926, -6.0119, -5.3873, -5.2601, -5.6111, -5.9876, -5.9012, -5.9261, -5.9264, -6.0691, -6.07, -6.0459, -5.6821, -5.9018, -6.0069, -6.0333, -6.0496, -6.117, -5.4776, -6.0967, -6.5433, -6.5434, -6.5435, -6.5923, -6.5937, -6.1476, -6.4528, -6.4971, -6.6436, -6.6438, -6.6439, -6.6439, -5.1376, -5.8292, -6.0262, -5.9645, -6.0541, -5.9542, -5.9815, -4.7715, -5.9297, -6.086, -5.8968, -5.5603, -5.8757, -5.6296, -5.8668, -6.0103, -5.9141, -5.9507, -5.9771, -5.9427], \"loglift\": [30.0, 29.0, 28.0, 27.0, 26.0, 25.0, 24.0, 23.0, 22.0, 21.0, 20.0, 19.0, 18.0, 17.0, 16.0, 15.0, 14.0, 13.0, 12.0, 11.0, 10.0, 9.0, 8.0, 7.0, 6.0, 5.0, 4.0, 3.0, 2.0, 1.0, 1.1714, 1.1525, 1.1391, 1.1389, 1.1283, 1.1256, 1.1143, 1.1137, 1.1127, 1.1091, 1.106, 1.1022, 1.0875, 1.0865, 1.085, 1.0733, 1.073, 1.0549, 1.0549, 1.0534, 1.0514, 1.0503, 1.0491, 1.0455, 1.0453, 1.0451, 1.0436, 1.0355, 1.024, 1.0239, 1.0224, 1.0237, 1.0047, 0.99, 0.9441, 0.929, 0.9269, 0.9295, 0.9343, 0.9247, 0.9333, 0.8866, 0.681, 0.9212, 0.6707, 0.4092, 0.69, 0.4559, 0.4555, 1.2716, 1.2454, 1.2428, 1.2414, 1.237, 1.2368, 1.2366, 1.2297, 1.2292, 1.229, 1.2192, 1.2165, 1.2064, 1.1961, 1.1918, 1.1824, 1.1792, 1.1457, 1.145, 1.1283, 1.1281, 1.1281, 1.128, 1.1279, 1.1272, 1.1271, 1.1236, 1.1186, 1.1159, 1.1157, 1.1072, 1.1067, 1.0955, 1.1054, 1.0381, 1.0799, 1.0642, 0.9662, 1.0316, 0.9662, 0.8908, 0.9554, 0.8794, 0.7963, 0.7935, 0.584, 0.6633, 0.4783, 0.8199, 0.3792, 0.4398, 0.6405, 0.3645, 0.5199, 0.5428, 1.2827, 1.2519, 1.2363, 1.2313, 1.2292, 1.2251, 1.224, 1.224, 1.2188, 1.208, 1.2068, 1.2024, 1.1887, 1.1886, 1.1877, 1.1795, 1.1763, 1.1655, 1.1625, 1.1616, 1.1458, 1.1454, 1.1428, 1.1373, 1.1369, 1.1293, 1.1206, 1.1201, 1.1195, 1.1195, 1.1144, 1.1004, 1.0981, 1.0768, 1.0895, 0.9768, 0.8615, 0.6996, 0.8322, 0.9295, 0.7509, 0.3907, 0.8667, 0.7789, 0.7651, 0.9394, 0.4514, 0.9209, 0.3942, 0.8439, 0.7026, 1.3728, 1.3579, 1.3424, 1.2928, 1.2919, 1.2888, 1.2879, 1.2852, 1.2844, 1.2827, 1.2813, 1.2708, 1.2511, 1.2446, 1.2275, 1.2096, 1.2077, 1.2031, 1.1931, 1.193, 1.1929, 1.181, 1.1796, 1.1781, 1.1755, 1.1683, 1.168, 1.1678, 1.1677, 1.1676, 1.1434, 1.1563, 1.1532, 1.1438, 1.1446, 1.1126, 1.0986, 0.9145, 1.0564, 1.0749, 1.0138, 0.8206, 0.9735, 0.7316, 0.8646, 0.9792, 0.3995, 0.5157, 0.6598, 0.3776]}, \"token.table\": {\"Topic\": [4, 1, 2, 4, 4, 1, 2, 3, 4, 1, 2, 3, 4, 1, 2, 3, 4, 1, 2, 3, 4, 1, 2, 3, 1, 2, 3, 4, 3, 3, 1, 2, 3, 4, 1, 2, 3, 2, 2, 3, 4, 1, 4, 3, 1, 2, 3, 1, 2, 3, 4, 4, 1, 3, 4, 1, 2, 4, 1, 2, 3, 1, 2, 3, 4, 2, 3, 1, 2, 2, 3, 1, 2, 3, 4, 4, 1, 2, 3, 4, 1, 1, 3, 4, 2, 3, 1, 2, 4, 2, 3, 4, 1, 2, 3, 4, 2, 3, 4, 1, 2, 3, 1, 2, 3, 4, 1, 2, 3, 4, 1, 2, 4, 3, 4, 1, 3, 4, 1, 2, 3, 4, 4, 1, 2, 3, 4, 1, 2, 1, 2, 3, 4, 4, 3, 4, 4, 1, 2, 3, 4, 1, 2, 3, 1, 2, 3, 4, 1, 2, 3, 4, 4, 2, 1, 2, 3, 4, 1, 1, 3, 4, 2, 3, 4, 1, 2, 4, 1, 2, 3, 1, 1, 2, 4, 2, 4, 1, 3, 1, 3, 4, 1, 3, 4, 3, 3, 2, 3, 4, 2, 3, 4, 1, 2, 3, 1, 1, 2, 4, 3, 1, 2, 3, 1, 2, 3, 4, 1, 2, 3, 2, 3, 1, 1, 4, 1, 4, 1, 3, 4, 2, 3, 2, 1, 3, 1, 2, 4, 1, 2, 3, 4, 1, 2, 3, 4, 1, 2, 3, 4, 3, 2, 4, 1, 2, 3, 4, 1, 2, 2, 2, 2, 3, 4, 1, 2, 4, 1, 2, 3, 4, 1, 2, 3, 4, 1, 3, 4, 2, 3, 4, 1, 2, 3, 4, 3, 2, 1, 2, 3, 4, 1, 2, 3, 4, 1, 2, 4, 1, 2, 3, 4, 1, 3, 4, 1, 2, 3, 4, 2, 3, 4, 1, 2, 3, 4, 1, 2, 4, 1, 4, 1, 2, 4, 1, 2, 4, 1, 2, 4, 1, 2, 3, 4, 1, 2, 3, 4, 1, 2, 4, 1, 3, 4, 1, 3, 4, 3, 4, 1, 2, 3, 4, 4, 1, 2, 3, 4, 2, 1, 2, 3, 4, 2, 2, 3, 1, 1, 2, 3, 2, 1, 2, 3, 4, 4, 1, 2, 3, 4, 1, 2, 3, 2, 3, 1, 4, 1, 2, 3, 4, 2, 1, 4, 1, 2, 1, 2, 3, 4, 1, 2, 3, 4, 1, 2, 3, 4, 1, 2, 3, 4, 2, 3, 4, 2, 3, 4, 1, 2, 3, 4, 2, 1, 2, 3, 4, 2, 3, 4, 4, 1, 2, 3, 1, 4, 2, 3, 4, 4, 1, 4, 2, 4, 1, 3, 4, 3, 2, 4, 1, 3, 4, 3, 1, 4, 1, 2, 3, 4, 1, 2, 3, 4, 1, 2, 4, 2, 4, 1, 2, 4, 1, 2, 3, 1, 2, 3, 4, 1, 2, 3, 4, 1, 2, 3, 4, 1, 2, 3, 3, 1, 2, 4, 1, 2, 3, 4, 1, 2, 3, 4, 2, 1, 2, 3, 2, 1, 2, 3, 4, 1, 3, 4, 1, 4, 1, 2, 3, 4, 1, 3], \"Freq\": [0.677682894124439, 0.09533498245748072, 0.28600494737244214, 0.667344877202365, 0.8915033482904934, 0.7441092279882429, 0.06200910233235357, 0.18602730699706072, 0.06200910233235357, 0.18704861320599456, 0.654670146220981, 0.09352430660299728, 0.09352430660299728, 0.11145786956256122, 0.11145786956256122, 0.11145786956256122, 0.6687472173753674, 0.15933429439937352, 0.7170043247971809, 0.07966714719968676, 0.07966714719968676, 0.13731372539278894, 0.6865686269639447, 0.13731372539278894, 0.24349549296884798, 0.5478648591799079, 0.060873873242211995, 0.182621619726636, 0.6730600172721588, 0.7799992246554011, 0.7832079358641709, 0.09844134249089141, 0.7875307399271313, 0.09844134249089141, 0.8075404958971014, 0.11536292798530019, 0.11536292798530019, 0.8448628214954729, 0.26898440961961123, 0.08966146987320374, 0.6276302891124261, 0.7318018591826324, 0.1829504647956581, 0.8844418436071745, 0.08882802270923833, 0.8882802270923833, 0.08882802270923833, 0.13621541290592654, 0.13621541290592654, 0.6810770645296327, 0.13621541290592654, 0.8955913265083376, 0.13765384709718212, 0.13765384709718212, 0.8259230825830927, 0.09496551063463063, 0.759724085077045, 0.09496551063463063, 0.8336977654227394, 0.09263308504697104, 0.09263308504697104, 0.14446106170049955, 0.5778442468019982, 0.21669159255074932, 0.07223053085024977, 0.8069067829077651, 0.13448446381796084, 0.7760345395368508, 0.12933908992280846, 0.8259759150940801, 0.1179965592991543, 0.774802293084941, 0.09685028663561762, 0.09685028663561762, 0.09685028663561762, 0.6531660451283527, 0.39416794258732923, 0.4598625996852174, 0.1313893141957764, 0.6531825446085349, 0.9220601781228354, 0.11443209137360363, 0.8010246396152254, 0.11443209137360363, 0.7926652200783589, 0.19816630501958973, 0.7332304853179711, 0.24441016177265704, 0.06110254044316426, 0.8693118394685824, 0.09659020438539803, 0.7041531563030161, 0.1683987770223768, 0.0561329256741256, 0.2245317026965024, 0.5051963310671305, 0.7808546613485406, 0.11155066590693437, 0.11155066590693437, 0.1327935284946435, 0.6639676424732175, 0.1327935284946435, 0.7835584037626242, 0.07835584037626242, 0.07835584037626242, 0.07835584037626242, 0.2055051339327633, 0.10275256696638164, 0.10275256696638164, 0.7192679687646715, 0.12511040778581428, 0.7506624467148857, 0.12511040778581428, 0.12389833698836163, 0.8672883589185314, 0.868985379180701, 0.062070384227192923, 0.062070384227192923, 0.12011582935927796, 0.7206949761556678, 0.12011582935927796, 0.12011582935927796, 0.8279775487151307, 0.06623330106106566, 0.13246660212213132, 0.596099709549591, 0.198699903183197, 0.09632972822118503, 0.8669675539906653, 0.05696447801585823, 0.6835737361902987, 0.22785791206343292, 0.05696447801585823, 0.868849550901544, 0.1292423942496517, 0.7754543654979101, 0.9022052755955289, 0.4331683781594283, 0.37902233088949977, 0.05414604726992854, 0.1624381418097856, 0.27681922495409117, 0.09227307498469706, 0.6459115248928794, 0.31489246340243915, 0.052482077233739856, 0.2624103861686993, 0.367374540636179, 0.21133089219871068, 0.3698290613477437, 0.05283272304967767, 0.316996338298066, 0.7041623833655201, 0.6615826740228132, 0.3424686084763554, 0.06849372169527108, 0.5479497735621687, 0.06849372169527108, 0.8139984673356152, 0.4096017085002357, 0.500624310389177, 0.09102260188894128, 0.27790672197746036, 0.5558134439549207, 0.13895336098873018, 0.13733282637364727, 0.8239969582418837, 0.13733282637364727, 0.1427952062923413, 0.1427952062923413, 0.7139760314617065, 0.8885308079121221, 0.07610307302306125, 0.1522061460461225, 0.7610307302306126, 0.14439110047126916, 0.7219555023563459, 0.10182131755063067, 0.8145705404050454, 0.5534250939255503, 0.06917813674069379, 0.3458906837034689, 0.6886217944038503, 0.07651353271153892, 0.22954059813461677, 0.8844418436071745, 0.8221533601029667, 0.7402384148250282, 0.1233730691375047, 0.1233730691375047, 0.1253128133157515, 0.7518768798945089, 0.1253128133157515, 0.13116178071326023, 0.7869706842795614, 0.13116178071326023, 0.8474503311913677, 0.13753366268106856, 0.13753366268106856, 0.8252019760864113, 0.6730453129480806, 0.8977963687689072, 0.1122245460961134, 0.1122245460961134, 0.19223504267055141, 0.09611752133527571, 0.6728226493469299, 0.09611752133527571, 0.282631580749818, 0.141315790374909, 0.565263161499636, 0.13700163513701163, 0.8220098108220697, 0.8474537652666142, 0.12474504159071485, 0.7484702495442891, 0.8277827787753904, 0.16555655575507808, 0.10050323917180246, 0.10050323917180246, 0.8040259133744196, 0.07145453951371104, 0.8574544741645326, 0.8253514633886144, 0.8463147429876299, 0.06510113407597153, 0.7360069935267128, 0.08177855483630142, 0.16355710967260284, 0.08538059085061592, 0.08538059085061592, 0.7684253176555432, 0.08538059085061592, 0.06268789043339783, 0.6268789043339783, 0.06268789043339783, 0.18806367130019347, 0.07969759127377893, 0.3187903650951157, 0.07969759127377893, 0.5578831389164525, 0.8620498622159127, 0.2028093540037475, 0.81123741601499, 0.11617642101241657, 0.11617642101241657, 0.11617642101241657, 0.6970585260744994, 0.34346428401574636, 0.5151964260236196, 0.661589955043739, 0.8247609816970786, 0.8423492759740038, 0.08423492759740038, 0.08423492759740038, 0.7546577227431902, 0.14451809065675048, 0.7225904532837524, 0.26558041320577136, 0.08852680440192379, 0.5311608264115427, 0.08852680440192379, 0.10811864814664161, 0.05405932407332081, 0.8108898610998121, 0.05405932407332081, 0.2201469413667873, 0.27518367670848415, 0.49533061807527146, 0.13392791717730973, 0.8035675030638585, 0.13392791717730973, 0.71258971554526, 0.15835327012116887, 0.07917663506058444, 0.07917663506058444, 0.8345939294286675, 0.6615813021363607, 0.10324294140707119, 0.10324294140707119, 0.7227005898494984, 0.10324294140707119, 0.5686061199674332, 0.05169146545158483, 0.36184025816109383, 0.05169146545158483, 0.20632370827244537, 0.10316185413622268, 0.6189711248173361, 0.841271992443185, 0.0841271992443185, 0.0841271992443185, 0.0841271992443185, 0.8672788850912693, 0.08672788850912694, 0.08672788850912694, 0.0902256172483209, 0.8120305552348881, 0.0902256172483209, 0.0902256172483209, 0.1309114909810803, 0.7854689458864818, 0.1309114909810803, 0.20751545996795517, 0.041503091993591035, 0.7470556558846386, 0.7041571887700381, 0.36844129139347515, 0.421075761592543, 0.15790341059720361, 0.8028169279876214, 0.13380282133127022, 0.09806891165877082, 0.8826202049289373, 0.09806891165877082, 0.9176785739905776, 0.08342532490823433, 0.08342532490823433, 0.8605640068702597, 0.12293771526717995, 0.12293771526717995, 0.06671449525801931, 0.4002869715481159, 0.26685798103207725, 0.20014348577405794, 0.07895799097420358, 0.07895799097420358, 0.5527059368194251, 0.23687397292261078, 0.07250734279603094, 0.43504405677618563, 0.43504405677618563, 0.4483551527896067, 0.3985379135907615, 0.14945171759653555, 0.10158884120570869, 0.15238326180856304, 0.7111218884399608, 0.8419831036424948, 0.14033051727374915, 0.6826915416937833, 0.06206286742670758, 0.18618860228012274, 0.06206286742670758, 0.8914982495328032, 0.7300189587612205, 0.09125236984515256, 0.09125236984515256, 0.09125236984515256, 0.8448512619677406, 0.8302500548963603, 0.08302500548963603, 0.08302500548963603, 0.08302500548963603, 0.6615956010444074, 0.6095513090254344, 0.26123627529661475, 0.7546634501856642, 0.7632353483423407, 0.10903362119176296, 0.10903362119176296, 0.8669760955357149, 0.1129528156971263, 0.1129528156971263, 0.1129528156971263, 0.6777168941827578, 0.6531741629889992, 0.36835066372433556, 0.36835066372433556, 0.052621523389190794, 0.21048609355676318, 0.12451408783733756, 0.12451408783733756, 0.7470845270240254, 0.1369080975499613, 0.8214485852997679, 0.7413594186744243, 0.12355990311240406, 0.7462306348404194, 0.08291451498226882, 0.08291451498226882, 0.16582902996453763, 0.6877320148645386, 0.8276573354903541, 0.10345716693629427, 0.1335346647543595, 0.8012079885261568, 0.07582426776214607, 0.07582426776214607, 0.8340669453836068, 0.07582426776214607, 0.05294389249862978, 0.6353267099835573, 0.10588778499725957, 0.21177556999451913, 0.7914815684118558, 0.07195286985562326, 0.07195286985562326, 0.07195286985562326, 0.17147266634051478, 0.08573633317025739, 0.6001543321918017, 0.17147266634051478, 0.11355171656215281, 0.7948620159350697, 0.11355171656215281, 0.8413347528897152, 0.07011122940747626, 0.07011122940747626, 0.12513542214021048, 0.12513542214021048, 0.7508125328412629, 0.12513542214021048, 0.8669889290306625, 0.8354578087199515, 0.05967555776571082, 0.05967555776571082, 0.11935111553142164, 0.13493679505785874, 0.13493679505785874, 0.8096207703471525, 0.7041556084624578, 0.12429316336374091, 0.12429316336374091, 0.7457589801824455, 0.8792077616490329, 0.1256011088070047, 0.05603586295197902, 0.36423310918786367, 0.5603586295197902, 0.6776674001927991, 0.7547144847746945, 0.1509428969549389, 0.7667983037525479, 0.19169957593813697, 0.6927728015107004, 0.20783184045321013, 0.06927728015107004, 0.6730582512007005, 0.1264573180132151, 0.8852012260925057, 0.1271633614461462, 0.1271633614461462, 0.7629801686768772, 0.8050856110909816, 0.858134967089154, 0.12259070958416486, 0.8815246083561723, 0.11019057604452154, 0.11019057604452154, 0.11019057604452154, 0.10281287875968276, 0.10281287875968276, 0.10281287875968276, 0.6168772725580965, 0.07115095818326998, 0.07115095818326998, 0.9249624563825098, 0.12916982316677772, 0.7750189390006663, 0.061142529901722524, 0.5502827691155027, 0.36685517941033513, 0.1567099502981748, 0.3134199005963496, 0.47012985089452436, 0.1158026283808002, 0.6948157702848012, 0.1158026283808002, 0.1158026283808002, 0.12245189430451264, 0.12245189430451264, 0.12245189430451264, 0.7347113658270759, 0.14070022593728038, 0.14070022593728038, 0.14070022593728038, 0.703501129686402, 0.286266541643966, 0.09542218054798865, 0.572533083287932, 0.8416400090407987, 0.8916597549971964, 0.0743049795830997, 0.0743049795830997, 0.3222604274090069, 0.38671251289080827, 0.25780834192720553, 0.06445208548180138, 0.521769629236505, 0.39132722192737873, 0.06522120365456313, 0.06522120365456313, 0.8448601051581897, 0.056774138740784526, 0.3974189711854917, 0.5109672486670608, 0.6615951106359241, 0.07301298193632186, 0.5841038554905749, 0.21903894580896557, 0.14602596387264372, 0.12476285894894626, 0.7485771536936776, 0.12476285894894626, 0.1954066912955203, 0.7816267651820812, 0.09982783040736788, 0.09982783040736788, 0.798622643258943, 0.09982783040736788, 0.13058809865095258, 0.7835285919057154], \"Term\": [\"I\", \"\\u0e01\\u0e14\", \"\\u0e01\\u0e14\", \"\\u0e01\\u0e14\", \"\\u0e01\\u0e14\\u0e1b\\u0e38\\u0e48\\u0e21\", \"\\u0e01\\u0e25\\u0e31\\u0e1a\", \"\\u0e01\\u0e25\\u0e31\\u0e1a\", \"\\u0e01\\u0e25\\u0e31\\u0e1a\", \"\\u0e01\\u0e25\\u0e31\\u0e1a\", \"\\u0e01\\u0e25\\u0e31\\u0e1a\\u0e21\\u0e32\", \"\\u0e01\\u0e25\\u0e31\\u0e1a\\u0e21\\u0e32\", \"\\u0e01\\u0e25\\u0e31\\u0e1a\\u0e21\\u0e32\", \"\\u0e01\\u0e25\\u0e31\\u0e1a\\u0e21\\u0e32\", \"\\u0e01\\u0e25\\u0e32\\u0e22\\u0e40\\u0e1b\\u0e47\\u0e19\", \"\\u0e01\\u0e25\\u0e32\\u0e22\\u0e40\\u0e1b\\u0e47\\u0e19\", \"\\u0e01\\u0e25\\u0e32\\u0e22\\u0e40\\u0e1b\\u0e47\\u0e19\", \"\\u0e01\\u0e25\\u0e32\\u0e22\\u0e40\\u0e1b\\u0e47\\u0e19\", \"\\u0e02\\u0e19\\u0e32\\u0e14\", \"\\u0e02\\u0e19\\u0e32\\u0e14\", \"\\u0e02\\u0e19\\u0e32\\u0e14\", \"\\u0e02\\u0e19\\u0e32\\u0e14\", \"\\u0e02\\u0e31\\u0e1a\\u0e23\\u0e16\", \"\\u0e02\\u0e31\\u0e1a\\u0e23\\u0e16\", \"\\u0e02\\u0e31\\u0e1a\\u0e23\\u0e16\", \"\\u0e02\\u0e32\\u0e14\", \"\\u0e02\\u0e32\\u0e14\", \"\\u0e02\\u0e32\\u0e14\", \"\\u0e02\\u0e32\\u0e14\", \"\\u0e02\\u0e36\\u0e49\\u0e19\\u0e04\\u0e32\\u0e19\", \"\\u0e02\\u0e36\\u0e49\\u0e19\\u0e2d\\u0e22\\u0e39\\u0e48\\u0e01\\u0e31\\u0e1a\", \"\\u0e04\\u0e19\\u0e42\\u0e1b\\u0e23\\u0e14\", \"\\u0e04\\u0e27\\u0e32\\u0e21\\u0e04\\u0e34\\u0e14\", \"\\u0e04\\u0e27\\u0e32\\u0e21\\u0e04\\u0e34\\u0e14\", \"\\u0e04\\u0e27\\u0e32\\u0e21\\u0e04\\u0e34\\u0e14\", \"\\u0e04\\u0e27\\u0e32\\u0e21\\u0e17\\u0e23\\u0e07\\u0e08\\u0e33\", \"\\u0e04\\u0e27\\u0e32\\u0e21\\u0e17\\u0e23\\u0e07\\u0e08\\u0e33\", \"\\u0e04\\u0e27\\u0e32\\u0e21\\u0e17\\u0e23\\u0e07\\u0e08\\u0e33\", \"\\u0e04\\u0e27\\u0e32\\u0e21\\u0e1c\\u0e34\\u0e14\", \"\\u0e04\\u0e27\\u0e32\\u0e21\\u0e1d\\u0e31\\u0e19\", \"\\u0e04\\u0e27\\u0e32\\u0e21\\u0e1d\\u0e31\\u0e19\", \"\\u0e04\\u0e27\\u0e32\\u0e21\\u0e1d\\u0e31\\u0e19\", \"\\u0e04\\u0e27\\u0e32\\u0e21\\u0e40\\u0e2b\\u0e07\\u0e32\", \"\\u0e04\\u0e27\\u0e32\\u0e21\\u0e40\\u0e2b\\u0e07\\u0e32\", \"\\u0e04\\u0e27\\u0e32\\u0e21\\u0e40\\u0e2b\\u0e47\\u0e19\\u0e2d\\u0e01\\u0e40\\u0e2b\\u0e47\\u0e19\\u0e43\\u0e08\", \"\\u0e04\\u0e33\\u0e1e\\u0e39\\u0e14\", \"\\u0e04\\u0e33\\u0e1e\\u0e39\\u0e14\", \"\\u0e04\\u0e33\\u0e1e\\u0e39\\u0e14\", \"\\u0e04\\u0e34\\u0e14\\u0e21\\u0e32\\u0e01\", \"\\u0e04\\u0e34\\u0e14\\u0e21\\u0e32\\u0e01\", \"\\u0e04\\u0e34\\u0e14\\u0e21\\u0e32\\u0e01\", \"\\u0e04\\u0e34\\u0e14\\u0e21\\u0e32\\u0e01\", \"\\u0e04\\u0e39\\u0e48\", \"\\u0e04\\u0e49\\u0e19\\u0e2b\\u0e32\", \"\\u0e04\\u0e49\\u0e19\\u0e2b\\u0e32\", \"\\u0e04\\u0e49\\u0e19\\u0e2b\\u0e32\", \"\\u0e07\\u0e32\\u0e19\", \"\\u0e07\\u0e32\\u0e19\", \"\\u0e07\\u0e32\\u0e19\", \"\\u0e08\\u0e19\\u0e01\\u0e27\\u0e48\\u0e32\", \"\\u0e08\\u0e19\\u0e01\\u0e27\\u0e48\\u0e32\", \"\\u0e08\\u0e19\\u0e01\\u0e27\\u0e48\\u0e32\", \"\\u0e08\\u0e33\", \"\\u0e08\\u0e33\", \"\\u0e08\\u0e33\", \"\\u0e08\\u0e33\", \"\\u0e08\\u0e48\\u0e32\\u0e22\", \"\\u0e08\\u0e48\\u0e32\\u0e22\", \"\\u0e08\\u0e49\\u0e2d\\u0e07\", \"\\u0e08\\u0e49\\u0e2d\\u0e07\", \"\\u0e0a\\u0e19\\u0e30\", \"\\u0e0a\\u0e19\\u0e30\", \"\\u0e0a\\u0e31\\u0e14\\u0e40\\u0e08\\u0e19\", \"\\u0e0a\\u0e31\\u0e14\\u0e40\\u0e08\\u0e19\", \"\\u0e0a\\u0e31\\u0e14\\u0e40\\u0e08\\u0e19\", \"\\u0e0a\\u0e31\\u0e14\\u0e40\\u0e08\\u0e19\", \"\\u0e0a\\u0e32\\u0e15\\u0e34\", \"\\u0e0b\\u0e37\\u0e49\\u0e2d\", \"\\u0e0b\\u0e37\\u0e49\\u0e2d\", \"\\u0e0b\\u0e37\\u0e49\\u0e2d\", \"\\u0e0b\\u0e49\\u0e33\", \"\\u0e14\\u0e27\\u0e07\\u0e15\\u0e32\", \"\\u0e14\\u0e39\\u0e41\\u0e25\", \"\\u0e14\\u0e39\\u0e41\\u0e25\", \"\\u0e14\\u0e39\\u0e41\\u0e25\", \"\\u0e15\\u0e23\\u0e07\\u0e19\\u0e35\\u0e49\", \"\\u0e15\\u0e23\\u0e07\\u0e19\\u0e35\\u0e49\", \"\\u0e15\\u0e32\\u0e22\", \"\\u0e15\\u0e32\\u0e22\", \"\\u0e15\\u0e32\\u0e22\", \"\\u0e15\\u0e34\\u0e14\", \"\\u0e15\\u0e34\\u0e14\", \"\\u0e15\\u0e34\\u0e14\\u0e15\\u0e32\\u0e21\", \"\\u0e15\\u0e48\\u0e2d\", \"\\u0e15\\u0e48\\u0e2d\", \"\\u0e15\\u0e48\\u0e2d\", \"\\u0e15\\u0e48\\u0e2d\", \"\\u0e15\\u0e48\\u0e32\\u0e07\", \"\\u0e15\\u0e48\\u0e32\\u0e07\", \"\\u0e15\\u0e48\\u0e32\\u0e07\", \"\\u0e16\\u0e19\\u0e31\\u0e14\", \"\\u0e16\\u0e19\\u0e31\\u0e14\", \"\\u0e16\\u0e19\\u0e31\\u0e14\", \"\\u0e17\\u0e31\\u0e01\", \"\\u0e17\\u0e31\\u0e01\", \"\\u0e17\\u0e31\\u0e01\", \"\\u0e17\\u0e31\\u0e01\", \"\\u0e17\\u0e31\\u0e49\\u0e07\", \"\\u0e17\\u0e31\\u0e49\\u0e07\", \"\\u0e17\\u0e31\\u0e49\\u0e07\", \"\\u0e17\\u0e31\\u0e49\\u0e07\", \"\\u0e17\\u0e31\\u0e49\\u0e07\\u0e2b\\u0e21\\u0e14\", \"\\u0e17\\u0e31\\u0e49\\u0e07\\u0e2b\\u0e21\\u0e14\", \"\\u0e17\\u0e31\\u0e49\\u0e07\\u0e2b\\u0e21\\u0e14\", \"\\u0e17\\u0e33\\u0e14\\u0e35\", \"\\u0e17\\u0e33\\u0e14\\u0e35\", \"\\u0e17\\u0e33\\u0e23\\u0e49\\u0e32\\u0e22\", \"\\u0e17\\u0e33\\u0e23\\u0e49\\u0e32\\u0e22\", \"\\u0e17\\u0e33\\u0e23\\u0e49\\u0e32\\u0e22\", \"\\u0e17\\u0e35\\u0e48\\u0e1c\\u0e48\\u0e32\\u0e19\\u0e21\\u0e32\", \"\\u0e17\\u0e35\\u0e48\\u0e1c\\u0e48\\u0e32\\u0e19\\u0e21\\u0e32\", \"\\u0e17\\u0e35\\u0e48\\u0e1c\\u0e48\\u0e32\\u0e19\\u0e21\\u0e32\", \"\\u0e17\\u0e35\\u0e48\\u0e1c\\u0e48\\u0e32\\u0e19\\u0e21\\u0e32\", \"\\u0e17\\u0e48\\u0e32\", \"\\u0e19\\u0e31\\u0e48\\u0e07\", \"\\u0e19\\u0e31\\u0e48\\u0e07\", \"\\u0e19\\u0e31\\u0e48\\u0e07\", \"\\u0e19\\u0e31\\u0e48\\u0e07\", \"\\u0e19\\u0e31\\u0e48\\u0e19\", \"\\u0e19\\u0e31\\u0e48\\u0e19\", \"\\u0e19\\u0e36\\u0e07\", \"\\u0e19\\u0e36\\u0e07\", \"\\u0e19\\u0e36\\u0e07\", \"\\u0e19\\u0e36\\u0e07\", \"\\u0e19\\u0e38\\u0e48\\u0e21\", \"\\u0e19\\u0e48\\u0e32\", \"\\u0e19\\u0e48\\u0e32\", \"\\u0e19\\u0e49\\u0e2d\\u0e07\\u0e40\\u0e21\\u0e35\\u0e22\", \"\\u0e19\\u0e49\\u0e2d\\u0e22\", \"\\u0e19\\u0e49\\u0e2d\\u0e22\", \"\\u0e19\\u0e49\\u0e2d\\u0e22\", \"\\u0e19\\u0e49\\u0e2d\\u0e22\", \"\\u0e1a\\u0e19\", \"\\u0e1a\\u0e19\", \"\\u0e1a\\u0e19\", \"\\u0e1a\\u0e48\\u0e2d\\u0e22\", \"\\u0e1a\\u0e48\\u0e2d\\u0e22\", \"\\u0e1a\\u0e48\\u0e2d\\u0e22\", \"\\u0e1a\\u0e48\\u0e2d\\u0e22\", \"\\u0e1a\\u0e49\\u0e32\\u0e19\", \"\\u0e1a\\u0e49\\u0e32\\u0e19\", \"\\u0e1a\\u0e49\\u0e32\\u0e19\", \"\\u0e1a\\u0e49\\u0e32\\u0e19\", \"\\u0e1b\\u0e01\\u0e15\\u0e34\", \"\\u0e1b\\u0e0f\\u0e34\\u0e40\\u0e2a\\u0e18\", \"\\u0e1b\\u0e25\\u0e48\\u0e2d\\u0e22\", \"\\u0e1b\\u0e25\\u0e48\\u0e2d\\u0e22\", \"\\u0e1b\\u0e25\\u0e48\\u0e2d\\u0e22\", \"\\u0e1b\\u0e25\\u0e48\\u0e2d\\u0e22\", \"\\u0e1b\\u0e27\\u0e14\", \"\\u0e1b\\u0e31\\u0e08\\u0e08\\u0e38\\u0e1a\\u0e31\\u0e19\", \"\\u0e1b\\u0e31\\u0e08\\u0e08\\u0e38\\u0e1a\\u0e31\\u0e19\", \"\\u0e1b\\u0e31\\u0e08\\u0e08\\u0e38\\u0e1a\\u0e31\\u0e19\", \"\\u0e1b\\u0e31\\u0e0d\\u0e2b\\u0e32\", \"\\u0e1b\\u0e31\\u0e0d\\u0e2b\\u0e32\", \"\\u0e1b\\u0e31\\u0e0d\\u0e2b\\u0e32\", \"\\u0e1b\\u0e49\\u0e32\", \"\\u0e1b\\u0e49\\u0e32\", \"\\u0e1b\\u0e49\\u0e32\", \"\\u0e1c\\u0e25\\u0e01\\u0e33\\u0e44\\u0e23\", \"\\u0e1c\\u0e25\\u0e01\\u0e33\\u0e44\\u0e23\", \"\\u0e1c\\u0e25\\u0e01\\u0e33\\u0e44\\u0e23\", \"\\u0e1c\\u0e31\\u0e27\", \"\\u0e1c\\u0e34\\u0e14\", \"\\u0e1c\\u0e34\\u0e14\", \"\\u0e1c\\u0e34\\u0e14\", \"\\u0e1c\\u0e35\", \"\\u0e1c\\u0e35\", \"\\u0e1c\\u0e39\\u0e49\\u0e2d\\u0e37\\u0e48\\u0e19\", \"\\u0e1c\\u0e39\\u0e49\\u0e2d\\u0e37\\u0e48\\u0e19\", \"\\u0e1c\\u0e48\\u0e32\\u0e19\", \"\\u0e1c\\u0e48\\u0e32\\u0e19\", \"\\u0e1c\\u0e48\\u0e32\\u0e19\", \"\\u0e1d\\u0e31\\u0e19\", \"\\u0e1d\\u0e31\\u0e19\", \"\\u0e1d\\u0e31\\u0e19\", \"\\u0e1d\\u0e36\\u0e01\", \"\\u0e1d\\u0e48\\u0e32\\u0e22\", \"\\u0e1e\\u0e25\\u0e32\\u0e14\", \"\\u0e1e\\u0e25\\u0e32\\u0e14\", \"\\u0e1e\\u0e25\\u0e32\\u0e14\", \"\\u0e1e\\u0e31\\u0e01\", \"\\u0e1e\\u0e31\\u0e01\", \"\\u0e1e\\u0e31\\u0e01\", \"\\u0e1e\\u0e31\\u0e12\\u0e19\\u0e32\", \"\\u0e1e\\u0e31\\u0e12\\u0e19\\u0e32\", \"\\u0e1e\\u0e31\\u0e12\\u0e19\\u0e32\", \"\\u0e1e\\u0e35\\u0e48\\u0e19\\u0e49\\u0e2d\\u0e07\", \"\\u0e1e\\u0e39\\u0e14\\u0e27\\u0e48\\u0e32\", \"\\u0e1e\\u0e39\\u0e14\\u0e27\\u0e48\\u0e32\", \"\\u0e1e\\u0e39\\u0e14\\u0e27\\u0e48\\u0e32\", \"\\u0e1e\\u0e49\\u0e19\", \"\\u0e1f\\u0e49\\u0e32\", \"\\u0e1f\\u0e49\\u0e32\", \"\\u0e1f\\u0e49\\u0e32\", \"\\u0e21\\u0e31\\u0e27\\u0e41\\u0e15\\u0e48\", \"\\u0e21\\u0e31\\u0e27\\u0e41\\u0e15\\u0e48\", \"\\u0e21\\u0e31\\u0e27\\u0e41\\u0e15\\u0e48\", \"\\u0e21\\u0e31\\u0e27\\u0e41\\u0e15\\u0e48\", \"\\u0e21\\u0e35\\u0e04\\u0e48\\u0e32\", \"\\u0e21\\u0e35\\u0e04\\u0e48\\u0e32\", \"\\u0e21\\u0e35\\u0e04\\u0e48\\u0e32\", \"\\u0e21\\u0e35\\u0e0a\\u0e35\\u0e27\\u0e34\\u0e15\", \"\\u0e21\\u0e35\\u0e0a\\u0e35\\u0e27\\u0e34\\u0e15\", \"\\u0e21\\u0e37\\u0e2d\\u0e16\\u0e37\\u0e2d\", \"\\u0e22\\u0e2d\\u0e21\\u0e41\\u0e1e\\u0e49\", \"\\u0e22\\u0e2d\\u0e21\\u0e41\\u0e1e\\u0e49\", \"\\u0e22\\u0e32\", \"\\u0e22\\u0e32\", \"\\u0e22\\u0e37\\u0e19\", \"\\u0e22\\u0e37\\u0e19\", \"\\u0e22\\u0e37\\u0e19\", \"\\u0e23\\u0e27\\u0e22\", \"\\u0e23\\u0e27\\u0e22\", \"\\u0e23\\u0e2d\\u0e1a\", \"\\u0e23\\u0e30\\u0e27\\u0e31\\u0e07\", \"\\u0e23\\u0e30\\u0e27\\u0e31\\u0e07\", \"\\u0e23\\u0e35\\u0e1a\", \"\\u0e23\\u0e35\\u0e1a\", \"\\u0e23\\u0e35\\u0e1a\", \"\\u0e23\\u0e39\\u0e49\\u0e08\\u0e31\\u0e01\", \"\\u0e23\\u0e39\\u0e49\\u0e08\\u0e31\\u0e01\", \"\\u0e23\\u0e39\\u0e49\\u0e08\\u0e31\\u0e01\", \"\\u0e23\\u0e39\\u0e49\\u0e08\\u0e31\\u0e01\", \"\\u0e25\\u0e07\", \"\\u0e25\\u0e07\", \"\\u0e25\\u0e07\", \"\\u0e25\\u0e07\", \"\\u0e25\\u0e07\\u0e21\\u0e37\\u0e2d\\u0e17\\u0e33\", \"\\u0e25\\u0e07\\u0e21\\u0e37\\u0e2d\\u0e17\\u0e33\", \"\\u0e25\\u0e07\\u0e21\\u0e37\\u0e2d\\u0e17\\u0e33\", \"\\u0e25\\u0e07\\u0e21\\u0e37\\u0e2d\\u0e17\\u0e33\", \"\\u0e25\\u0e31\\u0e01\", \"\\u0e25\\u0e39\\u0e01\", \"\\u0e25\\u0e39\\u0e01\", \"\\u0e25\\u0e49\\u0e21\\u0e40\\u0e2b\\u0e25\\u0e27\", \"\\u0e25\\u0e49\\u0e21\\u0e40\\u0e2b\\u0e25\\u0e27\", \"\\u0e25\\u0e49\\u0e21\\u0e40\\u0e2b\\u0e25\\u0e27\", \"\\u0e25\\u0e49\\u0e21\\u0e40\\u0e2b\\u0e25\\u0e27\", \"\\u0e27\\u0e08\\u0e30\", \"\\u0e27\\u0e08\\u0e30\", \"\\u0e27\\u0e19\", \"\\u0e27\\u0e32\\u0e07\", \"\\u0e27\\u0e34\\u0e48\\u0e07\", \"\\u0e27\\u0e34\\u0e48\\u0e07\", \"\\u0e27\\u0e34\\u0e48\\u0e07\", \"\\u0e27\\u0e38\\u0e48\\u0e19\\u0e27\\u0e32\\u0e22\", \"\\u0e27\\u0e48\\u0e32\\u0e41\\u0e15\\u0e48\", \"\\u0e27\\u0e48\\u0e32\\u0e41\\u0e15\\u0e48\", \"\\u0e2a\\u0e16\\u0e32\\u0e19\\u0e30\", \"\\u0e2a\\u0e16\\u0e32\\u0e19\\u0e30\", \"\\u0e2a\\u0e16\\u0e32\\u0e19\\u0e30\", \"\\u0e2a\\u0e16\\u0e32\\u0e19\\u0e30\", \"\\u0e2a\\u0e23\\u0e49\\u0e32\\u0e07\", \"\\u0e2a\\u0e23\\u0e49\\u0e32\\u0e07\", \"\\u0e2a\\u0e23\\u0e49\\u0e32\\u0e07\", \"\\u0e2a\\u0e23\\u0e49\\u0e32\\u0e07\", \"\\u0e2a\\u0e31\\u0e01\", \"\\u0e2a\\u0e31\\u0e01\", \"\\u0e2a\\u0e31\\u0e01\", \"\\u0e2a\\u0e32\\u0e22\\u0e15\\u0e32\", \"\\u0e2a\\u0e32\\u0e22\\u0e15\\u0e32\", \"\\u0e2a\\u0e32\\u0e22\\u0e15\\u0e32\", \"\\u0e2a\\u0e33\\u0e2b\\u0e23\\u0e31\\u0e1a\", \"\\u0e2a\\u0e33\\u0e2b\\u0e23\\u0e31\\u0e1a\", \"\\u0e2a\\u0e33\\u0e2b\\u0e23\\u0e31\\u0e1a\", \"\\u0e2a\\u0e33\\u0e2b\\u0e23\\u0e31\\u0e1a\", \"\\u0e2a\\u0e34\\u0e48\\u0e07\\u0e43\\u0e14\", \"\\u0e2b\\u0e01\", \"\\u0e2b\\u0e19\\u0e32\\u0e27\", \"\\u0e2b\\u0e19\\u0e32\\u0e27\", \"\\u0e2b\\u0e19\\u0e32\\u0e27\", \"\\u0e2b\\u0e19\\u0e32\\u0e27\", \"\\u0e2b\\u0e19\\u0e39\", \"\\u0e2b\\u0e19\\u0e39\", \"\\u0e2b\\u0e19\\u0e39\", \"\\u0e2b\\u0e19\\u0e39\", \"\\u0e2b\\u0e19\\u0e48\\u0e2d\\u0e22\", \"\\u0e2b\\u0e19\\u0e48\\u0e2d\\u0e22\", \"\\u0e2b\\u0e19\\u0e48\\u0e2d\\u0e22\", \"\\u0e2b\\u0e21\\u0e14\", \"\\u0e2b\\u0e21\\u0e14\", \"\\u0e2b\\u0e21\\u0e14\", \"\\u0e2b\\u0e21\\u0e14\", \"\\u0e2b\\u0e21\\u0e2d\", \"\\u0e2b\\u0e21\\u0e2d\", \"\\u0e2b\\u0e21\\u0e2d\", \"\\u0e2b\\u0e21\\u0e32\", \"\\u0e2b\\u0e21\\u0e32\", \"\\u0e2b\\u0e21\\u0e32\", \"\\u0e2b\\u0e21\\u0e32\", \"\\u0e2b\\u0e22\\u0e2d\\u0e14\", \"\\u0e2b\\u0e22\\u0e2d\\u0e14\", \"\\u0e2b\\u0e22\\u0e2d\\u0e14\", \"\\u0e2b\\u0e22\\u0e38\\u0e14\", \"\\u0e2b\\u0e22\\u0e38\\u0e14\", \"\\u0e2b\\u0e22\\u0e38\\u0e14\", \"\\u0e2b\\u0e22\\u0e38\\u0e14\\u0e1e\\u0e31\\u0e01\", \"\\u0e2b\\u0e25\\u0e07\", \"\\u0e2b\\u0e25\\u0e07\", \"\\u0e2b\\u0e25\\u0e07\", \"\\u0e2b\\u0e25\\u0e07\\u0e15\\u0e31\\u0e27\\u0e40\\u0e2d\\u0e07\", \"\\u0e2b\\u0e25\\u0e07\\u0e15\\u0e31\\u0e27\\u0e40\\u0e2d\\u0e07\", \"\\u0e2b\\u0e25\\u0e07\\u0e17\\u0e32\\u0e07\", \"\\u0e2b\\u0e25\\u0e07\\u0e17\\u0e32\\u0e07\", \"\\u0e2b\\u0e25\\u0e07\\u0e17\\u0e32\\u0e07\", \"\\u0e2b\\u0e25\\u0e31\\u0e07\", \"\\u0e2b\\u0e25\\u0e31\\u0e07\", \"\\u0e2b\\u0e25\\u0e31\\u0e07\", \"\\u0e2b\\u0e27\\u0e07\", \"\\u0e2b\\u0e27\\u0e07\", \"\\u0e2b\\u0e27\\u0e07\", \"\\u0e2b\\u0e27\\u0e31\\u0e07\", \"\\u0e2b\\u0e27\\u0e31\\u0e07\", \"\\u0e2b\\u0e27\\u0e31\\u0e07\", \"\\u0e2b\\u0e27\\u0e31\\u0e07\", \"\\u0e2b\\u0e32\\u0e22\", \"\\u0e2b\\u0e32\\u0e22\", \"\\u0e2b\\u0e32\\u0e22\", \"\\u0e2b\\u0e32\\u0e22\", \"\\u0e2b\\u0e49\\u0e32\\u0e21\", \"\\u0e2b\\u0e49\\u0e32\\u0e21\", \"\\u0e2b\\u0e49\\u0e32\\u0e21\", \"\\u0e2d\\u0e14\\u0e35\\u0e15\", \"\\u0e2d\\u0e14\\u0e35\\u0e15\", \"\\u0e2d\\u0e14\\u0e35\\u0e15\", \"\\u0e2d\\u0e19\\u0e32\\u0e04\\u0e15\", \"\\u0e2d\\u0e19\\u0e32\\u0e04\\u0e15\", \"\\u0e2d\\u0e19\\u0e32\\u0e04\\u0e15\", \"\\u0e2d\\u0e1a\\u0e2d\\u0e38\\u0e48\\u0e19\", \"\\u0e2d\\u0e1a\\u0e2d\\u0e38\\u0e48\\u0e19\", \"\\u0e2d\\u0e22\\u0e32\\u0e01\\u0e44\\u0e14\\u0e49\", \"\\u0e2d\\u0e22\\u0e32\\u0e01\\u0e44\\u0e14\\u0e49\", \"\\u0e2d\\u0e22\\u0e32\\u0e01\\u0e44\\u0e14\\u0e49\", \"\\u0e2d\\u0e22\\u0e32\\u0e01\\u0e44\\u0e14\\u0e49\", \"\\u0e2d\\u0e27\\u0e14\", \"\\u0e2d\\u0e2d\\u0e01\", \"\\u0e2d\\u0e2d\\u0e01\", \"\\u0e2d\\u0e2d\\u0e01\", \"\\u0e2d\\u0e2d\\u0e01\", \"\\u0e2d\\u0e32\", \"\\u0e2d\\u0e49\\u0e27\\u0e19\", \"\\u0e2d\\u0e49\\u0e27\\u0e19\", \"\\u0e2d\\u0e49\\u0e27\\u0e19\", \"\\u0e2d\\u0e49\\u0e27\\u0e19\", \"\\u0e2e\\u0e2d\\u0e14\", \"\\u0e32\\u0e27\", \"\\u0e32\\u0e27\", \"\\u0e40\\u0e01\\u0e25\\u0e35\\u0e22\\u0e14\", \"\\u0e40\\u0e01\\u0e47\\u0e1a\", \"\\u0e40\\u0e01\\u0e47\\u0e1a\", \"\\u0e40\\u0e01\\u0e47\\u0e1a\", \"\\u0e40\\u0e02\\u0e35\\u0e22\\u0e27\", \"\\u0e40\\u0e02\\u0e49\\u0e32\\u0e43\\u0e08\", \"\\u0e40\\u0e02\\u0e49\\u0e32\\u0e43\\u0e08\", \"\\u0e40\\u0e02\\u0e49\\u0e32\\u0e43\\u0e08\", \"\\u0e40\\u0e02\\u0e49\\u0e32\\u0e43\\u0e08\", \"\\u0e40\\u0e0a\\u0e34\\u0e0d\", \"\\u0e40\\u0e14\\u0e35\\u0e4b\\u0e22\\u0e27\", \"\\u0e40\\u0e14\\u0e35\\u0e4b\\u0e22\\u0e27\", \"\\u0e40\\u0e14\\u0e35\\u0e4b\\u0e22\\u0e27\", \"\\u0e40\\u0e14\\u0e35\\u0e4b\\u0e22\\u0e27\", \"\\u0e40\\u0e15\\u0e34\\u0e1a\\u0e42\\u0e15\", \"\\u0e40\\u0e15\\u0e34\\u0e1a\\u0e42\\u0e15\", \"\\u0e40\\u0e15\\u0e34\\u0e1a\\u0e42\\u0e15\", \"\\u0e40\\u0e15\\u0e34\\u0e21\", \"\\u0e40\\u0e15\\u0e34\\u0e21\", \"\\u0e40\\u0e17\\u0e04\\u0e41\\u0e04\\u0e23\\u0e4c\", \"\\u0e40\\u0e17\\u0e04\\u0e41\\u0e04\\u0e23\\u0e4c\", \"\\u0e40\\u0e17\\u0e48\\u0e32\", \"\\u0e40\\u0e17\\u0e48\\u0e32\", \"\\u0e40\\u0e17\\u0e48\\u0e32\", \"\\u0e40\\u0e17\\u0e48\\u0e32\", \"\\u0e40\\u0e1a\\u0e32\", \"\\u0e40\\u0e1a\\u0e37\\u0e48\\u0e2d\", \"\\u0e40\\u0e1a\\u0e37\\u0e48\\u0e2d\", \"\\u0e40\\u0e1b\\u0e23\\u0e35\\u0e22\\u0e1a\\u0e40\\u0e17\\u0e35\\u0e22\\u0e1a\", \"\\u0e40\\u0e1b\\u0e23\\u0e35\\u0e22\\u0e1a\\u0e40\\u0e17\\u0e35\\u0e22\\u0e1a\", \"\\u0e40\\u0e1b\\u0e25\\u0e48\\u0e32\", \"\\u0e40\\u0e1b\\u0e25\\u0e48\\u0e32\", \"\\u0e40\\u0e1b\\u0e25\\u0e48\\u0e32\", \"\\u0e40\\u0e1b\\u0e25\\u0e48\\u0e32\", \"\\u0e40\\u0e1e\\u0e35\\u0e22\\u0e07\", \"\\u0e40\\u0e1e\\u0e35\\u0e22\\u0e07\", \"\\u0e40\\u0e1e\\u0e35\\u0e22\\u0e07\", \"\\u0e40\\u0e1e\\u0e35\\u0e22\\u0e07\", \"\\u0e40\\u0e1e\\u0e37\\u0e48\\u0e2d\\u0e19\", \"\\u0e40\\u0e1e\\u0e37\\u0e48\\u0e2d\\u0e19\", \"\\u0e40\\u0e1e\\u0e37\\u0e48\\u0e2d\\u0e19\", \"\\u0e40\\u0e1e\\u0e37\\u0e48\\u0e2d\\u0e19\", \"\\u0e40\\u0e23\\u0e34\\u0e48\\u0e21\", \"\\u0e40\\u0e23\\u0e34\\u0e48\\u0e21\", \"\\u0e40\\u0e23\\u0e34\\u0e48\\u0e21\", \"\\u0e40\\u0e23\\u0e34\\u0e48\\u0e21\", \"\\u0e40\\u0e23\\u0e34\\u0e48\\u0e21\\u0e15\\u0e49\\u0e19\", \"\\u0e40\\u0e23\\u0e34\\u0e48\\u0e21\\u0e15\\u0e49\\u0e19\", \"\\u0e40\\u0e23\\u0e34\\u0e48\\u0e21\\u0e15\\u0e49\\u0e19\", \"\\u0e40\\u0e23\\u0e37\\u0e48\\u0e2d\\u0e22\", \"\\u0e40\\u0e23\\u0e37\\u0e48\\u0e2d\\u0e22\", \"\\u0e40\\u0e23\\u0e37\\u0e48\\u0e2d\\u0e22\", \"\\u0e40\\u0e23\\u0e47\\u0e27\", \"\\u0e40\\u0e23\\u0e47\\u0e27\", \"\\u0e40\\u0e23\\u0e47\\u0e27\", \"\\u0e40\\u0e23\\u0e47\\u0e27\", \"\\u0e40\\u0e25\\u0e27\", \"\\u0e40\\u0e25\\u0e48\\u0e19\", \"\\u0e40\\u0e25\\u0e48\\u0e19\", \"\\u0e40\\u0e25\\u0e48\\u0e19\", \"\\u0e40\\u0e25\\u0e48\\u0e19\", \"\\u0e40\\u0e2a\\u0e37\\u0e2d\", \"\\u0e40\\u0e2a\\u0e37\\u0e2d\", \"\\u0e40\\u0e2a\\u0e37\\u0e2d\", \"\\u0e40\\u0e2b\\u0e07\\u0e37\\u0e48\\u0e2d\", \"\\u0e40\\u0e2b\\u0e15\\u0e38\\u0e1c\\u0e25\", \"\\u0e40\\u0e2b\\u0e15\\u0e38\\u0e1c\\u0e25\", \"\\u0e40\\u0e2b\\u0e15\\u0e38\\u0e1c\\u0e25\", \"\\u0e40\\u0e2b\\u0e19\\u0e35\\u0e22\\u0e07\", \"\\u0e40\\u0e2b\\u0e19\\u0e35\\u0e22\\u0e07\", \"\\u0e40\\u0e2b\\u0e19\\u0e37\\u0e48\\u0e2d\\u0e22\", \"\\u0e40\\u0e2b\\u0e19\\u0e37\\u0e48\\u0e2d\\u0e22\", \"\\u0e40\\u0e2b\\u0e19\\u0e37\\u0e48\\u0e2d\\u0e22\", \"\\u0e40\\u0e2b\\u0e21\\u0e32\\u0e30\\u0e2a\\u0e21\", \"\\u0e40\\u0e40\\u0e25\\u0e49\\u0e27\", \"\\u0e40\\u0e40\\u0e25\\u0e49\\u0e27\", \"\\u0e41\\u0e01\\u0e25\\u0e49\\u0e07\", \"\\u0e41\\u0e01\\u0e25\\u0e49\\u0e07\", \"\\u0e41\\u0e04\\u0e23\\u0e4c\", \"\\u0e41\\u0e04\\u0e23\\u0e4c\", \"\\u0e41\\u0e04\\u0e23\\u0e4c\", \"\\u0e41\\u0e04\\u0e48\\u0e19\\u0e31\\u0e49\\u0e19\", \"\\u0e41\\u0e0b\\u0e07\", \"\\u0e41\\u0e0b\\u0e07\", \"\\u0e41\\u0e19\\u0e48\", \"\\u0e41\\u0e19\\u0e48\", \"\\u0e41\\u0e19\\u0e48\", \"\\u0e41\\u0e19\\u0e48\\u0e19\\u0e2d\\u0e19\", \"\\u0e41\\u0e1a\\u0e48\\u0e07\\u0e1b\\u0e31\\u0e19\", \"\\u0e41\\u0e1a\\u0e48\\u0e07\\u0e1b\\u0e31\\u0e19\", \"\\u0e41\\u0e1b\\u0e25\", \"\\u0e41\\u0e1b\\u0e25\", \"\\u0e41\\u0e1b\\u0e25\", \"\\u0e41\\u0e1b\\u0e25\", \"\\u0e41\\u0e1e\\u0e49\", \"\\u0e41\\u0e1e\\u0e49\", \"\\u0e41\\u0e1e\\u0e49\", \"\\u0e41\\u0e1e\\u0e49\", \"\\u0e41\\u0e23\\u0e07\", \"\\u0e41\\u0e23\\u0e07\", \"\\u0e41\\u0e23\\u0e07\", \"\\u0e41\\u0e2a\\u0e19\", \"\\u0e41\\u0e2a\\u0e19\", \"\\u0e41\\u0e2d\\u0e1a\", \"\\u0e41\\u0e2d\\u0e1a\", \"\\u0e41\\u0e2d\\u0e1a\", \"\\u0e42\\u0e14\\u0e19\", \"\\u0e42\\u0e14\\u0e19\", \"\\u0e42\\u0e14\\u0e19\", \"\\u0e42\\u0e14\\u0e22\", \"\\u0e42\\u0e14\\u0e22\", \"\\u0e42\\u0e14\\u0e22\", \"\\u0e42\\u0e14\\u0e22\", \"\\u0e42\\u0e1f\\u0e01\\u0e31\\u0e2a\", \"\\u0e42\\u0e1f\\u0e01\\u0e31\\u0e2a\", \"\\u0e42\\u0e1f\\u0e01\\u0e31\\u0e2a\", \"\\u0e42\\u0e1f\\u0e01\\u0e31\\u0e2a\", \"\\u0e42\\u0e25\\u0e40\\u0e04\\u0e0a\\u0e31\\u0e48\\u0e19\", \"\\u0e42\\u0e25\\u0e40\\u0e04\\u0e0a\\u0e31\\u0e48\\u0e19\", \"\\u0e42\\u0e25\\u0e40\\u0e04\\u0e0a\\u0e31\\u0e48\\u0e19\", \"\\u0e42\\u0e25\\u0e40\\u0e04\\u0e0a\\u0e31\\u0e48\\u0e19\", \"\\u0e42\\u0e2d\\u0e01\\u0e32\\u0e2a\", \"\\u0e42\\u0e2d\\u0e01\\u0e32\\u0e2a\", \"\\u0e42\\u0e2d\\u0e01\\u0e32\\u0e2a\", \"\\u0e42\\u0e2d\\u0e40\\u0e04\", \"\\u0e43\\u0e14\", \"\\u0e43\\u0e14\", \"\\u0e43\\u0e14\", \"\\u0e43\\u0e2a\\u0e48\", \"\\u0e43\\u0e2a\\u0e48\", \"\\u0e43\\u0e2a\\u0e48\", \"\\u0e43\\u0e2a\\u0e48\", \"\\u0e43\\u0e2a\\u0e48\\u0e43\\u0e08\", \"\\u0e43\\u0e2a\\u0e48\\u0e43\\u0e08\", \"\\u0e43\\u0e2a\\u0e48\\u0e43\\u0e08\", \"\\u0e43\\u0e2a\\u0e48\\u0e43\\u0e08\", \"\\u0e43\\u0e2b\\u0e49\\u0e01\\u0e33\\u0e25\\u0e31\\u0e07\\u0e43\\u0e08\", \"\\u0e44\\u0e01\\u0e25\", \"\\u0e44\\u0e01\\u0e25\", \"\\u0e44\\u0e01\\u0e25\", \"\\u0e44\\u0e02\\u0e48\", \"\\u0e44\\u0e07\", \"\\u0e44\\u0e07\", \"\\u0e44\\u0e07\", \"\\u0e44\\u0e07\", \"\\u0e44\\u0e14\\u0e49\\u0e23\\u0e31\\u0e1a\", \"\\u0e44\\u0e14\\u0e49\\u0e23\\u0e31\\u0e1a\", \"\\u0e44\\u0e14\\u0e49\\u0e23\\u0e31\\u0e1a\", \"\\u0e44\\u0e1b\\u0e2b\\u0e32\", \"\\u0e44\\u0e1b\\u0e2b\\u0e32\", \"\\u0e44\\u0e23\\u0e49\\u0e04\\u0e48\\u0e32\", \"\\u0e44\\u0e23\\u0e49\\u0e04\\u0e48\\u0e32\", \"\\u0e44\\u0e23\\u0e49\\u0e04\\u0e48\\u0e32\", \"\\u0e44\\u0e23\\u0e49\\u0e04\\u0e48\\u0e32\", \"\\u0e44\\u0e2d\", \"\\u0e44\\u0e2d\"]}, \"R\": 30, \"lambda.step\": 0.01, \"plot.opts\": {\"xlab\": \"PC1\", \"ylab\": \"PC2\"}, \"topic.order\": [1, 4, 2, 3]};\n",
              "\n",
              "function LDAvis_load_lib(url, callback){\n",
              "  var s = document.createElement('script');\n",
              "  s.src = url;\n",
              "  s.async = true;\n",
              "  s.onreadystatechange = s.onload = callback;\n",
              "  s.onerror = function(){console.warn(\"failed to load library \" + url);};\n",
              "  document.getElementsByTagName(\"head\")[0].appendChild(s);\n",
              "}\n",
              "\n",
              "if(typeof(LDAvis) !== \"undefined\"){\n",
              "   // already loaded: just create the visualization\n",
              "   !function(LDAvis){\n",
              "       new LDAvis(\"#\" + \"ldavis_el10831398539392569126878115436\", ldavis_el10831398539392569126878115436_data);\n",
              "   }(LDAvis);\n",
              "}else if(typeof define === \"function\" && define.amd){\n",
              "   // require.js is available: use it to load d3/LDAvis\n",
              "   require.config({paths: {d3: \"https://d3js.org/d3.v5\"}});\n",
              "   require([\"d3\"], function(d3){\n",
              "      window.d3 = d3;\n",
              "      LDAvis_load_lib(\"https://cdn.jsdelivr.net/gh/bmabey/pyLDAvis@3.3.1/pyLDAvis/js/ldavis.v3.0.0.js\", function(){\n",
              "        new LDAvis(\"#\" + \"ldavis_el10831398539392569126878115436\", ldavis_el10831398539392569126878115436_data);\n",
              "      });\n",
              "    });\n",
              "}else{\n",
              "    // require.js not available: dynamically load d3 & LDAvis\n",
              "    LDAvis_load_lib(\"https://d3js.org/d3.v5.js\", function(){\n",
              "         LDAvis_load_lib(\"https://cdn.jsdelivr.net/gh/bmabey/pyLDAvis@3.3.1/pyLDAvis/js/ldavis.v3.0.0.js\", function(){\n",
              "                 new LDAvis(\"#\" + \"ldavis_el10831398539392569126878115436\", ldavis_el10831398539392569126878115436_data);\n",
              "            })\n",
              "         });\n",
              "}\n",
              "</script>"
            ],
            "text/plain": [
              "PreparedData(topic_coordinates=              x         y  topics  cluster       Freq\n",
              "topic                                                \n",
              "0      0.059290  0.071976       1        1  27.904767\n",
              "3     -0.064614  0.003407       2        1  24.545307\n",
              "1      0.049454 -0.078795       3        1  24.539522\n",
              "2     -0.044131  0.003412       4        1  23.010403, topic_info=          Term       Freq      Total Category  logprob  loglift\n",
              "1189   เหนื่อย  35.000000  35.000000  Default  30.0000  30.0000\n",
              "480       หยุด  24.000000  24.000000  Default  29.0000  29.0000\n",
              "451      สร้าง  18.000000  18.000000  Default  28.0000  28.0000\n",
              "765        แรง  14.000000  14.000000  Default  27.0000  27.0000\n",
              "1328  น้องเมีย  12.000000  12.000000  Default  26.0000  26.0000\n",
              "...        ...        ...        ...      ...      ...      ...\n",
              "28       หน่อย   5.938074   9.693505   Topic4  -6.0103   0.9792\n",
              "63        บ่อย   6.537636  19.054124   Topic4  -5.9141   0.3995\n",
              "766        แอบ   6.303235  16.355228   Topic4  -5.9507   0.5157\n",
              "46        ห้าม   6.138727  13.791707   Topic4  -5.9771   0.6598\n",
              "106       บ้าน   6.353718  18.927663   Topic4  -5.9427   0.3776\n",
              "\n",
              "[235 rows x 6 columns], token_table=      Topic      Freq    Term\n",
              "term                         \n",
              "2592      4  0.677683       I\n",
              "61        1  0.095335      กด\n",
              "61        2  0.286005      กด\n",
              "61        4  0.667345      กด\n",
              "3291      4  0.891503  กดปุ่ม\n",
              "...     ...       ...     ...\n",
              "1356      2  0.099828  ไร้ค่า\n",
              "1356      3  0.798623  ไร้ค่า\n",
              "1356      4  0.099828  ไร้ค่า\n",
              "1833      1  0.130588      ไอ\n",
              "1833      3  0.783529      ไอ\n",
              "\n",
              "[513 rows x 3 columns], R=30, lambda_step=0.01, plot_opts={'xlab': 'PC1', 'ylab': 'PC2'}, topic_order=[1, 4, 2, 3])"
            ]
          },
          "metadata": {
            "tags": []
          },
          "execution_count": 39
        }
      ]
    },
    {
      "cell_type": "code",
      "metadata": {
        "id": "WgNfXWI83ffp"
      },
      "source": [
        "tfidf_corpus = sentences"
      ],
      "execution_count": null,
      "outputs": []
    },
    {
      "cell_type": "code",
      "metadata": {
        "colab": {
          "base_uri": "https://localhost:8080/"
        },
        "id": "fDrwXQXsQEdB",
        "outputId": "d70dfb6b-f16a-42b1-a938-0fbabbecb44b"
      },
      "source": [
        "for sentence in sentences:\n",
        "  for word in sentence:\n",
        "    if word == \",\":\n",
        "      print(sentence)"
      ],
      "execution_count": null,
      "outputs": [
        {
          "output_type": "stream",
          "text": [
            "['ไม่', 'มี', 'ใคร', 'ถูกใจ', 'ใคร', 'ไป', 'หมด', 'ทุกอย่าง', ',', 'จงรัก', 'กัน', 'ใน', 'ข้อดี', ',', 'และ', 'ให้อภัย', 'ใน', 'ข้อเสีย', 'ของ', 'กันและกัน']\n",
            "['ไม่', 'มี', 'ใคร', 'ถูกใจ', 'ใคร', 'ไป', 'หมด', 'ทุกอย่าง', ',', 'จงรัก', 'กัน', 'ใน', 'ข้อดี', ',', 'และ', 'ให้อภัย', 'ใน', 'ข้อเสีย', 'ของ', 'กันและกัน']\n"
          ],
          "name": "stdout"
        }
      ]
    },
    {
      "cell_type": "code",
      "metadata": {
        "id": "MPhsPsPIOekN"
      },
      "source": [
        "def my_tokenizer(text):\n",
        "  return text"
      ],
      "execution_count": null,
      "outputs": []
    },
    {
      "cell_type": "code",
      "metadata": {
        "id": "FAtajFYjI5k_"
      },
      "source": [
        "from sklearn.feature_extraction.text import TfidfVectorizer\n",
        "vectorizer = TfidfVectorizer(tokenizer=my_tokenizer,preprocessor=my_tokenizer)\n",
        "X = vectorizer.fit_transform(tfidf_corpus)"
      ],
      "execution_count": null,
      "outputs": []
    },
    {
      "cell_type": "code",
      "metadata": {
        "colab": {
          "base_uri": "https://localhost:8080/"
        },
        "id": "of6C7SF-OyPK",
        "outputId": "f630d042-db5b-4d51-b8a8-604e634c52ee"
      },
      "source": [
        "print(vectorizer.get_feature_names())"
      ],
      "execution_count": null,
      "outputs": [
        {
          "output_type": "stream",
          "text": [
            "['(รอ', ')', ',', '160', '25', '3', '5', 'A-Z', 'ATM', 'Aftershock', 'Anniversary', 'BOSOM', 'Don', 'E', 'GATPAT', 'Google', 'I', 'IQ', 'LOV', 'PETERLYNCH', 'PM', 'ROV', 'RollerCoaster', 'Sale', 'Search', 'THEBIG', 'Thisheart', 'Tomorrowisanotherday', 'U', 'UV', 'a', 'b', 'br', 'callme', 'cc', 'comebacktome', 'day', 'follower', 'friend', 'happy', 'iPhone', 'iloveyoutome', 'kissme', 'line', 'loveyou', 'me', 'mpossible', 'musketeers', 'openheart', 'openhouse', 'pasttense', 'perfect', 'present', 'say', 'size', 'someone', 'tletyourmindbullyyourbody', 'you', 'ก', 'กก', 'กฎ', 'กด', 'กดปุ่ม', 'กติกา', 'กรรม', 'กรวด', 'กรอ', 'กระจก', 'กระจาย', 'กระทง', 'กระทะ', 'กระทำ', 'กระบี่', 'กระปุก', 'กระปุกออมสิน', 'กระเป๋า', 'กระเพื่อม', 'กระแส', 'กรัก', 'กรุบกริบ', 'กรู', 'กลบเกลื่อน', 'กลับ', 'กลับคืน', 'กลับตัวกลับใจ', 'กลับบ้าน', 'กลับมา', 'กลับเป็น', 'กลัว', 'กลัวเมีย', 'กลา', 'กลาง', 'กลางคืน', 'กลางทาง', 'กลางแดด', 'กลาย', 'กลายพันธุ์', 'กลายเป็น', 'กลิ้ง', 'กลีบ', 'กลุ่ม', 'กล่า', 'กล่าว', 'กล้วย', 'กล้อง', 'กล้องถ่ายรูป', 'กล้า', 'กล้าหาญ', 'กวน', 'กวนใจ', 'กวาง', 'กว่า', 'กว้าง', 'กว้างใหญ่', 'กอด', 'กะ', 'กะทะ', 'กะเพรา', 'กังวล', 'กัด', 'กัดฟัน', 'กัน', 'กันชน', 'กันที่', 'กันและกัน', 'กับ', 'กั้น', 'กา', 'กางร่ม', 'กาย', 'การ', 'การกระทำ', 'การขับขี่', 'การคน', 'การครอบครอง', 'การคาดการณ์', 'การงาน', 'การซื้อขาย', 'การดำรงชีวิต', 'การตระหนัก', 'การตอกย้ำ', 'การตัดสินใจ', 'การตื่น', 'การต่อสู้', 'การถอย', 'การทำงาน', 'การปกป้อง', 'การปรับตัว', 'การพัฒนา', 'การยิ้ม', 'การรักษา', 'การร้องไห้', 'การลงทุน', 'การละทิ้ง', 'การวางแผน', 'การศึกษา', 'การอภัย', 'การอาบน้ำ', 'การันตี', 'การเก็งกำไร', 'การเคลื่อนไหว', 'การเงิน', 'การเปลี่ยนแปลง', 'การเรียนรู้', 'การแข่งขัน', 'การแอบ', 'การให้อภัย', 'การ์ตูน', 'กาล', 'กาลเวลา', 'กาว', 'กาแฟ', 'กำขี้ดีกว่ากำตด', 'กำจัด', 'กำลัง', 'กำลังกาย', 'กำลังจะ', 'กำลังใจ', 'กำหนด', 'กำหนดให้', 'กำไร', 'กิน', 'กินข้าว', 'กินน้ำ', 'กินน้ำตา', 'กินลม', 'กินใจ', 'กิเลส', 'กิโลกรัม', 'กิโลเมตร', 'กิ๊ก', 'กีฬา', 'กี่', 'กุ', 'กุญแจ', 'กุศล', 'กุหลาบ', 'กุ้ง', 'กู', 'กู้ภัย', 'ก็', 'ก็ช่าง', 'ก็ดี', 'ก็ตาม', 'ก็ต่อเมื่อ', 'ก็เพราะว่า', 'ก็แล้วกัน', 'ก็ได้', 'ก่อน', 'ก่อนที่', 'ก่อนหน้า', 'ก่อร่างสร้างตัว', 'ก๋วยเตี๋ยว', 'ข', 'ขณะ', 'ขน', 'ขนม', 'ขนมจีน', 'ขนาด', 'ขม', 'ขยัน', 'ขยันขันแข็ง', 'ขยับ', 'ขยาย', 'ขยายความ', 'ขยุ้ม', 'ขย่ม', 'ขย้ำ', 'ขวด', 'ขวา', 'ขวางทาง', 'ขอ', 'ของ', 'ของกิน', 'ของขวัญ', 'ของจริง', 'ของต่ำ', 'ของสูง', 'ของส่วนตัว', 'ของเล่น', 'ของเหลว', 'ของแข็ง', 'ขอทาน', 'ขอบคุณ', 'ขอบใจ', 'ขอพร', 'ขอร้อง', 'ขออนุญาต', 'ขออภัย', 'ขอเวลา', 'ขอโทษ', 'ขอให้', 'ขัดขวาง', 'ขัดสน', 'ขับ', 'ขับรถ', 'ขับเคลื่อน', 'ขั้น', 'ขา', 'ขาด', 'ขาดตลาด', 'ขาดแคลน', 'ขาดไม่ได้', 'ขาย', 'ขาว', 'ขาใหญ่', 'ขำ', 'ขี', 'ขีดจำกัด', 'ขี่', 'ขี้', 'ขี้งอน', 'ขี้ปาก', 'ขี้เกียจ', 'ขี้เล่น', 'ขี้เหร่', 'ขี้เหล้า', 'ขี้แย', 'ขึ้น', 'ขึ้นกับ', 'ขึ้นคาน', 'ขึ้นชื่อว่า', 'ขึ้นอยู่', 'ขึ้นอยู่กับ', 'ขึ้นเสียง', 'ขโมย', 'ข่า', 'ข่าว', 'ข้อ', 'ข้อดี', 'ข้อสอบ', 'ข้ออ้าง', 'ข้อเสีย', 'ข้า', 'ข้าง', 'ข้างทาง', 'ข้างนอก', 'ข้างบน', 'ข้างล่าง', 'ข้างหน้า', 'ข้างหลัง', 'ข้างเคียง', 'ข้างเดียว', 'ข้างใน', 'ข้าม', 'ข้ามคืน', 'ข้ามถนน', 'ข้าว', 'ข้าวต้อง', 'ข้าวมัน', 'ข้าวสาร', 'ข้าวโพด', 'คง', 'คงจะ', 'คงทน', 'คงที่', 'คณะ', 'คณิต', 'คติ', 'คน', 'คนขับ', 'คนขับรถ', 'คนคุ้นเคย', 'คนงี่เง่า', 'คนจน', 'คนจริง', 'คนชรา', 'คนชั่ว', 'คนดี', 'คนตาบอด', 'คนธรรมดา', 'คนฟัง', 'คนมีเงิน', 'คนรวย', 'คนรัก', 'คนละ', 'คนละอย่าง', 'คนละเรื่อง', 'คนสวย', 'คนสำคัญ', 'คนอื่น', 'คนอ่อนแอ', 'คนเก่ง', 'คนเจ้าชู้', 'คนเดียว', 'คนเมา', 'คนเรา', 'คนแปลกหน้า', 'คนโกง', 'คนโง่', 'คนโปรด', 'คนโสด', 'คนใกล้ชิด', 'คนใจดี', 'คนใจร้าย', 'คนใช้', 'คนใด', 'คนใน', 'คบ', 'คม', 'ครองตัว', 'ครอบครอง', 'ครอบครัว', 'ครอบงำ', 'ครอส', 'ครั้ง', 'ครั้งนี้', 'ครั้งสุดท้าย', 'ครั้งหนึ่ง', 'ครั้งหน้า', 'ครั้งแรก', 'คราง', 'คราบ', 'คริสต์มาส', 'ครีม', 'ครึ่ง', 'ครึ่งหนึ่ง', 'ครื้นเครง', 'ครู', 'คลอ', 'คลี', 'คลื่น', 'คล้าย', 'ควงแขน', 'ควบคุม', 'ควร', 'ควรจะ', 'ควรจะเป็น', 'ความ', 'ความกตัญญู', 'ความกลัว', 'ความกล้า', 'ความกล้าหาญ', 'ความกังวล', 'ความคิด', 'ความคิดถึง', 'ความคิดสร้างสรรค์', 'ความคิดเห็น', 'ความคุ้มค่า', 'ความงดงาม', 'ความงาม', 'ความจริง', 'ความจริงใจ', 'ความชอบ', 'ความชอบธรรม', 'ความชื่นชอบ', 'ความช่วยเหลือ', 'ความซื่อสัตย์', 'ความดัน', 'ความดี', 'ความตั้งใจ', 'ความต้องการ', 'ความทรงจำ', 'ความทุกข์', 'ความนิยม', 'ความน่ารัก', 'ความน้อยใจ', 'ความบ้า', 'ความปรารถนา', 'ความปรารถนาดี', 'ความผิด', 'ความผิดพลาด', 'ความฝัน', 'ความพยายาม', 'ความภูมิใจ', 'ความมั่นใจ', 'ความมุ่งมั่น', 'ความรวย', 'ความระแวง', 'ความรัก', 'ความรับผิดชอบ', 'ความรุนแรง', 'ความรู้', 'ความรู้สึก', 'ความรู้สึกผิด', 'ความร้อน', 'ความร้าย', 'ความลับ', 'ความลำบาก', 'ความล้มเหลว', 'ความสงบ', 'ความสงสัย', 'ความสนุก', 'ความสนใจ', 'ความสัมพันธ์', 'ความสามารถ', 'ความสำคัญ', 'ความสำเร็จ', 'ความสุข', 'ความสุขสบาย', 'ความหมาย', 'ความหลัง', 'ความหวัง', 'ความหวาน', 'ความห่วงใย', 'ความห่างไกล', 'ความอดทน', 'ความอบอุ่น', 'ความอยาก', 'ความอุดมสมบูรณ์', 'ความอ้วน', 'ความเข้มแข็ง', 'ความเข้าใจ', 'ความเครียด', 'ความเคลื่อนไหว', 'ความเจริญ', 'ความเจ็บ', 'ความเจ็บปวด', 'ความเชื่อมั่น', 'ความเบื่อ', 'ความเบื่อหน่าย', 'ความเปลี่ยนแปลง', 'ความเป็นจริง', 'ความเป็นไปได้', 'ความเสียใจ', 'ความเสี่ยง', 'ความเหงา', 'ความเห็นอกเห็นใจ', 'ความแตกต่าง', 'ความแม่นยำ', 'ความโชคดี', 'ความโดดเดี่ยว', 'ความโลภ', 'ความใน', 'ความไว้วางใจ', 'ควาย', 'คว่ำ', 'คว้า', 'คอ', 'คอย', 'คอลเกต', 'คออ่อน', 'คอแห้ง', 'คัน', 'คับ', 'คา', 'คาง', 'คาดคิด', 'คาดหวัง', 'คาดเดา', 'คาดไม่ถึง', 'คาที่', 'คาน', 'คาบ', 'คาปูชิโน', 'คาเฟ่', 'คำ', 'คำคม', 'คำตอบ', 'คำตำหนิ', 'คำถาม', 'คำทักทาย', 'คำนึงถึง', 'คำพูด', 'คำศัพท์', 'คำสัญญา', 'คำหวาน', 'คำแนะนำ', 'คิด', 'คิดถึง', 'คิดทบทวน', 'คิดมาก', 'คิดหน้าคิดหลัง', 'คิดเลข', 'คิตตี้', 'คิว', 'คิ้ว', 'คีย์', 'คึก', 'คึกคัก', 'คืน', 'คืนนี้', 'คือ', 'คุ', 'คุณ', 'คุย', 'คุ้น', 'คุ้นชิน', 'คุ้ม', 'คุ้มค่า', 'คู่', 'คู่ควง', 'คู่คิด', 'คู่รัก', 'คู่แข่ง', 'ค่อย', 'ค่า', 'ค่าจ้าง', 'ค่าแรง', 'ค้น', 'ค้นพบ', 'ค้นหา', 'ค้อน', 'ค้าขาย', 'ค้าบ', 'ค์', 'ฆ่า', 'ฆ่าเวลา', 'ง', 'งง', 'งดงาม', 'งอ', 'งอน', 'งอแง', 'งั้น', 'งาน', 'งานการ', 'งานชิ้นเอก', 'งานประจำ', 'งานหลัก', 'งานอดิเรก', 'งานเลี้ยง', 'งาย', 'งี่เง่า', 'งี้', 'งูพิษ', 'งเเต่เเฟน', 'ง่วง', 'ง่อว', 'ง่าย', 'ง้อ', 'จ', 'จง', 'จงรัก', 'จดจำ', 'จน', 'จนกระทั่ง', 'จนกว่า', 'จนตาย', 'จนถึง', 'จบ', 'จม', 'จมปลัก', 'จมอยู่กับ', 'จมูก', 'จริง', 'จริงจัง', 'จริงใจ', 'จอ', 'จอด', 'จะ', 'จักรยาน', 'จักรวาล', 'จัง', 'จังหวะ', 'จังหวัด', 'จังไร', 'จัญไร', 'จัด', 'จัดจ้าน', 'จันทร์', 'จับ', 'จับมือ', 'จับใจ', 'จั่ว', 'จา', 'จาก', 'จากกัน', 'จากนั้น', 'จากไป', 'จาง', 'จางหาย', 'จาน', 'จาม', 'จาระบี', 'จำ', 'จำกัด', 'จำนวนมาก', 'จำนำ', 'จำเป็น', 'จำเป็นต้อง', 'จำไว้', 'จิตวิทยา', 'จิตใจ', 'จิน', 'จินตนาการ', 'จิบ', 'จิ้มลิ้ม', 'จี', 'จีบ', 'จี้', 'จึง', 'จืดจาง', 'จุก', 'จุด', 'จุดจบ', 'จุดสำคัญ', 'จุดหมาย', 'จุดเด่น', 'จุดเริ่ม', 'จุดเริ่มต้น', 'จุ๊บ', 'จูง', 'จูงจมูก', 'จู๋', 'จ่อ', 'จ่า', 'จ่าย', 'จ้อง', 'จ้องมอง', 'จ้ะ', 'จ้า', 'จ้าง', 'จ๊ะ', 'จํา', 'ฉลาด', 'ฉะนั้น', 'ฉัน', 'ฉันนั้น', 'ฉาก', 'ฉายซ้ำ', 'ชง', 'ชน', 'ชนะ', 'ชนะใจ', 'ชม', 'ชรา', 'ชล', 'ชลบุรี', 'ชวน', 'ชอบ', 'ชะตาชีวิต', 'ชัด', 'ชัดเจน', 'ชัยชนะ', 'ชัวร์', 'ชั่น', 'ชั่ว', 'ชั่วโมง', 'ชั้น', 'ชั้นเลิศ', 'ชา', 'ชาติ', 'ชาติหน้า', 'ชาบู', 'ชาย', 'ชายฝั่ง', 'ชาวนา', 'ชาวบ้าน', 'ชาเย็น', 'ชิ', 'ชิงชัย', 'ชิด', 'ชิดขวา', 'ชิน', 'ชิบหาย', 'ชิม', 'ชี', 'ชีวา', 'ชีวิต', 'ชีวิตคู่', 'ชื่นชม', 'ชื่นใจ', 'ชื่อ', 'ชู', 'ชูชีพ', 'ชู้', 'ช่วง', 'ช่วงนี้', 'ช่วงเวลา', 'ช่วย', 'ช่าง', 'ช่างมัน', 'ช้า', 'ช้าง', 'ช้ำใจ', 'ซด', 'ซน', 'ซบ', 'ซวย', 'ซอง', 'ซอย', 'ซะ', 'ซะงั้น', 'ซัก', 'ซัด', 'ซันเดย์', 'ซับซ้อน', 'ซา', 'ซาก', 'ซากุระ', 'ซาน', 'ซาบซึ้ง', 'ซิ', 'ซิ่', 'ซึ่ง', 'ซื่อ', 'ซื่อสัตย์', 'ซื้อ', 'ซื้อขาย', 'ซื้อใจ', 'ซุก', 'ซุปเปอร์', 'ซ่อน', 'ซ่อม', 'ซ้อน', 'ซ้าย', 'ซ้ำ', 'ซ้ำซาก', 'ซ้ำสอง', 'ซ้ำแล้วซ้ำเล่า', 'ญาญ่า', 'ญาติ', 'ฐานะ', 'ฐานะทางการเงิน', 'ณ', 'ดง', 'ดร', 'ดราม่า', 'ดวง', 'ดวงจันทร์', 'ดวงดาว', 'ดวงตา', 'ดวงอาทิตย์', 'ดวงใจ', 'ดอก', 'ดอกฟ้า', 'ดอกไม้', 'ดัง', 'ดังนั้น', 'ดัน', 'ดับ', 'ดาร', 'ดาว', 'ดาวน์', 'ดำ', 'ดำรงชีวิต', 'ดิ', 'ดิน', 'ดินสอ', 'ดินแดน', 'ดิสก์', 'ดิ้นรน', 'ดี', 'ดีกว่า', 'ดีขึ้น', 'ดีฉัน', 'ดีแต่', 'ดีแล้ว', 'ดีใจ', 'ดีไม่ดี', 'ดึก', 'ดื่ม', 'ดื่มเหล้า', 'ดื้อ', 'ดื้อยา', 'ดื้อรั้น', 'ดุดัน', 'ดู', 'ดูจะ', 'ดูดิ', 'ดูดี', 'ดูถูก', 'ดูเล่น', 'ดูเหมือน', 'ดูแล', 'ดูแลตัวเอง', 'ดูใจ', 'ดูไบ', 'ดูไม่ได้', 'ด่า', 'ด่าน', 'ด้วย', 'ด้วยกัน', 'ด้วยซ้ำ', 'ด้วยตัวเอง', 'ด้วยใจ', 'ด้าน', 'ด้านหลัง', 'ด์', 'ต', 'ตก', 'ตกผลึก', 'ตกลง', 'ตกหนัก', 'ตกหลุมรัก', 'ตกใจ', 'ตน', 'ตนเอง', 'ตบ', 'ตบยุง', 'ตย', 'ตรง', 'ตรงกันข้าม', 'ตรงนั้น', 'ตรงนี้', 'ตรงหน้า', 'ตรงไหน', 'ตรรกะ', 'ตรอน', 'ตรา', 'ตรากตรำ', 'ตราบที่', 'ตราบใดที่', 'ตรุษจีน', 'ตลก', 'ตลอด', 'ตลอดกาล', 'ตลอดชีวิต', 'ตลอดทาง', 'ตลอดปี', 'ตลอดเวลา', 'ตลอดไป', 'ตอกย้ำ', 'ตอน', 'ตอนกลางวัน', 'ตอนจบ', 'ตอนต้น', 'ตอนที่', 'ตอนนี้', 'ตอนปลาย', 'ตอนเช้า', 'ตอนแรก', 'ตอบ', 'ตอบรับ', 'ตอบแทน', 'ตอแหล', 'ตะ', 'ตะปู', 'ตะเอง', 'ตะแคง', 'ตะไคร้', 'ตัง', 'ตัด', 'ตัดกัน', 'ตัดผม', 'ตัดสิน', 'ตัดสินใจ', 'ตัดใจ', 'ตัน', 'ตับ', 'ตัว', 'ตัวกลาง', 'ตัวจริง', 'ตัวตน', 'ตัวตลก', 'ตัวทำละลาย', 'ตัวสำรอง', 'ตัวอย่าง', 'ตัวเรา', 'ตัวเลือก', 'ตัวเล็ก', 'ตัวเอง', 'ตัวใครตัวมัน', 'ตัวไร', 'ตั้ง', 'ตั้งความหวัง', 'ตั้งเป้า', 'ตั้งเป้าหมาย', 'ตั้งแต่', 'ตั้งแต่แรก', 'ตั้งใจ', 'ตั๋ว', 'ตา', 'ตากฝน', 'ตาม', 'ตามตำรา', 'ตามที่', 'ตามมา', 'ตามหลักการ', 'ตามหา', 'ตามแต่', 'ตาย', 'ตายใจ', 'ตาสว่าง', 'ตาเจ้าชู้', 'ตำนาน', 'ตำรวจ', 'ตำแหน่ง', 'ติ', 'ติด', 'ติดตลก', 'ติดตาม', 'ติดหนี้', 'ติดใจ', 'ตี', 'ตีน', 'ตีนกา', 'ตีนผม', 'ตีสองหน้า', 'ตื่น', 'ตื่นขึ้น', 'ตื่นเต้น', 'ตุ๊กตุ๊ก', 'ตู', 'ตูน', 'ตู้', 'ต่อ', 'ต่อจากนี้', 'ต่อตา', 'ต่อต้าน', 'ต่อมา', 'ต่อสู้', 'ต่อหน้า', 'ต่อเนื่อง', 'ต่อเมื่อ', 'ต่อให้', 'ต่อไป', 'ต่าง', 'ต่างกัน', 'ต่างหาก', 'ต่ำ', 'ต่ำกว่า', 'ต้น', 'ต้นทุน', 'ต้นไม้', 'ต้ม', 'ต้อง', 'ต้องการ', 'ต้องสู้', 'ต้องหา', 'ต้องโทษ', 'ต้องใจ', 'ต้า', 'ถนน', 'ถนัด', 'ถอด', 'ถอดใจ', 'ถอนหายใจ', 'ถอย', 'ถอยหลัง', 'ถัง', 'ถังแตก', 'ถัดไป', 'ถาม', 'ถิ้ง', 'ถีบ', 'ถึง', 'ถึงกัน', 'ถึงขั้น', 'ถึงเงิน', 'ถึงแม้', 'ถึงแม้ว่า', 'ถึงใจ', 'ถือ', 'ถือว่า', 'ถุง', 'ถูก', 'ถูกจำ', 'ถูกต้อง', 'ถูกหวย', 'ถูกใจ', 'ถ่อมตัว', 'ถ่านไฟเก่า', 'ถ่าย', 'ถ่ายรูป', 'ถ่ายเท', 'ถ้วน', 'ถ้อยคำ', 'ถ้า', 'ถ้าหาก', 'ท', 'ทดสอบ', 'ทน', 'ทนทาน', 'ทรง', 'ทรงพลัง', 'ทรมาณ', 'ทรัพย์สิน', 'ทราบ', 'ทรู', 'ทวิ', 'ทอด', 'ทะ', 'ทะเล', 'ทะเลาะ', 'ทัก', 'ทักษะ', 'ทัน', 'ทันที', 'ทัพพี', 'ทัศนคติ', 'ทั่วไป', 'ทั้ง', 'ทั้งตัว', 'ทั้งที่', 'ทั้งนั้น', 'ทั้งปี', 'ทั้งวัน', 'ทั้งสองฝ่าย', 'ทั้งหมด', 'ทั้งเนื้อทั้งตัว', 'ทั้งโลก', 'ทาง', 'ทางกายภาพ', 'ทางการเงิน', 'ทางจิต', 'ทางตรง', 'ทางผ่าน', 'ทางม้าลาย', 'ทางออก', 'ทางเดิน', 'ทางเดียว', 'ทางเลือก', 'ทางโค้ง', 'ทานตะวัน', 'ทาส', 'ทำ', 'ทำการค้า', 'ทำความเคารพ', 'ทำงาน', 'ทำงานหนัก', 'ทำดี', 'ทำตัว', 'ทำตาม', 'ทำนา', 'ทำบุญ', 'ทำผิด', 'ทำร้าย', 'ทำลาย', 'ทำสำเร็จ', 'ทำใจ', 'ทำให้', 'ทำให้เกิด', 'ทำได้', 'ทำไม', 'ทิฟ', 'ทิศทาง', 'ทิ่ม', 'ทิ้ง', 'ทิ้งขว้าง', 'ที', 'ทีละ', 'ทีละน้อย', 'ทีหลัง', 'ทีเดียว', 'ทีไร', 'ที่', 'ที่จะ', 'ที่ทำงาน', 'ที่นอน', 'ที่นั่น', 'ที่นี่', 'ที่ผ่านมา', 'ที่พัก', 'ที่พึ่ง', 'ที่มา', 'ที่รัก', 'ที่ว่า', 'ที่สอง', 'ที่สาม', 'ที่สี่', 'ที่สุด', 'ที่สูง', 'ที่หนึ่ง', 'ที่หมาย', 'ที่อยู่', 'ที่แท้', 'ที่แล้ว', 'ที่ใด', 'ที่ไหน', 'ที่ไหนได้', 'ทุก', 'ทุกข์', 'ทุกข์ใจ', 'ทุกคน', 'ทุกครั้ง', 'ทุกครั้งที่', 'ทุกคืน', 'ทุกที', 'ทุกที่', 'ทุกปี', 'ทุกวัน', 'ทุกวันนี้', 'ทุกสิ่ง', 'ทุกสิ่งทุกอย่าง', 'ทุกอย่าง', 'ทุกเมื่อ', 'ทุน', 'ทุบ', 'ทุ่ม', 'ทุ่มเท', 'ท่องเที่ยว', 'ท่า', 'ท่ามกลาง', 'ท้อ', 'ท้อง', 'ท้องฟ้า', 'ท้องสาว', 'ท้อถอย', 'ท้อแท้', 'ท้าทาย', 'ท้าย', 'ท้ายที่สุด', 'ท์', 'ทํา', 'ธ', 'ธนาคาร', 'ธรรม', 'ธรรมชาติ', 'ธรรมดา', 'ธอ', 'ธันวา', 'ธุรกิจ', 'ธุระ', 'น', 'นก', 'นม', 'นร', 'นวด', 'นอกจาก', 'นอกนั้น', 'นอกบ้าน', 'นอกใจ', 'นอน', 'นอนหลับ', 'นอนไม่หลับ', 'นะ', 'นัก', 'นักบินอวกาศ', 'นักรบ', 'นักลงทุน', 'นักเรียน', 'นับ', 'นับประสาอะไร', 'นับวัน', 'นั่ง', 'นั่งลง', 'นั่งในหัวใจ', 'นั่น', 'นั่นแหละ', 'นั้น', 'นั้นแหละ', 'นา', 'นาง', 'นางฟ้า', 'นางเอก', 'นาที', 'นาน', 'นามสกุล', 'นาย', 'นายก', 'นาฬิกา', 'นาฬิกาปลุก', 'นำ', 'นำทาง', 'นำมาซึ่ง', 'นำมาใช้', 'นำไปสู่', 'นิด', 'นิดนึง', 'นิดหน่อย', 'นิทาน', 'นินทา', 'นิพพาน', 'นิยาย', 'นิรันดร์', 'นิสัย', 'นิ่ง', 'นิ่ม', 'นิ้ง', 'นิ้วนาง', 'นี่', 'นี่แหละ', 'นี้', 'นี้แหละ', 'นึก', 'นึกถึง', 'นึง', 'นื่ง', 'นุ่ม', 'นู่น', 'น่ะ', 'น่า', 'น่ากลัว', 'น่ากิน', 'น่าจะ', 'น่าจะเป็น', 'น่าตื่นเต้น', 'น่ามอง', 'น่ารัก', 'น่ารู้', 'น่าสงสาร', 'น่าอยู่', 'น่าอิจฉา', 'น่าเชื่อ', 'น่าเชื่อถือ', 'น่าเบื่อ', 'น่าเศร้า', 'น้อง', 'น้องเมีย', 'น้อย', 'น้อยกว่า', 'น้อยลง', 'น้อยใจ', 'น้ำ', 'น้ำขึ้นให้รีบตัก', 'น้ำตา', 'น้ำประปา', 'น้ำปลา', 'น้ำผึ้ง', 'น้ำยา', 'น้ำลาย', 'น้ำหนัก', 'น้ำหวาน', 'น้ำเปล่า', 'น้ำแข็ง', 'น้ำใจ', 'บ', 'บท', 'บทบาท', 'บทสนทนา', 'บทเรียน', 'บน', 'บรรลุ', 'บริการ', 'บริษัท', 'บริหาร', 'บริโภค', 'บล็อก', 'บวก', 'บอก', 'บอกลา', 'บอกเลิก', 'บอกเล่า', 'บอล', 'บัง', 'บังคับ', 'บังเอิญ', 'บัญชี', 'บัณฑิต', 'บัตร', 'บัตรเครดิต', 'บัน', 'บันดาล', 'บันได', 'บั้นปลาย', 'บั๊ก', 'บากบั่น', 'บาง', 'บางคน', 'บางครั้ง', 'บางที', 'บางสิ่ง', 'บางอย่าง', 'บาด', 'บาดเจ็บ', 'บาดแผล', 'บาดใจ', 'บาท', 'บิน', 'บี', 'บุคคล', 'บุญ', 'บ่', 'บ่งบอก', 'บ่อย', 'บ่อยครั้ง', 'บ่าย', 'บ้า', 'บ้าง', 'บ้าน', 'ป', 'ปกติ', 'ปกป้อง', 'ปฎิ', 'ปฎิทิน', 'ปฏิบัติ', 'ปฏิเสธ', 'ปน', 'ปมด้อย', 'ประกันชีวิต', 'ประการ', 'ประกาศ', 'ประคับประคอง', 'ประจบสอพลอ', 'ประจำใจ', 'ประตู', 'ประทังชีวิต', 'ประทับใจ', 'ประมาท', 'ประสบการณ์', 'ประสบความสำเร็จ', 'ประหลาด', 'ประหลาดใจ', 'ประเทศ', 'ประโยคบอกเล่า', 'ปรับตัว', 'ปราบ', 'ปรารถนา', 'ปราศจาก', 'ปริญญา', 'ปลดปล่อย', 'ปลอด', 'ปลอดภัย', 'ปลอบ', 'ปลอบใจ', 'ปลอม', 'ปลั๊ก', 'ปลา', 'ปลายทาง', 'ปลายเดือน', 'ปลุก', 'ปลูก', 'ปล่อย', 'ปล่อยทิ้ง', 'ปล่อยมือ', 'ปล่อยวาง', 'ปล้ำ', 'ปวด', 'ปวดท้อง', 'ปวดหัว', 'ปวดใจ', 'ปอด', 'ปะ', 'ปัก', 'ปัง', 'ปัจจุบัน', 'ปัจุ', 'ปัญญา', 'ปัญญาอ่อน', 'ปัญหา', 'ปั่น', 'ปั๊ม', 'ปา', 'ปาก', 'ปากกา', 'ปากจู๋', 'ปากต่อปาก', 'ปากหมา', 'ปานนี้', 'ปิด', 'ปิ้ง', 'ปี', 'ปีก', 'ปีใหม่', 'ปี้', 'ปู', 'ป่วย', 'ป่ะ', 'ป่า', 'ป่าช้า', 'ป่านนี้', 'ป้อน', 'ป้า', 'ป้าง', 'ป้ายราคา', 'ผนัง', 'ผม', 'ผล', 'ผลกำไร', 'ผลงาน', 'ผลดี', 'ผลตอบแทน', 'ผลรวม', 'ผลลัพธ์', 'ผลัก', 'ผลักดัน', 'ผลี', 'ผลไม้', 'ผสม', 'ผอม', 'ผัก', 'ผัว', 'ผิง', 'ผิด', 'ผิดคน', 'ผิดที่', 'ผิดพลาด', 'ผิดหวัง', 'ผิดเวลา', 'ผิวน้ำ', 'ผี', 'ผีเสื้อ', 'ผูก', 'ผูกใจ', 'ผู้', 'ผู้กำหนด', 'ผู้คน', 'ผู้ชนะ', 'ผู้ชาย', 'ผู้นำ', 'ผู้ยิ่งใหญ่', 'ผู้ร้าย', 'ผู้หญิง', 'ผู้อื่น', 'ผู้เชี่ยวชาญ', 'ผู้เยาว์', 'ผู้แพ้', 'ผู้ใด', 'ผู้ใหญ่', 'ผ่อนคลาย', 'ผ่าตัด', 'ผ่าน', 'ผ่านพ้น', 'ผ้า', 'ฝน', 'ฝนตก', 'ฝัน', 'ฝันดี', 'ฝา', 'ฝาก', 'ฝึก', 'ฝึกซ้อม', 'ฝืน', 'ฝืนยิ้ม', 'ฝุ่น', 'ฝุ่นละออง', 'ฝ่า', 'ฝ่าย', 'พก', 'พจนานุกรม', 'พบ', 'พบกัน', 'พยัญชนะ', 'พยาบาล', 'พยาม', 'พยายาม', 'พรหมลิขิต', 'พระ', 'พระจันทร์', 'พระอาทิตย์', 'พระเอก', 'พรุ่งนี้', 'พร้อม', 'พร้อมกัน', 'พร้อมกับ', 'พฤติกรรม', 'พฤหัส', 'พละกำลัง', 'พลัง', 'พลังงาน', 'พลาด', 'พลาสติก', 'พวก', 'พวกเขา', 'พวกเรา', 'พอ', 'พอกัน', 'พอกับ', 'พอง', 'พอดี', 'พอที', 'พอที่จะ', 'พอประมาณ', 'พอแล้ว', 'พอใจ', 'พัก', 'พักผ่อน', 'พัง', 'พังงา', 'พัฒนา', 'พัดลม', 'พัน', 'พันธุ์', 'พา', 'พายุ', 'พายุฝน', 'พารา', 'พาล', 'พิการ', 'พิซซ่า', 'พินิจพิเคราะห์', 'พิม', 'พิมพ์', 'พิสูจน์', 'พิเศษ', 'พี่', 'พี่น้อง', 'พี่เขย', 'พึ่ง', 'พื้น', 'พื้นฐาน', 'พื้นที่', 'พุง', 'พุธ', 'พุ่ง', 'พูด', 'พูดคุย', 'พูดถึง', 'พูดลับหลัง', 'พูดว่า', 'พูดเล่น', 'พ่อ', 'พ่อคุณ', 'พ่อตา', 'พ่อแม่', 'พ่าย', 'พ่ายแพ้', 'พ้น', 'ฟ', 'ฟริ้ง', 'ฟรี', 'ฟอง', 'ฟะ', 'ฟัง', 'ฟังเพลง', 'ฟัน', 'ฟีโน่', 'ฟี่', 'ฟื้น', 'ฟุตบอล', 'ฟ่ะ', 'ฟ้อง', 'ฟ้อน', 'ฟ้า', 'ภัย', 'ภาค', 'ภาคภูมิใจ', 'ภาพ', 'ภาพถ่าย', 'ภาพลวงตา', 'ภาพลักษณ์', 'ภายนอก', 'ภายใต้', 'ภายใน', 'ภายในใจ', 'ภาระ', 'ภาวนา', 'ภาวะผู้นำ', 'ภาษาอังกฤษ', 'ภาษาไทย', 'ภูมิต้านทาน', 'ภูมิใจ', 'ภูเขา', 'ม', 'มกรา', 'มด', 'มนุษย์', 'มมาก', 'มรดก', 'มรสุม', 'มสิ', 'มหาลัย', 'มหาศาล', 'มหาสมุทร', 'มอ', 'มอคค่า', 'มอง', 'มองข้าม', 'มองดู', 'มองผ่าน', 'มองว่า', 'มองหน้า', 'มองหา', 'มองเห็น', 'มองไม่เห็น', 'มอบ', 'มอบให้', 'มัก', 'มักจะ', 'มักได้', 'มัง', 'มัด', 'มัธยมปลาย', 'มัน', 'มันดี', 'มัย', 'มัว', 'มัวแต่', 'มั่ง', 'มั่นคง', 'มั่นใจ', 'มั่ว', 'มา', 'มาก', 'มากกว่า', 'มากขึ้น', 'มากมาย', 'มากเกินไป', 'มาจาก', 'มาตรฐาน', 'มาตี', 'มาถึง', 'มาม่า', 'มาย', 'มายา', 'มารยาท', 'มาริ', 'มาร์ค', 'มาสู่', 'มาหา', 'มาแรง', 'มิ', 'มิฉะนั้น', 'มิตร', 'มิตรภาพ', 'มิติ', 'มิส', 'มี', 'มีความรู้', 'มีความสุข', 'มีความหมาย', 'มีความหวัง', 'มีคุณค่า', 'มีค่า', 'มีจำกัด', 'มีชีวิต', 'มีชื่อ', 'มีชู้', 'มีทาง', 'มีท้อง', 'มีนา', 'มีประสบการณ์', 'มีประสิทธิภาพ', 'มีประโยชน์', 'มีปัญหา', 'มีผล', 'มีผลต่อ', 'มีพลัง', 'มีระดับ', 'มีระบบ', 'มีสตางค์', 'มีสติ', 'มีสิทธิ์', 'มีหวัง', 'มีเกียรติ', 'มีเงิน', 'มีเงินทอง', 'มีเจ้าของ', 'มีเสน่ห์', 'มีเสียง', 'มีเหตุผล', 'มีโอกาส', 'มีใจ', 'มีไข้', 'มึง', 'มืด', 'มืดมน', 'มือ', 'มือถือ', 'มืออาชีพ', 'มือเปล่า', 'มุข', 'มุม', 'มุมมอง', 'มุ่งมั่น', 'มุ่งเน้น', 'มูลค่า', 'มโน', 'ม่อ', 'ม่อน', 'ม้ะ', 'ม้า', 'ยก', 'ยกเว้น', 'ยง', 'ยวา', 'ยอดเยี่ยม', 'ยอม', 'ยอมรับ', 'ยอมรับผิด', 'ยอมแพ้', 'ยอมให้', 'ยักษ์', 'ยัง', 'ยังคง', 'ยังมี', 'ยังอยู่', 'ยังไง', 'ยา', 'ยาก', 'ยากิน', 'ยากเย็น', 'ยาชา', 'ยาดม', 'ยานพาหนะ', 'ยาพิษ', 'ยาม', 'ยาย', 'ยายแก่', 'ยาว', 'ยาวนาน', 'ยาสีฟัน', 'ยิง', 'ยินดี', 'ยิ่ง', 'ยิ่งกว่า', 'ยิ่งนัก', 'ยิ่งใหญ่', 'ยิ้ม', 'ยิ้มแย้ม', 'ยี่สิบ', 'ยี่ห้อ', 'ยึกยัก', 'ยึด', 'ยืน', 'ยืม', 'ยื่น', 'ยื่นมือ', 'ยุค', 'ยุติธรรม', 'ยุ่ง', 'ยู', 'ย่อ', 'ย่อท้อ', 'ย่อม', 'ย่า', 'ย่าง', 'ย่ำ', 'ย่ำยี', 'ย้อน', 'ย้อนกลับ', 'ย้อย', 'ย้าย', 'ย์', 'รต', 'รถ', 'รถติด', 'รถถัง', 'รวดเร็ว', 'รวย', 'รส', 'รสชาติ', 'รอ', 'รอง', 'รองเท้า', 'รอด', 'รอบ', 'รอบข้าง', 'รอบตัว', 'รอย', 'รอยยิ้ม', 'รอยแตก', 'รอยแผล', 'รอเวลา', 'รอโอกาส', 'ระดับ', 'ระยะ', 'ระยะทาง', 'ระยะห่าง', 'ระยะเวลา', 'ระลึก', 'ระวัง', 'ระหว่าง', 'ระหว่างทาง', 'ระเบียง', 'รัก', 'รักจริง', 'รักษา', 'รักษาคำพูด', 'รักเดียว', 'รักแท้', 'รักแรก', 'รักแร้', 'รังนก', 'รังแต่', 'รัฐ', 'รัฐบาล', 'รับ', 'รับจ้าง', 'รับปาก', 'รับฟัง', 'รับมือ', 'รับรอง', 'รับรางวัล', 'รับรู้', 'รับสมัคร', 'รับสาย', 'รับเงิน', 'รับได้', 'รัว', 'รั่ว', 'รั้ง', 'รา', 'ราคา', 'ราง', 'รางวัล', 'ราชการ', 'รายละเอียด', 'รายได้', 'รี', 'รีบ', 'รีเทิร์น', 'รีโมท', 'รี่', 'รื้อ', 'รื้อฟื้น', 'รุงรัง', 'รุ่น', 'รุ้ง', 'รู', 'รูป', 'รูปภาพ', 'รูปหน้า', 'รูปแบบ', 'รู้', 'รู้จัก', 'รู้ตัว', 'รู้มาก', 'รู้สึก', 'รู้สึกตัว', 'รู้อยู่', 'รู้เรื่อง', 'รู้เรื่องราว', 'รู้ใจ', 'ร่ม', 'ร่มเงา', 'ร่วงหล่น', 'ร่วมกัน', 'ร่างกาย', 'ร่าย', 'ร่ายมนต์', 'ร่าเริง', 'ร่ำรวย', 'ร่ำลา', 'ร้อง', 'ร้องไห้', 'ร้อน', 'ร้อนจี๋', 'ร้อย', 'ร้า', 'ร้าง', 'ร้าน', 'ร้านกาแฟ', 'ร้านเหล้า', 'ร้าย', 'ร์', 'ฤดู', 'ฤดูฝน', 'ล', 'ลก', 'ลง', 'ลงทุน', 'ลงพุง', 'ลงมือ', 'ลงมือทำ', 'ลงรัก', 'ลงเวลา', 'ลงโทษ', 'ลด', 'ลดความอ้วน', 'ลดคุณค่า', 'ลดน้ำหนัก', 'ลดลง', 'ลดละ', 'ลดหลั่น', 'ลบ', 'ลม', 'ลมหนาว', 'ลมหายใจ', 'ลมแล้ง', 'ลลูไลต์', 'ลวก', 'ลวดลาย', 'ลอง', 'ลองดู', 'ลอตเตอรี่', 'ลอบ', 'ลอบกัด', 'ลอย', 'ลอยกระทง', 'ละ', 'ละคร', 'ละทิ้ง', 'ละลาย', 'ละสายตา', 'ละเมอ', 'ละเลย', 'ละแมะ', 'ลัก', 'ลักพาตัว', 'ลักยิ้ม', 'ลัง', 'ลังเล', 'ลับ', 'ลั่น', 'ลั้น', 'ลา', 'ลากิจ', 'ลาก่อน', 'ลาย', 'ลาออก', 'ลาเต้', 'ลำบาก', 'ลำปาง', 'ลำพัง', 'ลำโพง', 'ลิขิต', 'ลิง', 'ลีลา', 'ลีโอ', 'ลี้', 'ลึก', 'ลืม', 'ลืมตัว', 'ลืมตา', 'ลุก', 'ลุกขึ้น', 'ลุย', 'ลุ้น', 'ลูก', 'ลูกค้า', 'ลูกบอล', 'ลูกปืน', 'ลูกหลาน', 'ลูกอม', 'ลูกเขย', 'ลูกโป่ง', 'ล่วงหน้า', 'ล่อ', 'ล่ะ', 'ล่า', 'ล่าสัตว์', 'ล้น', 'ล้นมือ', 'ล้นเหลือ', 'ล้ม', 'ล้มเลิก', 'ล้มเหลว', 'ล้วน', 'ล้างจาน', 'ล้าน', 'ล้าสมัย', 'ล้ำค่า', 'ล้ำเส้น', 'ล๊อต', 'ว', 'วกะ', 'วง', 'วจะ', 'วน', 'วหา', 'วอลสตรีท', 'วะ', 'วัด', 'วัตถุ', 'วัน', 'วันข้างหน้า', 'วันที่', 'วันนั้น', 'วันนี้', 'วันพรุ่ง', 'วันพรุ่งนี้', 'วันหนึ่ง', 'วันหมดอายุ', 'วันหยุด', 'วันหลัง', 'วันอาทิตย์', 'วันเกิด', 'วันใด', 'วัว', 'วาง', 'วางแผน', 'วางโทรศัพท์', 'วาจา', 'วาย', 'วาเลนไทน์', 'วิ', 'วิก', 'วิชาชีพ', 'วิญญาณ', 'วิทย์', 'วิธี', 'วิธีทำ', 'วินัย', 'วินาที', 'วิว', 'วิศวะ', 'วิสัยทัศน์', 'วิเคราะห์', 'วิ่ง', 'วิ่งหนี', 'วุ่นวาย', 'ว่ะ', 'ว่า', 'ว่าการ', 'ว่าง', 'ว่างเปล่า', 'ว่าจ้าง', 'ว่าที่', 'ว่าน', 'ว่ายาก', 'ว่าแต่', 'ว่าแล้ว', 'ศักดิ์ศรี', 'ศัตรู', 'ศาต', 'ศาลา', 'ศิลปะ', 'ศิลปิน', 'ศีรษะ', 'ศุกร์', 'ศูนย์', 'ส', 'สงกรานต์', 'สงบ', 'สงบนิ่ง', 'สงสัย', 'สงสาร', 'สดใส', 'สต', 'สตอ', 'สติ', 'สต็อก', 'สถานที่', 'สถานะ', 'สถานี', 'สน', 'สนทนา', 'สนับสนุน', 'สนิท', 'สนุก', 'สนใจ', 'สบตา', 'สบาย', 'สบายดี', 'สบายใจ', 'สภา', 'สภาพ', 'สภาพอากาศ', 'สภาพแวดล้อม', 'สม', 'สมการ', 'สมดุล', 'สมบัติ', 'สมบูรณ์', 'สมบูรณ์แบบ', 'สมหวัง', 'สมอง', 'สมัคร', 'สมัยนี้', 'สรรพสิ่ง', 'สระ', 'สรุป', 'สร้าง', 'สร้างกำแพง', 'สร้างชื่อเสียง', 'สร้างสรรค์', 'สร้างอนาคต', 'สวม', 'สวมใส่', 'สวย', 'สวยงาม', 'สวัสดิการ', 'สวัสดี', 'สอง', 'สองหน้า', 'สอดแทรก', 'สอน', 'สอบ', 'สอบผ่าน', 'สอย', 'สะกด', 'สะกิด', 'สะดุด', 'สะดุดตา', 'สะท้อน', 'สะพาน', 'สะสม', 'สะเทือน', 'สะเทือนใจ', 'สะโพก', 'สัก', 'สักครั้ง', 'สักที', 'สักนิด', 'สักพัก', 'สักวัน', 'สักหน่อย', 'สังขาร', 'สัญญา', 'สัญญาณ', 'สัตว์', 'สัตว์โลก', 'สัน', 'สันดาน', 'สับสน', 'สัปดาห์', 'สัมพันธ์', 'สัมพันธ์กัน', 'สัมภเวสี', 'สัส', 'สั่ง', 'สั่งงาน', 'สั่งสม', 'สั่งสอน', 'สั่น', 'สั้น', 'สาน', 'สาม', 'สามารถ', 'สาย', 'สายตา', 'สายตายาว', 'สายฝน', 'สายพันธุ์', 'สายลม', 'สารกันบูด', 'สาระ', 'สาหัส', 'สาเหตุ', 'สำคัญ', 'สำรอง', 'สำหรับ', 'สำเร็จ', 'สิ', 'สิงห์', 'สิทธิ', 'สิทธิ์', 'สิน', 'สิบ', 'สิบสอง', 'สิบห้า', 'สิว', 'สิ่ง', 'สิ่งของ', 'สิ่งที่คิด', 'สิ่งที่เหลืออยู่', 'สิ่งศักดิ์สิทธิ์', 'สิ่งแวดล้อม', 'สิ่งใด', 'สิ่งใหม่', 'สิ้น', 'สิ้นปี', 'สิ้นสุด', 'สิ้นหวัง', 'สิ้นใจ', 'สี', 'สีชมพู', 'สี่', 'สึนามิ', 'สุ', 'สุข', 'สุขใจ', 'สุด', 'สุดคน', 'สุดท้าย', 'สุดยอด', 'สุดแต่', 'สุดใจ', 'สุภาพ', 'สุรา', 'สูง', 'สูงสุด', 'สูญ', 'สูญสิ้น', 'สูญเสีย', 'สูตร', 'สูท', 'สูบบุหรี่', 'สูสี', 'สู่', 'สู้', 'สู้ตาย', 'สเต็ก', 'สเปค', 'สไตล์', 'ส่ง', 'ส่งผลให้เกิด', 'ส่งเสียง', 'ส่งใจ', 'ส่วน', 'ส่วนตัว', 'ส่วนที่เหลือ', 'ส่วนมาก', 'ส่วนสูง', 'ส่วนหนึ่ง', 'ส่วนหน้า', 'ส่วนใหญ่', 'ส่อง', 'ส่ายหน้า', 'ห', 'หก', 'หกสิบ', 'หงส์', 'หงายหลัง', 'หญิง', 'หญ้า', 'หดหู่', 'หนทาง', 'หนอน', 'หนัก', 'หนักแน่น', 'หนักใจ', 'หนัง', 'หนังตลก', 'หนังสือ', 'หนังสือพิมพ์', 'หนา', 'หนาว', 'หนาวใจ', 'หนิ', 'หนี', 'หนี้', 'หนึ่ง', 'หนึ่งเดียว', 'หนู', 'หน่วยกิต', 'หน่อย', 'หน้า', 'หน้ากาก', 'หน้าดำ', 'หน้าด้าน', 'หน้าตา', 'หน้าที่', 'หน้าท้อง', 'หน้าบึ้ง', 'หน้าฝน', 'หน้ามุ่ย', 'หน้ายิ้ม', 'หน้าร้อน', 'หน้าหนาว', 'หมด', 'หมดตัว', 'หมดเวลา', 'หมดแรง', 'หมดใจ', 'หมวย', 'หมอ', 'หมอก', 'หมอนข้าง', 'หมอลำ', 'หมั่น', 'หมา', 'หมาย', 'หมายความ', 'หมายความว่า', 'หมายถึง', 'หมี่', 'หมื่น', 'หมู', 'หมูกรอบ', 'หมูสามชั้น', 'หม่า', 'หยด', 'หยอด', 'หยาด', 'หยาดเหงื่อ', 'หยาบ', 'หยิบ', 'หยิ่ง', 'หยุด', 'หยุดชะงัก', 'หยุดนิ่ง', 'หยุดพัก', 'หรอ', 'หรอก', 'หรือ', 'หรือยัง', 'หรือว่า', 'หรือเปล่า', 'หรือไง', 'หรือไม่', 'หรู', 'หรูหรา', 'หลง', 'หลงตัวเอง', 'หลงทาง', 'หลงผิด', 'หลงรัก', 'หลงลืม', 'หลงใหล', 'หลบหน้า', 'หลอก', 'หลอกลวง', 'หลอดไฟ', 'หลอน', 'หลอม', 'หลัก', 'หลักการ', 'หลักฐาน', 'หลัง', 'หลังจากนี้', 'หลับ', 'หลับตา', 'หลับใน', 'หลาย', 'หลายครั้ง', 'หลายอย่าง', 'หลายใจ', 'หลีก', 'หลีกหนี', 'หลีกเลี่ยง', 'หล่น', 'หล่อ', 'หวง', 'หวย', 'หวะ', 'หวัง', 'หวั่นไหว', 'หวาดผวา', 'หวาน', 'หวี', 'หอ', 'หอม', 'หัก', 'หัด', 'หัน', 'หันกลับ', 'หันมา', 'หันหน้า', 'หันหลัง', 'หัว', 'หัวนม', 'หัวมัน', 'หัวล้าน', 'หัวเราะ', 'หัวใจ', 'หา', 'หาก', 'หาความ', 'หาคู่', 'หาทาง', 'หาม', 'หาย', 'หายหัว', 'หายใจ', 'หาว่า', 'หาเงิน', 'หาไม่', 'หำ', 'หิน', 'หุ่น', 'หุ่นดี', 'หุ้น', 'หูหนวก', 'ห่ม', 'ห่วง', 'ห่วงยาง', 'ห่วงใย', 'ห่าง', 'ห่างไกล', 'ห้อง', 'ห้า', 'ห้าง', 'ห้าม', 'อ', 'อก', 'อกหัก', 'อด', 'อดตาย', 'อดทน', 'อดีต', 'อธิบาย', 'อน', 'อนาคต', 'อนุ', 'อนุญาต', 'อนุรักษ์', 'อบอุ่น', 'อป', 'อมทุกข์', 'อมยิ้ม', 'อย', 'อยาก', 'อยากรู้', 'อยากได้', 'อยู่', 'อยู่ดี', 'อยู่ตัว', 'อยู่รอด', 'อยู่เลย', 'อยู่แล้ว', 'อย่า', 'อย่าง', 'อย่างนั้น', 'อย่างไร', 'อย่างไรก็ตาม', 'อร', 'อร่อย', 'อวด', 'อวยพร', 'ออ', 'ออก', 'ออกจาก', 'ออกซิเจน', 'ออกมา', 'ออกเรือ', 'ออกแบบ', 'ออดอ้อน', 'ออน', 'ออม', 'อะ', 'อะนะ', 'อะไร', 'อะไหล่', 'อังคาร', 'อัจฉริยะ', 'อัน', 'อันนี้', 'อัพ', 'อั่งเปา', 'อา', 'อาการ', 'อากาศ', 'อาจ', 'อาจจะ', 'อาจารย์', 'อาทิตย์', 'อาม่า', 'อายุ', 'อารมณ์', 'อาวุธ', 'อาหาร', 'อำเภอ', 'อิจฉา', 'อิฐ', 'อิตาลี', 'อิน', 'อินดี้', 'อิสรภาพ', 'อิสระ', 'อิสาน', 'อิเล็กตรอน', 'อิ่ม', 'อี', 'อีก', 'อีกครั้ง', 'อีกด้วย', 'อีกที', 'อีกหน่อย', 'อีกแล้ว', 'อีกไม่นาน', 'อี้', 'อึดอัด', 'อืด', 'อื่น', 'อื้ม', 'อุดม', 'อุทยาน', 'อุบัติเหตุ', 'อุปนิสัย', 'อุปสรรค', 'อุ่น', 'อุ่นใจ', 'อุ้ม', 'อู้', 'อเมริกาโน', 'อโหสิกรรม', 'อ่อน', 'อ่อนแรง', 'อ่อนแอ', 'อ่อนโยน', 'อ่อนไหว', 'อ่อย', 'อ่าน', 'อ่านหนังสือ', 'อ้วน', 'อ้อน', 'อ้อมแขน', 'อ้อย', 'อ้าง', 'อ้างว่า', 'อ้างว้าง', 'อ้าว', 'ฮอด', 'ฮอต', 'ฮัก', 'ฮัลโหล', 'ฮา', 'ฮิ้ว', 'ฮี', 'ฮีโร่', 'ะ', 'า', 'าง', 'าม', 'าว', 'าวพบ', 'ุณ', 'เ', 'เก', 'เกณฑ์ทหาร', 'เกม', 'เกมส์', 'เกรด', 'เกลียด', 'เกาหลี', 'เกิด', 'เกิดขึ้น', 'เกิน', 'เกินไป', 'เกี่ยง', 'เกี่ยวกับ', 'เกี๊ยว', 'เกือบ', 'เกือบจะ', 'เกเร', 'เก็งกำไร', 'เก็บ', 'เก็บอาการ', 'เก็บเล็กผสมน้อย', 'เก่', 'เก่ง', 'เก่า', 'เขา', 'เขาค้อ', 'เขาวงกต', 'เขิน', 'เขียน', 'เขียว', 'เขียวขจี', 'เข็ง', 'เข็ญใจ', 'เข็ด', 'เข็ดฟัน', 'เข็มทิศ', 'เข้ม', 'เข้มแข็ง', 'เข้า', 'เข้ากัน', 'เข้ากับ', 'เข้าตา', 'เข้าที่', 'เข้านอน', 'เข้าบัญชี', 'เข้ามา', 'เข้าสู่', 'เข้าเกียร์', 'เข้าเรียน', 'เข้าใกล้', 'เข้าใจ', 'เข้าใจง่าย', 'เข้าใจยาก', 'เข้าไป', 'เค', 'เคน', 'เคมี', 'เคย', 'เครา', 'เครียด', 'เครื่อง', 'เครื่องนำทาง', 'เครื่องประดับ', 'เครื่องวัด', 'เครื่องสำอาง', 'เครื่องเสียง', 'เคร่งเครียด', 'เคลียร์', 'เคลื่อนไหว', 'เคา', 'เคารพ', 'เคียง', 'เค็ม', 'เค้ก', 'เค้า', 'เงา', 'เงิน', 'เงินกู้', 'เงินตรา', 'เงินทอง', 'เงินปลอม', 'เงินเก็บ', 'เงินเดือน', 'เงิ่อน', 'เงีย', 'เงียบ', 'เจอ', 'เจอกัน', 'เจีย', 'เจียว', 'เจี้ย', 'เจือจาง', 'เจ็ด', 'เจ็บ', 'เจ็บปวด', 'เจ็บใจ', 'เจ้า', 'เจ้าของ', 'เจ้าชาย', 'เจ้าชู้', 'เจ้าที่', 'เจ้ามือ', 'เจ้าหญิง', 'เจ้าแม่', 'เฉพาะ', 'เฉพาะตัว', 'เฉพาะที่', 'เฉย', 'เฉยชา', 'เฉียง', 'เฉี่ยว', 'เชย', 'เชิง', 'เชิญ', 'เชียร์', 'เชือก', 'เชื่อ', 'เชื่อมั่น', 'เชื่อเถอะ', 'เชื่อใจ', 'เชื้อเพลิง', 'เช็ค', 'เช็ด', 'เช่นกัน', 'เช่นเดียวกับ', 'เช้า', 'เซ', 'เซต', 'เซนต์', 'เซฟ', 'เซลฟี่', 'เซ็ง', 'เซ็น', 'เด', 'เดก', 'เดย์', 'เดิน', 'เดินตาม', 'เดินทาง', 'เดินทางไกล', 'เดินผ่าน', 'เดินหน้า', 'เดิฟ', 'เดิม', 'เดียว', 'เดียวกัน', 'เดียวดาย', 'เดี่ยว', 'เดี๋ยว', 'เดี๋ยวก่อน', 'เดี๋ยวนี้', 'เดือน', 'เด็ก', 'เด็กดี', 'เด็ด', 'เด้ง', 'เด้อ', 'เต', 'เตก', 'เตรียม', 'เตะ', 'เติบโต', 'เติม', 'เติมน้ำมัน', 'เติมเต็ม', 'เตียง', 'เตี้ย', 'เตือน', 'เต็ม', 'เต็มที่', 'เต็มใจ', 'เต่ง', 'เต่อ', 'เต๊าะ', 'เถอะ', 'เถียง', 'เถื่อน', 'เท', 'เทคแคร์', 'เทป', 'เทพ', 'เทศกาล', 'เทา', 'เที่ยงคืน', 'เที่ยว', 'เทใจ', 'เท่', 'เท่า', 'เท่ากัน', 'เท่ากับ', 'เท่าที่', 'เท่านั้น', 'เท่านั้นเอง', 'เท่านี้', 'เท่าเดิม', 'เท่าเทียมกัน', 'เท่าไร', 'เท่าไหร่', 'เท้า', 'เธอ', 'เนาะ', 'เนิ่นนาน', 'เนี่ย', 'เนื้อ', 'เนื้อคู่', 'เน็ต', 'เน่า', 'เน้น', 'เบบี้', 'เบรค', 'เบลอ', 'เบอดี้', 'เบอร์', 'เบา', 'เบาหวาน', 'เบีย', 'เบียซด', 'เบียร์', 'เบื่อ', 'เบื่อชีวิต', 'เบื้องหน้า', 'เบื้องหลัง', 'เบ่งบาน', 'เปย์', 'เปย์ขอ', 'เปราะบาง', 'เปรียบ', 'เปรียบเทียบ', 'เปรี้ยว', 'เปล', 'เปลียน', 'เปลี่ยน', 'เปลี่ยนคน', 'เปลี่ยนความคิด', 'เปลี่ยนเป็น', 'เปลี่ยนแปลง', 'เปลี่ยนใจ', 'เปลี่ยนไป', 'เปลือง', 'เปล่า', 'เปอร์', 'เปอร์เซ็นต์', 'เปิด', 'เปิดตัว', 'เปิดรับ', 'เปิดเผย', 'เปิดใจ', 'เปิดไฟ', 'เปียกปอน', 'เปี่ยมล้น', 'เป็น', 'เป็นการ', 'เป็นครั้งคราว', 'เป็นความ', 'เป็นงาน', 'เป็นจริง', 'เป็นชู้', 'เป็นช่วง', 'เป็นตัว', 'เป็นตัวของตัวเอง', 'เป็นต่อ', 'เป็นที่', 'เป็นทุกข์', 'เป็นธรรมดา', 'เป็นบ้า', 'เป็นประจำ', 'เป็นประโยชน์', 'เป็นปัญหา', 'เป็นผล', 'เป็นผู้ใหญ่', 'เป็นมา', 'เป็นมิตร', 'เป็นรอง', 'เป็นลม', 'เป็นสุข', 'เป็นหนี้', 'เป็นหนึ่ง', 'เป็นหวัด', 'เป็นห่วง', 'เป็นอันตราย', 'เป็นอิสระ', 'เป็นเจ้าของ', 'เป็นเพื่อน', 'เป็นเรื่อง', 'เป็นเวลา', 'เป็นโรค', 'เป็นโสด', 'เป็นไข้', 'เป็นไง', 'เป็นได้', 'เป็นไปได้', 'เป็นไปไม่ได้', 'เป็นไร', 'เป็นไรไป', 'เป้', 'เป้าหมาย', 'เผชิญหน้า', 'เผลอ', 'เผลอใจ', 'เผลอไป', 'เผา', 'เผือก', 'เผื่อ', 'เฝ้า', 'เฝ้าดู', 'เฝ้ามอง', 'เพ', 'เพราะ', 'เพราะฉะนั้น', 'เพราะว่า', 'เพราะอะไร', 'เพลง', 'เพลิน', 'เพลีย', 'เพิ่ง', 'เพิ่น', 'เพิ่ม', 'เพิ่มขึ้น', 'เพียง', 'เพียงแค่', 'เพียงแต่', 'เพียงใด', 'เพียบ', 'เพื่อ', 'เพื่อน', 'เพื่อนบ้าน', 'เพื่อนแท้', 'เพื่อให้', 'เพ้อ', 'เฟร้งฟ', 'เฟส', 'เมา', 'เมาคลี', 'เมามัน', 'เมาเหล้า', 'เมิง', 'เมิน', 'เมินเฉย', 'เมีย', 'เมียน้อย', 'เมียหลวง', 'เมือง', 'เมื่อ', 'เมื่อกี้', 'เมื่อก่อน', 'เมื่อนั้น', 'เมื่อวาน', 'เมื่อใด', 'เมื่อไร', 'เมื่อไหร่', 'เม็ด', 'เม็ดทราย', 'เม้าท์', 'เย', 'เยอะ', 'เยอะแยะ', 'เยาะ', 'เยียวยา', 'เยี่ยม', 'เยี่ยมยอด', 'เยือน', 'เย็น', 'เย็นชา', 'เย็นเฉียบ', 'เร', 'เรย', 'เรา', 'เริ่ม', 'เริ่มต้น', 'เริ่มใหม่', 'เรียก', 'เรียกร้อง', 'เรียน', 'เรียนจบ', 'เรียนรู้', 'เรียบง่าย', 'เรียบร้อย', 'เรียว', 'เรือ', 'เรือดำน้ำ', 'เรือรบ', 'เรื่อง', 'เรื่องจริง', 'เรื่องราว', 'เรื่องเล่า', 'เรื่องไร้สาระ', 'เรื่อย', 'เร็ว', 'เร่อ', 'เลก', 'เลก็มี', 'เลนส์', 'เลย', 'เลว', 'เลวร้าย', 'เลิก', 'เลิกกัน', 'เลิกรา', 'เลิกใช้', 'เลิท', 'เลิฟ', 'เลีย', 'เลียนแบบ', 'เลี่ยง', 'เลี้ยง', 'เลี้ยงดู', 'เลี้ยว', 'เลือก', 'เลือนลาง', 'เลื่อน', 'เลื่อนขั้น', 'เลเซอร์', 'เล็ก', 'เล็กน้อย', 'เล่น', 'เล่นตลก', 'เล่ห์', 'เล่า', 'เล่านิทาน', 'เล้า', 'เวทมนตร์', 'เวร', 'เวรกรรม', 'เวลา', 'เวลาเริ่ม', 'เวอร์ชั่น', 'เว้ย', 'เศรษฐศาสตร์', 'เศรษฐี', 'เศร้า', 'เศษ', 'เศษคน', 'เส', 'เสมอ', 'เสมอต้นเสมอปลาย', 'เสมอไป', 'เสมือน', 'เสร็จสิ้น', 'เสา', 'เสาร์', 'เสีย', 'เสียกำลังใจ', 'เสียความรู้สึก', 'เสียค่าใช้จ่าย', 'เสียง', 'เสียงดนตรี', 'เสียงดัง', 'เสียดาย', 'เสียทรง', 'เสียน้ำตา', 'เสียว', 'เสียสละ', 'เสียหลัก', 'เสียหาย', 'เสียเงิน', 'เสียเวลา', 'เสียโอกาส', 'เสียใจ', 'เสี่ยง', 'เสี่ยว', 'เสือ', 'เสือก', 'เสื่อม', 'เสื้อ', 'เสื้อกันหนาว', 'เสื้อช็อป', 'เสื้อผ้า', 'เส้น', 'เส้นชัย', 'เส้นทาง', 'เส้นผ่านศูนย์กลาง', 'เห', 'เหงา', 'เหงือก', 'เหงื่อ', 'เหตุ', 'เหตุการณ์', 'เหตุผล', 'เหนียง', 'เหนือ', 'เหนือกว่า', 'เหนื่อย', 'เหนื่อยล้า', 'เหนื่อยใจ', 'เหมาะ', 'เหมาะกับ', 'เหมาะสม', 'เหมือน', 'เหมือนกัน', 'เหมือนกับ', 'เหมือนว่า', 'เหมือนเดิม', 'เหม็น', 'เหม่อ', 'เหยียบ', 'เหยือก', 'เหยื่อ', 'เหรียญ', 'เหรียญทอง', 'เหลียว', 'เหลือ', 'เหลือทน', 'เหลือล้น', 'เหลืออยู่', 'เหล่านั้น', 'เหล่านี้', 'เหล้า', 'เหอะ', 'เหี้ย', 'เห็น', 'เห็นคุณค่า', 'เห็นจะ', 'เห็นชอบ', 'เห็นแก่', 'เห็นใจ', 'เห่า', 'เอ', 'เอกลักษณ์', 'เอง', 'เอดส์', 'เอฟ', 'เออ', 'เอา', 'เอาจริง', 'เอาชนะ', 'เอาหน้า', 'เอาแต่', 'เอาใจ', 'เอาไว้', 'เอียง', 'เอื้อมมือ', 'เอ็น', 'เอ็นดู', 'เอ่ย', 'เอ้า', 'เฮ', 'เฮฮา', 'เฮ้อ', 'เเค่', 'เเค่คน', 'เเค่คนคน', 'เเค่พอ', 'เเต่', 'เเถม', 'เเท้', 'เเน่', 'เเพ้', 'เเพ้เเต่', 'เเฟน', 'เเม่', 'เเม้เเต่', 'เเม้เเต่คน', 'เเย่', 'เเย่ง', 'เเล้ว', 'แก', 'แกง', 'แกนะ', 'แกร่ง', 'แกล้ง', 'แกะสลัก', 'แก็จุด', 'แก็ตัว', 'แก็ปัญ', 'แก็ม', 'แก็มัน', 'แก็ว', 'แก็อ', 'แก่', 'แขวน', 'แข็ง', 'แข็งแกร่ง', 'แข็งแรง', 'แข่ง', 'แข่งขัน', 'แคบ', 'แคป', 'แคร์', 'แค่', 'แค่นั้น', 'แค่นี้', 'แค้น', 'แง่', 'แจกัน', 'แจ้ง', 'แจ้งความ', 'แชท', 'แชมพู', 'แชร์', 'แซง', 'แซะ', 'แซ่บ', 'แดก', 'แดง', 'แดด', 'แตก', 'แตกต่าง', 'แตะ', 'แต่', 'แต่กลับ', 'แต่ก่อน', 'แต่ง', 'แต่งงาน', 'แต่งตัว', 'แต่งหน้า', 'แต่งเติม', 'แต่ละ', 'แต่ละครั้ง', 'แต่ละวัน', 'แต่ลำพัง', 'แต่ว่า', 'แต่อย่างใด', 'แต่ไกล', 'แต๊ะอั๋ง', 'แต๊ะเอีย', 'แถม', 'แทงหวย', 'แทน', 'แทบตาย', 'แท็ก', 'แท้', 'แท้จริง', 'แท๊กซี่', 'แนน', 'แนะนำ', 'แน่', 'แน่นอน', 'แบ', 'แบกรับ', 'แบงค์', 'แบต', 'แบบ', 'แบบนี้', 'แบรนด์', 'แบ็ค', 'แบ่ง', 'แบ่งปัน', 'แบ่งแยก', 'แปด', 'แปดสิบ', 'แปล', 'แปลก', 'แปลกที่', 'แป้ง', 'แผน', 'แผนการ', 'แผนที่', 'แผล', 'แผลเป็น', 'แผ่นดินไหว', 'แฝง', 'แพง', 'แพลน', 'แพ้', 'แฟก็สั่ง', 'แฟน', 'แฟนคลับ', 'แฟรงก์', 'แมงมุม', 'แมน', 'แมลง', 'แมลงเม่า', 'แมว', 'แม่', 'แม้', 'แม้ว่า', 'แม้แต่', 'แยก', 'แย่', 'แย่ง', 'แย่มาก', 'แร', 'แรก', 'แรง', 'แรงจูงใจ', 'แรงบันดาลใจ', 'แรงผลักดัน', 'แรงโน้มถ่วง', 'แรด', 'แล', 'แลก', 'แลนด์', 'และ', 'แล้', 'แล้ง', 'แล้ว', 'แล้วกัน', 'แล้วก็', 'แล้วจึง', 'แล้วแต่', 'แล้วไป', 'แวดวง', 'แววตา', 'แว่น', 'แว่นตา', 'แว้งกัด', 'แว๊น', 'แสง', 'แสงสว่าง', 'แสงแดด', 'แสงโสม', 'แสดง', 'แสดงถึง', 'แสดงว่า', 'แสน', 'แสวงหา', 'แหนม', 'แหละ', 'แหล่ง', 'แหวน', 'แห่ง', 'แห้ง', 'แอ', 'แอด', 'แอบ', 'แอบมอง', 'แอร์', 'แอลกอฮอล์', 'โกรธ', 'โกหก', 'โค', 'โคตร', 'โคม', 'โง่', 'โง่เขลา', 'โจทย์', 'โฉนด', 'โชค', 'โชคชะตา', 'โชคดี', 'โชคร้าย', 'โชว์', 'โซดา', 'โซเซ', 'โซ่ตรวน', 'โด', 'โดดเดี่ยว', 'โดดเด่น', 'โดน', 'โดนัท', 'โดนใจ', 'โดย', 'โดยที่', 'โดยเฉพาะ', 'โต', 'โตชิบา', 'โตมา', 'โต้', 'โต้คลื่น', 'โต้แย้ง', 'โทร', 'โทรศัพท์', 'โทษ', 'โน', 'โน้น', 'โน้มเอียง', 'โบก', 'โบกมือ', 'โป', 'โปร', 'โปรด', 'โปรดปราน', 'โปรตอน', 'โปรแกรม', 'โปรไฟล์', 'โพ', 'โพส', 'โพสต์', 'โฟกัส', 'โม่', 'โม้', 'โย', 'โยก', 'โยน', 'โยนทิ้ง', 'โรค', 'โรคจิต', 'โรคประจำตัว', 'โรงพัก', 'โรงหนัง', 'โรงเรียน', 'โรย', 'โลก', 'โลกหน้า', 'โลเคชั่น', 'โลเล', 'โล่', 'โล่ง', 'โวยวาย', 'โสด', 'โหด', 'โหดร้าย', 'โหมด', 'โหยหา', 'โหลด', 'โอ', 'โอกาศ', 'โอกาส', 'โอน', 'โอบกอด', 'โอวัลติน', 'โอเค', 'โอ่ง', 'โอ้', 'โอ้ย', 'โอ้โห', 'ใกล้', 'ใกล้ชิด', 'ใกล้เคียง', 'ใคร', 'ใครก็ได้', 'ใจ', 'ใจกว้าง', 'ใจง่าย', 'ใจดำ', 'ใจดี', 'ใจตรงกัน', 'ใจมา', 'ใจรัก', 'ใจร้าย', 'ใจสั่น', 'ใจเดียว', 'ใจเย็น', 'ใช่', 'ใช้', 'ใช้กับ', 'ใช้ชีวิต', 'ใช้เวลา', 'ใช้เวลานาน', 'ใช้ได้', 'ใด', 'ใด้', 'ใต้', 'ใน', 'ในขณะที่', 'ในทันที', 'ในที่สุด', 'ในประเทศ', 'ในวันหน้า', 'ในอนาคต', 'ใบ', 'ใบสั่ง', 'ใบหน้า', 'ใบไม้', 'ใฝ่หา', 'ใย', 'ใลก', 'ใส', 'ใส่', 'ใส่หน้ากาก', 'ใส่ใจ', 'ใส่ไข่', 'ใหญ่', 'ใหม่', 'ให้', 'ให้กำลังใจ', 'ให้ความสำคัญ', 'ให้รางวัล', 'ให้อภัย', 'ให้โอกาส', 'ให้ได้', 'ไกล', 'ไก่', 'ไข', 'ไขปัญหา', 'ไขมัน', 'ไขว่คว้า', 'ไข่', 'ไข่มุก', 'ไง', 'ไช่', 'ไซส์', 'ไดร์', 'ไดโนเสาร์', 'ได้', 'ได้ข่าว', 'ได้คืน', 'ได้ดี', 'ได้ที่', 'ได้ผล', 'ได้มา', 'ได้ยิน', 'ได้รับ', 'ได้เงิน', 'ได้เปรียบ', 'ได้เวลา', 'ได้ใจ', 'ไต', 'ไทย', 'ไบ', 'ไป', 'ไปดู', 'ไปหา', 'ไปเที่ยว', 'ไฟ', 'ไฟแนนซ์', 'ไม่', 'ไม่ค่อย', 'ไม่ต้อง', 'ไม่ต้องการ', 'ไม่ต้องสงสัย', 'ไม่หวาดไม่ไหว', 'ไม่เป็นไร', 'ไม้', 'ไม้ตาย', 'ไร', 'ไร้', 'ไร้ค่า', 'ไร้ประโยชน์', 'ไร้ผล', 'ไร้สาระ', 'ไลก์', 'ไลค์', 'ไลน์', 'ไล่', 'ไล่ตาม', 'ไล่ล่า', 'ไว', 'ไวท์', 'ไวรัส', 'ไว้', 'ไว้วางใจ', 'ไว้ใจ', 'ไว้ใจได้', 'ไหน', 'ไหนจะ', 'ไหม', 'ไหมหน้า', 'ไหม้', 'ไหล', 'ไหล่', 'ไหว', 'ไห้', 'ไอ', 'ไอเดีย', 'ไอ้', 'ไฮโซ', '็', '็า', '์', '\\u200b', '\\u200bคน', '\\u200bเเต่', '–', '–บัฟเฟร', '‘', '’']\n"
          ],
          "name": "stdout"
        }
      ]
    },
    {
      "cell_type": "code",
      "metadata": {
        "colab": {
          "base_uri": "https://localhost:8080/"
        },
        "id": "5Q3qokIEK12q",
        "outputId": "8701289a-992f-4beb-b645-7c6597d03f66"
      },
      "source": [
        "print(vectorizer.vocabulary_)"
      ],
      "execution_count": null,
      "outputs": [
        {
          "output_type": "stream",
          "text": [
            "{'ก็': 200, 'คุณ': 534, 'เอง': 3030, 'ไม่': 3408, 'ใช่': 3335, 'หรอ': 2286, 'ที่': 1087, 'ทำให้': 1072, 'เรา': 2878, 'เสียใจ': 2969, 'ใน': 3345, 'วันนั้น': 1980, 'แค่': 3090, 'คน': 319, 'เคย': 2569, 'เธอ': 2711, 'ยิ้ม': 1730, 'เวลา': 2935, 'มี': 1639, 'เขา': 2536, 'เด็ก': 2664, 'ขี้แย': 277, 'ไม่ต้อง': 3410, 'มา': 1614, 'แคร์': 3089, 'ก็ได้': 207, 'โสด': 3301, 'ได้': 3386, 'อ่อย': 2485, 'นาน': 1188, 'หน่อย': 2239, 'จริง': 595, 'กฎ': 60, 'ของ': 232, 'กระจก': 67, 'คือ': 532, 'การ': 130, 'สะท้อน': 2097, 'กลับมา': 86, 'แต่': 3110, 'ย้อนกลับ': 1752, 'ไป': 3402, 'เดิน': 2648, 'ข้างหน้า': 299, 'ห้าม': 2376, 'เสียดาย': 2959, 'กับ': 125, 'สิ่ง': 2155, 'ที่ผ่านมา': 1093, 'ข้อ': 288, 'ที่หนึ่ง': 1104, 'จง': 582, 'อย่า': 2404, 'เป็น': 2762, 'ตัวเลือก': 900, 'ที่สอง': 1099, 'ใคร': 3321, 'พา': 1505, 'ตัวเอง': 902, 'กลับ': 82, 'ออกมา': 2417, 'กด': 61, 'ไลค์': 3424, 'ให้': 3366, 'บ่อย': 1306, 'จัง': 603, 'เงิน': 2588, 'บ้าง': 1310, 'มัน': 1605, 'น่ารัก': 1230, 'โปรด': 3272, 'ยึกยัก': 1734, 'เรื่อง': 2893, 'รัก': 1787, 'พี่': 1517, 'เลย': 2904, 'นี่': 1212, 'โลก': 3294, 'แบบ': 3143, 'ฉัน': 667, 'ถ้า': 1009, 'ชอบ': 680, 'ออก': 2414, 'สิ': 2146, 'เป็นได้': 2801, 'คนใน': 357, 'จอ': 598, 'ดี': 793, 'พอ': 1487, 'จะ': 600, 'ใจ': 3323, 'เพราะ': 2819, 'คนสำคัญ': 339, 'แบ่ง': 3147, 'แชร์': 3100, 'กัน': 121, 'หรอก': 2287, 'นะ': 1167, 'สำคัญ': 2142, 'ต้อง': 967, 'หวง': 2326, 'เป็นธรรมดา': 2775, 'ภูมิใจ': 1573, 'อะ': 2423, 'ยิ่ง': 1726, 'ป้า': 1394, 'ข้าง': 294, 'บ้าน': 1311, 'ใส่ใจ': 3362, 'มาก': 1615, 'เท่าไร': 2708, 'ทำไม': 1075, 'รู้สึก': 1840, 'มอง': 1588, 'บน': 1263, 'ทุกที': 1119, 'แหนม': 3218, 'หนิ': 2232, 'เปรี้ยว': 2740, 'เตี้ย': 2678, 'มองข้าม': 1589, 'ตลอด': 856, 'กรรม': 64, 'กิน': 181, 'มีชื่อ': 1648, 'เรียก': 2882, 'ว่า': 2015, 'กิโลกรัม': 188, 'กระทง': 69, 'หนัก': 2222, 'หาคู่': 2352, 'ลอย': 1900, 'กระบี่': 72, 'อยู่': 2398, 'ถัดไป': 983, 'จาก': 616, 'พังงา': 1500, 'กระปุกออมสิน': 74, 'ไว้': 3432, 'หยอด': 2276, 'คิดถึง': 519, 'เอาไว้': 3040, 'ปู': 1387, 'ไทย': 3400, 'ถึง': 987, 'อร่อย': 2410, 'ถูกใจ': 1001, 'ทุกคน': 1115, 'กล้อง': 104, 'โฟกัส': 3280, 'ความ': 388, 'ชัด': 682, 'รูป': 1832, 'เบลอ': 2722, 'ชัดเจน': 683, 'จุด': 644, 'เดิม': 2655, 'กลัว': 88, 'การเปลี่ยนแปลง': 162, 'เมื่อ': 2854, 'อะไร': 2425, 'เปลี่ยนไป': 2749, 'เสมอ': 2945, 'เห็น': 3021, 'ค่า': 546, 'ติด': 930, 'ราคา': 1815, 'ด้วย': 822, 'ฝุ่น': 1456, 'หน้ากาก': 2241, 'ใส่': 3360, 'ทุกวัน': 1122, 'กลางแดด': 94, 'เงา': 2587, 'กลาง': 91, 'กล้า': 106, 'ที่จะ': 1088, 'ขอโทษ': 250, 'ก่อน': 208, 'กล้าหาญ': 107, 'ที่สุด': 1102, 'ลงมือทำ': 1876, 'แล้ว': 3197, 'ปล่อย': 1354, 'พูดคุย': 1528, 'ไร้สาระ': 3422, 'คนอื่น': 340, 'กลายเป็น': 97, 'คนชั่ว': 327, 'คำพูด': 513, 'มั่ว': 1613, 'กวน': 108, 'ตีน': 936, 'ยัง': 1705, 'กวนใจ': 109, 'ได้ใจ': 3398, 'มั่ง': 1610, 'เหมือน': 2999, 'นั้น': 1181, 'ไง': 3381, 'เข้ามา': 2557, 'จากไป': 619, 'อยู่ดี': 2399, 'กอด': 114, 'เสื้อ': 2975, 'ไซส์': 3383, 'สวมใส่': 2081, 'อบอุ่น': 2390, 'หมอนข้าง': 2261, 'ไม่ค่อย': 3409, 'อุ่น': 2474, 'ขอ': 231, 'เปลี่ยนเป็น': 2746, 'ไหม': 3438, 'เป็นไง': 2800, 'ตอนนี้': 869, 'เหมือนเดิม': 3003, 'นับ': 1173, 'หนึ่ง': 2235, 'ดู': 808, 'ลืม': 1934, 'หรือยัง': 2289, 'สบาย': 2055, 'ความลำบาก': 438, 'ย่อม': 1746, 'บท': 1259, 'ทดสอบ': 1012, 'ก่อนที่': 209, 'สุข': 2173, 'ผ่าน': 1443, 'พุธ': 1525, 'พฤหัส': 1478, 'อโหสิกรรม': 2479, 'ตบ': 839, 'คว่ำ': 486, 'ค่อย': 545, 'ปล่อยวาง': 1357, 'กันชน': 122, 'เงินกู้': 2589, 'ประตู': 1327, 'เมีย': 2850, 'กาแฟ': 171, 'ขาดไม่ได้': 262, 'หลงใหล': 2302, 'ตกหลุมรัก': 835, 'ตื่น': 940, 'ส่วน': 2202, 'นอนไม่หลับ': 1166, 'นม': 1157, 'ขม': 219, 'เท่า': 2699, 'อยาก': 2395, 'ผม': 1398, 'คอ': 488, 'ฟ': 1540, 'ฟี่': 1549, 'แฟน': 3167, 'อันนี้': 2430, 'เมื่อไหร่': 2861, 'ที่รัก': 1097, 'การกระทำ': 131, 'กว่า': 111, 'ความอบอุ่น': 457, 'ได้ดี': 3389, 'าม': 2507, 'ข้าม': 304, 'ความกลัว': 390, 'รางวัล': 1817, 'ยิ่งใหญ่': 1729, 'แก': 3067, '็': 3449, 'แค้น': 3093, 'ประสบความสำเร็จ': 1332, 'อย่าง': 2405, 'มหาศาล': 1584, 'แฟรงก์': 3169, 'ซิ': 743, 'นา': 1183, 'ต': 830, 'ร้า': 1861, 'การขับขี่': 132, 'ยานพาหนะ': 1716, 'ความสามารถ': 445, 'ดื่ม': 802, 'สุรา': 2182, 'ลดลง': 1884, 'มากเกินไป': 1619, 'เป็นความ': 2765, 'เหนื่อยใจ': 2995, 'ไร้ประโยชน์': 3420, 'ยอมรับ': 1700, 'ทุก': 1112, 'ท้าทาย': 1141, 'สามารถ': 2131, 'เลือก': 2919, 'รับ': 1799, 'เฉพาะ': 2616, 'ใช้ชีวิต': 3338, 'ถูก': 997, 'ทาง': 1043, 'ความคุ้มค่า': 398, 'ชีวิต': 709, 'การซื้อขาย': 137, 'การต่อสู้': 143, 'อารมณ์': 2442, 'สำหรับ': 2144, 'นัก': 1168, 'เก็งกำไร': 2529, 'อัจฉริยะ': 2428, 'รู้': 1836, 'ศัตรู': 2026, 'ใหญ่': 3364, 'เป็นเจ้าของ': 2793, 'เดินทาง': 2650, 'มีชีวิต': 1647, 'เป็นไปได้': 2802, 'เริ่ม': 2879, 'สิ้นสุด': 2165, 'หลาย': 2317, 'พัน': 1503, 'กิโลเมตร': 189, 'เริ่มต้น': 2880, 'าว': 2508, 'เพียง': 2830, 'เดียว': 2656, 'ได้รับ': 3394, 'แรงบันดาลใจ': 3187, 'เสีย': 2952, 'ช่วย': 720, 'บันดาล': 1284, 'ทุกสิ่ง': 1124, 'อ่าน': 2486, 'ท่องเที่ยว': 1132, 'จึง': 641, 'กลาย': 95, 'เป็นตัว': 2770, 'การตอกย้ำ': 140, 'ความผิด': 420, 'เรื่อย': 2898, 'ควร': 385, 'ทำ': 1057, 'แท้จริง': 3133, 'ชิงชัย': 701, 'เพื่อ': 2835, 'ให้ได้': 3372, 'เหรียญทอง': 3010, 'ตรากตรำ': 851, 'สู้': 2193, 'ตัว': 891, 'ต่างหาก': 960, 'ล่ะ': 1951, 'จิตใจ': 633, 'นั่นแหละ': 1180, 'สถานที่': 2045, 'ต่อสู้': 952, 'อัน': 2429, 'ตั้งความหวัง': 906, 'เสี่ยง': 2970, 'ความเจ็บปวด': 467, 'การตื่น': 142, 'เช้า': 2637, 'เป็นเรื่อง': 2795, 'ดีแต่': 797, 'นอน': 1164, 'ต่อ': 947, 'ดีกว่า': 794, 'ทำงานหนัก': 1061, 'สัญญาณ': 2112, 'ความสำเร็จ': 447, 'ตัวเรา': 899, 'วิ่งหนี': 2012, 'ความทุกข์': 413, 'พบ': 1462, 'ความสุข': 448, 'บอก': 1271, 'เท่ากับ': 2701, 'บิน': 1300, 'ฟ้า': 1555, 'คนธรรมดา': 330, 'เท่าเดิม': 2706, 'บางครั้ง': 1291, 'อาจจะ': 2437, 'พูด': 1527, 'นึง': 1218, 'นิสัย': 1207, 'อีก': 2457, 'มีความรู้': 1640, 'รู้จัก': 1837, 'นำ': 1194, 'ใช้': 3336, 'และ': 3194, 'ความตั้งใจ': 410, 'น้อย': 1241, 'เป้าหมาย': 2807, 'จุดเริ่มต้น': 650, 'แพ้': 3165, 'การยิ้ม': 149, 'แต่ละครั้ง': 3119, 'พลัง': 1480, 'เปลี่ยน': 2743, 'ร้าย': 1866, 'สดใส': 2040, 'หัวใจ': 2348, 'เข้าใจ': 2562, 'สวยงาม': 2083, 'ขึ้น': 278, 'ความรัก': 429, 'การลงทุน': 152, 'สอดแทรก': 2088, 'เศรษฐศาสตร์': 2939, 'จิตวิทยา': 632, 'สุด': 2175, 'การคาดการณ์': 135, 'ประกาศ': 1323, 'อื่น': 2467, 'เกม': 2514, '160': 3, 'IQ': 17, 'แต่งตัว': 3115, 'ประหลาด': 1333, 'ความเสี่ยง': 475, 'ลงทุน': 1873, 'ยิ่งกว่า': 1727, 'สนุก': 2052, 'เป็นอันตราย': 2791, 'หาก': 2350, 'ทำงาน': 1060, 'ใด': 3342, 'ลดความอ้วน': 1881, 'อนาคต': 2386, 'ยาก': 1711, 'ลืมตา': 1936, 'ตอนเช้า': 871, 'เลียนแบบ': 2914, 'พื้นฐาน': 1522, 'มนุษย์': 1578, 'ดังนั้น': 779, 'ไหน': 3436, 'ใกล้': 3318, 'การวางแผน': 154, 'คิด': 518, 'ล่วงหน้า': 1949, 'พลาด': 1482, 'หลายอย่าง': 2319, 'การศึกษา': 155, 'อาวุธ': 2443, 'ทรงพลัง': 1016, 'นำมาใช้': 1197, 'สร้าง': 2075, 'ความรู้สึก': 433, 'ตรง': 842, 'รักษา': 1789, 'อย่างไร': 2407, 'ปกติ': 1313, 'ซ้ำแล้วซ้ำเล่า': 760, 'เสียเวลา': 2967, 'หนี': 2233, 'ทางออก': 1050, 'เจอ': 2598, 'ปัญหา': 1371, 'หันหน้า': 2341, 'เผชิญหน้า': 2808, 'หา': 2349, 'ใหม่': 3365, 'ว่ายาก': 2022, 'การรักษา': 150, 'นี้': 1214, 'ให้กำลังใจ': 3367, 'ถ้อยคำ': 1008, 'ผลลัพธ์': 1405, 'การให้อภัย': 166, 'เปลี่ยนแปลง': 2747, 'อดีต': 2383, 'มีผลต่อ': 1658, 'ให้โอกาส': 3371, 'สิ่งใหม่': 2162, 'เสมือน': 2948, 'กำไร': 180, 'การดำรงชีวิต': 138, 'เอา': 3034, 'เปรียบเทียบ': 2739, 'ทุกข์': 1113, 'หยุด': 2282, 'การแอบ': 165, 'หนัง': 2225, 'สาม': 2130, 'มิติ': 1637, 'จ่อ': 655, 'ตรงหน้า': 846, 'คว้า': 487, 'กาล': 168, 'ครั้งหนึ่ง': 368, 'นิทาน': 1202, 'ตำนาน': 926, 'ร่วมกัน': 1849, 'กาลเวลา': 169, 'ความจริง': 401, 'ทุกอย่าง': 1126, 'ปาก': 1375, 'มากกว่า': 1616, 'แรก': 3184, 'ชนะ': 673, 'ปี': 1383, 'คนดี': 328, 'กำขี้ดีกว่ากำตด': 172, 'กำลังกาย': 175, 'หมด': 2253, 'กำลังใจ': 177, 'บางคน': 1290, 'ก๋วยเตี๋ยว': 212, 'เส้น': 2979, 'อยากได้': 2397, 'ขี้เล่น': 274, 'มาหา': 1631, 'กา': 127, 'แฟก็สั่ง': 3166, 'เบบี้': 2720, 'สั่ง': 2123, 'ใจสั่น': 3332, 'หน้า': 2240, 'สั่น': 2127, 'โม้': 3282, 'เยอะ': 2866, 'กินข้าว': 182, 'โต': 3256, 'ไว': 3429, 'เข้าไป': 2565, 'พอง': 1490, 'ปัง': 1366, 'เย็น': 2873, 'เข็ดฟัน': 2546, 'ละ': 1902, 'ฟัน': 1547, 'กี่': 192, 'ครั้ง': 365, 'เข็ด': 2545, 'เหงือก': 2985, 'เผือก': 2813, 'ติดใจ': 934, 'มึง': 1676, 'เมา': 2843, 'แล้': 3195, 'วกะ': 1968, 'ฟ้อน': 1554, 'ย่อ': 1744, 'น': 1155, 'โอ้ย': 3316, 'กู': 198, 'ฮอด': 2496, 'หมอลำ': 2262, 'เหล้า': 3018, 'แง่': 3094, 'ลบ': 1887, 'เจ็บ': 2605, 'ทำร้าย': 1068, 'อาหาร': 2444, 'รอ': 1764, 'คิว': 525, 'ชิ': 700, 'ว': 1967, 'กิเลส': 187, 'ล้าน': 1962, 'ธนาคาร': 1147, 'สอง': 2086, 'ร้อย': 1860, 'กุญแจ': 194, 'จดจำ': 584, 'สต็อก': 2044, 'ตั๋ว': 912, 'ลอตเตอรี่': 1897, 'หมอ': 2259, 'วะ': 1974, 'คุย': 535, 'หาย': 2355, '\\u200bเเต่': 3454, '\\u200bคน': 3453, 'ด้วยกัน': 823, 'เนิ่นนาน': 2713, 'ขึ้นคาน': 280, 'นิพพาน': 1204, 'ชัวร์': 685, 'หรือเปล่า': 2291, 'อ้วน': 2488, 'เเค่': 3050, 'วัน': 1977, 'เเย่': 3064, 'แย่': 3180, 'ทั้ง': 1033, 'เก่ง': 2534, 'พอที่จะ': 1493, 'เก็บอาการ': 2531, 'เก็บ': 2530, 'เล่น': 2926, 'ท้าย': 1142, 'หนังตลก': 2226, 'เกรด': 2516, 'เรียน': 2884, 'ด้วยใจ': 826, 'สมอง': 2069, 'เกลียด': 2517, 'ปลา': 1349, 'าง': 2506, 'พื้นที่': 1523, 'เก': 2512, '็า': 3450, 'สิบ': 2151, 'เปอร์': 2752, 'เซนต์': 2640, 'พูดว่า': 1531, 'ไม่เป็นไร': 3414, 'เค้า': 2586, 'เพื่อให้': 2839, 'คนฟัง': 331, 'สบายใจ': 2057, 'แปด': 3150, 'เกิด': 2519, 'เหงา': 2984, 'ฟังเพลง': 1546, 'เศร้า': 2941, 'เพ': 2818, 'ลงรัก': 1877, 'ลอบกัด': 1899, 'สัน': 2115, 'ดาร': 782, 'สัตว์': 2113, 'ยุค': 1740, 'โคตร': 3233, 'เ': 2511, 'งเเต่เเฟน': 576, 'ดำ': 785, 'เสือก': 2973, 'สวย': 2082, 'รักแท้': 1792, 'รักแร้': 1794, 'เหม็น': 3004, 'ขึ้นกับ': 279, 'เกิดขึ้น': 2520, 'อีกครั้ง': 2458, 'เกือบจะ': 2527, 'ไว้ใจ': 3434, 'ดัน': 780, 'ลังเล': 1914, 'แก่': 3080, 'สังขาร': 2110, 'สันดาน': 2116, 'แก็ม': 3076, 'แดง': 3105, 'นุ่ม': 1220, 'นิ่ม': 1209, 'หน้าตา': 2244, 'จิ้มลิ้ม': 637, 'พุง': 1524, 'ย้อย': 1753, 'ส่วนสูง': 2206, 'แกล้ง': 3071, 'ขับรถ': 255, 'เฉี่ยว': 2622, 'สาย': 2132, 'เดี่ยว': 2659, 'โง่': 3235, 'ปวดใจ': 1362, 'รู้มาก': 1839, 'น้ำตา': 1247, 'โกรธ': 3230, 'เปล่า': 2751, 'รถ': 1757, 'เก่า': 2535, 'แซง': 3101, 'โกหก': 3231, 'อาจ': 2436, 'สูญเสีย': 2187, 'ความไว้วางใจ': 484, 'ชั่ว': 687, 'ไกล': 3373, 'ทีไร': 1086, 'ไอเดีย': 3446, 'มิ': 1633, 'เด้ง': 2667, 'ไม่หวาดไม่ไหว': 3413, 'ทีเดียว': 1085, 'ห่างไกล': 2372, 'ถูกจำ': 998, 'ขนาด': 218, 'ยังมี': 1707, 'เบอดี้': 2723, 'เบอร์': 2724, 'น้อง': 1239, 'เงียบ': 2597, 'นินทา': 1203, 'เพียบ': 2834, 'ไก่': 3374, 'เล้า': 2931, 'โทรศัพท์': 3263, 'มีระบบ': 1661, 'เบีย': 2727, 'ฟอง': 1543, 'เมื่อใด': 2859, 'มีใจ': 1674, 'ใกล้ชิด': 3319, 'มีสิทธิ์': 1664, 'เหรียญ': 3009, 'ด้าน': 827, 'วันนี้': 1981, 'พรุ่งนี้': 1473, 'ก็ดี': 202, 'ขยับ': 222, 'อีกหน่อย': 2461, 'ถนัด': 975, 'ขวด': 228, 'น้ำ': 1245, 'ฝา': 1450, 'มีปัญหา': 1656, 'เดี๋ยว': 2660, 'เปิด': 2754, 'ของขวัญ': 234, 'ซื้อ': 748, 'ได้ที่': 3390, 'ห้าง': 2375, 'ที่ไหน': 1110, 'แพง': 3163, 'ยกเว้น': 1695, 'งอน': 562, 'ฐานะ': 763, 'ขน': 215, 'ตา': 913, 'ข้อดี': 289, 'ครอบครอง': 361, 'สิ่งใด': 2161, 'ภาพถ่าย': 1560, 'แม้': 3176, 'ความทรงจำ': 412, 'ที': 1081, 'วุ่นวาย': 2013, 'ต้องโทษ': 971, 'กาย': 129, 'โพสต์': 3279, 'แสดง': 3213, 'งี่เง่า': 573, 'ขอบคุณ': 243, 'ชาวนา': 697, 'ข้าว': 307, 'พระ': 1469, 'เจ้าที่': 2612, 'ทิ้ง': 1079, 'วันที่': 1979, 'เหลือ': 3012, 'เมินเฉย': 2849, 'ลมหนาว': 1889, 'ลำปาง': 1925, 'หนาว': 2230, 'ลำพัง': 1926, 'ข้อสอบ': 290, 'โจทย์': 3237, 'ขอให้': 251, 'คู่': 540, 'คำ': 506, 'อวยพร': 2412, 'วันเกิด': 1989, 'แสน': 3216, 'ความปรารถนาดี': 419, 'ฤดูฝน': 1869, 'เปียกปอน': 2760, 'รอยยิ้ม': 1772, 'ขออภัย': 248, 'แรง': 3185, 'แอบ': 3226, 'ทางตรง': 1047, 'ข้ออ้าง': 291, 'นำไปสู่': 1198, 'ระวัง': 1783, 'หลับใน': 2316, 'นอกใจ': 1163, 'หลับ': 2314, 'ยาว': 1721, 'ขับ': 254, 'เร็ว': 2899, 'ป่าช้า': 1391, 'ธรรมดา': 1150, 'ที่หมาย': 1105, 'แดก': 3104, 'ม้า': 1693, 'ช้า': 723, 'หมา': 2264, 'ข้างบน': 297, 'ข้างล่าง': 298, 'ตะแคง': 880, 'แถม': 3127, 'คราง': 371, 'ชื่อ': 713, 'คีย์': 527, 'อีกด้วย': 2459, 'ความหวัง': 452, 'ข้างหลัง': 300, 'บทเรียน': 1262, 'ร้านกาแฟ': 1864, 'ขาด': 259, 'ตาย': 922, 'เช่นกัน': 2635, 'ข้ามถนน': 306, 'ทางม้าลาย': 1049, 'เดียวดาย': 2658, 'แอด': 3225, 'line': 43, 'ซ้าย': 756, 'ขวา': 229, 'ขาย': 263, 'บาท': 1299, 'ฟรี': 1542, 'ขี': 267, 'วิ': 1998, 'ขึ้นชื่อว่า': 281, 'ยังไง': 1709, 'ของเล่น': 239, 'ป่า': 1390, 'ขึ้นเสียง': 284, 'อีกที': 2460, 'โดน': 3250, 'เขาค้อ': 2537, 'ที่ว่า': 1098, 'ง้อ': 580, 'เฉย': 2619, 'ดิ': 787, 'ดิ้นรน': 792, 'สนใจ': 2053, 'เข้าที่': 2554, 'คนโปรด': 350, 'อยู่แล้ว': 2403, 'ย้าย': 1754, 'ความเป็นจริง': 472, 'เข้าเรียน': 2560, 'คาบ': 503, 'ทราบ': 1019, 'ไข่': 3379, 'ถัง': 981, 'หลัง': 2312, 'คงจะ': 313, 'นั้นแหละ': 1182, 'ต้องการ': 968, 'คง': 312, 'ทางผ่าน': 1048, 'ถนน': 974, 'คณิต': 317, 'ศาต': 2027, 'ร์': 1867, 'เข้าใจยาก': 2564, 'เเต่': 3054, 'จน': 585, 'ตลอดกาล': 857, 'คนเก่ง': 342, 'สนทนา': 2049, 'เหตุการณ์': 2988, 'เล็ก': 2924, 'ผู้คน': 1428, 'คนโง่': 349, 'เหยื่อ': 3008, 'ฉลาด': 665, 'ตน': 837, 'คนจน': 324, 'มัก': 1599, 'ความรู้': 432, 'ทางการเงิน': 1045, 'คนรวย': 333, 'ให้ความสำคัญ': 3368, 'การเงิน': 161, 'ชิด': 702, 'ควาย': 485, 'ชิดขวา': 703, 'เดินหน้า': 2653, 'ต่อไป': 957, 'สุดท้าย': 2177, 'เติมน้ำมัน': 2675, 'กลับเป็น': 87, 'ซะ': 732, 'รวย': 1761, 'ขยัน': 220, 'หาไม่': 2360, 'ออม': 2422, 'คุ้มค่า': 539, 'จํา': 664, 'พยายาม': 1467, 'ซื่อสัตย์': 747, 'ที่ทำงาน': 1089, 'ลวก': 1893, 'เห็นจะ': 3023, 'เเม่': 3061, 'ค้าขาย': 553, 'น่าอิจฉา': 1234, 'ส่วนใหญ่': 2209, 'หวัง': 2329, 'ง่าย': 579, 'พัฒนา': 1501, 'ตนเอง': 838, 'ดีขึ้น': 795, 'ก่อร่างสร้างตัว': 211, 'อน': 2385, 'อิฐ': 2447, 'ปา': 1374, 'ความผิดพลาด': 421, 'ความล้มเหลว': 439, 'พวกเขา': 1485, 'แตกต่าง': 3108, 'กันที่': 123, 'ต่าง': 958, 'ความปรารถนา': 418, 'สู่': 2192, 'ขีดจำกัด': 268, 'ปราศจาก': 1340, 'ป่วย': 1388, 'ไปหา': 3404, 'แจ้ง': 3096, 'ดื้อรั้น': 806, 'น่าเชื่อ': 1235, 'ตัดสิน': 886, 'มีระดับ': 1660, 'ความแม่นยำ': 479, 'เป็นประโยชน์': 2778, 'มีความสุข': 1641, 'จำเป็นต้อง': 630, 'เห็นคุณค่า': 3022, 'เรียบง่าย': 2887, 'ผิดพลาด': 1418, 'เทศกาล': 2693, 'กว้าง': 112, 'โอกาศ': 3308, 'เฮฮา': 3048, 'วง': 1969, 'ศาลา': 2028, 'พัก': 1497, 'หมดเวลา': 2255, 'หล่อ': 2325, 'โทษ': 3264, 'โน้น': 3266, 'สตอ': 2042, 'รี่': 1825, 'ตอบ': 873, 'แชท': 3098, 'เป็นเพื่อน': 2794, 'รู้เรื่องราว': 1844, 'เมื่อก่อน': 2856, 'เดี๋ยวนี้': 2662, 'คนแปลกหน้า': 347, 'ไร': 3417, 'ผิด': 1415, 'เเม้เเต่': 3062, 'ความคิด': 394, 'ในทันที': 3347, 'รี': 1821, 'รอโอกาส': 1776, 'มักจะ': 1600, 'พร้อม': 1474, 'นั่น': 1179, 'เกี่ยวกับ': 2524, 'ชั้น': 689, 'สิ่งของ': 2156, 'พูดถึง': 1529, 'ต่อต้าน': 950, 'เรียนรู้': 2886, 'เติบโต': 2673, 'ตลอดชีวิต': 858, 'การเรียนรู้': 163, 'จบ': 590, 'โรงเรียน': 3292, 'คนเรา': 346, 'ลอง': 1895, 'แก็ว': 3078, 'จางหาย': 621, 'ซึ่ง': 745, 'การอาบน้ำ': 157, 'เหตุผล': 2989, 'คำแนะนำ': 517, 'เป็นประจำ': 2777, 'สัก': 2103, 'มีความหวัง': 1643, 'วันข้างหน้า': 1978, 'พ่ายแพ้': 1538, 'โชคชะตา': 3240, 'ไข': 3375, 'ทำได้': 1074, 'เพียงแค่': 2831, 'ให้อภัย': 3370, 'แข็งแกร่ง': 3083, 'สมัยนี้': 2071, 'ความเหงา': 476, 'หัว': 2343, 'ส่วนมาก': 2205, 'เครียด': 2571, 'มากมาย': 1618, 'เหล่านั้น': 3016, 'เสร็จสิ้น': 2949, 'ถาม': 984, 'บทบาท': 1260, 'เยี่ยม': 2870, 'เชื่อ': 2628, 'ผู้นำ': 1431, 'วิสัยทัศน์': 2009, 'คนสวย': 338, 'นั่ง': 1176, 'หุ่นดี': 2364, 'ครึ่ง': 375, 'เชิญ': 2625, 'คนชรา': 326, 'ด้านหลัง': 828, 'ท้อง': 1136, 'เจอกัน': 2599, 'เสี่ยว': 2971, 'ทั่วไป': 1032, 'หมดใจ': 2257, 'คนเดียว': 344, 'คนโสด': 351, 'ไปดู': 3403, 'ชู': 714, 'วิทย์': 2002, 'ขี้': 270, 'ชีวิตคู่': 710, 'หรือ': 2288, 'สิว': 2154, 'แน่': 3137, 'รอยแผล': 1774, 'เก่': 2533, 'เห็นแก่': 3025, 'เเย่ง': 3065, 'เท': 2689, 'บ': 1258, 'เเค่คน': 3051, 'ใจมา': 3329, 'มุม': 1684, 'ผลัก': 1406, 'ถอย': 979, 'คบ': 358, 'หวาน': 2332, 'น้ำผึ้ง': 1250, 'เดือน': 2663, 'ห้า': 2374, 'กัด': 119, 'Anniversary': 10, 'ชาติหน้า': 693, 'พาล': 1509, 'จริงใจ': 597, 'บัณฑิต': 1280, 'ไร้ผล': 3421, 'ครองตัว': 360, 'เป็นโสด': 2798, 'จนกว่า': 587, 'ละทิ้ง': 1904, 'เถอะ': 2686, 'คุ้ม': 538, 'ครั้งนี้': 366, 'คืน': 530, 'ครั้งสุดท้าย': 367, 'เตือน': 2679, 'คริสต์มาส': 373, 'kissme': 42, 'ทุกปี': 1121, 'ครึ่งหนึ่ง': 376, 'ความสนุก': 442, 'ความงดงาม': 399, 'หลงทาง': 2298, 'แต่ละวัน': 3120, 'กำลัง': 174, 'สั้น': 2128, 'ลง': 1872, 'เค': 2566, 'เรื่องจริง': 2894, 'ความกตัญญู': 389, 'มากขึ้น': 1617, 'ควรจะเป็น': 387, 'เป็นการ': 2763, 'มีคุณค่า': 1644, 'ความกล้าหาญ': 392, 'ทน': 1013, 'นาย': 1190, 'เหนือ': 2991, 'หลีกหนี': 2322, 'ไร้': 3418, 'ความกังวล': 393, 'นอกจาก': 1160, 'ทั้งหมด': 1040, 'คุ้นชิน': 537, 'ความเข้มแข็ง': 461, 'ตก': 831, 'ผลี': 1408, 'ก': 58, 'มาจาก': 1620, 'ตกผลึก': 832, 'บางที': 1292, 'อ่อนแอ': 2482, 'เปราะบาง': 2737, 'ความคิดถึง': 395, 'ดวงดาว': 771, 'เป็นครั้งคราว': 2764, 'ความเครียด': 463, 'มีเจ้าของ': 1669, 'นี่แหละ': 1213, 'ยอม': 1699, 'ปลดปล่อย': 1342, 'เป็นอิสระ': 2792, 'ก่อนหน้า': 210, 'เจ็บปวด': 2606, 'ความจริงใจ': 402, 'เชื้อเพลิง': 2632, 'ตอนที่': 868, 'ไหล': 3441, 'ความต้องการ': 411, 'การอภัย': 156, 'ภาพลวงตา': 1561, 'ผ่อนคลาย': 1441, 'ความแตกต่าง': 478, 'ระหว่าง': 1784, 'ความบ้า': 417, 'ความเป็นไปได้': 473, 'เป็นไปไม่ได้': 2803, 'ยอมแพ้': 1702, '‘': 3457, '’': 3458, 'เกือบ': 2526, 'ทุกครั้ง': 1116, '–บัฟเฟร': 3456, 'เร': 2876, 'แผลเป็น': 3160, 'ความน่ารัก': 415, 'เป็นผู้ใหญ่': 2781, 'วัด': 1975, 'อายุ': 2441, 'ความรับผิดชอบ': 430, 'หลักฐาน': 2311, 'ความพยายาม': 423, 'ความฝัน': 422, 'ความกล้า': 391, 'ติดตาม': 932, 'พวกเรา': 1486, 'เป็นจริง': 2767, 'ไขว่คว้า': 3378, 'วันหมดอายุ': 1985, 'าวพบ': 2509, 'ฝัน': 1448, 'พ่าย': 1537, 'เเพ้เเต่': 3059, 'ท้อ': 1135, 'เเท้': 3056, 'ที่นั่น': 1091, 'พิการ': 1510, 'ทัศนคติ': 1031, 'มุมมอง': 1685, 'จืดจาง': 642, 'เท่านั้น': 2703, 'คำตอบ': 508, 'ดวง': 769, 'ดวงจันทร์': 770, 'โดดเด่น': 3249, 'น้ำหวาน': 1254, 'แม่': 3175, 'ผสม': 1410, 'ยา': 1710, 'ตอน': 864, 'บัตร': 1281, 'สวัสดิการ': 2084, 'แห่ง': 3222, 'รัฐ': 1797, 'ผี': 1422, 'ยากิน': 1712, 'ดื้อยา': 805, 'ซะงั้น': 733, 'เรือดำน้ำ': 2891, 'จำเป็น': 629, 'สายลม': 2137, 'มองเห็น': 1595, 'อิเล็กตรอน': 2454, 'รอบ': 1768, 'โปร': 3271, 'ตรอน': 849, 'เข้าใกล้': 2561, 'หวย': 2327, 'เหมือนกัน': 3000, 'มีโอกาส': 1673, 'ซัก': 734, 'ใบ': 3352, 'ความดี': 409, 'คนละเรื่อง': 337, 'แทบตาย': 3130, 'เดินทางไกล': 2651, 'ใช้เวลา': 3339, 'ห่วงใย': 2370, 'ในขณะที่': 3346, 'ความเข้าใจ': 462, 'ความอดทน': 456, 'คนตาบอด': 329, 'หมู': 2271, 'ทอด': 1022, 'อิ่ม': 2455, 'เหนื่อย': 2993, 'ยาวนาน': 1722, 'ผิดที่': 1417, 'ผิดเวลา': 1420, 'น่ากลัว': 1224, 'หลอกลวง': 2305, 'ฆ่า': 556, 'ผูกใจ': 1425, 'ผูก': 1424, 'งานเลี้ยง': 571, 'ฉะนั้น': 666, 'เลิกรา': 2909, 'แค่นี้': 3092, 'สุขใจ': 2174, 'ความงาม': 400, 'ใครก็ได้': 3322, 'คลื่น': 381, 'ซัด': 735, 'วิธี': 2003, 'โต้คลื่น': 3260, 'ด้วยซ้ำ': 824, 'สม': 2062, 'ควรจะ': 386, 'ความระแวง': 428, 'สักครั้ง': 2104, 'ปราบ': 1338, 'ผู้แพ้': 1438, 'ผู้ชนะ': 1429, 'ความลับ': 437, 'ค้น': 549, 'หาว่า': 2358, 'ใลก': 3358, 'เกิน': 2521, 'หลอม': 2308, 'ทนทาน': 1014, 'เข้าตา': 2553, 'ชรา': 676, 'คงที่': 315, 'แอ': 3224, 'ป': 1312, 'โหลด': 3306, 'ฝาก': 1451, 'เกาหลี': 2518, 'ความสัมพันธ์': 444, 'ตัวเล็ก': 901, 'เล็กน้อย': 2925, 'เดินผ่าน': 2652, 'ถ้วน': 1007, 'โดย': 3253, 'สูญ': 2185, 'เสียกำลังใจ': 2953, 'ผลรวม': 1404, 'ซ้ำ': 757, 'ใฝ่หา': 3356, 'ทุกเมื่อ': 1127, 'จ่าย': 657, 'ระดับ': 1777, 'สูงสุด': 2184, 'คำถาม': 510, 'ตัดสินใจ': 887, 'ยก': 1694, 'ผู้อื่น': 1435, 'หรือไม่': 2293, 'เป็นผล': 2780, 'ผล': 1399, 'การทำงาน': 145, 'ล้มเหลว': 1959, 'ข้ามคืน': 305, 'สำเร็จ': 2145, 'ซ้ำสอง': 759, 'โพส': 3278, 'สถานะ': 2046, 'ขึ้นอยู่กับ': 283, 'แขวน': 3081, 'แทน': 3129, 'happy': 39, 'ใช้กับ': 3337, 'หนึ่งเดียว': 2236, 'การครอบครอง': 134, 'ยินดี': 1725, 'สถานี': 2047, 'ต่อเมื่อ': 955, 'ตั้ง': 905, 'เงิ่อน': 2595, 'ความสุขสบาย': 449, 'มอบ': 1597, 'ผีเสื้อ': 1423, 'ตามหา': 920, 'ห่าง': 2371, 'นั่งลง': 1177, 'สงบนิ่ง': 2037, 'สะดุดตา': 2096, 'ความหมาย': 450, 'ภาวนา': 1568, 'บางอย่าง': 1294, 'ครอบครัว': 362, 'เบื้องหลัง': 2733, 'ความห่างไกล': 455, 'ว่าการ': 2016, 'ครอบงำ': 363, 'เวรกรรม': 2934, 'โหด': 3302, 'เหนียง': 2990, 'ทรู': 1020, 'ความอ้วน': 460, 'เยือน': 2872, 'สะเทือน': 2100, 'สี่': 2170, 'ขา': 258, 'หญ้า': 2218, 'เเล้ว': 3066, 'ทำนา': 1065, 'กินน้ำตา': 184, 'ทำใจ': 1071, 'ค้อน': 552, 'ทุบ': 1129, 'จุ๊บ': 651, 'คออ่อน': 491, 'จีบ': 639, 'คาปูชิโน': 504, 'อิตาลี': 2448, 'คำคม': 507, 'บาดใจ': 1298, 'บาดเจ็บ': 1296, 'แต่ง': 3113, 'เดี๋ยวก่อน': 2661, 'พิมพ์': 1514, 'มีค่า': 1645, 'เป็นมิตร': 2783, 'มิตร': 1635, 'แคป': 3088, 'ชั่น': 686, 'ทัก': 1026, 'มั่นใจ': 1612, 'วิ่ง': 2011, 'ลูกปืน': 1944, 'แล้วแต่': 3201, 'คิดมาก': 521, 'คิดเลข': 523, 'พี่เขย': 1519, 'ไอ้': 3447, 'น้องเมีย': 1240, 'โปรตอน': 3274, 'บวก': 1270, 'คิตตี้': 524, 'แมว': 3174, 'คิ้ว': 526, 'พ่อตา': 1535, 'ตอแหล': 876, 'ท้องฟ้า': 1137, 'มืด': 1677, 'ดาว': 783, 'คืนนี้': 531, 'เกเร': 2528, 'ตีนผม': 938, 'คับ': 494, 'ประกันชีวิต': 1321, 'จุดหมาย': 647, 'มัวแต่': 1609, 'หิน': 2362, 'เห่า': 3027, 'ตลอดทาง': 859, 'มหาสมุทร': 1585, 'ละสายตา': 1906, 'ออกจาก': 2415, 'ชายฝั่ง': 696, 'ไร้ค่า': 3419, 'ทุกสิ่งทุกอย่าง': 1125, 'ก็ต่อเมื่อ': 204, 'ส่ง': 2198, 'ข้างใน': 303, 'โปรดปราน': 3273, 'เอ่ย': 3045, 'คำทักทาย': 511, 'โบกมือ': 3269, 'ลา': 1918, 'เปลี่ยนใจ': 2748, 'โอกาส': 3309, 'ตามตำรา': 916, 'ลำบาก': 1924, 'สระ': 2073, 'บังเอิญ': 1278, 'ใจรัก': 3330, 'ปรารถนา': 1339, 'เเค่คนคน': 3052, 'ตย': 841, 'ผิดหวัง': 1419, 'สูญสิ้น': 2186, 'เอาชนะ': 3036, 'เอาแต่': 3038, 'เฝ้ามอง': 2817, 'ดอกฟ้า': 776, 'ดอก': 775, 'เลิก': 2907, 'แบต': 3142, 'เสื่อม': 2974, 'ทั้งวัน': 1038, 'ฝันดี': 1449, 'คู่รัก': 543, 'คู่แข่ง': 544, 'เคน': 2567, 'จนกระทั่ง': 586, 'บอกลา': 1272, 'สุดแต่': 2179, 'น่าเศร้า': 1238, 'หมายความว่า': 2267, 'ตลอดไป': 862, 'ตามแต่': 921, 'แจ้งความ': 3097, 'ยืม': 1737, 'โอน': 3310, 'นาที': 1187, 'ได้คืน': 3388, 'ตาม': 915, 'ทั้งที่': 1035, 'เครื่องวัด': 2575, 'ฐานะทางการเงิน': 764, 'มีเงิน': 1667, 'ประทังชีวิต': 1328, 'เครื่องสำอาง': 2576, 'ยี่ห้อ': 1733, 'แต่งหน้า': 3116, 'เคา': 2581, 'ท์': 1144, 'ดาวน์': 784, 'สิ้นปี': 2164, 'แกนะ': 3069, 'ถอยหลัง': 980, 'นับวัน': 1175, 'ฮิ้ว': 2501, 'สิ้นใจ': 2167, 'โชคดี': 3241, 'เสื้อช็อป': 2977, 'ดร': 767, 'อป': 2391, 'หวั่นไหว': 2330, 'ซื่อ': 746, 'ปวดท้อง': 1360, 'ทวิ': 1021, 'เปลี่ยนความคิด': 2745, 'ลักพาตัว': 1911, '\\u200b': 3452, 'ตรงนี้': 845, 'ช่วงนี้': 718, 'ง': 558, 'โค': 3232, 'รต': 1756, 'ด่า': 820, 'ทิ่ม': 1078, 'เผลอ': 2809, 'ที่อยู่': 1106, 'ฟัง': 1545, 'เรื่องไร้สาระ': 2897, 'แล้วก็': 3199, 'ร่มเงา': 1847, 'ปลูก': 1353, 'ต้นไม้': 965, 'เป็นเวลา': 2796, 'สุดคน': 2176, 'จำ': 625, 'เป้': 2806, 'ปน': 1319, 'ก็ช่าง': 201, 'ง่วง': 577, 'งาน': 565, 'พละกำลัง': 1479, 'งูพิษ': 575, 'ขาดแคลน': 261, 'พอกัน': 1488, 'เอฟ': 3032, 'เสื้อผ้า': 2978, 'แต่ละ': 3118, 'นึก': 1216, 'เศรษฐี': 2940, 'ดูไบ': 818, 'ประจบสอพลอ': 1325, 'เงินเดือน': 2594, 'นำมาซึ่ง': 1196, 'ความคิดสร้างสรรค์': 396, 'ค์': 555, 'อนุ': 2387, 'ญาติ': 762, 'จำไว้': 631, 'หุ้น': 2365, 'ส่วนหนึ่ง': 2207, 'ธุรกิจ': 1153, 'ล๊อต': 1966, 'เต': 2669, 'อร': 2409, '์': 3451, 'แล้วจึง': 3200, 'ครื้นเครง': 377, 'ผ่านพ้น': 1444, 'เรื่องราว': 2895, 'ทีหลัง': 1084, 'ปัจุ': 1368, 'บัน': 1283, 'คาดคิด': 497, 'อย่างไรก็ตาม': 2408, 'ยง': 1696, 'นิรันดร์': 1206, 'สิ้น': 2163, 'ชีวา': 708, 'สติ': 2043, 'ปัญญา': 1369, 'มองไม่เห็น': 1596, 'สั่งสอน': 2126, 'ก็ตาม': 203, 'พึ่ง': 1520, 'ระลึก': 1782, 'หนทาง': 2220, 'ตื่นเต้น': 942, 'เป็นบ้า': 2776, 'ยืน': 1736, 'เพิ่ม': 2828, 'มูลค่า': 1688, 'ยังอยู่': 1708, 'มิฉะนั้น': 1634, 'จ้าง': 662, 'หนักแน่น': 2223, 'อุปสรรค': 2473, 'หัด': 2337, 'เสียง': 2956, 'อดทน': 2382, 'ดูถูก': 812, 'สับสน': 2117, 'ความโชคดี': 480, 'ทักษะ': 1027, 'ส่วนตัว': 2203, 'เส': 2944, 'ดง': 766, 'ได้ยิน': 3393, 'เหนือกว่า': 2992, 'ซับซ้อน': 737, 'คนใจดี': 353, 'ปลั๊ก': 1348, 'จ้อง': 658, 'ไหว': 3443, 'เบียร์': 2729, 'หรือว่า': 2290, 'ลอยกระทง': 1901, 'ทรง': 1015, 'คนโกง': 348, 'สบตา': 2054, 'ตี': 935, 'ว่าแต่': 2023, 'ตีสองหน้า': 939, 'คิดหน้าคิดหลัง': 522, 'ป้ายราคา': 1396, 'ตรงไหน': 847, 'ทำตัว': 1063, 'สน': 2048, 'อ่อนไหว': 2484, 'ทำดี': 1062, 'เพื่อน': 2836, 'เอาหน้า': 3037, 'ท่า': 1133, 'ลูก': 1941, 'เสียโอกาส': 2968, 'แย่ง': 3181, 'ของกิน': 233, 'เต็มใจ': 2682, 'นาฬิกา': 1192, 'วน': 1971, 'วาเลนไทน์': 1997, 'จนตาย': 588, 'ผู้ชาย': 1430, 'ถือว่า': 995, 'เมื่อกี้': 2855, 'พูดเล่น': 1532, 'ก็แล้วกัน': 206, 'หุ่น': 2363, 'โอ่ง': 3314, 'เหยือก': 3007, 'อมทุกข์': 2392, 'อมยิ้ม': 2393, 'ขอบใจ': 244, 'ลั้น': 1917, 'เสียน้ำตา': 2961, 'พัดลม': 1502, 'ส่ายหน้า': 2211, 'จันทร์': 610, 'อังคาร': 2427, 'ใจตรงกัน': 3328, 'ประสบการณ์': 1331, 'แรงจูงใจ': 3186, 'มีเหตุผล': 1672, 'หลักการ': 2310, 'โต้แย้ง': 3261, 'ถ้าหาก': 1010, 'ยอมให้': 1703, 'เลือนลาง': 2920, 'จม': 591, 'ปัก': 1365, 'ตะไคร้': 881, 'ฝน': 1446, 'เป็นทุกข์': 2774, 'จิบ': 636, 'ชา': 691, 'ไข่มุก': 3380, 'เบาหวาน': 2726, 'เหี้ย': 3020, 'เปย์ขอ': 2736, 'ทุ่มเท': 1131, 'จุดจบ': 645, 'คนจริง': 325, 'จุดเด่น': 648, 'ดูดี': 811, 'จุดสำคัญ': 646, 'แบบนี้': 3144, 'รักจริง': 1788, 'จา': 615, 'กลา': 90, 'เหยียบ': 3006, 'ตะปู': 878, 'ไฟ': 3406, 'เผา': 2812, 'ไหม้': 3440, 'เจ็บใจ': 2607, 'พัง': 1499, 'คนงี่เง่า': 323, 'สอน': 2089, 'ครู': 378, 'ทำความเคารพ': 1059, 'แดด': 3106, 'ร้อน': 1858, 'อ้อน': 2489, 'รองเท้า': 1766, 'size': 54, 'เข้ากัน': 2551, 'เจ้าชู้': 2611, 'เจ้าแม่': 2615, 'เจ้ามือ': 2613, 'บาง': 1289, 'ละลาย': 1905, 'แววตา': 3204, 'เย็นชา': 2874, 'น้ำประปา': 1248, 'เย็นเฉียบ': 2875, 'เนื้อ': 2715, 'ฟะ': 1544, 'แก็ตัว': 3074, 'ดูแลตัวเอง': 816, 'บอกเลิก': 1273, 'ประโยคบอกเล่า': 1336, 'เดินตาม': 2649, 'ความซื่อสัตย์': 407, 'โรย': 3293, 'เศษ': 2942, 'พื้น': 1521, 'สุภาพ': 2181, 'ตรงกันข้าม': 843, 'สงสัย': 2038, 'นอนหลับ': 1165, 'วิว': 2007, 'ใบหน้า': 3354, 'สมบูรณ์แบบ': 2067, 'ไม่ต้องการ': 3411, 'บั้นปลาย': 1286, 'การตระหนัก': 139, 'ระยะทาง': 1779, 'ขยายความ': 224, 'การคน': 133, 'ดูแล': 815, 'กันและกัน': 124, 'ตลอดเวลา': 861, 'ทุกครั้งที่': 1117, 'ทรัพย์สิน': 1018, 'ทั้งโลก': 1042, 'เซ': 2638, 'ลลูไลต์': 1892, 'รอยแตก': 1773, 'ลาย': 1921, 'ธรรมชาติ': 1149, 'ชนะใจ': 674, 'ถ่ายรูป': 1005, 'อืด': 2466, 'หนักใจ': 2224, 'วาง': 1992, 'ปะ': 1364, 'จัด': 608, 'ลัง': 1913, 'วิศวะ': 2008, 'เทคแคร์': 2690, 'เปิดรับ': 2756, 'จำกัด': 626, 'อากาศ': 2435, 'เป็นห่วง': 2790, 'ชวน': 679, 'หลีก': 2321, 'ภัย': 1556, 'ว่าง': 2017, 'ปิ้ง': 1382, 'ย่าง': 1748, 'รีบ': 1822, 'ความเจริญ': 465, 'ในประเทศ': 3349, 'กินน้ำ': 183, 'กรวด': 65, 'ทะเล': 1024, 'รักเดียว': 1791, 'หลอก': 2304, 'เจ้าของ': 2609, 'ตั้งแต่แรก': 910, 'ทั้งสองฝ่าย': 1039, 'พ้น': 1539, 'รถติด': 1758, 'ช่างมัน': 722, 'เนาะ': 2712, 'ชาย': 695, 'มีเกียรติ': 1666, 'รักษาคำพูด': 1790, 'ความสงบ': 440, 'ตามหลักการ': 919, 'จักรวาล': 602, 'หมี่': 2269, 'เกี๊ยว': 2525, 'เลี้ยว': 2918, 'กล้องถ่ายรูป': 105, 'เฉพาะที่': 2618, 'ภาพ': 1559, 'สมบูรณ์': 2066, 'เหมือนกับ': 3001, 'RollerCoaster': 22, 'แต่งเติม': 3117, 'ด้วยตัวเอง': 825, 'ดอกไม้': 777, 'ที่ใด': 1109, 'เบ่งบาน': 2734, 'งดงาม': 560, 'ภาคภูมิใจ': 1558, 'หลงรัก': 2300, 'เหมาะกับ': 2997, 'ผู้หญิง': 1434, 'เหลืออยู่': 3015, 'หนี้': 2234, 'ช่าง': 721, 'คล้าย': 382, 'หนังสือ': 2227, 'ถือ': 994, 'ลงเวลา': 1878, 'ภาระ': 1567, 'สุดใจ': 2180, 'รอด': 1767, 'เด็กดี': 2665, 'แกร่ง': 3070, 'ระหว่างทาง': 1785, 'ละคร': 1903, 'กว้างใหญ่': 113, 'เจ้า': 2608, 'ข้า': 293, 'เกี่ยง': 2523, 'เช็ค': 2633, 'อิน': 2449, 'โลเคชั่น': 3296, 'เสาร์': 2951, 'เชียร์': 2626, 'บอล': 1275, 'ส่งเสียง': 2200, 'ข้างเคียง': 301, 'ส่งใจ': 2201, 'เชือก': 2627, 'จูง': 652, 'น้ำลาย': 1252, 'เชื่อมั่น': 2629, 'สีชมพู': 2169, 'กำหนดให้': 179, 'โชว์': 3243, 'เรย': 2877, 'เข็มทิศ': 2547, 'คิดทบทวน': 520, 'สักนิด': 2106, 'ราชการ': 1818, 'ซด': 726, 'ตาสว่าง': 924, 'ซอง': 730, 'เชย': 2623, 'เข้าบัญชี': 2556, 'ซันเดย์': 736, 'วันอาทิตย์': 1988, 'นิด': 1199, 'อ้าว': 2495, 'ซาน': 741, 'ต้า': 973, 'ครอส': 364, 'กวาง': 110, 'อ้างว้าง': 2494, 'ขนม': 216, 'คลอ': 379, 'ส': 2034, 'เครา': 2570, 'บริษัท': 1266, 'เพิ่มขึ้น': 2829, 'ซื้อใจ': 750, 'น้ำใจ': 1257, 'คนรัก': 334, 'เห็นชอบ': 3024, 'ซุปเปอร์': 752, 'ฮีโร่': 2503, 'พ่อแม่': 1536, 'เลี้ยง': 2916, 'นร': 1158, 'กรอ': 66, 'แซะ': 3102, 'แกะสลัก': 3072, 'พระจันทร์': 1470, 'ดีใจ': 799, 'คัน': 493, 'หลง': 2296, 'อด': 2380, 'ดีไม่ดี': 800, 'ลุ้น': 1940, 'รู้ใจ': 1845, 'ขี้เหร่': 275, 'ผู้ใหญ่': 1440, 'ในวันหน้า': 3350, 'ชาติ': 692, 'น่าจะเป็น': 1227, 'คอย': 489, 'ปลุก': 1352, 'จับมือ': 612, 'หันกลับ': 2339, 'สะดุด': 2095, 'เมิน': 2848, 'มาถึง': 1623, 'ธันวา': 1152, 'มกรา': 1576, 'กะ': 115, 'ร้อนจี๋': 1859, 'ส่อง': 2210, 'มือ': 1679, 'บัง': 1276, 'ยื่นมือ': 1739, 'เขิน': 2539, 'หน้าดำ': 2242, 'โดดเดี่ยว': 3248, 'เติม': 2674, 'เต็ม': 2680, 'เป็นไข้': 2799, 'โดนใจ': 3252, 'โดนัท': 3251, 'รู': 1831, 'เมื่อไร': 2860, 'ยู': 1743, 'ไอ': 3445, 'ภาษาไทย': 1571, 'สักที': 2105, 'ต้นทุน': 964, 'แปล': 3152, 'ขัดสน': 253, 'ตรงนั้น': 844, 'โฉนด': 3238, 'พอแล้ว': 1495, 'ตรรกะ': 848, 'เอ': 3028, 'บี': 1301, 'จินตนาการ': 635, 'ทุกที่': 1120, 'ตราบใดที่': 853, 'ตรุษจีน': 854, 'แต๊ะเอีย': 3126, 'แต๊ะอั๋ง': 3125, 'ตัวอย่าง': 898, 'cc': 34, 'ทำบุญ': 1066, 'เเฟน': 3060, 'สมหวัง': 2068, 'ต้องสู้': 969, 'เปิดไฟ': 2759, 'แท๊กซี่': 3134, 'ตอนกลางวัน': 865, 'พระอาทิตย์': 1471, 'กลางคืน': 92, 'สงสาร': 2039, 'โตมา': 3258, 'สบายดี': 2056, 'เงินปลอม': 2592, 'แลก': 3192, 'ปลอม': 1347, 'ร้องไห้': 1857, 'ดัง': 778, 'พยาม': 1466, 'รถถัง': 1759, 'เรือรบ': 2892, 'นั่งในหัวใจ': 1178, 'จริงจัง': 596, 'โหมด': 3304, 'Sale': 23, 'ปลอบ': 1345, 'เทพ': 2692, 'เสมอต้นเสมอปลาย': 2946, 'ซ้ำซาก': 758, 'หายหัว': 2356, 'ตอนแรก': 872, 'ที่ไหนได้': 1111, 'ต่อให้': 956, 'ได้เปรียบ': 3396, 'ตั้งแต่': 909, 'เฉยชา': 2620, 'ตัดกัน': 884, 'ตับ': 890, 'ไต': 3399, 'ตัวใครตัวมัน': 903, 'โยน': 3285, 'ผิวน้ำ': 1421, 'กระเพื่อม': 76, 'ขยาย': 223, 'อุ้ม': 2476, 'กลับบ้าน': 85, 'ตำรวจ': 927, 'ด่าน': 821, 'จอด': 599, 'ติดตลก': 931, 'แยก': 3179, 'เงีย': 2596, 'เบียซด': 2728, 'เต็มที่': 2681, 'เต๊าะ': 2685, 'เตียง': 2677, 'มิส': 1638, 'แต่ก่อน': 3112, 'ตั้งใจ': 911, 'สั่งสม': 2125, 'ลดละ': 1885, 'จนถึง': 589, 'แต่งงาน': 3114, 'โตชิบา': 3257, 'คู่คิด': 542, 'ชิน': 704, 'การ์ตูน': 167, 'ใต้': 3344, 'คาง': 496, 'ใบสั่ง': 3353, 'ปริญญา': 1341, 'เป็นหนี้': 2787, 'ขี่': 269, 'แน่นอน': 3138, 'แนะนำ': 3136, 'ยุติธรรม': 1741, 'ทำตาม': 1064, 'กติกา': 63, 'หันมา': 2340, 'comebacktome': 35, 'เห': 2983, 'โอวัลติน': 3312, 'ทิ้งขว้าง': 1080, 'ไหล่': 3442, 'มีเสียง': 1671, 'ปานนี้': 1380, 'หูหนวก': 2366, 'บอกเล่า': 1274, 'ฮอต': 2497, 'ประเทศ': 1335, 'ป่านนี้': 1392, 'ผัว': 1413, 'โชค': 3239, 'ชะตาชีวิต': 681, 'แก็มัน': 3077, 'ทางโค้ง': 1054, 'ครีม': 374, 'นวด': 1159, 'ขี้เกียจ': 273, 'น่าเชื่อถือ': 1236, 'ปกป้อง': 1314, 'มีหวัง': 1665, 'ฝืน': 1454, 'ตอบแทน': 875, 'ผอม': 1411, 'หอม': 2335, 'น้ำเปล่า': 1255, 'กำจัด': 173, 'พวก': 1484, 'วิธีทำ': 2004, 'ไขปัญหา': 3376, 'ตัด': 883, 'ที่แล้ว': 1108, 'ซวย': 729, 'ช้ำใจ': 725, 'เฝ้า': 2815, 'อุทยาน': 2470, 'เที่ยว': 2696, 'ถูกหวย': 1000, 'เบื่อ': 2730, 'ROV': 21, 'LOV': 18, 'E': 13, 'ปั่น': 1372, 'จักรยาน': 601, 'เป็นที่': 2773, 'ซบ': 728, 'จุก': 643, 'ศุกร์': 2032, 'ดึก': 801, 'รับรอง': 1804, 'อุ่นใจ': 2475, 'เนื้อคู่': 2716, 'งั้น': 564, 'จับ': 611, 'เม้าท์': 2864, 'วาย': 1996, 'ล้ำเส้น': 1965, 'หนู': 2237, 'สิทธิ์': 2149, 'โรคจิต': 3288, 'มุข': 1683, 'ศูนย์': 2033, 'มันดี': 1606, 'เเค่พอ': 3053, 'วจะ': 1970, 'หรู': 2294, 'กระเป๋า': 75, 'เเน่': 3057, 'จัญไร': 607, 'ใส': 3359, 'แสดงว่า': 3215, 'การพัฒนา': 148, 'อธิบาย': 2384, 'เข้าใจง่าย': 2563, 'หยุดพัก': 2285, 'แล้วไป': 3202, 'วันพรุ่งนี้': 1983, 'เว้ย': 2938, 'กะทะ': 116, 'ถ่ายเท': 1006, 'ความร้อน': 435, 'ตัวกลาง': 892, 'ถึงใจ': 993, 'น่ากิน': 1225, 'เด้อ': 2668, 'โอเค': 3313, 'ลาเต้': 1923, 'เมื่อวาน': 2858, 'รู้สึกตัว': 1841, 'โทร': 3262, 'ไม่ต้องสงสัย': 3412, 'ล้างจาน': 1961, 'ขำ': 266, 'หำ': 2361, 'หวี': 2333, 'ยี่สิบ': 1732, 'ชั่วโมง': 688, 'วันหนึ่ง': 1984, 'เหงื่อ': 2986, 'มีเงินทอง': 1668, 'เท่ากัน': 2700, 'พิเศษ': 1516, 'อ่านหนังสือ': 2487, 'สอบ': 2090, 'ลม': 1888, 'โซเซ': 3245, 'ฟีโน่': 1548, 'ไฮโซ': 3448, 'ยังคง': 1706, 'ความหวาน': 453, 'น่า': 1223, 'ค้นหา': 551, 'ลีลา': 1930, 'พยาบาล': 1465, 'ดูเหมือน': 814, 'เล่า': 2929, 'คนคุ้นเคย': 322, 'ละเลย': 1908, 'คุ้น': 536, 'ใจกว้าง': 3324, 'มีเสน่ห์': 1670, 'ป้าง': 1395, 'กลางทาง': 93, 'โป': 3270, 'โต้': 3259, 'ลึก': 1933, 'น้ำหนัก': 1253, 'พร้อมกัน': 1475, 'พร้อมกับ': 1476, 'ลาออก': 1922, 'ไช่': 3382, 'ถีบ': 986, 'รังแต่': 1796, 'เชื่อเถอะ': 2630, 'สักวัน': 2108, 'ทางเดิน': 1051, 'มัด': 1603, 'ธอ': 1151, 'หอ': 2334, 'มมาก': 1579, 'ถึงแม้': 991, 'ถึงแม้ว่า': 992, 'ย้อน': 1751, 'ตอนจบ': 866, 'กู้ภัย': 199, 'ปั๊ม': 1373, 'ห่วง': 2368, 'รัฐบาล': 1798, 'ความชอบธรรม': 404, 'ความชอบ': 403, 'ตลก': 855, 'ตัวตลก': 895, 'สายตา': 2133, 'ซ่อม': 754, 'เป็นชู้': 2768, 'ลักยิ้ม': 1912, 'ชิม': 706, 'ดื้อ': 804, 'เวร': 2933, 'เป็นสุข': 2786, 'หยิ่ง': 2281, 'ปัญญาอ่อน': 1370, 'แทงหวย': 3128, 'เรียว': 2889, 'หนา': 2229, 'เสียหาย': 2965, 'เลวร้าย': 2906, 'เรียกร้อง': 2883, 'เท่าที่': 2702, 'เต่อ': 2684, 'มืดมน': 1678, 'แสงสว่าง': 3210, 'ท้องสาว': 1138, 'ท้อแท้': 1140, 'งอแง': 563, 'ทะ': 1023, 'เลก็มี': 2902, 'เค็ม': 2584, 'เติมเต็ม': 2676, 'เม็ดทราย': 2863, 'ทั้งตัว': 1034, 'สาน': 2129, 'สัมพันธ์': 2119, 'แบ่งแยก': 3149, 'มีทาง': 1650, 'หมอก': 2260, 'ทางเดียว': 1052, 'ผลงาน': 1401, 'กลีบ': 99, 'กุหลาบ': 196, 'รับมือ': 1803, 'ทานตะวัน': 1055, 'หัน': 2338, 'ผู้ใด': 1439, 'ดวงอาทิตย์': 773, 'ท่ามกลาง': 1134, 'ความเคลื่อนไหว': 464, 'หยุดนิ่ง': 2284, 'สงบ': 2036, 'ภายใน': 1565, 'โหดร้าย': 3303, 'ท้ายที่สุด': 1143, 'แผล': 3159, 'รอย': 1771, 'สะสม': 2099, 'เงินเก็บ': 2593, 'อดตาย': 2381, 'ทํา': 1145, 'อู้': 2477, 'ชู้': 716, 'ถ่านไฟเก่า': 1003, 'ผลตอบแทน': 1403, 'เสือ': 2972, 'เยอะแยะ': 2867, 'ไล่ล่า': 3428, 'งานชิ้นเอก': 567, 'ความอยาก': 458, 'บังคับ': 1277, 'วิเคราะห์': 2010, 'ถูกต้อง': 999, 'ทำผิด': 1067, 'ลงโทษ': 1879, 'เจ้าหญิง': 2614, 'เจ้าชาย': 2610, 'นาง': 1184, 'สูตร': 2188, 'เน่า': 2718, 'สารกันบูด': 2138, 'ความช่วยเหลือ': 406, 'เพ้อ': 2840, 'อิสรภาพ': 2451, 'ขาใหญ่': 265, 'ก็เพราะว่า': 205, 'แบกรับ': 3140, 'ทุกวันนี้': 1123, 'ฟ่ะ': 1552, 'ถ่าย': 1004, 'รูปหน้า': 1834, 'นิ่ง': 1208, 'พิม': 1513, 'พจนานุกรม': 1461, 'ตุ๊กตุ๊ก': 943, 'ลด': 1880, 'รายละเอียด': 1819, 'เถื่อน': 2688, 'กลบเกลื่อน': 81, 'ปากจู๋': 1377, 'ที่นอน': 1090, 'ทุกคืน': 1118, 'เลื่อนขั้น': 2922, 'จมอยู่กับ': 593, 'ตายใจ': 923, 'ผัก': 1412, 'พอดี': 1491, 'ติดหนี้': 933, 'อี้': 2464, 'เข้า': 2550, 'ซอย': 731, 'บ้า': 1309, 'ที่พัก': 1094, 'กั้น': 126, 'สอบผ่าน': 2091, 'ตัวตน': 894, 'ปฏิบัติ': 1317, 'ผู้ร้าย': 1433, 'เรื่องเล่า': 2896, 'รู้ตัว': 1838, 'ล้วน': 1960, 'ซ่อน': 753, 'มองหา': 1594, 'เวอร์ชั่น': 2937, 'อินดี้': 2450, 'มีสติ': 1663, 'แย่มาก': 3182, 'หวาดผวา': 2331, 'กลับตัวกลับใจ': 84, 'ใจเดียว': 3333, 'วิชาชีพ': 2000, 'แวดวง': 3203, 'เส้นทาง': 2981, 'เครื่องเสียง': 2577, 'รสชาติ': 1763, 'ทุน': 1128, 'ต้องหา': 970, 'โลกหน้า': 3295, 'ทุ่ม': 1130, 'เทใจ': 2697, 'ผิดคน': 1416, 'เทป': 2691, 'กาว': 170, 'สองหน้า': 2087, 'นับประสาอะไร': 1174, 'เท้า': 2710, 'ของต่ำ': 236, 'ที่สูง': 1103, 'เช่นเดียวกับ': 2636, 'ศีรษะ': 2031, 'ของสูง': 237, 'ต่ำ': 961, 'เที่ยงคืน': 2695, 'ถอนหายใจ': 978, 'หันหลัง': 2342, 'มอ': 1586, 'งอ': 561, 'แก็ปัญ': 3075, 'ร่ำรวย': 1854, 'กุ้ง': 197, 'เขียน': 2540, 'เวทมนตร์': 2932, 'กินใจ': 186, 'คลี': 380, 'เซฟ': 2641, 'ดิน': 788, 'สายตายาว': 2134, 'เพราะว่า': 2821, 'อ': 2377, 'มาตี': 1622, 'สะกด': 2093, 'เเพ้': 3058, 'หน้าด้าน': 2243, 'รักแรก': 1793, 'นก': 1156, 'หนอน': 2221, 'ทาส': 1056, 'มีไข้': 1675, 'กะเพรา': 117, 'หมูกรอบ': 2272, 'นอกบ้าน': 1162, 'คึก': 528, 'ละเมอ': 1907, 'เพลีย': 2825, 'เลีย': 2913, 'เพลิน': 2824, 'นิ้ง': 1210, 'น้อยใจ': 1244, 'ความน้อยใจ': 416, 'นักบินอวกาศ': 1169, 'นักรบ': 1170, 'เลเซอร์': 2923, 'เรือ': 2890, 'ชูชีพ': 715, 'แผ่นดินไหว': 3161, 'นางฟ้า': 1185, 'กรุบกริบ': 79, 'หยิบ': 2280, 'น้ำขึ้นให้รีบตัก': 1246, 'มาสู่': 1630, 'ไว้วางใจ': 3433, 'หยด': 2275, 'คงทน': 314, 'จ้ะ': 660, 'มด': 1577, 'คำหวาน': 516, 'เผลอใจ': 2810, 'เงินตรา': 2590, 'เถียง': 2687, 'เสียงดัง': 2958, 'นิ้วนาง': 1211, 'สวม': 2080, 'แหวน': 3221, 'เล่านิทาน': 2930, 'ปลอด': 1343, 'นึกถึง': 1217, 'PM': 20, '25': 4, 'ภาค': 1557, 'อิสาน': 2453, 'ที่แท้': 1107, 'เพิ่น': 2827, 'อ้อย': 2491, 'นู่น': 1221, 'บุญ': 1303, 'มือถือ': 1680, 'คำนึงถึง': 512, 'คาเฟ่': 505, 'โคม': 3234, 'ในที่สุด': 3348, 'เข้มแข็ง': 2549, 'มอบให้': 1598, 'ความดัน': 408, 'เมือง': 2853, 'ขาว': 264, 'โอ': 3307, 'โม่': 3281, 'ตัวจริง': 893, 'โอ้โห': 3317, 'จาระบี': 624, 'อก': 2378, 'เหนื่อยล้า': 2994, 'หลับตา': 2315, 'ลับ': 1915, 'บัญชี': 1279, 'เปอร์เซ็นต์': 2753, 'ล้ม': 1957, 'ลุก': 1937, 'บทสนทนา': 1261, 'บริการ': 1265, 'จำนวนมาก': 627, 'ทั้งปี': 1037, 'ตอบรับ': 874, 'เป็นไร': 2804, 'บ่อยครั้ง': 1307, 'บันได': 1285, 'ขั้น': 257, 'หลายใจ': 2320, 'คนใช้': 355, 'ฆ่าเวลา': 557, 'คนมีเงิน': 332, 'มีพลัง': 1659, 'ขับเคลื่อน': 256, 'ฝ่าย': 1459, 'การถอย': 144, 'น้อยกว่า': 1242, 'ใจร้าย': 3331, 'รูปแบบ': 1835, 'จุดเริ่ม': 649, 'พบกัน': 1463, 'รับฟัง': 1802, 'สภาพอากาศ': 2060, 'สภาพ': 2059, 'กก': 59, 'มองผ่าน': 1591, 'ปวด': 1359, 'โน': 3265, 'ไวท์': 3430, 'ยาพิษ': 1717, 'รับรู้': 1806, 'น่าสงสาร': 1232, 'ปากกา': 1376, 'ดินสอ': 789, 'ออกแบบ': 2419, 'ล้น': 1954, 'เป็นต่อ': 2772, 'บางสิ่ง': 1293, 'เหมาะ': 2996, 'มีความหมาย': 1642, 'หรูหรา': 2295, 'บาดแผล': 1297, 'ความเจ็บ': 466, 'แจกัน': 3095, 'ชื่นใจ': 712, 'ข้างทาง': 295, 'เบื่อชีวิต': 2731, 'อิสระ': 2452, 'จังหวะ': 604, 'ตู้': 946, 'ATM': 8, 'แบงค์': 3141, 'เลื่อน': 2921, 'ขย้ำ': 227, 'หรือไง': 2292, 'ปลายเดือน': 1351, 'ทรมาณ': 1017, 'แบ': 3139, 'ท': 1011, 'แมน': 3171, 'ดีฉัน': 796, 'หน้าที่': 2245, 'ยิ้มแย้ม': 1731, 'ปฏิเสธ': 1318, 'ใจดำ': 3326, 'ปมด้อย': 1320, 'แก็จุด': 3073, 'ปัจจุบัน': 1367, 'อำเภอ': 2445, 'เฮ้อ': 3049, 'วัว': 1991, 'กุศล': 195, 'ปวดหัว': 1361, 'พารา': 1508, 'เม็ด': 2862, 'ร้อง': 1856, 'ห้อง': 2373, 'ตัวสำรอง': 897, 'ปิด': 1381, 'สักพัก': 2107, 'ชง': 671, 'เผลอไป': 2811, 'แซ่บ': 3103, 'สัญญา': 2111, 'ปีใหม่': 1385, 'ไปเที่ยว': 3405, 'ทิฟ': 1076, 'มัง': 1602, 'ช้าง': 724, 'สิงห์': 2147, 'ถิ้ง': 985, 'ลีโอ': 1931, 'ใจเย็น': 3334, 'คนเมา': 345, 'ชาบู': 694, 'กระทะ': 70, 'เทา': 2694, 'หลอดไฟ': 2306, 'เมามัน': 2845, 'น้ำยา': 1251, 'ขนมจีน': 217, 'โลเล': 3297, 'ย์': 1755, 'เปย์': 2735, 'หมดตัว': 2254, 'เรียบร้อย': 2888, 'เเถม': 3055, 'เเม้เเต่คน': 3063, 'ฝุ่นละออง': 1457, 'นักเรียน': 1172, 'ตัดผม': 885, 'เหมาะสม': 2998, 'ตัดใจ': 888, 'สต': 2041, 'รอง': 1765, 'ชน': 672, 'พลาสติก': 1483, 'เลิกใช้': 2910, 'กิ๊ก': 190, 'เป็นหวัด': 2789, 'อ่อนแรง': 2481, 'เปรียบ': 2738, 'ตามมา': 918, 'เปิดตัว': 2755, 'อกหัก': 2379, 'งง': 559, 'จังหวัด': 605, 'ะ': 2504, 'ทีละ': 1082, 'ม': 1575, 'เปิดใจ': 2758, 'ดูจะ': 809, 'ดูไม่ได้': 819, 'แอร์': 3228, 'เปลือง': 2750, 'แปดสิบ': 3151, 'ลงมือ': 1875, 'แปลกที่': 3154, 'ธุระ': 1154, 'ลากิจ': 1919, 'ลาก่อน': 1920, 'ย่า': 1747, 'ความเบื่อหน่าย': 470, 'เข้านอน': 2555, 'ค้นพบ': 550, 'เท่าไหร่': 2709, 'เกินไป': 2522, 'ยุ่ง': 1742, 'ใจดี': 3327, 'คนเจ้าชู้': 343, 'เท่านั้นเอง': 2704, 'หมื่น': 2270, 'ได้ผล': 3391, 'แห้ง': 3223, 'ผู้': 1426, 'ไดร์': 3384, 'เสียทรง': 2960, 'เซต': 2639, 'ผ่าตัด': 1442, 'ต้องใจ': 972, 'ยาชา': 1714, 'งาย': 572, 'ครั้งแรก': 370, 'ประมาท': 1330, 'ที่สาม': 1100, 'สิ้นหวัง': 2166, 'แปลก': 3153, 'สร้างกำแพง': 2076, 'สูง': 2183, 'นิยาย': 1205, 'พ่อ': 1533, 'ง่อว': 578, 'แนน': 3135, 'สูสี': 2191, 'พิซซ่า': 1511, 'ซื้อขาย': 749, 'ความคิดเห็น': 397, 'ตำแหน่ง': 928, 'ว่าจ้าง': 2019, 'ไว้ใจได้': 3435, 'จ้องมอง': 659, 'แมงมุม': 3170, 'BOSOM': 11, 'br': 32, 'ตามที่': 917, 'มีประสบการณ์': 1653, 'เค้ก': 2585, 'อีกแล้ว': 2462, 'แผนที่': 3158, 'หยาบ': 2279, 'ทันที': 1029, 'ยอดเยี่ยม': 1698, 'สัปดาห์': 2118, 'แผน': 3156, 'ทั้งเนื้อทั้งตัว': 1041, 'ถึงกัน': 988, 'น่าจะ': 1226, 'ขยันขันแข็ง': 221, 'ถ่อมตัว': 1002, 'ฝึกซ้อม': 1453, 'พยัญชนะ': 1464, 'เยียวยา': 2869, 'ประคับประคอง': 1324, 'พรหมลิขิต': 1468, 'บัตรเครดิต': 1282, 'ยอมรับผิด': 1701, 'ช่วงเวลา': 719, 'สิ่งที่คิด': 2157, 'ยิ่งนัก': 1728, 'ควบคุม': 384, 'ย่ำยี': 1750, 'อิจฉา': 2446, 'พอที': 1492, 'คึกคัก': 529, 'เสียงดนตรี': 2957, 'สักหน่อย': 2109, 'คาดหวัง': 498, 'โปรแกรม': 3275, 'บั๊ก': 1287, 'ห': 2212, 'ขอเวลา': 249, 'พายุ': 1506, 'ขวางทาง': 230, 'เคลียร์': 2579, 'เอาใจ': 3039, 'ขี้งอน': 271, 'เซ็น': 2644, 'ต่อหน้า': 953, 'ป่ะ': 1389, 'พูดลับหลัง': 1530, 'เจือจาง': 2603, 'การแข่งขัน': 164, 'ปลอบใจ': 1346, 'รวดเร็ว': 1760, 'คนละ': 335, 'คนละอย่าง': 336, 'สัส': 2122, 'รุ้ง': 1830, 'ฟริ้ง': 1541, 'เฟร้งฟ': 2841, 'ร้าง': 1862, 'เพิ่ง': 2826, 'เพื่อนแท้': 2838, 'แพลน': 3164, 'ธรรม': 1148, 'musketeers': 47, 'ลิขิต': 1928, 'ฟุตบอล': 1551, 'แข่ง': 3085, 'ม้ะ': 1692, 'เดย์': 2647, 'โรงหนัง': 3291, 'ยาสีฟัน': 1723, 'แบ่งปัน': 3148, 'ไลน์': 3425, 'เฟส': 2842, 'คู่ควง': 541, 'ล้ำค่า': 1964, 'ภายใต้': 1564, 'ความเสียใจ': 474, 'คราบ': 372, 'ภาวะผู้นำ': 1569, 'กระทำ': 71, 'ภาษาอังกฤษ': 1570, 'day': 36, 'I': 16, 'say': 53, 'loveyou': 44, 'คนใกล้ชิด': 352, 'วาจา': 1995, 'ลูกเขย': 1947, 'เฉียง': 2621, 'แต่ไกล': 3124, 'เปล': 2741, 'มองหน้า': 1593, 'รังนก': 1795, 'แท้': 3132, 'แบรนด์': 3145, 'ความโดดเดี่ยว': 481, 'สร้างชื่อเสียง': 2077, 'ทำลาย': 1069, 'พฤติกรรม': 1477, 'ทิศทาง': 1077, 'ประหลาดใจ': 1334, 'ดินแดน': 790, 'เพียงใด': 2833, 'อาจารย์': 2438, 'ผู้ยิ่งใหญ่': 1432, 'คำศัพท์': 514, 'ต่อเนื่อง': 954, 'เสียว': 2962, 'ตะ': 877, 'ใส่หน้ากาก': 3361, 'มารยาท': 1627, 'ทางเลือก': 1053, 'มาริ': 1628, 'โอ้': 3315, 'น่ะ': 1222, 'เร่อ': 2900, 'แต่ว่า': 3122, 'มิตรภาพ': 1636, 'กล่าว': 102, 'เสมอไป': 2947, 'หน้ามุ่ย': 2249, 'ชิบหาย': 705, 'มีท้อง': 1651, 'หน้าท้อง': 2246, 'ฉาก': 669, 'ฉายซ้ำ': 670, 'มีนา': 1652, 'ผลไม้': 1409, 'พันธุ์': 1504, 'สเต็ก': 2195, 'มาม่า': 1624, '(รอ': 0, 'จ้า': 661, ')': 1, 'อ้อมแขน': 2490, 'ซุก': 751, 'ซ้อน': 755, 'ติ': 929, 'ทัพพี': 1030, 'บ่': 1304, 'ดูดิ': 810, 'ลั่น': 1916, 'รัว': 1811, 'กลัวเมีย': 89, 'มืออาชีพ': 1681, 'การงาน': 136, 'วินัย': 2005, 'ทางจิต': 1046, 'การเก็งกำไร': 159, 'ทัน': 1028, 'แล้วกัน': 3198, 'มุ่งเน้น': 1687, 'ปลายทาง': 1350, 'แสง': 3209, 'ชม': 675, 'เมาคลี': 2844, 'ล่าสัตว์': 1953, 'ล่า': 1952, 'เมาเหล้า': 2846, 'เสียหลัก': 2964, 'เมิง': 2847, 'ออน': 2421, 'ตู': 944, 'ถอด': 976, 'เมียน้อย': 2851, 'เมียหลวง': 2852, 'ลุย': 1939, 'พินิจพิเคราะห์': 1512, 'เสียเงิน': 2966, 'บรรลุ': 1264, 'เมื่อนั้น': 2857, 'ลดหลั่น': 1886, 'ความสำคัญ': 446, 'การร้องไห้': 151, 'ทำการค้า': 1058, 'แม้แต่': 3178, 'น้อยลง': 1243, 'เฝ้าดู': 2816, 'หยุดชะงัก': 2283, 'หลีกเลี่ยง': 2323, '–': 3455, 'PETERLYNCH': 19, 'ตกหนัก': 834, 'จ่า': 656, 'แม้ว่า': 3177, 'ลมแล้ง': 1891, 'แล้ง': 3196, 'เคารพ': 2582, 'ศักดิ์ศรี': 2025, 'เหมือนว่า': 3002, 'กลับคืน': 83, 'นามสกุล': 1189, 'พ่อคุณ': 1534, 'ควงแขน': 383, 'แค่นั้น': 3091, 'สุ': 2172, 'จ': 581, 'ทั้งนั้น': 1036, 'ฟ้อง': 1553, 'เล่นตลก': 2927, 'พอกับ': 1489, 'ขอทาน': 242, 'อยากรู้': 2396, 'หน้าบึ้ง': 2247, 'ตอนต้น': 867, 'ตอนปลาย': 870, 'กลายพันธุ์': 96, 'เปลียน': 2742, 'ฮา': 2500, 'คนใจร้าย': 354, 'สายพันธุ์': 2136, 'อยู่รอด': 2401, 'การปรับตัว': 147, 'โล่': 3298, 'เซ็ง': 2643, 'มีชู้': 1649, 'ไบ': 3401, 'โพ': 3277, 'หลบหน้า': 2303, 'ที่พึ่ง': 1095, 'นิดนึง': 1200, 'เด็ด': 2666, 'เคมี': 2568, 'ตัวทำละลาย': 896, 'เข้ม': 2548, 'เข็ง': 2543, 'มาย': 1625, 'ด์': 829, 'ใช้ได้': 3341, 'ดีแล้ว': 798, 'เลิกกัน': 2908, 'เอดส์': 3031, 'ทีละน้อย': 1083, 'อยู่ตัว': 2400, 'เลี้ยงดู': 2917, 'หมูสามชั้น': 2273, 'ถึงขั้น': 989, 'เผื่อ': 2814, 'ไหมหน้า': 3439, 'เย': 2865, 'อะนะ': 2424, 'ไม้': 3415, 'ล้นมือ': 1955, 'เหลียว': 3011, 'แผนการ': 3157, 'ถังแตก': 982, 'โง่เขลา': 3236, 'เหล่านี้': 3017, 'วางแผน': 1993, 'โชคร้าย': 3242, 'ตลอดปี': 860, 'ดับ': 781, ',': 2, 'จงรัก': 583, 'ข้อเสีย': 292, 'ถอดใจ': 977, 'ชัยชนะ': 684, 'โดยที่': 3254, 'สายฝน': 2135, 'ฤดู': 1868, 'มรสุม': 1581, 'เสื้อกันหนาว': 2976, 'หน้าหนาว': 2252, 'อั่งเปา': 2432, 'น่ามอง': 1229, 'รับได้': 1810, 'เหตุ': 2987, 'ผลดี': 1402, 'จัดจ้าน': 609, 'ชาวบ้าน': 698, 'mpossible': 46, 'ผนัง': 1397, 'เกมส์': 2515, 'ว่าน': 2021, 'อย': 2394, 'เบื้องหน้า': 2732, 'เหลือล้น': 3014, 'เลนส์': 2903, 'ฝนตก': 1447, 'รุงรัง': 1828, 'แชมพู': 3099, 'โหยหา': 3305, 'วันหยุด': 1986, 'ไลก์': 3423, 'กลุ่ม': 100, 'ข้างเดียว': 302, 'แฟนคลับ': 3168, 'สมัคร': 2070, 'a': 30, 'b': 31, 'me': 45, 'you': 57, 'ร่างกาย': 1850, 'แข็งแรง': 3084, 'แมลง': 3172, 'ออ': 2413, 'อา': 2433, 'น้ำแข็ง': 1256, 'โซดา': 3244, 'คณะ': 316, 'เป็นหนึ่ง': 2788, 'ยาม': 1718, 'ป้อน': 1393, 'ปล้ำ': 1358, 'ยาย': 1719, 'คอลเกต': 490, 'callme': 33, 'ตั้งเป้าหมาย': 908, 'ผลักดัน': 1407, 'เป็นงาน': 2766, 'ไล่ตาม': 3427, 'ลดคุณค่า': 1882, 'ร่ำลา': 1855, 'หัวเราะ': 2347, 'ภายนอก': 1563, 'ภายในใจ': 1566, 'ซาก': 739, 'ล้าสมัย': 1963, 'เยาะ': 2868, 'ยวา': 1697, 'ดราม่า': 768, 'หายใจ': 2357, 'ยักษ์': 1704, 'สะพาน': 2098, 'อ่อน': 2480, 'ออดอ้อน': 2420, 'ยื่น': 1738, 'ตัง': 882, 'ฟื้น': 1550, 'ชี': 707, 'ของส่วนตัว': 238, 'มรดก': 1580, 'อนุรักษ์': 2389, 'ลูกหลาน': 1945, 'เจี้ย': 2602, 'จู๋': 654, 'แข็ง': 3082, 'เครื่อง': 2572, 'อะไหล่': 2426, 'สำรอง': 2143, '5': 6, 'แกง': 3068, 'ร่ม': 1846, 'ฝ่า': 1458, 'อีกไม่นาน': 2463, 'ตอกย้ำ': 863, 'จิน': 634, 'ตรา': 850, 'นายก': 1191, 'เชิง': 2624, 'รอบตัว': 1770, 'สี': 2168, 'รอบข้าง': 1769, 'ฉันนั้น': 668, 'คำสัญญา': 515, 'จาง': 620, 'สาเหตุ': 2141, 'สะเทือนใจ': 2101, 'เสียค่าใช้จ่าย': 2955, 'แสดงถึง': 3214, 'ระยะเวลา': 1781, 'พิสูจน์': 1515, 'มั่นคง': 1611, 'ใส่ไข่': 3363, 'ทะเลาะ': 1025, 'คนขับรถ': 321, 'มาตรฐาน': 1621, 'pasttense': 50, 'present': 52, 'perfect': 51, 'ล่อ': 1950, 'ยิง': 1724, 'ซน': 727, 'ลิง': 1929, 'หาม': 2354, 'จั่ว': 614, 'เสา': 2950, 'ระเบียง': 1786, 'ขาดตลาด': 260, 'หมายความ': 2266, 'เขาวงกต': 2538, 'วหา': 1972, 'กล้วย': 103, 'เพลง': 2823, 'ตะเอง': 879, 'ไดโนเสาร์': 3385, 'ผู้เยาว์': 1437, 'เอาจริง': 3035, 'ตูน': 945, 'นื่ง': 1219, 'กรัก': 78, 'หงส์': 2215, 'รับจ้าง': 1800, 'ค่าแรง': 548, 'ข้าวสาร': 310, 'เอ้า': 3046, 'สิทธิ': 2148, 'เท่าเทียมกัน': 2707, 'โปรไฟล์': 3276, 'มายา': 1626, 'แท็ก': 3131, 'ของจริง': 235, 'รูปภาพ': 1833, 'ดิสก์': 791, 'Thisheart': 26, 'พักผ่อน': 1498, '3': 5, 'ของแข็ง': 241, 'ของเหลว': 240, 'ยาดม': 1715, 'เน้น': 2719, 'ชื่นชม': 711, 'อเมริกาโน': 2478, 'ดุดัน': 807, 'โซ่ตรวน': 3246, 'หมดแรง': 2256, 'โดยเฉพาะ': 3255, 'เดิฟ': 2654, 'เลิฟ': 2912, 'มองว่า': 1592, 'ดำรงชีวิต': 786, 'ได้มา': 3392, 'บ่าย': 1308, 'ชาเย็น': 699, 'พระเอก': 1472, 'นางเอก': 1186, 'สาหัส': 2140, 'มัย': 1607, 'ลอบ': 1898, 'ที่นี่': 1092, 'ตื่นขึ้น': 941, 'ความชื่นชอบ': 405, 'แข่งขัน': 3086, 'รับสาย': 1808, 'เต่ง': 2683, 'ความรู้สึกผิด': 434, 'แก็อ': 3079, 'ต่อจากนี้': 948, 'ไขมัน': 3377, 'ตัน': 889, 'จมปลัก': 592, 'เตะ': 2672, 'ความโลภ': 482, 'หมาย': 2265, 'ถึงเงิน': 990, 'ณ': 765, 'เรียนจบ': 2885, 'ได้เงิน': 3395, 'ปรับตัว': 1337, 'เข้ากับ': 2552, 'ความนิยม': 414, 'เท่': 2698, 'ความรวย': 427, 'แต่อย่างใด': 3123, 'เป็นปัญหา': 2779, 'ที่มา': 1096, 'เพียงแต่': 2832, 'รื้อฟื้น': 1827, 'รู้เรื่อง': 1843, 'ปากต่อปาก': 1378, 'สมการ': 2063, 'แร': 3183, 'ยายแก่': 1720, 'อุปนิสัย': 2472, 'แรด': 3190, 'โรคประจำตัว': 3289, 'โรค': 3287, 'ประจำใจ': 1326, 'รับรางวัล': 1805, 'แตก': 3107, 'ต่างกัน': 959, 'มีประสิทธิภาพ': 1654, 'ลก': 1871, 'ผลกำไร': 1400, 'ตกใจ': 836, 'ลดน้ำหนัก': 1883, 'บล็อก': 1269, 'เป็นไรไป': 2805, 'ลุกขึ้น': 1938, 'ว่างเปล่า': 2018, 'ดูเล่น': 813, 'ไหนจะ': 3437, 'แมลงเม่า': 3173, 'ปีก': 1384, 'ละแมะ': 1909, 'ลัก': 1910, 'ขโมย': 285, 'มอคค่า': 1587, 'ญาญ่า': 761, 'เออ': 3033, 'ลวดลาย': 1894, 'เคียง': 2583, 'แต่ลำพัง': 3121, 'ลำโพง': 1927, 'อยู่เลย': 2402, 'ลืมตัว': 1935, 'ลูกค้า': 1942, 'พอใจ': 1496, 'แหล่ง': 3220, 'ชั้นเลิศ': 690, 'ลูกโป่ง': 1948, 'ลมหายใจ': 1890, 'กีฬา': 191, 'แลนด์': 3193, 'มาร์ค': 1629, 'สร้างอนาคต': 2079, 'เหอะ': 3019, 'ร้านเหล้า': 1865, 'กลิ้ง': 98, 'เข้าสู่': 2558, 'สภา': 2058, 'ว่าที่': 2020, 'ขอร้อง': 246, 'นี้แหละ': 1215, 'อ่อนโยน': 2483, 'ข่าว': 287, 'คนอ่อนแอ': 341, 'น่าอยู่': 1233, 'แรงโน้มถ่วง': 3189, 'โน้มเอียง': 3267, 'เอียง': 3041, 'จ๊ะ': 663, 'สมดุล': 2064, 'แคบ': 3087, 'ความร้าย': 436, 'ขออนุญาต': 247, 'วอลสตรีท': 1973, 'การเคลื่อนไหว': 160, 'เคลื่อนไหว': 2580, 'วัตถุ': 1976, 'ระยะ': 1778, 'เอื้อมมือ': 3042, 'วันใด': 1990, 'ท้อถอย': 1139, 'ต่อมา': 951, 'กัดฟัน': 120, 'วันพรุ่ง': 1982, 'อนุญาต': 2388, 'รับปาก': 1801, 'ความภูมิใจ': 424, 'วันหลัง': 1987, 'เบา': 2725, 'คำตำหนิ': 509, 'มีประโยชน์': 1655, 'โยนทิ้ง': 3286, 'กินลม': 185, 'ห่ม': 2367, 'หนังสือพิมพ์': 2228, 'การปกป้อง': 146, 'มโน': 1689, 'การันตี': 158, 'มีจำกัด': 1646, 'เซลฟี่': 2642, 'เป็นตัวของตัวเอง': 2771, 'ภูเขา': 1574, 'โอบกอด': 3311, 'แรงผลักดัน': 3188, 'เปลี่ยนคน': 2744, 'เปิดเผย': 2757, 'บ่งบอก': 1305, 'ทุกข์ใจ': 1114, 'เวลาเริ่ม': 2936, 'แหละ': 3219, 'หน้ายิ้ม': 2250, 'เริ่มใหม่': 2881, 'ไวรัส': 3431, 'ศิลปะ': 2029, 'การละทิ้ง': 153, 'ปฎิ': 1315, 'ธ': 1146, 'ตกลง': 833, 'ศิลปิน': 2030, 'ความสงสัย': 441, 'เยี่ยมยอด': 2871, 'ความมั่นใจ': 425, 'เปี่ยมล้น': 2761, 'เป็นช่วง': 2769, 'ช่วง': 717, 'บาด': 1295, 'เศษคน': 2943, 'สงกรานต์': 2035, 'แป้ง': 3155, 'เด': 2645, 'ใย': 3357, 'ความห่วงใย': 454, 'โล่ง': 3299, 'สรรพสิ่ง': 2072, 'ยึด': 1735, 'สรุป': 2074, 'ใจง่าย': 3325, 'จังไร': 606, 'มักได้': 1601, 'สไตล์': 2197, 'มีสตางค์': 1662, 'GATPAT': 14, 'มหาลัย': 1583, 'สะกิด': 2094, 'ให้รางวัล': 3369, 'สัตว์โลก': 2114, 'สาระ': 2139, 'someone': 55, 'ประทับใจ': 1329, 'คาดไม่ถึง': 500, 'คา': 495, 'กำหนด': 178, 'ระยะห่าง': 1780, 'เชื่อใจ': 2631, 'การตัดสินใจ': 141, 'ส่วนที่เหลือ': 2204, 'ความมุ่งมั่น': 426, 'สิ่งที่เหลืออยู่': 2158, 'สภาพแวดล้อม': 2061, 'สิ่งแวดล้อม': 2160, 'ส่งผลให้เกิด': 2199, 'ความสนใจ': 443, 'สัมพันธ์กัน': 2120, 'บุคคล': 1302, 'ได้เวลา': 3397, 'สึนามิ': 2171, 'Aftershock': 9, 'อาทิตย์': 2439, 'นาฬิกาปลุก': 1193, 'พลังงาน': 1481, 'สุดยอด': 2178, 'สูบบุหรี่': 2190, 'ปอด': 1363, 'เส้นชัย': 2980, 'ย่อท้อ': 1745, 'บากบั่น': 1288, 'ลี้': 1932, 'หัวมัน': 2345, 'กุ': 193, 'เลี่ยง': 2915, 'พอประมาณ': 1494, 'ขย่ม': 226, 'กล่า': 101, 'แสงแดด': 3211, 'นำทาง': 1195, 'แสงโสม': 3212, 'สอย': 2092, 'คาน': 502, 'สิน': 2150, 'รับสมัคร': 1807, 'หมายถึง': 2268, 'เป็นรอง': 2784, 'สนิท': 2051, 'ปลอดภัย': 1344, 'ถุง': 996, 'น้ำปลา': 1249, 'เป็นโรค': 2797, 'พี่น้อง': 1518, 'แว่น': 3205, 'สูท': 2189, 'หญิง': 2217, 'ดวงใจ': 774, 'หน่วยกิต': 2238, 'สั่งงาน': 2124, 'น่ารู้': 1231, 'รู้อยู่': 1842, 'อี': 2456, 'เอกลักษณ์': 3029, 'สมบัติ': 2065, 'เฉพาะตัว': 2617, 'หน้าฝน': 2248, 'เหม่อ': 3005, 'ส่วนหน้า': 2208, 'คม': 359, 'หก': 2213, 'หลัก': 2309, 'หน้าร้อน': 2251, 'สเปค': 2196, 'จับใจ': 613, 'ต้ม': 966, 'ผิง': 1414, 'หนาวใจ': 2231, 'เตก': 2670, 'เดก': 2646, 'หลอน': 2307, 'ภาพลักษณ์': 1562, 'หกสิบ': 2214, 'สิบห้า': 2153, 'จากกัน': 617, 'อาการ': 2434, 'หมั่น': 2263, 'เก็บเล็กผสมน้อย': 2532, 'หม่า': 2274, 'กระปุก': 73, 'หยาดเหงื่อ': 2278, 'รา': 1814, 'คาที่': 501, 'ไล่': 3426, 'หาเงิน': 2359, 'หาความ': 2351, 'หลงตัวเอง': 2297, 'นิดหน่อย': 1201, 'เหลือทน': 3013, 'รุ่น': 1829, 'หลงผิด': 2299, 'โรงพัก': 3290, 'ค้าบ': 554, 'เตรียม': 2671, 'หลังจากนี้': 2313, 'พายุฝน': 1507, 'ใบไม้': 3355, 'ร่วงหล่น': 1848, 'ต้น': 963, 'เขียวขจี': 2542, 'หลายครั้ง': 2318, 'ใกล้เคียง': 3320, 'ความรุนแรง': 431, 'ล้นเหลือ': 1956, 'ห่วงยาง': 2369, 'ลูกอม': 1946, 'หัวนม': 2344, 'ฮี': 2502, 'ล': 1870, 'รั่ว': 1812, 'มาแรง': 1632, 'รับเงิน': 1809, 'น่าเบื่อ': 1237, 'วินาที': 2006, 'รอเวลา': 1775, 'มัว': 1608, 'ฝึก': 1452, 'ความเห็นอกเห็นใจ': 477, 'ตั้งเป้า': 907, 'รายได้': 1820, 'ค่าจ้าง': 547, 'นอกนั้น': 1161, 'คุ': 533, 'ุณ': 2510, 'ความเปลี่ยนแปลง': 471, 'มุ่งมั่น': 1686, 'ดวงตา': 772, 'จากนั้น': 618, 'ความใน': 483, 'บริหาร': 1267, 'ความเชื่อมั่น': 468, 'อย่างนั้น': 2406, 'วิก': 1999, 'เครื่องนำทาง': 2573, 'ปล่อยมือ': 1356, 'ได้ข่าว': 3387, 'ข่า': 286, 'หยาด': 2277, 'ประการ': 1322, 'เพื่อนบ้าน': 2837, 'อัพ': 2431, 'หดหู่': 2219, 'ใด้': 3343, 'มองดู': 1590, 'ตาเจ้าชู้': 925, 'เป็นลม': 2785, 'สู้ตาย': 2194, 'เห็นใจ': 3026, 'โวยวาย': 3300, 'ร่าเริง': 1853, 'หงายหลัง': 2216, 'ฝืนยิ้ม': 1455, 'รั้ง': 1813, 'ว่ะ': 2014, 'กำลังจะ': 176, 'เบรค': 2721, 'เข้าเกียร์': 2559, 'วิญญาณ': 2001, 'กระจาย': 68, 'อุดม': 2469, 'สัมภเวสี': 2121, 'มัธยมปลาย': 1604, 'ข้าวต้อง': 308, 'จาน': 622, 'คนขับ': 320, 'ลองดู': 1896, 'รีเทิร์น': 1823, 'แต่กลับ': 3111, 'วางโทรศัพท์': 1994, 'iPhone': 40, 'iloveyoutome': 41, 'กดปุ่ม': 62, 'follower': 37, 'กางร่ม': 128, 'ผ้า': 1445, 'เจียว': 2601, 'คนใด': 356, 'เจีย': 2600, 'โด': 3247, 'ม่อน': 1691, 'แว่นตา': 3206, 'ชลบุรี': 678, 'ตากฝน': 914, 'ชล': 677, 'openhouse': 49, 'openheart': 48, 'สร้างสรรค์': 2078, 'เน็ต': 2717, 'ร่าย': 1851, 'เล่ห์': 2928, 'ร่ายมนต์': 1852, 'หล่น': 2324, 'ดูใจ': 817, 'จมูก': 594, 'ตีนกา': 937, 'อ้าง': 2492, 'หัวล้าน': 2346, 'อวด': 2411, 'ความเบื่อ': 469, 'จำนำ': 628, 'กังวล': 118, 'แบ็ค': 3146, 'ปากหมา': 1379, 'จี้': 640, 'คติ': 318, 'ซาบซึ้ง': 742, 'ตราบที่': 852, 'เครื่องประดับ': 2574, 'เคร่งเครียด': 2578, 'ปล่อยทิ้ง': 1355, 'เดียวกัน': 2657, 'แว้งกัด': 3207, 'ข้าวมัน': 309, 'ภูมิต้านทาน': 1572, 'เลว': 2905, 'กระแส': 77, 'พุ่ง': 1526, 'เป็นมา': 2782, 'ไห้': 3444, 'ใช้เวลานาน': 3340, 'ที่สี่': 1101, 'ดื่มเหล้า': 803, 'ขณะ': 214, 'ปฎิทิน': 1316, 'ไม้ตาย': 3416, 'กรู': 80, 'เพราะอะไร': 2822, 'คาดเดา': 499, 'โบก': 3268, 'พก': 1460, 'ขัดขวาง': 252, 'งี้': 574, 'มีผล': 1657, 'ว่าแล้ว': 2024, 'ครั้งหน้า': 369, 'ขอพร': 245, 'สิ่งศักดิ์สิทธิ์': 2159, 'แล': 3191, 'แสวงหา': 3217, 'บริโภค': 1268, 'สะโพก': 2102, 'โยก': 3284, 'ม่อ': 1690, 'เงินทอง': 2591, 'ขี้เหล้า': 276, 'คอแห้ง': 492, 'แว๊น': 3208, 'ไฟแนนซ์': 3407, 'ผู้เชี่ยวชาญ': 1436, 'รีโมท': 1824, 'มสิ': 1582, 'ขี้ปาก': 272, 'เสียความรู้สึก': 2954, 'หาทาง': 2353, 'เสียสละ': 2963, 'ทำสำเร็จ': 1070, 'หลงลืม': 2301, 'สนับสนุน': 2050, 'า': 2505, 'ตบยุง': 840, 'ล้มเลิก': 1958, 'จูงจมูก': 653, 'ผู้กำหนด': 1427, 'หัก': 2336, 'ข้าวโพด': 311, 'มือเปล่า': 1682, 'อ้างว่า': 2493, 'ต่ำกว่า': 962, 'ขึ้นอยู่': 282, 'เขียว': 2541, 'น่าตื่นเต้น': 1228, 'ร้าน': 1863, 'เส้นผ่านศูนย์กลาง': 2982, 'เจ็ด': 2604, 'สิบสอง': 2152, 'อื้ม': 2468, 'ความอุดมสมบูรณ์': 459, 'แตะ': 3109, 'ยากเย็น': 1713, 'เข็ญใจ': 2544, 'แฝง': 3162, 'รื้อ': 1826, 'ความหลัง': 451, 'เลิท': 2911, 'ฮัก': 2498, 'ข้างนอก': 296, 'ขยุ้ม': 225, 'ข': 213, 'ย่ำ': 1749, 'ลงพุง': 1874, 'เท่านี้': 2705, 'งานการ': 566, 'เนี่ย': 2714, 'หมวย': 2258, 'ซิ่': 744, 'อาม่า': 2440, 'ในอนาคต': 3351, 'ซากุระ': 740, 'ซา': 738, 'ราง': 1816, 'เฮ': 3047, 'โย': 3283, 'รส': 1762, 'ลูกบอล': 1943, 'หวะ': 2328, 'เพราะฉะนั้น': 2820, 'ออกเรือ': 2418, 'อึดอัด': 2465, 'อุบัติเหตุ': 2471, 'เอ็นดู': 3044, 'เอ็น': 3043, 'งานหลัก': 569, 'แอบมอง': 3227, 'งานอดิเรก': 570, 'งานประจำ': 568, 'เกณฑ์ทหาร': 2513, 'แอลกอฮอล์': 3229, 'เช็ด': 2634, 'ออกซิเจน': 2416, 'ทางกายภาพ': 1044, 'ทำให้เกิด': 1073, 'นักลงทุน': 1171, 'จาม': 623, 'จี': 638, 'ฮัลโหล': 2499, 'สวัสดี': 2085, 'ปี้': 1386, 'เลก': 2901, 'A-Z': 7, 'ตัวไร': 904, 'U': 28, 'Don': 12, 'tletyourmindbullyyourbody': 56, 'friend': 38, 'Google': 15, 'Search': 24, 'THEBIG': 25, 'Tomorrowisanotherday': 27, 'UV': 29, 'ต่อตา': 949}\n"
          ],
          "name": "stdout"
        }
      ]
    }
  ]
}