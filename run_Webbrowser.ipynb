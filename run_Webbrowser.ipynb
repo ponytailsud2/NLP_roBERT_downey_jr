{
  "nbformat": 4,
  "nbformat_minor": 0,
  "metadata": {
    "colab": {
      "name": "run_Webbrowser.ipynb",
      "provenance": [],
      "collapsed_sections": []
    },
    "kernelspec": {
      "name": "python3",
      "display_name": "Python 3"
    }
  },
  "cells": [
    {
      "cell_type": "code",
      "metadata": {
        "id": "15FGYusaCg2s",
        "colab": {
          "base_uri": "https://localhost:8080/"
        },
        "outputId": "932e1e8c-26d5-4f66-e4e9-fb3e071df38b"
      },
      "source": [
        "!pip install flask\n",
        "!pip install pyngrok\n",
        "!pip install flask_cors"
      ],
      "execution_count": null,
      "outputs": [
        {
          "output_type": "stream",
          "text": [
            "Requirement already satisfied: flask in /usr/local/lib/python3.7/dist-packages (1.1.2)\n",
            "Requirement already satisfied: Jinja2>=2.10.1 in /usr/local/lib/python3.7/dist-packages (from flask) (2.11.3)\n",
            "Requirement already satisfied: Werkzeug>=0.15 in /usr/local/lib/python3.7/dist-packages (from flask) (1.0.1)\n",
            "Requirement already satisfied: click>=5.1 in /usr/local/lib/python3.7/dist-packages (from flask) (7.1.2)\n",
            "Requirement already satisfied: itsdangerous>=0.24 in /usr/local/lib/python3.7/dist-packages (from flask) (1.1.0)\n",
            "Requirement already satisfied: MarkupSafe>=0.23 in /usr/local/lib/python3.7/dist-packages (from Jinja2>=2.10.1->flask) (1.1.1)\n",
            "Requirement already satisfied: pyngrok in /usr/local/lib/python3.7/dist-packages (5.0.5)\n",
            "Requirement already satisfied: PyYAML in /usr/local/lib/python3.7/dist-packages (from pyngrok) (3.13)\n"
          ],
          "name": "stdout"
        }
      ]
    },
    {
      "cell_type": "code",
      "metadata": {
        "colab": {
          "base_uri": "https://localhost:8080/"
        },
        "id": "IbmqhwCxDUTD",
        "outputId": "bfa0d0f1-2fd7-480b-cc6c-d9b6e7e9c429"
      },
      "source": [
        "#mount drive (do not have to do)\n",
        "from google.colab import drive\n",
        "drive.mount('/content/drive')"
      ],
      "execution_count": null,
      "outputs": [
        {
          "output_type": "stream",
          "text": [
            "Drive already mounted at /content/drive; to attempt to forcibly remount, call drive.mount(\"/content/drive\", force_remount=True).\n"
          ],
          "name": "stdout"
        }
      ]
    },
    {
      "cell_type": "code",
      "metadata": {
        "id": "KtgEqWzHC6Nl"
      },
      "source": [
        "import tensorflow as tf\n",
        "from tensorflow.keras.preprocessing import sequence\n",
        "from tensorflow.keras.models import Sequential, Model\n",
        "from tensorflow.keras.layers import GRU, Dropout, LSTM\n",
        "from tensorflow.keras.models import load_model\n",
        "from tensorflow.keras.layers import Embedding, Reshape, Activation, Input, Dense, Masking, Conv1D, Bidirectional,Flatten\n",
        "from tensorflow.python.keras.layers.merge import Dot\n",
        "from tensorflow.python.keras.utils import np_utils\n",
        "from tensorflow.python.keras.utils.data_utils import get_file\n",
        "from tensorflow.python.keras.utils.np_utils import to_categorical\n",
        "from tensorflow.keras.preprocessing.sequence import skipgrams\n",
        "from tensorflow.keras.preprocessing import sequence\n",
        "from tensorflow.keras import backend as K\n",
        "from tensorflow.keras.optimizers import Adam\n",
        "from tensorflow.keras.callbacks import ModelCheckpoint\n",
        "import numpy as np\n",
        "import json"
      ],
      "execution_count": null,
      "outputs": []
    },
    {
      "cell_type": "code",
      "metadata": {
        "id": "xmnzBjNbDFpb"
      },
      "source": [
        "max_word = 3458\n",
        "num_word = 30\n",
        "max_len = 45"
      ],
      "execution_count": null,
      "outputs": []
    },
    {
      "cell_type": "code",
      "metadata": {
        "id": "uqRKJqRlITUf"
      },
      "source": [
        "with open('/content/drive/MyDrive/Colab Notebooks/idx_to_word.json') as json_file:\n",
        "    idx = json.load(json_file)\n",
        "with open('/content/drive/MyDrive/Colab Notebooks/word_to_idx.json') as json_file:\n",
        "    word = json.load(json_file)"
      ],
      "execution_count": null,
      "outputs": []
    },
    {
      "cell_type": "code",
      "metadata": {
        "id": "Iw2Hv-_UU3JZ"
      },
      "source": [
        "idx_to_word = dict()\n",
        "\n",
        "for i in idx.keys():\n",
        "  idx_to_word[int(i)] = idx[i]\n"
      ],
      "execution_count": null,
      "outputs": []
    },
    {
      "cell_type": "code",
      "metadata": {
        "id": "_9wsNO2nVq46"
      },
      "source": [
        "word_to_idx= dict()\n",
        "\n",
        "for i in word.keys():\n",
        "  word_to_idx[i] = int(word[i])"
      ],
      "execution_count": null,
      "outputs": []
    },
    {
      "cell_type": "code",
      "metadata": {
        "id": "IKzHYNQSKC48"
      },
      "source": [
        "word_to_idx['<MASK>'] = 0\n",
        "idx_to_word[40] = 'แต่'\n",
        "word_to_idx['แต่'] = 40"
      ],
      "execution_count": null,
      "outputs": []
    },
    {
      "cell_type": "code",
      "metadata": {
        "id": "sKHU_226Jx7U"
      },
      "source": [
        "idx_to_word[0] = '<MASK>'"
      ],
      "execution_count": null,
      "outputs": []
    },
    {
      "cell_type": "code",
      "metadata": {
        "colab": {
          "base_uri": "https://localhost:8080/"
        },
        "id": "XtQaVdxLC-uL",
        "outputId": "a52d9baa-037a-48c8-f0ac-38442352f7fe"
      },
      "source": [
        "input = Input(shape = (max_len,))\n",
        "embedding = Embedding(max_word+1, 256,mask_zero=True,trainable = True)(input)\n",
        "gru = GRU(32)(embedding)\n",
        "dropout = Dropout(0.5)(gru)\n",
        "output = Dense(2, activation='softmax')(dropout)\n",
        "cls_model = Model(input,output)\n",
        "opt=Adam(lr=0.01)\n",
        "cls_model.compile(loss='categorical_crossentropy', optimizer=opt, metrics=['accuracy'])\n",
        "cls_model.summary()"
      ],
      "execution_count": null,
      "outputs": [
        {
          "output_type": "stream",
          "text": [
            "Model: \"model\"\n",
            "_________________________________________________________________\n",
            "Layer (type)                 Output Shape              Param #   \n",
            "=================================================================\n",
            "input_1 (InputLayer)         [(None, 45)]              0         \n",
            "_________________________________________________________________\n",
            "embedding (Embedding)        (None, 45, 256)           885504    \n",
            "_________________________________________________________________\n",
            "gru (GRU)                    (None, 32)                27840     \n",
            "_________________________________________________________________\n",
            "dropout (Dropout)            (None, 32)                0         \n",
            "_________________________________________________________________\n",
            "dense (Dense)                (None, 2)                 66        \n",
            "=================================================================\n",
            "Total params: 913,410\n",
            "Trainable params: 913,410\n",
            "Non-trainable params: 0\n",
            "_________________________________________________________________\n"
          ],
          "name": "stdout"
        }
      ]
    },
    {
      "cell_type": "code",
      "metadata": {
        "id": "bb85ldaYDNTw"
      },
      "source": [
        "cls_model.load_weights(\"/content/drive/MyDrive/Colab Notebooks/model_weight_lda.h5\")"
      ],
      "execution_count": null,
      "outputs": []
    },
    {
      "cell_type": "code",
      "metadata": {
        "colab": {
          "base_uri": "https://localhost:8080/"
        },
        "id": "4SCykbEOEGzz",
        "outputId": "1e37de72-134f-4ddf-d285-38a682c1742f"
      },
      "source": [
        "def get_model():\n",
        "\n",
        "  input1 = Input(shape=(num_word,))\n",
        "  emb_out = (Embedding(len(word_to_idx)+1,128,input_length=num_word,trainable=True,mask_zero=True))(input1)\n",
        "\n",
        "  token_emb_out = Embedding(len(word_to_idx)+1,128,input_length=num_word,mask_zero=True)(input1)\n",
        "  x = Bidirectional(GRU(64, return_sequences=True))(token_emb_out)\n",
        "  x = Flatten()(x)\n",
        "  x = Dropout(0.2)(x)\n",
        "  out = Dense(len(word_to_idx), activation='sigmoid')(x)\n",
        "\n",
        "  model = Model(inputs=input1, outputs=out)\n",
        "  model.compile(optimizer=Adam(),\n",
        "                  loss='categorical_crossentropy',\n",
        "                  metrics=['acc'])\n",
        "  return model\n",
        "\n",
        "model = get_model()\n",
        "model.summary()"
      ],
      "execution_count": null,
      "outputs": [
        {
          "output_type": "stream",
          "text": [
            "Model: \"model_1\"\n",
            "_________________________________________________________________\n",
            "Layer (type)                 Output Shape              Param #   \n",
            "=================================================================\n",
            "input_2 (InputLayer)         [(None, 30)]              0         \n",
            "_________________________________________________________________\n",
            "embedding_2 (Embedding)      (None, 30, 128)           358528    \n",
            "_________________________________________________________________\n",
            "bidirectional (Bidirectional (None, 30, 128)           74496     \n",
            "_________________________________________________________________\n",
            "flatten (Flatten)            (None, 3840)              0         \n",
            "_________________________________________________________________\n",
            "dropout_1 (Dropout)          (None, 3840)              0         \n",
            "_________________________________________________________________\n",
            "dense_1 (Dense)              (None, 2800)              10754800  \n",
            "=================================================================\n",
            "Total params: 11,187,824\n",
            "Trainable params: 11,187,824\n",
            "Non-trainable params: 0\n",
            "_________________________________________________________________\n"
          ],
          "name": "stdout"
        }
      ]
    },
    {
      "cell_type": "code",
      "metadata": {
        "id": "xT3WDX-OF0Ed"
      },
      "source": [
        "model.load_weights(\"/content/drive/MyDrive/Colab Notebooks/text_gen_7.h5\")"
      ],
      "execution_count": null,
      "outputs": []
    },
    {
      "cell_type": "code",
      "metadata": {
        "id": "XMY2WvDEGlAq"
      },
      "source": [
        "def convert_to_input(seq,lenght):\n",
        "  x_input = []\n",
        "\n",
        "  if (len(seq)<lenght):\n",
        "    x_input.extend(seq + [\"<MASK>\"]*(lenght-len(seq)))\n",
        "  else:\n",
        "    for i in range(len(seq)-lenght, len(seq)):\n",
        "      x_input.append(seq[i])\n",
        "  return x_input"
      ],
      "execution_count": null,
      "outputs": []
    },
    {
      "cell_type": "code",
      "metadata": {
        "id": "YmSCB1YlJcr0"
      },
      "source": [
        "import random\n",
        "import time"
      ],
      "execution_count": null,
      "outputs": []
    },
    {
      "cell_type": "code",
      "metadata": {
        "id": "OBxHnETDJrRH"
      },
      "source": [
        "def current_milli_time():\n",
        "    return round(time.time() * 1000)"
      ],
      "execution_count": null,
      "outputs": []
    },
    {
      "cell_type": "code",
      "metadata": {
        "id": "Jo_vQLbxHwjf"
      },
      "source": [
        "def word2features(word, word_dict_to_idx):\n",
        "    if word in word_dict_to_idx :\n",
        "        return word_dict_to_idx[word]\n",
        "    else :\n",
        "        return word_dict_to_idx['UNK']\n",
        "\n",
        "def sent2features(sentence,word_dict_to_idx):\n",
        "    return np.asarray([word2features(word,word_dict_to_idx) for word in sentence])\n",
        "\n",
        "def sent2tokens(sent):\n",
        "    return [word for (word, label) in sent]"
      ],
      "execution_count": null,
      "outputs": []
    },
    {
      "cell_type": "code",
      "metadata": {
        "id": "K7JR8vJeGk_U"
      },
      "source": [
        "def gen_text(model, seed_word, lenght, temp):\n",
        "  seed_text = seed_word\n",
        "  for i in range(lenght):\n",
        "    x_input = convert_to_input(seed_text, num_word)\n",
        "    x_i = np.array([sent2features(x_input,word_to_idx)])\n",
        "    y_pred=model.predict(x_i)\n",
        "    weight = y_pred[0]\n",
        "    tmp_probs = []\n",
        "    sum_tmp_probs = 0\n",
        "    for i in range(len(weight)):\n",
        "      val = weight[i] ** (1/temp)\n",
        "      tmp_probs.append(val)\n",
        "      sum_tmp_probs += val\n",
        "    for i in range(len(tmp_probs)):\n",
        "      tmp_probs[i] /= sum_tmp_probs\n",
        "\n",
        "    random.seed(current_milli_time())\n",
        "    sampled_number = random.random()\n",
        "\n",
        "    current = 0\n",
        "    max_idx = 0\n",
        "    for idx, val in enumerate(tmp_probs):\n",
        "      if current + val > sampled_number:\n",
        "        max_idx = idx\n",
        "        break\n",
        "      current += val\n",
        "    \n",
        "    if (idx_to_word[max_idx] == \"<E>\"):\n",
        "      seed_text.append(idx_to_word[max_idx])\n",
        "      break\n",
        "    seed_text.append(idx_to_word[max_idx])\n",
        "\n",
        "  return seed_text"
      ],
      "execution_count": null,
      "outputs": []
    },
    {
      "cell_type": "code",
      "metadata": {
        "id": "hm-gMiCCDh6K"
      },
      "source": [
        "def prediction(topic,seedtext):\n",
        "  text_array = []\n",
        "  index_text = []\n",
        "  for i in range(5):\n",
        "    text_array.append(gen_text(model, [\"<S>\",seedtext], 25, 0.0001))\n",
        "  for i in range(len(text_array)):\n",
        "    sen = []\n",
        "    for word in text_array[i]:\n",
        "      sen.append(word_to_idx[word])\n",
        "    index_text.append(sen)\n",
        "  index_text = sequence.pad_sequences(index_text)\n",
        "  max_pred = 0\n",
        "  max_position = 0\n",
        "  for i in range(len(index_text)):\n",
        "    y_pred = cls_model.predict(index_text[i])\n",
        "    if np.argmax(y_pred, axis=0)[topic] > max_pred:\n",
        "      max_position = i\n",
        "  return \"\".join(text_array[max_position])    "
      ],
      "execution_count": null,
      "outputs": []
    },
    {
      "cell_type": "code",
      "metadata": {
        "id": "vPc_bodwBQmM",
        "cellView": "code",
        "colab": {
          "base_uri": "https://localhost:8080/"
        },
        "outputId": "c6fdaecc-a492-4c09-8a9d-4c1a2e5839f2"
      },
      "source": [
        "import os\n",
        "import threading\n",
        "\n",
        "from flask import Flask,request,jsonify\n",
        "from pyngrok import ngrok\n",
        "from flask_cors import CORS\n",
        "import pickle\n",
        "\n",
        "os.environ[\"FLASK_ENV\"] = \"development\"\n",
        "\n",
        "app = Flask(__name__)\n",
        "cors = CORS(app)\n",
        "app.config['CORS_HEADERS'] = 'Content-Type'\n",
        "app.config['Content-type'] = 'application/json'\n",
        "app.config['Accept'] = 'application/json'\n",
        "\n",
        "# Open a ngrok tunnel to the HTTP server\n",
        "public_url = ngrok.connect(5000).public_url\n",
        "print(\" * ngrok tunnel \\\"{}\\\" -> \\\"http://127.0.0.1:{}/\\\"\".format(public_url, 5000))\n",
        "\n",
        "# Update any base URLs to use the public ngrok URL\n",
        "app.config[\"BASE_URL\"] = public_url\n",
        "\n",
        "# Update inbound traffic via APIs to use the public-facing ngrok URL\n",
        "# Define Flask routes\n",
        "@app.route(\"/api\")\n",
        "def index():\n",
        "    \n",
        "    sentence = request.args.get('sentence')\n",
        "    topic = request.args.get('topic')\n",
        "\n",
        "    a = prediction(int(topic),sentence)\n",
        "    \n",
        "    return jsonify(output = a)\n",
        "\n",
        "# Start the Flask server in a new thread\n",
        "threading.Thread(target=app.run, kwargs={\"use_reloader\": False}).start()"
      ],
      "execution_count": null,
      "outputs": [
        {
          "output_type": "stream",
          "text": [
            " * ngrok tunnel \"http://080d037fa3df.ngrok.io\" -> \"http://127.0.0.1:5000/\"\n",
            " * Serving Flask app \"__main__\" (lazy loading)\n",
            " * Environment: development\n"
          ],
          "name": "stdout"
        }
      ]
    },
    {
      "cell_type": "code",
      "metadata": {
        "colab": {
          "base_uri": "https://localhost:8080/"
        },
        "id": "7AMOFxOawN3x",
        "outputId": "3257ce4c-29fe-4d5f-cc50-83e5799e1898"
      },
      "source": [
        ""
      ],
      "execution_count": null,
      "outputs": [
        {
          "output_type": "stream",
          "text": [
            " * Debug mode: on\n"
          ],
          "name": "stdout"
        }
      ]
    }
  ]
}