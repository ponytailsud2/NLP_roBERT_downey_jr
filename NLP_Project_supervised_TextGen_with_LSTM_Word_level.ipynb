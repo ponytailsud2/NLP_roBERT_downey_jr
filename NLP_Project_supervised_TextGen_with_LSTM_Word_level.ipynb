{
  "nbformat": 4,
  "nbformat_minor": 0,
  "metadata": {
    "colab": {
      "name": "NLP_Project_supervised_TextGen_with_LSTM_Word_level.ipynb",
      "provenance": [],
      "collapsed_sections": [],
      "toc_visible": true
    },
    "kernelspec": {
      "name": "python3",
      "display_name": "Python 3"
    },
    "language_info": {
      "name": "python"
    },
    "accelerator": "GPU"
  },
  "cells": [
    {
      "cell_type": "markdown",
      "metadata": {
        "id": "L3T2LhKfX4tH"
      },
      "source": [
        "## 1. Setup and Preprocessing"
      ]
    },
    {
      "cell_type": "code",
      "metadata": {
        "id": "Y-xMDHVLXVBj",
        "colab": {
          "base_uri": "https://localhost:8080/"
        },
        "outputId": "000d439a-8247-4860-835f-3660f1b8efec"
      },
      "source": [
        "!nvidia-smi"
      ],
      "execution_count": null,
      "outputs": [
        {
          "output_type": "stream",
          "text": [
            "Sat May  1 15:13:15 2021       \n",
            "+-----------------------------------------------------------------------------+\n",
            "| NVIDIA-SMI 465.19.01    Driver Version: 460.32.03    CUDA Version: 11.2     |\n",
            "|-------------------------------+----------------------+----------------------+\n",
            "| GPU  Name        Persistence-M| Bus-Id        Disp.A | Volatile Uncorr. ECC |\n",
            "| Fan  Temp  Perf  Pwr:Usage/Cap|         Memory-Usage | GPU-Util  Compute M. |\n",
            "|                               |                      |               MIG M. |\n",
            "|===============================+======================+======================|\n",
            "|   0  Tesla T4            Off  | 00000000:00:04.0 Off |                    0 |\n",
            "| N/A   68C    P8    11W /  70W |      0MiB / 15109MiB |      0%      Default |\n",
            "|                               |                      |                  N/A |\n",
            "+-------------------------------+----------------------+----------------------+\n",
            "                                                                               \n",
            "+-----------------------------------------------------------------------------+\n",
            "| Processes:                                                                  |\n",
            "|  GPU   GI   CI        PID   Type   Process name                  GPU Memory |\n",
            "|        ID   ID                                                   Usage      |\n",
            "|=============================================================================|\n",
            "|  No running processes found                                                 |\n",
            "+-----------------------------------------------------------------------------+\n"
          ],
          "name": "stdout"
        }
      ]
    },
    {
      "cell_type": "code",
      "metadata": {
        "id": "tHt4RoREOSZz"
      },
      "source": [
        "# from google.colab import drive"
      ],
      "execution_count": null,
      "outputs": []
    },
    {
      "cell_type": "code",
      "metadata": {
        "id": "Ocg_9j2aPrz_"
      },
      "source": [
        "# drive.mount('/content/gdrive')"
      ],
      "execution_count": null,
      "outputs": []
    },
    {
      "cell_type": "code",
      "metadata": {
        "id": "GDbvfAOnoMuQ",
        "colab": {
          "base_uri": "https://localhost:8080/"
        },
        "outputId": "22e3e2b2-86d2-440d-b308-fb521edb8013"
      },
      "source": [
        "# !wget --no-check-certificate https://www.dropbox.com/s/j8w8uo7y2uqxo7o/data.csv\n",
        "!wget --no-check-certificate https://www.dropbox.com/s/owz4fdu830okkry/data_2.csv\n"
      ],
      "execution_count": null,
      "outputs": [
        {
          "output_type": "stream",
          "text": [
            "--2021-05-02 16:16:10--  https://www.dropbox.com/s/owz4fdu830okkry/data_2.csv\n",
            "Resolving www.dropbox.com (www.dropbox.com)... 162.125.5.18, 2620:100:601d:18::a27d:512\n",
            "Connecting to www.dropbox.com (www.dropbox.com)|162.125.5.18|:443... connected.\n",
            "HTTP request sent, awaiting response... 301 Moved Permanently\n",
            "Location: /s/raw/owz4fdu830okkry/data_2.csv [following]\n",
            "--2021-05-02 16:16:10--  https://www.dropbox.com/s/raw/owz4fdu830okkry/data_2.csv\n",
            "Reusing existing connection to www.dropbox.com:443.\n",
            "HTTP request sent, awaiting response... 302 Found\n",
            "Location: https://uce7f6ba3fb5b0af8f01f73842e2.dl.dropboxusercontent.com/cd/0/inline/BNt5ZAlTSRYFcZDUYFKCs5TCEyzQhCD3EVWYFMeo96xHNSH2cHDQ_wigNVUc03yfPtk11frvfFKb2MxqrQWMIoCQ0drfFYxAvztPin8YH-SIVlZorT5y4JYNf0nmo6fDV4REk_ZX1AwYNZJqp6FJsCil/file# [following]\n",
            "--2021-05-02 16:16:10--  https://uce7f6ba3fb5b0af8f01f73842e2.dl.dropboxusercontent.com/cd/0/inline/BNt5ZAlTSRYFcZDUYFKCs5TCEyzQhCD3EVWYFMeo96xHNSH2cHDQ_wigNVUc03yfPtk11frvfFKb2MxqrQWMIoCQ0drfFYxAvztPin8YH-SIVlZorT5y4JYNf0nmo6fDV4REk_ZX1AwYNZJqp6FJsCil/file\n",
            "Resolving uce7f6ba3fb5b0af8f01f73842e2.dl.dropboxusercontent.com (uce7f6ba3fb5b0af8f01f73842e2.dl.dropboxusercontent.com)... 162.125.5.15, 2620:100:601d:15::a27d:50f\n",
            "Connecting to uce7f6ba3fb5b0af8f01f73842e2.dl.dropboxusercontent.com (uce7f6ba3fb5b0af8f01f73842e2.dl.dropboxusercontent.com)|162.125.5.15|:443... connected.\n",
            "HTTP request sent, awaiting response... 200 OK\n",
            "Length: 385226 (376K) [text/plain]\n",
            "Saving to: ‘data_2.csv’\n",
            "\n",
            "data_2.csv          100%[===================>] 376.20K  --.-KB/s    in 0.08s   \n",
            "\n",
            "2021-05-02 16:16:11 (4.66 MB/s) - ‘data_2.csv’ saved [385226/385226]\n",
            "\n"
          ],
          "name": "stdout"
        }
      ]
    },
    {
      "cell_type": "code",
      "metadata": {
        "id": "6XzjvJ90b-Oh"
      },
      "source": [
        "%matplotlib inline\n",
        "import pandas as pd\n",
        "import sklearn\n",
        "import numpy as np\n",
        "from IPython.display import display\n",
        "import matplotlib.pyplot as plt\n",
        "\n"
      ],
      "execution_count": null,
      "outputs": []
    },
    {
      "cell_type": "markdown",
      "metadata": {
        "id": "5WMtb9xMcHz9"
      },
      "source": [
        "##Load data"
      ]
    },
    {
      "cell_type": "code",
      "metadata": {
        "id": "m8bAEImyb5j3"
      },
      "source": [
        "# data_df = pd.read_csv('data.csv')\n",
        "data_df = pd.read_csv('data_2.csv')"
      ],
      "execution_count": null,
      "outputs": []
    },
    {
      "cell_type": "code",
      "metadata": {
        "id": "iwSL8-BMcJzT",
        "colab": {
          "base_uri": "https://localhost:8080/",
          "height": 262
        },
        "outputId": "f0b36cc2-d1b8-4e36-8448-ed3ead44c546"
      },
      "source": [
        "# Show the top 5 rows\n",
        "display(data_df.head())\n",
        "# Summarize the data\n",
        "\n",
        "data_df.Type.value_counts()"
      ],
      "execution_count": null,
      "outputs": [
        {
          "output_type": "display_data",
          "data": {
            "text/html": [
              "<div>\n",
              "<style scoped>\n",
              "    .dataframe tbody tr th:only-of-type {\n",
              "        vertical-align: middle;\n",
              "    }\n",
              "\n",
              "    .dataframe tbody tr th {\n",
              "        vertical-align: top;\n",
              "    }\n",
              "\n",
              "    .dataframe thead th {\n",
              "        text-align: right;\n",
              "    }\n",
              "</style>\n",
              "<table border=\"1\" class=\"dataframe\">\n",
              "  <thead>\n",
              "    <tr style=\"text-align: right;\">\n",
              "      <th></th>\n",
              "      <th>Sentence</th>\n",
              "      <th>Type</th>\n",
              "      <th>Label</th>\n",
              "    </tr>\n",
              "  </thead>\n",
              "  <tbody>\n",
              "    <tr>\n",
              "      <th>0</th>\n",
              "      <td>ก็คุณเองไม่ใช่หรอที่ทำให้เราเสียใจในวันนั้น</td>\n",
              "      <td>แง่ลบ</td>\n",
              "      <td>1</td>\n",
              "    </tr>\n",
              "    <tr>\n",
              "      <th>1</th>\n",
              "      <td>ก็แค่คนที่เคยทำให้เธอยิ้มในเวลาไม่มีเขา</td>\n",
              "      <td>แง่ลบ</td>\n",
              "      <td>1</td>\n",
              "    </tr>\n",
              "    <tr>\n",
              "      <th>2</th>\n",
              "      <td>ก็แค่เด็กขี้แยไม่ต้องมาแคร์ก็ได้</td>\n",
              "      <td>แง่ลบ</td>\n",
              "      <td>1</td>\n",
              "    </tr>\n",
              "    <tr>\n",
              "      <th>3</th>\n",
              "      <td>ก็แค่โสดไม่ได้อ่อยแค่โสดนานหน่อยไม่ได้อ่อยจริง...</td>\n",
              "      <td>แง่ลบ</td>\n",
              "      <td>1</td>\n",
              "    </tr>\n",
              "    <tr>\n",
              "      <th>4</th>\n",
              "      <td>กฎของกระจกคือการสะท้อนกลับมาแต่กฎของเวลาคือการ...</td>\n",
              "      <td>ข้อคิด</td>\n",
              "      <td>2</td>\n",
              "    </tr>\n",
              "  </tbody>\n",
              "</table>\n",
              "</div>"
            ],
            "text/plain": [
              "                                            Sentence    Type  Label\n",
              "0        ก็คุณเองไม่ใช่หรอที่ทำให้เราเสียใจในวันนั้น   แง่ลบ      1\n",
              "1            ก็แค่คนที่เคยทำให้เธอยิ้มในเวลาไม่มีเขา   แง่ลบ      1\n",
              "2                   ก็แค่เด็กขี้แยไม่ต้องมาแคร์ก็ได้   แง่ลบ      1\n",
              "3  ก็แค่โสดไม่ได้อ่อยแค่โสดนานหน่อยไม่ได้อ่อยจริง...   แง่ลบ      1\n",
              "4  กฎของกระจกคือการสะท้อนกลับมาแต่กฎของเวลาคือการ...  ข้อคิด      2"
            ]
          },
          "metadata": {
            "tags": []
          }
        },
        {
          "output_type": "execute_result",
          "data": {
            "text/plain": [
              "แง่บวก    995\n",
              "ข้อคิด    709\n",
              "แง่ลบ     598\n",
              "Name: Type, dtype: int64"
            ]
          },
          "metadata": {
            "tags": []
          },
          "execution_count": 4
        }
      ]
    },
    {
      "cell_type": "code",
      "metadata": {
        "id": "-pK10riP4QOo",
        "colab": {
          "base_uri": "https://localhost:8080/"
        },
        "outputId": "1937bd73-0b08-48c3-e05f-4fd0d02c1f0f"
      },
      "source": [
        "data_df.shape\n"
      ],
      "execution_count": null,
      "outputs": [
        {
          "output_type": "execute_result",
          "data": {
            "text/plain": [
              "(2302, 3)"
            ]
          },
          "metadata": {
            "tags": []
          },
          "execution_count": 5
        }
      ]
    },
    {
      "cell_type": "markdown",
      "metadata": {
        "id": "65fRHPF9cUQ3"
      },
      "source": [
        "##Data cleaning"
      ]
    },
    {
      "cell_type": "code",
      "metadata": {
        "id": "ij4RKhsEcWRd",
        "colab": {
          "base_uri": "https://localhost:8080/",
          "height": 34
        },
        "outputId": "6fe45b42-6a4f-408f-9bfa-8c773146a579"
      },
      "source": [
        "display(data_df.Type.unique())"
      ],
      "execution_count": null,
      "outputs": [
        {
          "output_type": "display_data",
          "data": {
            "text/plain": [
              "array(['แง่ลบ', 'ข้อคิด', 'แง่บวก'], dtype=object)"
            ]
          },
          "metadata": {
            "tags": []
          }
        }
      ]
    },
    {
      "cell_type": "code",
      "metadata": {
        "id": "ntTHBM6idHi-",
        "colab": {
          "base_uri": "https://localhost:8080/",
          "height": 182
        },
        "outputId": "78598b2a-42ee-4474-fe9b-47c55b1ad723"
      },
      "source": [
        "data_df_quote = data_df[[\"Sentence\", \"Type\"]]\n",
        "data_df_quote.columns = ['Sentence', 'Type']\n",
        "display(data_df_quote.describe())\n",
        "display(data_df_quote.Type.unique())\n",
        "\n"
      ],
      "execution_count": null,
      "outputs": [
        {
          "output_type": "display_data",
          "data": {
            "text/html": [
              "<div>\n",
              "<style scoped>\n",
              "    .dataframe tbody tr th:only-of-type {\n",
              "        vertical-align: middle;\n",
              "    }\n",
              "\n",
              "    .dataframe tbody tr th {\n",
              "        vertical-align: top;\n",
              "    }\n",
              "\n",
              "    .dataframe thead th {\n",
              "        text-align: right;\n",
              "    }\n",
              "</style>\n",
              "<table border=\"1\" class=\"dataframe\">\n",
              "  <thead>\n",
              "    <tr style=\"text-align: right;\">\n",
              "      <th></th>\n",
              "      <th>Sentence</th>\n",
              "      <th>Type</th>\n",
              "    </tr>\n",
              "  </thead>\n",
              "  <tbody>\n",
              "    <tr>\n",
              "      <th>count</th>\n",
              "      <td>2302</td>\n",
              "      <td>2302</td>\n",
              "    </tr>\n",
              "    <tr>\n",
              "      <th>unique</th>\n",
              "      <td>2298</td>\n",
              "      <td>3</td>\n",
              "    </tr>\n",
              "    <tr>\n",
              "      <th>top</th>\n",
              "      <td>ก็เหมือนคนนั้นไงมีเข้ามาก็ต้องจากไปอยู่ดี</td>\n",
              "      <td>แง่บวก</td>\n",
              "    </tr>\n",
              "    <tr>\n",
              "      <th>freq</th>\n",
              "      <td>2</td>\n",
              "      <td>995</td>\n",
              "    </tr>\n",
              "  </tbody>\n",
              "</table>\n",
              "</div>"
            ],
            "text/plain": [
              "                                         Sentence    Type\n",
              "count                                        2302    2302\n",
              "unique                                       2298       3\n",
              "top     ก็เหมือนคนนั้นไงมีเข้ามาก็ต้องจากไปอยู่ดี  แง่บวก\n",
              "freq                                            2     995"
            ]
          },
          "metadata": {
            "tags": []
          }
        },
        {
          "output_type": "display_data",
          "data": {
            "text/plain": [
              "array(['แง่ลบ', 'ข้อคิด', 'แง่บวก'], dtype=object)"
            ]
          },
          "metadata": {
            "tags": []
          }
        }
      ]
    },
    {
      "cell_type": "code",
      "metadata": {
        "id": "ViN_pog9dWU3",
        "colab": {
          "base_uri": "https://localhost:8080/",
          "height": 182
        },
        "outputId": "bf7214cf-2bec-4bb1-d3e0-a06c536d4383"
      },
      "source": [
        "data_df_quote['Clean_Type']=data_df_quote['Type'].str.lower().copy()\n",
        "display(data_df_quote.describe())\n",
        "display(data_df_quote.Type.unique())"
      ],
      "execution_count": null,
      "outputs": [
        {
          "output_type": "display_data",
          "data": {
            "text/html": [
              "<div>\n",
              "<style scoped>\n",
              "    .dataframe tbody tr th:only-of-type {\n",
              "        vertical-align: middle;\n",
              "    }\n",
              "\n",
              "    .dataframe tbody tr th {\n",
              "        vertical-align: top;\n",
              "    }\n",
              "\n",
              "    .dataframe thead th {\n",
              "        text-align: right;\n",
              "    }\n",
              "</style>\n",
              "<table border=\"1\" class=\"dataframe\">\n",
              "  <thead>\n",
              "    <tr style=\"text-align: right;\">\n",
              "      <th></th>\n",
              "      <th>Sentence</th>\n",
              "      <th>Type</th>\n",
              "      <th>Clean_Type</th>\n",
              "    </tr>\n",
              "  </thead>\n",
              "  <tbody>\n",
              "    <tr>\n",
              "      <th>count</th>\n",
              "      <td>2302</td>\n",
              "      <td>2302</td>\n",
              "      <td>2302</td>\n",
              "    </tr>\n",
              "    <tr>\n",
              "      <th>unique</th>\n",
              "      <td>2298</td>\n",
              "      <td>3</td>\n",
              "      <td>3</td>\n",
              "    </tr>\n",
              "    <tr>\n",
              "      <th>top</th>\n",
              "      <td>ก็เหมือนคนนั้นไงมีเข้ามาก็ต้องจากไปอยู่ดี</td>\n",
              "      <td>แง่บวก</td>\n",
              "      <td>แง่บวก</td>\n",
              "    </tr>\n",
              "    <tr>\n",
              "      <th>freq</th>\n",
              "      <td>2</td>\n",
              "      <td>995</td>\n",
              "      <td>995</td>\n",
              "    </tr>\n",
              "  </tbody>\n",
              "</table>\n",
              "</div>"
            ],
            "text/plain": [
              "                                         Sentence    Type Clean_Type\n",
              "count                                        2302    2302       2302\n",
              "unique                                       2298       3          3\n",
              "top     ก็เหมือนคนนั้นไงมีเข้ามาก็ต้องจากไปอยู่ดี  แง่บวก     แง่บวก\n",
              "freq                                            2     995        995"
            ]
          },
          "metadata": {
            "tags": []
          }
        },
        {
          "output_type": "display_data",
          "data": {
            "text/plain": [
              "array(['แง่ลบ', 'ข้อคิด', 'แง่บวก'], dtype=object)"
            ]
          },
          "metadata": {
            "tags": []
          }
        }
      ]
    },
    {
      "cell_type": "code",
      "metadata": {
        "id": "PUEpZpT-dfV9",
        "colab": {
          "base_uri": "https://localhost:8080/",
          "height": 166
        },
        "outputId": "2fdd6fe4-ed84-4861-e091-111df170f874"
      },
      "source": [
        "data_df_quote['Type']=data_df_quote['Clean_Type'].str.lower().copy()\n",
        "data_df_quote.drop('Clean_Type', axis=1, inplace=True)\n",
        "display(data_df_quote.describe())"
      ],
      "execution_count": null,
      "outputs": [
        {
          "output_type": "display_data",
          "data": {
            "text/html": [
              "<div>\n",
              "<style scoped>\n",
              "    .dataframe tbody tr th:only-of-type {\n",
              "        vertical-align: middle;\n",
              "    }\n",
              "\n",
              "    .dataframe tbody tr th {\n",
              "        vertical-align: top;\n",
              "    }\n",
              "\n",
              "    .dataframe thead th {\n",
              "        text-align: right;\n",
              "    }\n",
              "</style>\n",
              "<table border=\"1\" class=\"dataframe\">\n",
              "  <thead>\n",
              "    <tr style=\"text-align: right;\">\n",
              "      <th></th>\n",
              "      <th>Sentence</th>\n",
              "      <th>Type</th>\n",
              "    </tr>\n",
              "  </thead>\n",
              "  <tbody>\n",
              "    <tr>\n",
              "      <th>count</th>\n",
              "      <td>2302</td>\n",
              "      <td>2302</td>\n",
              "    </tr>\n",
              "    <tr>\n",
              "      <th>unique</th>\n",
              "      <td>2298</td>\n",
              "      <td>3</td>\n",
              "    </tr>\n",
              "    <tr>\n",
              "      <th>top</th>\n",
              "      <td>ก็เหมือนคนนั้นไงมีเข้ามาก็ต้องจากไปอยู่ดี</td>\n",
              "      <td>แง่บวก</td>\n",
              "    </tr>\n",
              "    <tr>\n",
              "      <th>freq</th>\n",
              "      <td>2</td>\n",
              "      <td>995</td>\n",
              "    </tr>\n",
              "  </tbody>\n",
              "</table>\n",
              "</div>"
            ],
            "text/plain": [
              "                                         Sentence    Type\n",
              "count                                        2302    2302\n",
              "unique                                       2298       3\n",
              "top     ก็เหมือนคนนั้นไงมีเข้ามาก็ต้องจากไปอยู่ดี  แง่บวก\n",
              "freq                                            2     995"
            ]
          },
          "metadata": {
            "tags": []
          }
        }
      ]
    },
    {
      "cell_type": "code",
      "metadata": {
        "id": "CYOrWyIrd5bo",
        "colab": {
          "base_uri": "https://localhost:8080/",
          "height": 166
        },
        "outputId": "5de197f8-8773-470e-9dfd-0e383437aa41"
      },
      "source": [
        "data_df_quote = data_df_quote.drop_duplicates(\"Sentence\", keep=\"first\")\n",
        "display(data_df_quote.describe())"
      ],
      "execution_count": null,
      "outputs": [
        {
          "output_type": "display_data",
          "data": {
            "text/html": [
              "<div>\n",
              "<style scoped>\n",
              "    .dataframe tbody tr th:only-of-type {\n",
              "        vertical-align: middle;\n",
              "    }\n",
              "\n",
              "    .dataframe tbody tr th {\n",
              "        vertical-align: top;\n",
              "    }\n",
              "\n",
              "    .dataframe thead th {\n",
              "        text-align: right;\n",
              "    }\n",
              "</style>\n",
              "<table border=\"1\" class=\"dataframe\">\n",
              "  <thead>\n",
              "    <tr style=\"text-align: right;\">\n",
              "      <th></th>\n",
              "      <th>Sentence</th>\n",
              "      <th>Type</th>\n",
              "    </tr>\n",
              "  </thead>\n",
              "  <tbody>\n",
              "    <tr>\n",
              "      <th>count</th>\n",
              "      <td>2298</td>\n",
              "      <td>2298</td>\n",
              "    </tr>\n",
              "    <tr>\n",
              "      <th>unique</th>\n",
              "      <td>2298</td>\n",
              "      <td>3</td>\n",
              "    </tr>\n",
              "    <tr>\n",
              "      <th>top</th>\n",
              "      <td>แบตหมดให้เดินหาปลั๊กแต่ถ้าขาดความรักให้เดินมาห...</td>\n",
              "      <td>แง่บวก</td>\n",
              "    </tr>\n",
              "    <tr>\n",
              "      <th>freq</th>\n",
              "      <td>1</td>\n",
              "      <td>995</td>\n",
              "    </tr>\n",
              "  </tbody>\n",
              "</table>\n",
              "</div>"
            ],
            "text/plain": [
              "                                                 Sentence    Type\n",
              "count                                                2298    2298\n",
              "unique                                               2298       3\n",
              "top     แบตหมดให้เดินหาปลั๊กแต่ถ้าขาดความรักให้เดินมาห...  แง่บวก\n",
              "freq                                                    1     995"
            ]
          },
          "metadata": {
            "tags": []
          }
        }
      ]
    },
    {
      "cell_type": "code",
      "metadata": {
        "id": "VpMHb9XWBYD1"
      },
      "source": [
        "qoute_label = np.array(data_df_quote[\"Type\"])"
      ],
      "execution_count": null,
      "outputs": []
    },
    {
      "cell_type": "code",
      "metadata": {
        "id": "jGvT1N_EFTRS",
        "colab": {
          "base_uri": "https://localhost:8080/"
        },
        "outputId": "8ba8b7cb-a586-4c6c-fdca-8b058c6f4efc"
      },
      "source": [
        "!wget https://awards.opdc.go.th/awards_opdc/assets/fonts/THSarabunNew/THSarabunNew.ttf"
      ],
      "execution_count": null,
      "outputs": [
        {
          "output_type": "stream",
          "text": [
            "--2021-05-02 16:28:22--  https://awards.opdc.go.th/awards_opdc/assets/fonts/THSarabunNew/THSarabunNew.ttf\n",
            "Resolving awards.opdc.go.th (awards.opdc.go.th)... 164.115.76.22\n",
            "Connecting to awards.opdc.go.th (awards.opdc.go.th)|164.115.76.22|:443... connected.\n",
            "HTTP request sent, awaiting response... 200 OK\n",
            "Length: unspecified [text/html]\n",
            "Saving to: ‘THSarabunNew.ttf’\n",
            "\n",
            "THSarabunNew.ttf        [ <=>                ]  17.63K  --.-KB/s    in 0.002s  \n",
            "\n",
            "2021-05-02 16:28:29 (10.5 MB/s) - ‘THSarabunNew.ttf’ saved [18054]\n",
            "\n"
          ],
          "name": "stdout"
        }
      ]
    },
    {
      "cell_type": "code",
      "metadata": {
        "id": "bGRt9vwyFYRO"
      },
      "source": [
        "import matplotlib.pyplot as plt\n"
      ],
      "execution_count": null,
      "outputs": []
    },
    {
      "cell_type": "code",
      "metadata": {
        "id": "6334pAWLJ_2K",
        "colab": {
          "base_uri": "https://localhost:8080/"
        },
        "outputId": "32c54afa-768a-40b7-b349-b22a51594d51"
      },
      "source": [
        "!pip install pythainlp\n",
        "!pip install marisa_trie\n",
        "!pip install PyICU"
      ],
      "execution_count": null,
      "outputs": [
        {
          "output_type": "stream",
          "text": [
            "Collecting pythainlp\n",
            "\u001b[?25l  Downloading https://files.pythonhosted.org/packages/6e/e7/837dd9ab52fac889af830dc094a1598251f70004a2f1707ab0ff8dc0f63a/pythainlp-2.3.1-py3-none-any.whl (11.0MB)\n",
            "\u001b[K     |████████████████████████████████| 11.0MB 283kB/s \n",
            "\u001b[?25hRequirement already satisfied: requests>=2.22.0 in /usr/local/lib/python3.7/dist-packages (from pythainlp) (2.23.0)\n",
            "Collecting python-crfsuite>=0.9.6\n",
            "\u001b[?25l  Downloading https://files.pythonhosted.org/packages/79/47/58f16c46506139f17de4630dbcfb877ce41a6355a1bbf3c443edb9708429/python_crfsuite-0.9.7-cp37-cp37m-manylinux1_x86_64.whl (743kB)\n",
            "\u001b[K     |████████████████████████████████| 747kB 38.4MB/s \n",
            "\u001b[?25hCollecting tinydb>=3.0\n",
            "  Downloading https://files.pythonhosted.org/packages/af/cd/1ce3d93818cdeda0446b8033d21e5f32daeb3a866bbafd878a9a62058a9c/tinydb-4.4.0-py3-none-any.whl\n",
            "Requirement already satisfied: certifi>=2017.4.17 in /usr/local/lib/python3.7/dist-packages (from requests>=2.22.0->pythainlp) (2020.12.5)\n",
            "Requirement already satisfied: idna<3,>=2.5 in /usr/local/lib/python3.7/dist-packages (from requests>=2.22.0->pythainlp) (2.10)\n",
            "Requirement already satisfied: urllib3!=1.25.0,!=1.25.1,<1.26,>=1.21.1 in /usr/local/lib/python3.7/dist-packages (from requests>=2.22.0->pythainlp) (1.24.3)\n",
            "Requirement already satisfied: chardet<4,>=3.0.2 in /usr/local/lib/python3.7/dist-packages (from requests>=2.22.0->pythainlp) (3.0.4)\n",
            "Installing collected packages: python-crfsuite, tinydb, pythainlp\n",
            "Successfully installed pythainlp-2.3.1 python-crfsuite-0.9.7 tinydb-4.4.0\n",
            "Collecting marisa_trie\n",
            "\u001b[?25l  Downloading https://files.pythonhosted.org/packages/20/95/d23071d0992dabcb61c948fb118a90683193befc88c23e745b050a29e7db/marisa-trie-0.7.5.tar.gz (270kB)\n",
            "\u001b[K     |████████████████████████████████| 276kB 3.8MB/s \n",
            "\u001b[?25hBuilding wheels for collected packages: marisa-trie\n",
            "  Building wheel for marisa-trie (setup.py) ... \u001b[?25l\u001b[?25hdone\n",
            "  Created wheel for marisa-trie: filename=marisa_trie-0.7.5-cp37-cp37m-linux_x86_64.whl size=861621 sha256=f1e1756571cb833ffc38cb9868695f6fcd475fd70dc0fa7589ae52642443f847\n",
            "  Stored in directory: /root/.cache/pip/wheels/45/24/79/022624fc914f0e559fe8a1141aaff1f9df810905a13fc75d57\n",
            "Successfully built marisa-trie\n",
            "Installing collected packages: marisa-trie\n",
            "Successfully installed marisa-trie-0.7.5\n",
            "Collecting PyICU\n",
            "\u001b[?25l  Downloading https://files.pythonhosted.org/packages/17/0f/9d6b7eb01650960239a5d4dc21cd6e7a96921807c043d287bae4b2f440e1/PyICU-2.7.2.tar.gz (293kB)\n",
            "\u001b[K     |████████████████████████████████| 296kB 2.8MB/s \n",
            "\u001b[?25hBuilding wheels for collected packages: PyICU\n",
            "  Building wheel for PyICU (setup.py) ... \u001b[?25l\u001b[?25hdone\n",
            "  Created wheel for PyICU: filename=PyICU-2.7.2-cp37-cp37m-linux_x86_64.whl size=1341228 sha256=6ecf2b66f120dafca7c0608706a1c9bf635e022b0ce9d05d9b4f952787ef86d5\n",
            "  Stored in directory: /root/.cache/pip/wheels/76/d5/80/bb5bb9071021eff7241fc700124c0af4caadccf2db23e8dcee\n",
            "Successfully built PyICU\n",
            "Installing collected packages: PyICU\n",
            "Successfully installed PyICU-2.7.2\n"
          ],
          "name": "stdout"
        }
      ]
    },
    {
      "cell_type": "code",
      "metadata": {
        "id": "xV2JJDQHKNmx",
        "colab": {
          "base_uri": "https://localhost:8080/"
        },
        "outputId": "bd109d79-dc3a-4e73-af49-1442dd9671a3"
      },
      "source": [
        "sentences = []\n",
        "n=1\n",
        "chars = dict()\n",
        "reverse_chars = dict()\n",
        "\n",
        "chars[' '] = 0\n",
        "\n",
        "reverse_chars[0]=' '\n",
        "\n",
        "dictionary = dict()\n",
        "re_dictionary = dict()\n",
        "\n",
        "for sentence in data_df_quote[\"Sentence\"]:\n",
        "  split1 = sentence.split()\n",
        "  if n < 2:\n",
        "    print(sentence)\n",
        "    print(split1)\n",
        "    n+=1\n",
        "  for c in sentence:\n",
        "    if chars.get(c) == None:\n",
        "      chars[c] = len(chars)\n",
        "      reverse_chars[len(reverse_chars)] = c\n",
        "   \n",
        "\n",
        "  sentences.append(split1)\n"
      ],
      "execution_count": null,
      "outputs": [
        {
          "output_type": "stream",
          "text": [
            "ก็คุณเองไม่ใช่หรอที่ทำให้เราเสียใจในวันนั้น\n",
            "['ก็คุณเองไม่ใช่หรอที่ทำให้เราเสียใจในวันนั้น']\n"
          ],
          "name": "stdout"
        }
      ]
    },
    {
      "cell_type": "code",
      "metadata": {
        "id": "1UHet_FPJ9s7"
      },
      "source": [
        "from pythainlp.tokenize import Tokenizer\n",
        "from pythainlp.corpus.common import thai_words\n",
        "import marisa_trie\n",
        "\n",
        "custom_words_list = set(thai_words())\n",
        "custom_words_list.add('<PHONE_NUMBER_REMOVED>')\n",
        "trie = marisa_trie.Trie(custom_words_list)\n",
        "\n",
        "_tokenizer4 = Tokenizer(custom_dict=trie,engine=\"newmm\")\n",
        "# _tokenizer4 = Tokenizer(engine=\"icu\")"
      ],
      "execution_count": null,
      "outputs": []
    },
    {
      "cell_type": "code",
      "metadata": {
        "id": "74slyvVTLIoo"
      },
      "source": [
        "token_sentences =[]\n",
        "for sentence in sentences:\n",
        "  tmp = []\n",
        "  for token in sentence:\n",
        "    tokens = _tokenizer4.word_tokenize(token)\n",
        "    tmp.extend(tokens)\n",
        "    for w in tokens:\n",
        "      if dictionary.get(w) == None:\n",
        "        dictionary[w] = len(dictionary)\n",
        "        re_dictionary[len(re_dictionary)] = w\n",
        "  token_sentences.append(tmp)\n",
        "dictionary['<s>'] = len(dictionary)\n",
        "re_dictionary[len(re_dictionary)] = '<s>'\n",
        "dictionary['</s>'] = len(dictionary)\n",
        "re_dictionary[len(re_dictionary)] = '</s>'\n"
      ],
      "execution_count": null,
      "outputs": []
    },
    {
      "cell_type": "code",
      "metadata": {
        "colab": {
          "base_uri": "https://localhost:8080/"
        },
        "id": "99mco0P2vcqg",
        "outputId": "c10b0062-8b7a-430c-faab-91288e87ea60"
      },
      "source": [
        "len(dictionary)"
      ],
      "execution_count": null,
      "outputs": [
        {
          "output_type": "execute_result",
          "data": {
            "text/plain": [
              "3452"
            ]
          },
          "metadata": {
            "tags": []
          },
          "execution_count": 21
        }
      ]
    },
    {
      "cell_type": "code",
      "metadata": {
        "id": "HwmUdZKzA9uX",
        "colab": {
          "base_uri": "https://localhost:8080/",
          "height": 298
        },
        "outputId": "42324542-e195-46d1-b177-061ff90c8844"
      },
      "source": [
        "def plot(label, count):\n",
        "    fig, ax = plt.subplots()\n",
        "    ind = np.arange(len(count))\n",
        "    rects1 = ax.bar(ind, count, 0.5)\n",
        "\n",
        "    ax.set_ylabel('Count')\n",
        "    ax.set_title('Count for each class')\n",
        "    ax.set_xticks(ind)\n",
        "    print(label)\n",
        "    # ax.set_xticklabels(label)\n",
        "    plt.show()\n",
        "    \n",
        "label, count = np.unique(qoute_label, return_counts=True)\n",
        "plot(label, count)\n"
      ],
      "execution_count": null,
      "outputs": [
        {
          "output_type": "stream",
          "text": [
            "['ข้อคิด' 'แง่บวก' 'แง่ลบ']\n"
          ],
          "name": "stdout"
        },
        {
          "output_type": "display_data",
          "data": {
            "image/png": "[encoded data removed]",
            "text/plain": [
              "<Figure size 432x288 with 1 Axes>"
            ]
          },
          "metadata": {
            "tags": [],
            "needs_background": "light"
          }
        }
      ]
    },
    {
      "cell_type": "markdown",
      "metadata": {
        "id": "5Cf6aE3nX8KE"
      },
      "source": [
        "## 2. Prepare Data"
      ]
    },
    {
      "cell_type": "code",
      "metadata": {
        "id": "SyVff_osX-GR",
        "colab": {
          "base_uri": "https://localhost:8080/",
          "height": 151
        },
        "outputId": "467a5e47-b46a-4461-fb92-c73cfef27b0c"
      },
      "source": [
        "data_quote = data_df_quote.to_numpy()\n",
        "\n",
        "unique_label = data_df_quote.Type.unique()\n",
        "\n",
        "label_2_num_map = dict(zip(unique_label, range(len(unique_label))))\n",
        "num_2_label_map = dict(zip(range(len(unique_label)), unique_label))\n",
        "\n",
        "print(\"Create Mappings\")\n",
        "display(num_2_label_map)\n",
        "display(label_2_num_map)\n",
        "\n",
        "print(\"Before Mappings\")\n",
        "display(data_quote[:, 1])\n",
        "data_quote[:,1] = np.vectorize(label_2_num_map.get)(data_quote[:,1])\n",
        "\n",
        "print(\"After Mappings\")\n",
        "display(data_quote[:, 1])"
      ],
      "execution_count": null,
      "outputs": [
        {
          "output_type": "stream",
          "text": [
            "Create Mappings\n"
          ],
          "name": "stdout"
        },
        {
          "output_type": "display_data",
          "data": {
            "text/plain": [
              "{0: 'แง่ลบ', 1: 'ข้อคิด', 2: 'แง่บวก'}"
            ]
          },
          "metadata": {
            "tags": []
          }
        },
        {
          "output_type": "display_data",
          "data": {
            "text/plain": [
              "{'ข้อคิด': 1, 'แง่บวก': 2, 'แง่ลบ': 0}"
            ]
          },
          "metadata": {
            "tags": []
          }
        },
        {
          "output_type": "stream",
          "text": [
            "Before Mappings\n"
          ],
          "name": "stdout"
        },
        {
          "output_type": "display_data",
          "data": {
            "text/plain": [
              "array(['แง่ลบ', 'แง่ลบ', 'แง่ลบ', ..., 'ข้อคิด', 'ข้อคิด', 'แง่บวก'],\n",
              "      dtype=object)"
            ]
          },
          "metadata": {
            "tags": []
          }
        },
        {
          "output_type": "stream",
          "text": [
            "After Mappings\n"
          ],
          "name": "stdout"
        },
        {
          "output_type": "display_data",
          "data": {
            "text/plain": [
              "array([0, 0, 0, ..., 1, 1, 2], dtype=object)"
            ]
          },
          "metadata": {
            "tags": []
          }
        }
      ]
    },
    {
      "cell_type": "code",
      "metadata": {
        "id": "7nlN5laHeXD5",
        "colab": {
          "base_uri": "https://localhost:8080/"
        },
        "outputId": "eee82aa1-48e8-4e9b-b263-2a407dd11ad5"
      },
      "source": [
        "def strip_str(string):\n",
        "    return string.strip()\n",
        "     \n",
        "# Trim of extra begining and trailing whitespace in the string\n",
        "print(\"Before\")\n",
        "print(data_quote)\n",
        "data_quote[:,0] = np.vectorize(strip_str)(data_quote[:,0])\n",
        "print(\"After\")\n",
        "print(data_quote)"
      ],
      "execution_count": null,
      "outputs": [
        {
          "output_type": "stream",
          "text": [
            "Before\n",
            "[['ก็คุณเองไม่ใช่หรอที่ทำให้เราเสียใจในวันนั้น' 0]\n",
            " ['ก็แค่คนที่เคยทำให้เธอยิ้มในเวลาไม่มีเขา' 0]\n",
            " ['ก็แค่เด็กขี้แยไม่ต้องมาแคร์ก็ได้' 0]\n",
            " ...\n",
            " ['THEBIGเงินไม่ได้อยู่ในการซื้อและการขายแต่รออยู่' 1]\n",
            " ['Tomorrowisanotherdayยังไงก็ยังมีวันพรุ่งนี้ให้แก้ตัวเสมอ' 1]\n",
            " ['UVไม่ดีต่อตาแต่ถ้าyouมองมามันดีต่อใจ' 2]]\n",
            "After\n",
            "[['ก็คุณเองไม่ใช่หรอที่ทำให้เราเสียใจในวันนั้น' 0]\n",
            " ['ก็แค่คนที่เคยทำให้เธอยิ้มในเวลาไม่มีเขา' 0]\n",
            " ['ก็แค่เด็กขี้แยไม่ต้องมาแคร์ก็ได้' 0]\n",
            " ...\n",
            " ['THEBIGเงินไม่ได้อยู่ในการซื้อและการขายแต่รออยู่' 1]\n",
            " ['Tomorrowisanotherdayยังไงก็ยังมีวันพรุ่งนี้ให้แก้ตัวเสมอ' 1]\n",
            " ['UVไม่ดีต่อตาแต่ถ้าyouมองมามันดีต่อใจ' 2]]\n"
          ],
          "name": "stdout"
        }
      ]
    },
    {
      "cell_type": "code",
      "metadata": {
        "id": "BnvroIN6gHwC"
      },
      "source": [
        "from pathlib import Path\n",
        "from sklearn.model_selection import train_test_split\n",
        "import numpy as np"
      ],
      "execution_count": null,
      "outputs": []
    },
    {
      "cell_type": "code",
      "metadata": {
        "id": "6zj0Fn4AfxwC"
      },
      "source": [
        "def data_split(sentences):\n",
        "    texts = []\n",
        "    labels = []\n",
        "    for sentence,label in sentences:\n",
        "      texts.append(sentence)\n",
        "      labels.append(label)\n",
        "    return texts, labels\n",
        "\n",
        "train_texts = data_quote\n",
        "train_texts_label_0 = [s for s,l in train_texts if l == 0]\n",
        "train_texts_label_1 = [s for s,l in train_texts if l == 1]\n",
        "train_texts_label_2 = [s for s,l in train_texts if l == 2]"
      ],
      "execution_count": null,
      "outputs": []
    },
    {
      "cell_type": "code",
      "metadata": {
        "id": "UC_fupDrgjG0",
        "colab": {
          "base_uri": "https://localhost:8080/"
        },
        "outputId": "4c2392b8-ad4c-43a9-d979-938d5b4b6404"
      },
      "source": [
        "print(\"Unique label is {}, nb. of train data = {}\".format(np.unique(num_2_label_map), len(train_texts)))\n",
        "for i in range(5):\n",
        "  print(\"Data = {}\".format(train_texts[i]))"
      ],
      "execution_count": null,
      "outputs": [
        {
          "output_type": "stream",
          "text": [
            "Unique label is [{0: 'แง่ลบ', 1: 'ข้อคิด', 2: 'แง่บวก'}], nb. of train data = 2298\n",
            "Data = ['ก็คุณเองไม่ใช่หรอที่ทำให้เราเสียใจในวันนั้น' 0]\n",
            "Data = ['ก็แค่คนที่เคยทำให้เธอยิ้มในเวลาไม่มีเขา' 0]\n",
            "Data = ['ก็แค่เด็กขี้แยไม่ต้องมาแคร์ก็ได้' 0]\n",
            "Data = ['ก็แค่โสดไม่ได้อ่อยแค่โสดนานหน่อยไม่ได้อ่อยจริงจริง' 0]\n",
            "Data = ['กฎของกระจกคือการสะท้อนกลับมาแต่กฎของเวลาคือการไม่ย้อนกลับไป' 1]\n"
          ],
          "name": "stdout"
        }
      ]
    },
    {
      "cell_type": "code",
      "metadata": {
        "colab": {
          "base_uri": "https://localhost:8080/"
        },
        "id": "Cu5SZ7joy4ic",
        "outputId": "210b4c66-f936-4f5d-96cb-8e40413a4079"
      },
      "source": [
        "train_data =[]\n",
        "for sentence in train_texts[:,0]:\n",
        "  tmp = ['<s>']\n",
        "  tokens = _tokenizer4.word_tokenize(sentence)\n",
        "  tmp.extend(tokens)\n",
        "  tmp.append('</s>')\n",
        "  train_data.append(tmp)\n",
        "tm = [len(qoute) for qoute in train_data]\n",
        "max_length = max(tm)\n",
        "mean_length = round(sum(tm)/(len(tm)+1))\n",
        "print(\"Max len = \",max_length)\n",
        "print(\"Mean len = \",mean_length)"
      ],
      "execution_count": null,
      "outputs": [
        {
          "output_type": "stream",
          "text": [
            "Max len =  46\n",
            "Mean len =  14\n"
          ],
          "name": "stdout"
        }
      ]
    },
    {
      "cell_type": "code",
      "metadata": {
        "id": "b8R2XBkxzUkA"
      },
      "source": [
        "word2i = {}\n",
        "index2w = {}\n",
        "\n",
        "index = 1\n",
        "\n",
        "for sentence in train_data:\n",
        "  for word in sentence:\n",
        "    if word not in word2i:\n",
        "      word2i[word] = index\n",
        "      index2w[index] = word\n",
        "      index += 1"
      ],
      "execution_count": null,
      "outputs": []
    },
    {
      "cell_type": "code",
      "metadata": {
        "id": "d23-UNtctxLQ"
      },
      "source": [
        "x_train_raw = []\n",
        "y_train_raw = []\n",
        "\n",
        "for sentence in train_data:\n",
        "  for word_i in range(len(sentence)-1):\n",
        "    x_train_raw.append(sentence[0:word_i+1])\n",
        "    y_train_raw.append(sentence[word_i+1])"
      ],
      "execution_count": null,
      "outputs": []
    },
    {
      "cell_type": "code",
      "metadata": {
        "colab": {
          "base_uri": "https://localhost:8080/"
        },
        "id": "JLzSL2pzC4tf",
        "outputId": "1553ab6d-0309-430c-a4ab-67157f32f2a5"
      },
      "source": [
        "x_train_raw[0]"
      ],
      "execution_count": null,
      "outputs": [
        {
          "output_type": "execute_result",
          "data": {
            "text/plain": [
              "['<s>']"
            ]
          },
          "metadata": {
            "tags": []
          },
          "execution_count": 31
        }
      ]
    },
    {
      "cell_type": "code",
      "metadata": {
        "colab": {
          "base_uri": "https://localhost:8080/",
          "height": 35
        },
        "id": "Zyppu4IqCsUt",
        "outputId": "dae68250-79f8-407b-98d6-fac5cabb3b79"
      },
      "source": [
        "y_train_raw[0]"
      ],
      "execution_count": null,
      "outputs": [
        {
          "output_type": "execute_result",
          "data": {
            "application/vnd.google.colaboratory.intrinsic+json": {
              "type": "string"
            },
            "text/plain": [
              "'ก็'"
            ]
          },
          "metadata": {
            "tags": []
          },
          "execution_count": 32
        }
      ]
    },
    {
      "cell_type": "code",
      "metadata": {
        "id": "Bi16pKrm0EKt"
      },
      "source": [
        "from keras.preprocessing.sequence import pad_sequences\n",
        "def toIndex(x_raw):\n",
        "  x_id = []\n",
        "  for sentence in x_raw:\n",
        "    sen = []\n",
        "    for word in sentence:\n",
        "      sen.append(word2i[word])\n",
        "    x_id.append(sen)\n",
        "  return x_id\n",
        "\n",
        "x_train_id = pad_sequences(toIndex(x_train_raw),maxlen=max_length-1)\n",
        "\n",
        "y_train_id = []\n",
        "for word in y_train_raw:\n",
        "    y_train_id.append(word2i[word])"
      ],
      "execution_count": null,
      "outputs": []
    },
    {
      "cell_type": "code",
      "metadata": {
        "id": "eXWd8qUr3lX-"
      },
      "source": [
        "from sklearn.model_selection import train_test_split\n",
        "x_train,x_val,y_train,y_val = train_test_split(x_train_id, y_train_id, test_size=0.2, random_state=42)"
      ],
      "execution_count": null,
      "outputs": []
    },
    {
      "cell_type": "code",
      "metadata": {
        "id": "wU2Fo22NIMLx"
      },
      "source": [
        "from tensorflow.python.keras.utils.np_utils import to_categorical\n",
        "y_train = to_categorical(y_train,num_classes=len(word2i)+1)\n",
        "y_val = to_categorical(y_val,num_classes=len(word2i)+1)"
      ],
      "execution_count": null,
      "outputs": []
    },
    {
      "cell_type": "markdown",
      "metadata": {
        "id": "NOWEkhige58q"
      },
      "source": [
        "# Embedding"
      ]
    },
    {
      "cell_type": "code",
      "metadata": {
        "colab": {
          "base_uri": "https://localhost:8080/"
        },
        "id": "t0UZS6B38sB5",
        "outputId": "1ef4fbcb-45a5-410d-a151-a92d342cf30e"
      },
      "source": [
        "!pip install tf2crf"
      ],
      "execution_count": null,
      "outputs": [
        {
          "output_type": "stream",
          "text": [
            "Requirement already satisfied: tf2crf in /usr/local/lib/python3.7/dist-packages (0.1.32)\n",
            "Requirement already satisfied: tensorflow-addons>=0.8.2 in /usr/local/lib/python3.7/dist-packages (from tf2crf) (0.12.1)\n",
            "Requirement already satisfied: tensorflow>=2.1.0 in /usr/local/lib/python3.7/dist-packages (from tf2crf) (2.4.1)\n",
            "Requirement already satisfied: typeguard>=2.7 in /usr/local/lib/python3.7/dist-packages (from tensorflow-addons>=0.8.2->tf2crf) (2.7.1)\n",
            "Requirement already satisfied: six~=1.15.0 in /usr/local/lib/python3.7/dist-packages (from tensorflow>=2.1.0->tf2crf) (1.15.0)\n",
            "Requirement already satisfied: astunparse~=1.6.3 in /usr/local/lib/python3.7/dist-packages (from tensorflow>=2.1.0->tf2crf) (1.6.3)\n",
            "Requirement already satisfied: grpcio~=1.32.0 in /usr/local/lib/python3.7/dist-packages (from tensorflow>=2.1.0->tf2crf) (1.32.0)\n",
            "Requirement already satisfied: keras-preprocessing~=1.1.2 in /usr/local/lib/python3.7/dist-packages (from tensorflow>=2.1.0->tf2crf) (1.1.2)\n",
            "Requirement already satisfied: google-pasta~=0.2 in /usr/local/lib/python3.7/dist-packages (from tensorflow>=2.1.0->tf2crf) (0.2.0)\n",
            "Requirement already satisfied: wheel~=0.35 in /usr/local/lib/python3.7/dist-packages (from tensorflow>=2.1.0->tf2crf) (0.36.2)\n",
            "Requirement already satisfied: flatbuffers~=1.12.0 in /usr/local/lib/python3.7/dist-packages (from tensorflow>=2.1.0->tf2crf) (1.12)\n",
            "Requirement already satisfied: h5py~=2.10.0 in /usr/local/lib/python3.7/dist-packages (from tensorflow>=2.1.0->tf2crf) (2.10.0)\n",
            "Requirement already satisfied: termcolor~=1.1.0 in /usr/local/lib/python3.7/dist-packages (from tensorflow>=2.1.0->tf2crf) (1.1.0)\n",
            "Requirement already satisfied: opt-einsum~=3.3.0 in /usr/local/lib/python3.7/dist-packages (from tensorflow>=2.1.0->tf2crf) (3.3.0)\n",
            "Requirement already satisfied: typing-extensions~=3.7.4 in /usr/local/lib/python3.7/dist-packages (from tensorflow>=2.1.0->tf2crf) (3.7.4.3)\n",
            "Requirement already satisfied: absl-py~=0.10 in /usr/local/lib/python3.7/dist-packages (from tensorflow>=2.1.0->tf2crf) (0.12.0)\n",
            "Requirement already satisfied: numpy~=1.19.2 in /usr/local/lib/python3.7/dist-packages (from tensorflow>=2.1.0->tf2crf) (1.19.5)\n",
            "Requirement already satisfied: wrapt~=1.12.1 in /usr/local/lib/python3.7/dist-packages (from tensorflow>=2.1.0->tf2crf) (1.12.1)\n",
            "Requirement already satisfied: tensorboard~=2.4 in /usr/local/lib/python3.7/dist-packages (from tensorflow>=2.1.0->tf2crf) (2.4.1)\n",
            "Requirement already satisfied: gast==0.3.3 in /usr/local/lib/python3.7/dist-packages (from tensorflow>=2.1.0->tf2crf) (0.3.3)\n",
            "Requirement already satisfied: tensorflow-estimator<2.5.0,>=2.4.0 in /usr/local/lib/python3.7/dist-packages (from tensorflow>=2.1.0->tf2crf) (2.4.0)\n",
            "Requirement already satisfied: protobuf>=3.9.2 in /usr/local/lib/python3.7/dist-packages (from tensorflow>=2.1.0->tf2crf) (3.12.4)\n",
            "Requirement already satisfied: google-auth-oauthlib<0.5,>=0.4.1 in /usr/local/lib/python3.7/dist-packages (from tensorboard~=2.4->tensorflow>=2.1.0->tf2crf) (0.4.4)\n",
            "Requirement already satisfied: requests<3,>=2.21.0 in /usr/local/lib/python3.7/dist-packages (from tensorboard~=2.4->tensorflow>=2.1.0->tf2crf) (2.23.0)\n",
            "Requirement already satisfied: markdown>=2.6.8 in /usr/local/lib/python3.7/dist-packages (from tensorboard~=2.4->tensorflow>=2.1.0->tf2crf) (3.3.4)\n",
            "Requirement already satisfied: werkzeug>=0.11.15 in /usr/local/lib/python3.7/dist-packages (from tensorboard~=2.4->tensorflow>=2.1.0->tf2crf) (1.0.1)\n",
            "Requirement already satisfied: google-auth<2,>=1.6.3 in /usr/local/lib/python3.7/dist-packages (from tensorboard~=2.4->tensorflow>=2.1.0->tf2crf) (1.28.1)\n",
            "Requirement already satisfied: tensorboard-plugin-wit>=1.6.0 in /usr/local/lib/python3.7/dist-packages (from tensorboard~=2.4->tensorflow>=2.1.0->tf2crf) (1.8.0)\n",
            "Requirement already satisfied: setuptools>=41.0.0 in /usr/local/lib/python3.7/dist-packages (from tensorboard~=2.4->tensorflow>=2.1.0->tf2crf) (56.0.0)\n",
            "Requirement already satisfied: requests-oauthlib>=0.7.0 in /usr/local/lib/python3.7/dist-packages (from google-auth-oauthlib<0.5,>=0.4.1->tensorboard~=2.4->tensorflow>=2.1.0->tf2crf) (1.3.0)\n",
            "Requirement already satisfied: idna<3,>=2.5 in /usr/local/lib/python3.7/dist-packages (from requests<3,>=2.21.0->tensorboard~=2.4->tensorflow>=2.1.0->tf2crf) (2.10)\n",
            "Requirement already satisfied: urllib3!=1.25.0,!=1.25.1,<1.26,>=1.21.1 in /usr/local/lib/python3.7/dist-packages (from requests<3,>=2.21.0->tensorboard~=2.4->tensorflow>=2.1.0->tf2crf) (1.24.3)\n",
            "Requirement already satisfied: chardet<4,>=3.0.2 in /usr/local/lib/python3.7/dist-packages (from requests<3,>=2.21.0->tensorboard~=2.4->tensorflow>=2.1.0->tf2crf) (3.0.4)\n",
            "Requirement already satisfied: certifi>=2017.4.17 in /usr/local/lib/python3.7/dist-packages (from requests<3,>=2.21.0->tensorboard~=2.4->tensorflow>=2.1.0->tf2crf) (2020.12.5)\n",
            "Requirement already satisfied: importlib-metadata; python_version < \"3.8\" in /usr/local/lib/python3.7/dist-packages (from markdown>=2.6.8->tensorboard~=2.4->tensorflow>=2.1.0->tf2crf) (3.10.1)\n",
            "Requirement already satisfied: rsa<5,>=3.1.4; python_version >= \"3.6\" in /usr/local/lib/python3.7/dist-packages (from google-auth<2,>=1.6.3->tensorboard~=2.4->tensorflow>=2.1.0->tf2crf) (4.7.2)\n",
            "Requirement already satisfied: pyasn1-modules>=0.2.1 in /usr/local/lib/python3.7/dist-packages (from google-auth<2,>=1.6.3->tensorboard~=2.4->tensorflow>=2.1.0->tf2crf) (0.2.8)\n",
            "Requirement already satisfied: cachetools<5.0,>=2.0.0 in /usr/local/lib/python3.7/dist-packages (from google-auth<2,>=1.6.3->tensorboard~=2.4->tensorflow>=2.1.0->tf2crf) (4.2.1)\n",
            "Requirement already satisfied: oauthlib>=3.0.0 in /usr/local/lib/python3.7/dist-packages (from requests-oauthlib>=0.7.0->google-auth-oauthlib<0.5,>=0.4.1->tensorboard~=2.4->tensorflow>=2.1.0->tf2crf) (3.1.0)\n",
            "Requirement already satisfied: zipp>=0.5 in /usr/local/lib/python3.7/dist-packages (from importlib-metadata; python_version < \"3.8\"->markdown>=2.6.8->tensorboard~=2.4->tensorflow>=2.1.0->tf2crf) (3.4.1)\n",
            "Requirement already satisfied: pyasn1>=0.1.3 in /usr/local/lib/python3.7/dist-packages (from rsa<5,>=3.1.4; python_version >= \"3.6\"->google-auth<2,>=1.6.3->tensorboard~=2.4->tensorflow>=2.1.0->tf2crf) (0.4.8)\n"
          ],
          "name": "stdout"
        }
      ]
    },
    {
      "cell_type": "code",
      "metadata": {
        "id": "FVPxAfXfFACh",
        "colab": {
          "base_uri": "https://localhost:8080/"
        },
        "outputId": "a949eb50-fa41-49cc-cfc3-5f50f0358a4d"
      },
      "source": [
        "from pythainlp import word_vector\n",
        "\n",
        "word_embedding = word_vector.get_model()\n",
        "word_embed = dict()\n",
        "for word in word_embedding.vocab:\n",
        "  word_embed[word] = word_embedding[word]\n",
        "word_embed['UNK'] = np.zeros(300,dtype='float32')"
      ],
      "execution_count": null,
      "outputs": [
        {
          "output_type": "stream",
          "text": [
            "Corpus: thai2fit_wv\n",
            "- Downloading: thai2fit_wv 0.1\n"
          ],
          "name": "stdout"
        },
        {
          "output_type": "stream",
          "text": [
            "100%|██████████| 62452646/62452646 [00:00<00:00, 87522907.02it/s]\n"
          ],
          "name": "stderr"
        }
      ]
    },
    {
      "cell_type": "code",
      "metadata": {
        "colab": {
          "base_uri": "https://localhost:8080/"
        },
        "id": "7I0MqGlE7Pun",
        "outputId": "c06216f3-188a-47f5-9898-f0c5b529fd5e"
      },
      "source": [
        "word2i['ต่อตา']"
      ],
      "execution_count": null,
      "outputs": [
        {
          "output_type": "execute_result",
          "data": {
            "text/plain": [
              "3452"
            ]
          },
          "metadata": {
            "tags": []
          },
          "execution_count": 38
        }
      ]
    },
    {
      "cell_type": "code",
      "metadata": {
        "id": "3N2o_niNFCCs"
      },
      "source": [
        "embedding_matrix = np.zeros((len(word2i)+1, 300))\n",
        "for word,i in word2i.items():\n",
        "  if type(word_embed.get(word)) == type(None):\n",
        "    embedding_vector = word_embed['UNK']\n",
        "  else:\n",
        "    embedding_vector = word_embed[word]\n",
        "  if embedding_vector is not None:\n",
        "    # words not found in embedding index will be all-zeros.\n",
        "    embedding_matrix[i] = embedding_vector"
      ],
      "execution_count": null,
      "outputs": []
    },
    {
      "cell_type": "code",
      "metadata": {
        "id": "RyGTnFFDFMD7"
      },
      "source": [
        "vocab_size, emdedding_size = embedding_matrix.shape"
      ],
      "execution_count": null,
      "outputs": []
    },
    {
      "cell_type": "markdown",
      "metadata": {
        "id": "Z6FclUBnfmTi"
      },
      "source": [
        "# Model"
      ]
    },
    {
      "cell_type": "code",
      "metadata": {
        "id": "YVTJDpps3K6X",
        "colab": {
          "base_uri": "https://localhost:8080/",
          "height": 136
        },
        "outputId": "793f367b-61b1-438c-9bc9-970f99c362b5"
      },
      "source": [
        "\"\"\"\n",
        "from keras.models import Sequential,Input,Model\n",
        "from keras.layers import Dense, Activation,Embedding,Dropout,Flatten,Bidirectional,BatchNormalization\n",
        "from keras.layers import LSTM,GRU\n",
        "from keras.optimizers import RMSprop,Adam\n",
        "from keras.callbacks import LambdaCallback\n",
        "from tf2crf import CRF, ModelWithCRFLoss\n",
        "import random\n",
        "import sys\n",
        "\n",
        "\n",
        "model = Sequential()\n",
        "\n",
        "model.add(Embedding(input_dim=vocab_size, output_dim=emdedding_size, weights=[embedding_matrix], trainable=True))\n",
        "model.add(Bidirectional(LSTM(units=emdedding_size, return_sequences=True)))\n",
        "model.add(Flatten())\n",
        "model.add(Dense(units=1024,activation='relu'))\n",
        "model.add(BatchNormalization())\n",
        "model.add(Dropout(0.2))\n",
        "model.add(Dense(units=1024,activation='relu'))\n",
        "model.add(BatchNormalization())\n",
        "model.add(Dropout(0.2))\n",
        "model.add(Dense(units=vocab_size))\n",
        "model.add(Activation('softmax'))\n",
        "model.compile(loss='sparse_categorical_crossentropy', optimizer=Adam(lr=0.001),metrics=['accuracy'])\n",
        "\"\"\"\n",
        "\n"
      ],
      "execution_count": null,
      "outputs": [
        {
          "output_type": "execute_result",
          "data": {
            "application/vnd.google.colaboratory.intrinsic+json": {
              "type": "string"
            },
            "text/plain": [
              "\"\\nfrom keras.models import Sequential,Input,Model\\nfrom keras.layers import Dense, Activation,Embedding,Dropout,Flatten,Bidirectional,BatchNormalization\\nfrom keras.layers import LSTM,GRU\\nfrom keras.optimizers import RMSprop,Adam\\nfrom keras.callbacks import LambdaCallback\\nfrom tf2crf import CRF, ModelWithCRFLoss\\nimport random\\nimport sys\\n\\n\\nmodel = Sequential()\\n\\nmodel.add(Embedding(input_dim=vocab_size, output_dim=emdedding_size, weights=[embedding_matrix], trainable=True))\\nmodel.add(Bidirectional(LSTM(units=emdedding_size, return_sequences=True)))\\nmodel.add(Flatten())\\nmodel.add(Dense(units=1024,activation='relu'))\\nmodel.add(BatchNormalization())\\nmodel.add(Dropout(0.2))\\nmodel.add(Dense(units=1024,activation='relu'))\\nmodel.add(BatchNormalization())\\nmodel.add(Dropout(0.2))\\nmodel.add(Dense(units=vocab_size))\\nmodel.add(Activation('softmax'))\\nmodel.compile(loss='sparse_categorical_crossentropy', optimizer=Adam(lr=0.001),metrics=['accuracy'])\\n\""
            ]
          },
          "metadata": {
            "tags": []
          },
          "execution_count": 41
        }
      ]
    },
    {
      "cell_type": "code",
      "metadata": {
        "id": "DcyNQeIb3RQG"
      },
      "source": [
        "def sample(preds, temperature=1.0):\n",
        "    # helper function to sample an index from a probability array\n",
        "    preds = np.asarray(preds).astype('float64')\n",
        "    preds = np.log(preds) / temperature\n",
        "    exp_preds = np.exp(preds)\n",
        "    preds = exp_preds / np.sum(exp_preds)\n",
        "    probas = np.random.multinomial(1, preds, 1)\n",
        "    return np.argmax(probas)\n",
        "def on_epoch_end(epoch, logs):\n",
        "    # Function invoked at end of each epoch. Prints generated text.\n",
        "    print()\n",
        "    print('----- Generating text after Epoch: %d' % epoch)\n",
        "\n",
        "    start_index = random.randint(0, len(tmp_data_0) - max_length - 1)\n",
        "    for diversity in [0.2, 0.5, 1.0, 1.2]:\n",
        "        print('----- diversity:', diversity)\n",
        "\n",
        "        generated = ''\n",
        "        sentence = tmp_data_0[start_index: start_index + max_length]\n",
        "        generated += sentence\n",
        "        print('----- Generating with seed: \"' + sentence + '\"')\n",
        "        sys.stdout.write(generated)\n",
        "\n",
        "        for i in range(400):\n",
        "            x_pred = np.zeros((1, max_length, len(chars)))\n",
        "            for t, char in enumerate(sentence):\n",
        "                x_pred[0, t, chars[char]] = 1.\n",
        "\n",
        "            preds = model.predict(x_pred, verbose=0)[0]\n",
        "            next_index = sample(preds, diversity)\n",
        "            next_char = reverse_chars[next_index]\n",
        "\n",
        "            generated += next_char\n",
        "            sentence = sentence[1:] + next_char\n",
        "\n",
        "            sys.stdout.write(next_char)\n",
        "            sys.stdout.flush()\n",
        "        print()\n",
        "print_callback = LambdaCallback(on_epoch_end=on_epoch_end)"
      ],
      "execution_count": null,
      "outputs": []
    },
    {
      "cell_type": "code",
      "metadata": {
        "colab": {
          "base_uri": "https://localhost:8080/"
        },
        "id": "EXS2fnc7G2BG",
        "outputId": "8b5bcf1e-8627-4d97-a737-5df20b85875f"
      },
      "source": [
        "x_train.shape"
      ],
      "execution_count": null,
      "outputs": [
        {
          "output_type": "execute_result",
          "data": {
            "text/plain": [
              "(24306, 45)"
            ]
          },
          "metadata": {
            "tags": []
          },
          "execution_count": 43
        }
      ]
    },
    {
      "cell_type": "code",
      "metadata": {
        "colab": {
          "base_uri": "https://localhost:8080/"
        },
        "id": "xok4gNyYcOO5",
        "outputId": "729869a5-9814-49f8-f30d-4ea449275123"
      },
      "source": [
        "from keras.models import Sequential,Input,Model\n",
        "from keras.layers import Dense, Activation,Embedding,Dropout,Flatten,Bidirectional,BatchNormalization\n",
        "from keras.layers import LSTM,GRU\n",
        "from keras.optimizers import RMSprop,Adam\n",
        "from keras.callbacks import LambdaCallback\n",
        "from tf2crf import CRF, ModelWithCRFLoss\n",
        "import random\n",
        "import sys\n",
        "\n",
        "input = Input(shape = (max_length-1,))\n",
        "embed = Embedding(input_dim=vocab_size, output_dim=emdedding_size, weights=[embedding_matrix], trainable=True,input_length=max_length-1)(input)\n",
        "lstm = Bidirectional(LSTM(units=emdedding_size, return_sequences=True,recurrent_dropout=0.2))(embed)\n",
        "flatten = Flatten()(lstm)\n",
        "x = Dense(units=1024,activation='relu')(flatten)\n",
        "x = BatchNormalization()(x)\n",
        "x = Dropout(0.5)(x)\n",
        "x = Dense(units=1024,activation='relu')(x)\n",
        "x = BatchNormalization()(x)\n",
        "x = Dropout(0.5)(x)\n",
        "output = Dense(units=len(word2i)+1,activation='softmax')(x)\n",
        "model = Model(input,output)\n",
        "model.compile(loss='categorical_crossentropy', optimizer=Adam(lr=1e-4),metrics=['accuracy'])"
      ],
      "execution_count": null,
      "outputs": [
        {
          "output_type": "stream",
          "text": [
            "WARNING:tensorflow:Layer lstm will not use cuDNN kernel since it doesn't meet the cuDNN kernel criteria. It will use generic GPU kernel as fallback when running on GPU\n",
            "WARNING:tensorflow:Layer lstm will not use cuDNN kernel since it doesn't meet the cuDNN kernel criteria. It will use generic GPU kernel as fallback when running on GPU\n",
            "WARNING:tensorflow:Layer lstm will not use cuDNN kernel since it doesn't meet the cuDNN kernel criteria. It will use generic GPU kernel as fallback when running on GPU\n"
          ],
          "name": "stdout"
        }
      ]
    },
    {
      "cell_type": "code",
      "metadata": {
        "colab": {
          "base_uri": "https://localhost:8080/"
        },
        "id": "4gVl11fh1hH0",
        "outputId": "d27683c2-724d-4a6c-ab6d-954c959151df"
      },
      "source": [
        "model.summary()"
      ],
      "execution_count": null,
      "outputs": [
        {
          "output_type": "stream",
          "text": [
            "Model: \"model\"\n",
            "_________________________________________________________________\n",
            "Layer (type)                 Output Shape              Param #   \n",
            "=================================================================\n",
            "input_1 (InputLayer)         [(None, 45)]              0         \n",
            "_________________________________________________________________\n",
            "embedding (Embedding)        (None, 45, 300)           1035900   \n",
            "_________________________________________________________________\n",
            "bidirectional (Bidirectional (None, 45, 600)           1442400   \n",
            "_________________________________________________________________\n",
            "flatten (Flatten)            (None, 27000)             0         \n",
            "_________________________________________________________________\n",
            "dense (Dense)                (None, 1024)              27649024  \n",
            "_________________________________________________________________\n",
            "batch_normalization (BatchNo (None, 1024)              4096      \n",
            "_________________________________________________________________\n",
            "dropout (Dropout)            (None, 1024)              0         \n",
            "_________________________________________________________________\n",
            "dense_1 (Dense)              (None, 1024)              1049600   \n",
            "_________________________________________________________________\n",
            "batch_normalization_1 (Batch (None, 1024)              4096      \n",
            "_________________________________________________________________\n",
            "dropout_1 (Dropout)          (None, 1024)              0         \n",
            "_________________________________________________________________\n",
            "dense_2 (Dense)              (None, 3453)              3539325   \n",
            "=================================================================\n",
            "Total params: 34,724,441\n",
            "Trainable params: 34,720,345\n",
            "Non-trainable params: 4,096\n",
            "_________________________________________________________________\n"
          ],
          "name": "stdout"
        }
      ]
    },
    {
      "cell_type": "code",
      "metadata": {
        "colab": {
          "base_uri": "https://localhost:8080/",
          "height": 1000
        },
        "id": "lXd8VJaO3W-k",
        "outputId": "3ec6d82e-6756-4a1b-e4bf-9c5039cd0172"
      },
      "source": [
        "from keras.utils import plot_model\n",
        "plot_model(model,to_file='text_gen_model.png',show_shapes=True)"
      ],
      "execution_count": null,
      "outputs": [
        {
          "output_type": "execute_result",
          "data": {
            "image/png": "[encoded data removed]",
            "text/plain": [
              "<IPython.core.display.Image object>"
            ]
          },
          "metadata": {
            "tags": []
          },
          "execution_count": 46
        }
      ]
    },
    {
      "cell_type": "code",
      "metadata": {
        "id": "C5AdfQBa3nLx"
      },
      "source": [
        "from keras.callbacks import ModelCheckpoint\n",
        "\n",
        "filepath = \"weights.hdf5\"\n",
        "checkpoint = ModelCheckpoint(filepath, monitor='val_loss',\n",
        "                             verbose=1, save_best_only=True,\n",
        "                             mode='min')"
      ],
      "execution_count": null,
      "outputs": []
    },
    {
      "cell_type": "code",
      "metadata": {
        "id": "0hmYOuYN3pIv"
      },
      "source": [
        "from keras.callbacks import ReduceLROnPlateau\n",
        "reduce_lr = ReduceLROnPlateau(monitor='loss', factor=0.2,\n",
        "                              patience=2, min_lr=1e-7)\n",
        "callbacks = [checkpoint, reduce_lr]"
      ],
      "execution_count": null,
      "outputs": []
    },
    {
      "cell_type": "code",
      "metadata": {
        "colab": {
          "base_uri": "https://localhost:8080/"
        },
        "id": "cF2XLlDE5Ylj",
        "outputId": "8d059f94-8163-4d34-ba0f-1f114cc00def"
      },
      "source": [
        "x_train.shape"
      ],
      "execution_count": null,
      "outputs": [
        {
          "output_type": "execute_result",
          "data": {
            "text/plain": [
              "(24306, 45)"
            ]
          },
          "metadata": {
            "tags": []
          },
          "execution_count": 238
        }
      ]
    },
    {
      "cell_type": "code",
      "metadata": {
        "colab": {
          "base_uri": "https://localhost:8080/"
        },
        "id": "cO67fTW25c4x",
        "outputId": "424adaf3-9be1-4569-e10a-a0c9379bf0f1"
      },
      "source": [
        "y_train.shape"
      ],
      "execution_count": null,
      "outputs": [
        {
          "output_type": "execute_result",
          "data": {
            "text/plain": [
              "(24306, 3453)"
            ]
          },
          "metadata": {
            "tags": []
          },
          "execution_count": 244
        }
      ]
    },
    {
      "cell_type": "code",
      "metadata": {
        "colab": {
          "base_uri": "https://localhost:8080/"
        },
        "id": "e4WE08J55WOS",
        "outputId": "5c3a1e6a-8a6d-426f-a4bb-4de30c02dcaa"
      },
      "source": [
        "x_val.shape"
      ],
      "execution_count": null,
      "outputs": [
        {
          "output_type": "execute_result",
          "data": {
            "text/plain": [
              "(6537, 46)"
            ]
          },
          "metadata": {
            "tags": []
          },
          "execution_count": 207
        }
      ]
    },
    {
      "cell_type": "code",
      "metadata": {
        "id": "SVMnNPdk3q8R",
        "colab": {
          "base_uri": "https://localhost:8080/"
        },
        "outputId": "2421a226-861b-4e3c-aabb-a9409a5114a3"
      },
      "source": [
        "import keras\n",
        "batch_size = 64 # minibatch size\n",
        "num_epochs = 20 # number of epochs\n",
        "\n",
        "history = model.fit(x_train,y_train, batch_size=256, epochs=num_epochs,verbose=1,validation_data=(x_val, y_val),callbacks=callbacks)"
      ],
      "execution_count": null,
      "outputs": [
        {
          "output_type": "stream",
          "text": [
            "Epoch 1/20\n",
            "95/95 [==============================] - 33s 306ms/step - loss: 8.2404 - accuracy: 0.0372 - val_loss: 7.8732 - val_accuracy: 0.0778\n",
            "\n",
            "Epoch 00001: val_loss improved from inf to 7.87315, saving model to weights.hdf5\n",
            "Epoch 2/20\n",
            "95/95 [==============================] - 29s 305ms/step - loss: 7.5637 - accuracy: 0.0994 - val_loss: 7.5680 - val_accuracy: 0.0870\n",
            "\n",
            "Epoch 00002: val_loss improved from 7.87315 to 7.56803, saving model to weights.hdf5\n",
            "Epoch 3/20\n",
            "95/95 [==============================] - 29s 302ms/step - loss: 7.0099 - accuracy: 0.1222 - val_loss: 7.2765 - val_accuracy: 0.0954\n",
            "\n",
            "Epoch 00003: val_loss improved from 7.56803 to 7.27651, saving model to weights.hdf5\n",
            "Epoch 4/20\n",
            "95/95 [==============================] - 29s 302ms/step - loss: 6.5741 - accuracy: 0.1442 - val_loss: 6.9949 - val_accuracy: 0.1071\n",
            "\n",
            "Epoch 00004: val_loss improved from 7.27651 to 6.99489, saving model to weights.hdf5\n",
            "Epoch 5/20\n",
            "95/95 [==============================] - 28s 297ms/step - loss: 6.1732 - accuracy: 0.1577 - val_loss: 6.7021 - val_accuracy: 0.1154\n",
            "\n",
            "Epoch 00005: val_loss improved from 6.99489 to 6.70207, saving model to weights.hdf5\n",
            "Epoch 6/20\n",
            "95/95 [==============================] - 29s 300ms/step - loss: 5.7780 - accuracy: 0.1747 - val_loss: 6.4442 - val_accuracy: 0.1251\n",
            "\n",
            "Epoch 00006: val_loss improved from 6.70207 to 6.44418, saving model to weights.hdf5\n",
            "Epoch 7/20\n",
            "95/95 [==============================] - 29s 303ms/step - loss: 5.4565 - accuracy: 0.2002 - val_loss: 6.2747 - val_accuracy: 0.1300\n",
            "\n",
            "Epoch 00007: val_loss improved from 6.44418 to 6.27474, saving model to weights.hdf5\n",
            "Epoch 8/20\n",
            "95/95 [==============================] - 29s 303ms/step - loss: 5.1564 - accuracy: 0.2195 - val_loss: 6.1985 - val_accuracy: 0.1325\n",
            "\n",
            "Epoch 00008: val_loss improved from 6.27474 to 6.19854, saving model to weights.hdf5\n",
            "Epoch 9/20\n",
            "95/95 [==============================] - 29s 304ms/step - loss: 4.8073 - accuracy: 0.2501 - val_loss: 6.1415 - val_accuracy: 0.1313\n",
            "\n",
            "Epoch 00009: val_loss improved from 6.19854 to 6.14147, saving model to weights.hdf5\n",
            "Epoch 10/20\n",
            "95/95 [==============================] - 29s 303ms/step - loss: 4.5504 - accuracy: 0.2726 - val_loss: 6.1245 - val_accuracy: 0.1367\n",
            "\n",
            "Epoch 00010: val_loss improved from 6.14147 to 6.12447, saving model to weights.hdf5\n",
            "Epoch 11/20\n",
            "95/95 [==============================] - 29s 300ms/step - loss: 4.2843 - accuracy: 0.3000 - val_loss: 6.0917 - val_accuracy: 0.1390\n",
            "\n",
            "Epoch 00011: val_loss improved from 6.12447 to 6.09169, saving model to weights.hdf5\n",
            "Epoch 12/20\n",
            "95/95 [==============================] - 29s 304ms/step - loss: 4.0387 - accuracy: 0.3277 - val_loss: 6.0686 - val_accuracy: 0.1339\n",
            "\n",
            "Epoch 00012: val_loss improved from 6.09169 to 6.06862, saving model to weights.hdf5\n",
            "Epoch 13/20\n",
            "95/95 [==============================] - 29s 304ms/step - loss: 3.8227 - accuracy: 0.3507 - val_loss: 6.0703 - val_accuracy: 0.1374\n",
            "\n",
            "Epoch 00013: val_loss did not improve from 6.06862\n",
            "Epoch 14/20\n",
            "95/95 [==============================] - 29s 303ms/step - loss: 3.5913 - accuracy: 0.3776 - val_loss: 6.0757 - val_accuracy: 0.1381\n",
            "\n",
            "Epoch 00014: val_loss did not improve from 6.06862\n",
            "Epoch 15/20\n",
            "95/95 [==============================] - 29s 300ms/step - loss: 3.3724 - accuracy: 0.4084 - val_loss: 6.0465 - val_accuracy: 0.1338\n",
            "\n",
            "Epoch 00015: val_loss improved from 6.06862 to 6.04651, saving model to weights.hdf5\n",
            "Epoch 16/20\n",
            "95/95 [==============================] - 29s 310ms/step - loss: 3.1981 - accuracy: 0.4326 - val_loss: 6.0702 - val_accuracy: 0.1310\n",
            "\n",
            "Epoch 00016: val_loss did not improve from 6.04651\n",
            "Epoch 17/20\n",
            "95/95 [==============================] - 28s 297ms/step - loss: 3.0298 - accuracy: 0.4553 - val_loss: 6.0734 - val_accuracy: 0.1343\n",
            "\n",
            "Epoch 00017: val_loss did not improve from 6.04651\n",
            "Epoch 18/20\n",
            "95/95 [==============================] - 29s 301ms/step - loss: 2.8555 - accuracy: 0.4849 - val_loss: 6.1117 - val_accuracy: 0.1353\n",
            "\n",
            "Epoch 00018: val_loss did not improve from 6.04651\n",
            "Epoch 19/20\n",
            "95/95 [==============================] - 29s 303ms/step - loss: 2.6515 - accuracy: 0.5180 - val_loss: 6.0875 - val_accuracy: 0.1292\n",
            "\n",
            "Epoch 00019: val_loss did not improve from 6.04651\n",
            "Epoch 20/20\n",
            "95/95 [==============================] - 29s 302ms/step - loss: 2.5409 - accuracy: 0.5357 - val_loss: 6.1206 - val_accuracy: 0.1323\n",
            "\n",
            "Epoch 00020: val_loss did not improve from 6.04651\n"
          ],
          "name": "stdout"
        }
      ]
    },
    {
      "cell_type": "markdown",
      "metadata": {
        "id": "sG01QWLmMvfs"
      },
      "source": [
        "technique               min_loss\n",
        "LR 0.001                 6.1\n",
        "LR 5-e5                  6.3852\n",
        "เพิ่ม dropout              6.0465"
      ]
    },
    {
      "cell_type": "code",
      "metadata": {
        "colab": {
          "base_uri": "https://localhost:8080/",
          "height": 590
        },
        "id": "msiOfU3ySM0N",
        "outputId": "1596fc56-dbb2-42b8-d35c-59dc712095f4"
      },
      "source": [
        "# list all data in history\n",
        "print(history.history.keys())\n",
        "# summarize history for accuracy\n",
        "plt.plot(history.history['accuracy'])\n",
        "plt.plot(history.history['val_accuracy'])\n",
        "plt.title('model accuracy')\n",
        "plt.ylabel('accuracy')\n",
        "plt.xlabel('epoch')\n",
        "plt.legend(['train', 'test'], loc='upper left')\n",
        "plt.show()\n",
        "# summarize history for loss\n",
        "plt.plot(history.history['loss'])\n",
        "plt.plot(history.history['val_loss'])\n",
        "plt.title('model loss')\n",
        "plt.ylabel('loss')\n",
        "plt.xlabel('epoch')\n",
        "plt.legend(['train', 'test'], loc='upper left')\n",
        "plt.show()"
      ],
      "execution_count": null,
      "outputs": [
        {
          "output_type": "stream",
          "text": [
            "dict_keys(['loss', 'accuracy', 'val_loss', 'val_accuracy', 'lr'])\n"
          ],
          "name": "stdout"
        },
        {
          "output_type": "display_data",
          "data": {
            "image/png": "[encoded data removed]",
            "text/plain": [
              "<Figure size 432x288 with 1 Axes>"
            ]
          },
          "metadata": {
            "tags": [],
            "needs_background": "light"
          }
        },
        {
          "output_type": "display_data",
          "data": {
            "image/png": "[encoded data removed]",
            "text/plain": [
              "<Figure size 432x288 with 1 Axes>"
            ]
          },
          "metadata": {
            "tags": [],
            "needs_background": "light"
          }
        }
      ]
    },
    {
      "cell_type": "code",
      "metadata": {
        "id": "zZYQQRRMRug5"
      },
      "source": [
        "model.load_weights(\"weights.hdf5\")"
      ],
      "execution_count": null,
      "outputs": []
    },
    {
      "cell_type": "code",
      "metadata": {
        "id": "-EcWRcGW_F3D",
        "colab": {
          "base_uri": "https://localhost:8080/",
          "height": 690
        },
        "outputId": "24dd2a8b-a89c-4702-84d8-747e9452dadc"
      },
      "source": [
        "x_pred = np.zeros(( mean_length, len(dictionary)))\n",
        "x_pred[0,dictionary['ถอย']]\n",
        "pred = model.predict(x_pred)"
      ],
      "execution_count": null,
      "outputs": [
        {
          "output_type": "error",
          "ename": "ValueError",
          "evalue": "ignored",
          "traceback": [
            "\u001b[0;31m---------------------------------------------------------------------------\u001b[0m",
            "\u001b[0;31mValueError\u001b[0m                                Traceback (most recent call last)",
            "\u001b[0;32m<ipython-input-98-23314dafee83>\u001b[0m in \u001b[0;36m<module>\u001b[0;34m()\u001b[0m\n\u001b[1;32m      1\u001b[0m \u001b[0mx_pred\u001b[0m \u001b[0;34m=\u001b[0m \u001b[0mnp\u001b[0m\u001b[0;34m.\u001b[0m\u001b[0mzeros\u001b[0m\u001b[0;34m(\u001b[0m\u001b[0;34m(\u001b[0m \u001b[0mmean_length\u001b[0m\u001b[0;34m,\u001b[0m \u001b[0mlen\u001b[0m\u001b[0;34m(\u001b[0m\u001b[0mdictionary\u001b[0m\u001b[0;34m)\u001b[0m\u001b[0;34m)\u001b[0m\u001b[0;34m)\u001b[0m\u001b[0;34m\u001b[0m\u001b[0;34m\u001b[0m\u001b[0m\n\u001b[1;32m      2\u001b[0m \u001b[0mx_pred\u001b[0m\u001b[0;34m[\u001b[0m\u001b[0;36m0\u001b[0m\u001b[0;34m,\u001b[0m\u001b[0mdictionary\u001b[0m\u001b[0;34m[\u001b[0m\u001b[0;34m'ถอย'\u001b[0m\u001b[0;34m]\u001b[0m\u001b[0;34m]\u001b[0m\u001b[0;34m\u001b[0m\u001b[0;34m\u001b[0m\u001b[0m\n\u001b[0;32m----> 3\u001b[0;31m \u001b[0mpred\u001b[0m \u001b[0;34m=\u001b[0m \u001b[0mmodel\u001b[0m\u001b[0;34m.\u001b[0m\u001b[0mpredict\u001b[0m\u001b[0;34m(\u001b[0m\u001b[0mx_pred\u001b[0m\u001b[0;34m)\u001b[0m\u001b[0;34m\u001b[0m\u001b[0;34m\u001b[0m\u001b[0m\n\u001b[0m",
            "\u001b[0;32m/usr/local/lib/python3.7/dist-packages/tensorflow/python/keras/engine/training.py\u001b[0m in \u001b[0;36mpredict\u001b[0;34m(self, x, batch_size, verbose, steps, callbacks, max_queue_size, workers, use_multiprocessing)\u001b[0m\n\u001b[1;32m   1627\u001b[0m           \u001b[0;32mfor\u001b[0m \u001b[0mstep\u001b[0m \u001b[0;32min\u001b[0m \u001b[0mdata_handler\u001b[0m\u001b[0;34m.\u001b[0m\u001b[0msteps\u001b[0m\u001b[0;34m(\u001b[0m\u001b[0;34m)\u001b[0m\u001b[0;34m:\u001b[0m\u001b[0;34m\u001b[0m\u001b[0;34m\u001b[0m\u001b[0m\n\u001b[1;32m   1628\u001b[0m             \u001b[0mcallbacks\u001b[0m\u001b[0;34m.\u001b[0m\u001b[0mon_predict_batch_begin\u001b[0m\u001b[0;34m(\u001b[0m\u001b[0mstep\u001b[0m\u001b[0;34m)\u001b[0m\u001b[0;34m\u001b[0m\u001b[0;34m\u001b[0m\u001b[0m\n\u001b[0;32m-> 1629\u001b[0;31m             \u001b[0mtmp_batch_outputs\u001b[0m \u001b[0;34m=\u001b[0m \u001b[0mself\u001b[0m\u001b[0;34m.\u001b[0m\u001b[0mpredict_function\u001b[0m\u001b[0;34m(\u001b[0m\u001b[0miterator\u001b[0m\u001b[0;34m)\u001b[0m\u001b[0;34m\u001b[0m\u001b[0;34m\u001b[0m\u001b[0m\n\u001b[0m\u001b[1;32m   1630\u001b[0m             \u001b[0;32mif\u001b[0m \u001b[0mdata_handler\u001b[0m\u001b[0;34m.\u001b[0m\u001b[0mshould_sync\u001b[0m\u001b[0;34m:\u001b[0m\u001b[0;34m\u001b[0m\u001b[0;34m\u001b[0m\u001b[0m\n\u001b[1;32m   1631\u001b[0m               \u001b[0mcontext\u001b[0m\u001b[0;34m.\u001b[0m\u001b[0masync_wait\u001b[0m\u001b[0;34m(\u001b[0m\u001b[0;34m)\u001b[0m\u001b[0;34m\u001b[0m\u001b[0;34m\u001b[0m\u001b[0m\n",
            "\u001b[0;32m/usr/local/lib/python3.7/dist-packages/tensorflow/python/eager/def_function.py\u001b[0m in \u001b[0;36m__call__\u001b[0;34m(self, *args, **kwds)\u001b[0m\n\u001b[1;32m    826\u001b[0m     \u001b[0mtracing_count\u001b[0m \u001b[0;34m=\u001b[0m \u001b[0mself\u001b[0m\u001b[0;34m.\u001b[0m\u001b[0mexperimental_get_tracing_count\u001b[0m\u001b[0;34m(\u001b[0m\u001b[0;34m)\u001b[0m\u001b[0;34m\u001b[0m\u001b[0;34m\u001b[0m\u001b[0m\n\u001b[1;32m    827\u001b[0m     \u001b[0;32mwith\u001b[0m \u001b[0mtrace\u001b[0m\u001b[0;34m.\u001b[0m\u001b[0mTrace\u001b[0m\u001b[0;34m(\u001b[0m\u001b[0mself\u001b[0m\u001b[0;34m.\u001b[0m\u001b[0m_name\u001b[0m\u001b[0;34m)\u001b[0m \u001b[0;32mas\u001b[0m \u001b[0mtm\u001b[0m\u001b[0;34m:\u001b[0m\u001b[0;34m\u001b[0m\u001b[0;34m\u001b[0m\u001b[0m\n\u001b[0;32m--> 828\u001b[0;31m       \u001b[0mresult\u001b[0m \u001b[0;34m=\u001b[0m \u001b[0mself\u001b[0m\u001b[0;34m.\u001b[0m\u001b[0m_call\u001b[0m\u001b[0;34m(\u001b[0m\u001b[0;34m*\u001b[0m\u001b[0margs\u001b[0m\u001b[0;34m,\u001b[0m \u001b[0;34m**\u001b[0m\u001b[0mkwds\u001b[0m\u001b[0;34m)\u001b[0m\u001b[0;34m\u001b[0m\u001b[0;34m\u001b[0m\u001b[0m\n\u001b[0m\u001b[1;32m    829\u001b[0m       \u001b[0mcompiler\u001b[0m \u001b[0;34m=\u001b[0m \u001b[0;34m\"xla\"\u001b[0m \u001b[0;32mif\u001b[0m \u001b[0mself\u001b[0m\u001b[0;34m.\u001b[0m\u001b[0m_experimental_compile\u001b[0m \u001b[0;32melse\u001b[0m \u001b[0;34m\"nonXla\"\u001b[0m\u001b[0;34m\u001b[0m\u001b[0;34m\u001b[0m\u001b[0m\n\u001b[1;32m    830\u001b[0m       \u001b[0mnew_tracing_count\u001b[0m \u001b[0;34m=\u001b[0m \u001b[0mself\u001b[0m\u001b[0;34m.\u001b[0m\u001b[0mexperimental_get_tracing_count\u001b[0m\u001b[0;34m(\u001b[0m\u001b[0;34m)\u001b[0m\u001b[0;34m\u001b[0m\u001b[0;34m\u001b[0m\u001b[0m\n",
            "\u001b[0;32m/usr/local/lib/python3.7/dist-packages/tensorflow/python/eager/def_function.py\u001b[0m in \u001b[0;36m_call\u001b[0;34m(self, *args, **kwds)\u001b[0m\n\u001b[1;32m    869\u001b[0m       \u001b[0;31m# This is the first call of __call__, so we have to initialize.\u001b[0m\u001b[0;34m\u001b[0m\u001b[0;34m\u001b[0m\u001b[0;34m\u001b[0m\u001b[0m\n\u001b[1;32m    870\u001b[0m       \u001b[0minitializers\u001b[0m \u001b[0;34m=\u001b[0m \u001b[0;34m[\u001b[0m\u001b[0;34m]\u001b[0m\u001b[0;34m\u001b[0m\u001b[0;34m\u001b[0m\u001b[0m\n\u001b[0;32m--> 871\u001b[0;31m       \u001b[0mself\u001b[0m\u001b[0;34m.\u001b[0m\u001b[0m_initialize\u001b[0m\u001b[0;34m(\u001b[0m\u001b[0margs\u001b[0m\u001b[0;34m,\u001b[0m \u001b[0mkwds\u001b[0m\u001b[0;34m,\u001b[0m \u001b[0madd_initializers_to\u001b[0m\u001b[0;34m=\u001b[0m\u001b[0minitializers\u001b[0m\u001b[0;34m)\u001b[0m\u001b[0;34m\u001b[0m\u001b[0;34m\u001b[0m\u001b[0m\n\u001b[0m\u001b[1;32m    872\u001b[0m     \u001b[0;32mfinally\u001b[0m\u001b[0;34m:\u001b[0m\u001b[0;34m\u001b[0m\u001b[0;34m\u001b[0m\u001b[0m\n\u001b[1;32m    873\u001b[0m       \u001b[0;31m# At this point we know that the initialization is complete (or less\u001b[0m\u001b[0;34m\u001b[0m\u001b[0;34m\u001b[0m\u001b[0;34m\u001b[0m\u001b[0m\n",
            "\u001b[0;32m/usr/local/lib/python3.7/dist-packages/tensorflow/python/eager/def_function.py\u001b[0m in \u001b[0;36m_initialize\u001b[0;34m(self, args, kwds, add_initializers_to)\u001b[0m\n\u001b[1;32m    724\u001b[0m     self._concrete_stateful_fn = (\n\u001b[1;32m    725\u001b[0m         self._stateful_fn._get_concrete_function_internal_garbage_collected(  # pylint: disable=protected-access\n\u001b[0;32m--> 726\u001b[0;31m             *args, **kwds))\n\u001b[0m\u001b[1;32m    727\u001b[0m \u001b[0;34m\u001b[0m\u001b[0m\n\u001b[1;32m    728\u001b[0m     \u001b[0;32mdef\u001b[0m \u001b[0minvalid_creator_scope\u001b[0m\u001b[0;34m(\u001b[0m\u001b[0;34m*\u001b[0m\u001b[0munused_args\u001b[0m\u001b[0;34m,\u001b[0m \u001b[0;34m**\u001b[0m\u001b[0munused_kwds\u001b[0m\u001b[0;34m)\u001b[0m\u001b[0;34m:\u001b[0m\u001b[0;34m\u001b[0m\u001b[0;34m\u001b[0m\u001b[0m\n",
            "\u001b[0;32m/usr/local/lib/python3.7/dist-packages/tensorflow/python/eager/function.py\u001b[0m in \u001b[0;36m_get_concrete_function_internal_garbage_collected\u001b[0;34m(self, *args, **kwargs)\u001b[0m\n\u001b[1;32m   2967\u001b[0m       \u001b[0margs\u001b[0m\u001b[0;34m,\u001b[0m \u001b[0mkwargs\u001b[0m \u001b[0;34m=\u001b[0m \u001b[0;32mNone\u001b[0m\u001b[0;34m,\u001b[0m \u001b[0;32mNone\u001b[0m\u001b[0;34m\u001b[0m\u001b[0;34m\u001b[0m\u001b[0m\n\u001b[1;32m   2968\u001b[0m     \u001b[0;32mwith\u001b[0m \u001b[0mself\u001b[0m\u001b[0;34m.\u001b[0m\u001b[0m_lock\u001b[0m\u001b[0;34m:\u001b[0m\u001b[0;34m\u001b[0m\u001b[0;34m\u001b[0m\u001b[0m\n\u001b[0;32m-> 2969\u001b[0;31m       \u001b[0mgraph_function\u001b[0m\u001b[0;34m,\u001b[0m \u001b[0m_\u001b[0m \u001b[0;34m=\u001b[0m \u001b[0mself\u001b[0m\u001b[0;34m.\u001b[0m\u001b[0m_maybe_define_function\u001b[0m\u001b[0;34m(\u001b[0m\u001b[0margs\u001b[0m\u001b[0;34m,\u001b[0m \u001b[0mkwargs\u001b[0m\u001b[0;34m)\u001b[0m\u001b[0;34m\u001b[0m\u001b[0;34m\u001b[0m\u001b[0m\n\u001b[0m\u001b[1;32m   2970\u001b[0m     \u001b[0;32mreturn\u001b[0m \u001b[0mgraph_function\u001b[0m\u001b[0;34m\u001b[0m\u001b[0;34m\u001b[0m\u001b[0m\n\u001b[1;32m   2971\u001b[0m \u001b[0;34m\u001b[0m\u001b[0m\n",
            "\u001b[0;32m/usr/local/lib/python3.7/dist-packages/tensorflow/python/eager/function.py\u001b[0m in \u001b[0;36m_maybe_define_function\u001b[0;34m(self, args, kwargs)\u001b[0m\n\u001b[1;32m   3359\u001b[0m \u001b[0;34m\u001b[0m\u001b[0m\n\u001b[1;32m   3360\u001b[0m           \u001b[0mself\u001b[0m\u001b[0;34m.\u001b[0m\u001b[0m_function_cache\u001b[0m\u001b[0;34m.\u001b[0m\u001b[0mmissed\u001b[0m\u001b[0;34m.\u001b[0m\u001b[0madd\u001b[0m\u001b[0;34m(\u001b[0m\u001b[0mcall_context_key\u001b[0m\u001b[0;34m)\u001b[0m\u001b[0;34m\u001b[0m\u001b[0;34m\u001b[0m\u001b[0m\n\u001b[0;32m-> 3361\u001b[0;31m           \u001b[0mgraph_function\u001b[0m \u001b[0;34m=\u001b[0m \u001b[0mself\u001b[0m\u001b[0;34m.\u001b[0m\u001b[0m_create_graph_function\u001b[0m\u001b[0;34m(\u001b[0m\u001b[0margs\u001b[0m\u001b[0;34m,\u001b[0m \u001b[0mkwargs\u001b[0m\u001b[0;34m)\u001b[0m\u001b[0;34m\u001b[0m\u001b[0;34m\u001b[0m\u001b[0m\n\u001b[0m\u001b[1;32m   3362\u001b[0m           \u001b[0mself\u001b[0m\u001b[0;34m.\u001b[0m\u001b[0m_function_cache\u001b[0m\u001b[0;34m.\u001b[0m\u001b[0mprimary\u001b[0m\u001b[0;34m[\u001b[0m\u001b[0mcache_key\u001b[0m\u001b[0;34m]\u001b[0m \u001b[0;34m=\u001b[0m \u001b[0mgraph_function\u001b[0m\u001b[0;34m\u001b[0m\u001b[0;34m\u001b[0m\u001b[0m\n\u001b[1;32m   3363\u001b[0m \u001b[0;34m\u001b[0m\u001b[0m\n",
            "\u001b[0;32m/usr/local/lib/python3.7/dist-packages/tensorflow/python/eager/function.py\u001b[0m in \u001b[0;36m_create_graph_function\u001b[0;34m(self, args, kwargs, override_flat_arg_shapes)\u001b[0m\n\u001b[1;32m   3204\u001b[0m             \u001b[0marg_names\u001b[0m\u001b[0;34m=\u001b[0m\u001b[0marg_names\u001b[0m\u001b[0;34m,\u001b[0m\u001b[0;34m\u001b[0m\u001b[0;34m\u001b[0m\u001b[0m\n\u001b[1;32m   3205\u001b[0m             \u001b[0moverride_flat_arg_shapes\u001b[0m\u001b[0;34m=\u001b[0m\u001b[0moverride_flat_arg_shapes\u001b[0m\u001b[0;34m,\u001b[0m\u001b[0;34m\u001b[0m\u001b[0;34m\u001b[0m\u001b[0m\n\u001b[0;32m-> 3206\u001b[0;31m             capture_by_value=self._capture_by_value),\n\u001b[0m\u001b[1;32m   3207\u001b[0m         \u001b[0mself\u001b[0m\u001b[0;34m.\u001b[0m\u001b[0m_function_attributes\u001b[0m\u001b[0;34m,\u001b[0m\u001b[0;34m\u001b[0m\u001b[0;34m\u001b[0m\u001b[0m\n\u001b[1;32m   3208\u001b[0m         \u001b[0mfunction_spec\u001b[0m\u001b[0;34m=\u001b[0m\u001b[0mself\u001b[0m\u001b[0;34m.\u001b[0m\u001b[0mfunction_spec\u001b[0m\u001b[0;34m,\u001b[0m\u001b[0;34m\u001b[0m\u001b[0;34m\u001b[0m\u001b[0m\n",
            "\u001b[0;32m/usr/local/lib/python3.7/dist-packages/tensorflow/python/framework/func_graph.py\u001b[0m in \u001b[0;36mfunc_graph_from_py_func\u001b[0;34m(name, python_func, args, kwargs, signature, func_graph, autograph, autograph_options, add_control_dependencies, arg_names, op_return_value, collections, capture_by_value, override_flat_arg_shapes)\u001b[0m\n\u001b[1;32m    988\u001b[0m         \u001b[0m_\u001b[0m\u001b[0;34m,\u001b[0m \u001b[0moriginal_func\u001b[0m \u001b[0;34m=\u001b[0m \u001b[0mtf_decorator\u001b[0m\u001b[0;34m.\u001b[0m\u001b[0munwrap\u001b[0m\u001b[0;34m(\u001b[0m\u001b[0mpython_func\u001b[0m\u001b[0;34m)\u001b[0m\u001b[0;34m\u001b[0m\u001b[0;34m\u001b[0m\u001b[0m\n\u001b[1;32m    989\u001b[0m \u001b[0;34m\u001b[0m\u001b[0m\n\u001b[0;32m--> 990\u001b[0;31m       \u001b[0mfunc_outputs\u001b[0m \u001b[0;34m=\u001b[0m \u001b[0mpython_func\u001b[0m\u001b[0;34m(\u001b[0m\u001b[0;34m*\u001b[0m\u001b[0mfunc_args\u001b[0m\u001b[0;34m,\u001b[0m \u001b[0;34m**\u001b[0m\u001b[0mfunc_kwargs\u001b[0m\u001b[0;34m)\u001b[0m\u001b[0;34m\u001b[0m\u001b[0;34m\u001b[0m\u001b[0m\n\u001b[0m\u001b[1;32m    991\u001b[0m \u001b[0;34m\u001b[0m\u001b[0m\n\u001b[1;32m    992\u001b[0m       \u001b[0;31m# invariant: `func_outputs` contains only Tensors, CompositeTensors,\u001b[0m\u001b[0;34m\u001b[0m\u001b[0;34m\u001b[0m\u001b[0;34m\u001b[0m\u001b[0m\n",
            "\u001b[0;32m/usr/local/lib/python3.7/dist-packages/tensorflow/python/eager/def_function.py\u001b[0m in \u001b[0;36mwrapped_fn\u001b[0;34m(*args, **kwds)\u001b[0m\n\u001b[1;32m    632\u001b[0m             \u001b[0mxla_context\u001b[0m\u001b[0;34m.\u001b[0m\u001b[0mExit\u001b[0m\u001b[0;34m(\u001b[0m\u001b[0;34m)\u001b[0m\u001b[0;34m\u001b[0m\u001b[0;34m\u001b[0m\u001b[0m\n\u001b[1;32m    633\u001b[0m         \u001b[0;32melse\u001b[0m\u001b[0;34m:\u001b[0m\u001b[0;34m\u001b[0m\u001b[0;34m\u001b[0m\u001b[0m\n\u001b[0;32m--> 634\u001b[0;31m           \u001b[0mout\u001b[0m \u001b[0;34m=\u001b[0m \u001b[0mweak_wrapped_fn\u001b[0m\u001b[0;34m(\u001b[0m\u001b[0;34m)\u001b[0m\u001b[0;34m.\u001b[0m\u001b[0m__wrapped__\u001b[0m\u001b[0;34m(\u001b[0m\u001b[0;34m*\u001b[0m\u001b[0margs\u001b[0m\u001b[0;34m,\u001b[0m \u001b[0;34m**\u001b[0m\u001b[0mkwds\u001b[0m\u001b[0;34m)\u001b[0m\u001b[0;34m\u001b[0m\u001b[0;34m\u001b[0m\u001b[0m\n\u001b[0m\u001b[1;32m    635\u001b[0m         \u001b[0;32mreturn\u001b[0m \u001b[0mout\u001b[0m\u001b[0;34m\u001b[0m\u001b[0;34m\u001b[0m\u001b[0m\n\u001b[1;32m    636\u001b[0m \u001b[0;34m\u001b[0m\u001b[0m\n",
            "\u001b[0;32m/usr/local/lib/python3.7/dist-packages/tensorflow/python/framework/func_graph.py\u001b[0m in \u001b[0;36mwrapper\u001b[0;34m(*args, **kwargs)\u001b[0m\n\u001b[1;32m    975\u001b[0m           \u001b[0;32mexcept\u001b[0m \u001b[0mException\u001b[0m \u001b[0;32mas\u001b[0m \u001b[0me\u001b[0m\u001b[0;34m:\u001b[0m  \u001b[0;31m# pylint:disable=broad-except\u001b[0m\u001b[0;34m\u001b[0m\u001b[0;34m\u001b[0m\u001b[0m\n\u001b[1;32m    976\u001b[0m             \u001b[0;32mif\u001b[0m \u001b[0mhasattr\u001b[0m\u001b[0;34m(\u001b[0m\u001b[0me\u001b[0m\u001b[0;34m,\u001b[0m \u001b[0;34m\"ag_error_metadata\"\u001b[0m\u001b[0;34m)\u001b[0m\u001b[0;34m:\u001b[0m\u001b[0;34m\u001b[0m\u001b[0;34m\u001b[0m\u001b[0m\n\u001b[0;32m--> 977\u001b[0;31m               \u001b[0;32mraise\u001b[0m \u001b[0me\u001b[0m\u001b[0;34m.\u001b[0m\u001b[0mag_error_metadata\u001b[0m\u001b[0;34m.\u001b[0m\u001b[0mto_exception\u001b[0m\u001b[0;34m(\u001b[0m\u001b[0me\u001b[0m\u001b[0;34m)\u001b[0m\u001b[0;34m\u001b[0m\u001b[0;34m\u001b[0m\u001b[0m\n\u001b[0m\u001b[1;32m    978\u001b[0m             \u001b[0;32melse\u001b[0m\u001b[0;34m:\u001b[0m\u001b[0;34m\u001b[0m\u001b[0;34m\u001b[0m\u001b[0m\n\u001b[1;32m    979\u001b[0m               \u001b[0;32mraise\u001b[0m\u001b[0;34m\u001b[0m\u001b[0;34m\u001b[0m\u001b[0m\n",
            "\u001b[0;31mValueError\u001b[0m: in user code:\n\n    /usr/local/lib/python3.7/dist-packages/tensorflow/python/keras/engine/training.py:1478 predict_function  *\n        return step_function(self, iterator)\n    /usr/local/lib/python3.7/dist-packages/tensorflow/python/keras/engine/training.py:1468 step_function  **\n        outputs = model.distribute_strategy.run(run_step, args=(data,))\n    /usr/local/lib/python3.7/dist-packages/tensorflow/python/distribute/distribute_lib.py:1259 run\n        return self._extended.call_for_each_replica(fn, args=args, kwargs=kwargs)\n    /usr/local/lib/python3.7/dist-packages/tensorflow/python/distribute/distribute_lib.py:2730 call_for_each_replica\n        return self._call_for_each_replica(fn, args, kwargs)\n    /usr/local/lib/python3.7/dist-packages/tensorflow/python/distribute/distribute_lib.py:3417 _call_for_each_replica\n        return fn(*args, **kwargs)\n    /usr/local/lib/python3.7/dist-packages/tensorflow/python/keras/engine/training.py:1461 run_step  **\n        outputs = model.predict_step(data)\n    /usr/local/lib/python3.7/dist-packages/tensorflow/python/keras/engine/training.py:1434 predict_step\n        return self(x, training=False)\n    /usr/local/lib/python3.7/dist-packages/tensorflow/python/keras/engine/base_layer.py:998 __call__\n        input_spec.assert_input_compatibility(self.input_spec, inputs, self.name)\n    /usr/local/lib/python3.7/dist-packages/tensorflow/python/keras/engine/input_spec.py:274 assert_input_compatibility\n        ', found shape=' + display_shape(x.shape))\n\n    ValueError: Input 0 is incompatible with layer model_2: expected shape=(None, 13), found shape=(None, 3452)\n"
          ]
        }
      ]
    },
    {
      "cell_type": "code",
      "metadata": {
        "colab": {
          "base_uri": "https://localhost:8080/",
          "height": 35
        },
        "id": "_Kwayw1YIrii",
        "outputId": "441b49fa-a6a1-4f82-b01d-dc3372a98aef"
      },
      "source": [
        "re_dictionary[3451]"
      ],
      "execution_count": null,
      "outputs": [
        {
          "output_type": "execute_result",
          "data": {
            "application/vnd.google.colaboratory.intrinsic+json": {
              "type": "string"
            },
            "text/plain": [
              "'</s>'"
            ]
          },
          "metadata": {
            "tags": []
          },
          "execution_count": 99
        }
      ]
    },
    {
      "cell_type": "code",
      "metadata": {
        "colab": {
          "base_uri": "https://localhost:8080/"
        },
        "id": "pTGgKzTdACt3",
        "outputId": "c5f24820-ceda-45a6-deab-2b7b09bc2210"
      },
      "source": [
        "dictionary['</s>']"
      ],
      "execution_count": null,
      "outputs": [
        {
          "output_type": "execute_result",
          "data": {
            "text/plain": [
              "3451"
            ]
          },
          "metadata": {
            "tags": []
          },
          "execution_count": 100
        }
      ]
    },
    {
      "cell_type": "code",
      "metadata": {
        "id": "2o7M9lXU6lQa"
      },
      "source": [
        "# def generate_text(diversity,seed):\n",
        "#     # Get random starting text\n",
        "#     # start_index = random.randint(0, len(tmp_data) - max_length - 1)\n",
        "#     generated = ''\n",
        "#     # sentence = tmp_data[start_index: start_index + max_length]\n",
        "#     sentence= _tokenizer4.word_tokenize(seed)\n",
        "#     generated += seed\n",
        "#     # generated += sentence\n",
        "#     c = 0\n",
        "#     while True:\n",
        "#       x_pred = np.zeros((1, mean_length, len(dictionary)))\n",
        "#       for t, char in enumerate(sentence):\n",
        "#         x_pred[0, t, dictionary[char]] = 1.\n",
        "#       preds = model.predict(x_pred, verbose=0)[0]\n",
        "#       next_index = sample(preds, diversity)\n",
        "#       next_char = re_dictionary[next_index]\n",
        "#       if next_char == \"</s>\" or c > mean_length:\n",
        "#         break\n",
        "#       c+=1\n",
        "#       generated += next_char\n",
        "#       tmp_sen = sentence[1:]\n",
        "#       tmp_sen.append(next_char)\n",
        "#       sentence = tmp_sen\n",
        "\n",
        "#     return generated\n",
        "\n",
        "def sample(preds, temperature=1.0):\n",
        "  if temperature <= 0:\n",
        "    return np.argmax(preds)\n",
        "  preds = np.asarray(preds).astype('float64')\n",
        "  preds = np.log(preds) / temperature\n",
        "  exp_preds = np.exp(preds)\n",
        "  preds = exp_preds / np.sum(exp_preds)\n",
        "  probas = np.random.multinomial(1, preds, 1)\n",
        "  return np.argmax(probas)\n",
        "\n",
        "def generate_next(text,max_gen_len, num_generated=10):\n",
        "  word_idxs = [dictionary[word] for word in _tokenizer4.word_tokenize(text)]\n",
        "  \n",
        "  for i in range(max_gen_len):\n",
        "    prediction = model.predict(x=np.array(word_idxs))\n",
        "    idx = sample(prediction[-1], temperature=0.3)\n",
        "    if re_dictionary[idx] == '</s>':\n",
        "      break\n",
        "    word_idxs.append(idx)\n",
        "  return ''.join(re_dictionary[idx] for idx in word_idxs)"
      ],
      "execution_count": null,
      "outputs": []
    },
    {
      "cell_type": "code",
      "metadata": {
        "colab": {
          "base_uri": "https://localhost:8080/"
        },
        "id": "b-2WWuQ_lVN3",
        "outputId": "0907f900-b604-494f-fcaf-a827c1903eb1"
      },
      "source": [
        "np.array([dictionary[word] for word in _tokenizer4.word_tokenize('ใคร')])"
      ],
      "execution_count": null,
      "outputs": [
        {
          "output_type": "execute_result",
          "data": {
            "text/plain": [
              "array([56])"
            ]
          },
          "metadata": {
            "tags": []
          },
          "execution_count": 109
        }
      ]
    },
    {
      "cell_type": "code",
      "metadata": {
        "id": "OKs5bvHPleHi"
      },
      "source": [
        ""
      ],
      "execution_count": null,
      "outputs": []
    },
    {
      "cell_type": "code",
      "metadata": {
        "colab": {
          "base_uri": "https://localhost:8080/"
        },
        "id": "AR1XYLMNnB60",
        "outputId": "f87504c9-12a1-4158-9257-7d4af0947d41"
      },
      "source": [
        "len(prediction[0])"
      ],
      "execution_count": null,
      "outputs": [
        {
          "output_type": "execute_result",
          "data": {
            "text/plain": [
              "3452"
            ]
          },
          "metadata": {
            "tags": []
          },
          "execution_count": 167
        }
      ]
    },
    {
      "cell_type": "code",
      "metadata": {
        "colab": {
          "base_uri": "https://localhost:8080/"
        },
        "id": "_2L21gQ1ZLQK",
        "outputId": "924930c0-dab4-43e1-f888-cf0982d7e818"
      },
      "source": [
        "dictionary['เฉียง']"
      ],
      "execution_count": null,
      "outputs": [
        {
          "output_type": "execute_result",
          "data": {
            "text/plain": [
              "2594"
            ]
          },
          "metadata": {
            "tags": []
          },
          "execution_count": 170
        }
      ]
    },
    {
      "cell_type": "code",
      "metadata": {
        "id": "40BFdWBwB3US",
        "colab": {
          "base_uri": "https://localhost:8080/",
          "height": 861
        },
        "outputId": "c4ac48c8-da44-429d-d911-585db093175c"
      },
      "source": [
        "print(generate_next( 'ใคร',20))\n",
        "# print(generate_text( 100,'ความรักทำให้คนตาบอดส่วน'))\n",
        "print(generate_next( 'รัก',20))\n",
        "print(generate_next( 'แต่',20))"
      ],
      "execution_count": null,
      "outputs": [
        {
          "output_type": "stream",
          "text": [
            "WARNING:tensorflow:Model was constructed with shape (None, 13) for input KerasTensor(type_spec=TensorSpec(shape=(None, 13), dtype=tf.float32, name='input_12'), name='input_12', description=\"created by layer 'input_12'\"), but it was called on an input with incompatible shape (None, 1).\n"
          ],
          "name": "stdout"
        },
        {
          "output_type": "error",
          "ename": "ValueError",
          "evalue": "ignored",
          "traceback": [
            "\u001b[0;31m---------------------------------------------------------------------------\u001b[0m",
            "\u001b[0;31mValueError\u001b[0m                                Traceback (most recent call last)",
            "\u001b[0;32m<ipython-input-102-be9c9812a430>\u001b[0m in \u001b[0;36m<module>\u001b[0;34m()\u001b[0m\n\u001b[0;32m----> 1\u001b[0;31m \u001b[0mprint\u001b[0m\u001b[0;34m(\u001b[0m\u001b[0mgenerate_next\u001b[0m\u001b[0;34m(\u001b[0m \u001b[0;34m'ใคร'\u001b[0m\u001b[0;34m,\u001b[0m\u001b[0;36m20\u001b[0m\u001b[0;34m)\u001b[0m\u001b[0;34m)\u001b[0m\u001b[0;34m\u001b[0m\u001b[0;34m\u001b[0m\u001b[0m\n\u001b[0m\u001b[1;32m      2\u001b[0m \u001b[0;31m# print(generate_text( 100,'ความรักทำให้คนตาบอดส่วน'))\u001b[0m\u001b[0;34m\u001b[0m\u001b[0;34m\u001b[0m\u001b[0;34m\u001b[0m\u001b[0m\n\u001b[1;32m      3\u001b[0m \u001b[0mprint\u001b[0m\u001b[0;34m(\u001b[0m\u001b[0mgenerate_next\u001b[0m\u001b[0;34m(\u001b[0m \u001b[0;34m'รัก'\u001b[0m\u001b[0;34m,\u001b[0m\u001b[0;36m20\u001b[0m\u001b[0;34m)\u001b[0m\u001b[0;34m)\u001b[0m\u001b[0;34m\u001b[0m\u001b[0;34m\u001b[0m\u001b[0m\n\u001b[1;32m      4\u001b[0m \u001b[0mprint\u001b[0m\u001b[0;34m(\u001b[0m\u001b[0mgenerate_next\u001b[0m\u001b[0;34m(\u001b[0m \u001b[0;34m'แต่'\u001b[0m\u001b[0;34m,\u001b[0m\u001b[0;36m20\u001b[0m\u001b[0;34m)\u001b[0m\u001b[0;34m)\u001b[0m\u001b[0;34m\u001b[0m\u001b[0;34m\u001b[0m\u001b[0m\n",
            "\u001b[0;32m<ipython-input-101-085db790ab37>\u001b[0m in \u001b[0;36mgenerate_next\u001b[0;34m(text, max_gen_len, num_generated)\u001b[0m\n\u001b[1;32m     38\u001b[0m   \u001b[0mword_idxs\u001b[0m \u001b[0;34m=\u001b[0m \u001b[0;34m[\u001b[0m\u001b[0mdictionary\u001b[0m\u001b[0;34m[\u001b[0m\u001b[0mword\u001b[0m\u001b[0;34m]\u001b[0m \u001b[0;32mfor\u001b[0m \u001b[0mword\u001b[0m \u001b[0;32min\u001b[0m \u001b[0m_tokenizer4\u001b[0m\u001b[0;34m.\u001b[0m\u001b[0mword_tokenize\u001b[0m\u001b[0;34m(\u001b[0m\u001b[0mtext\u001b[0m\u001b[0;34m)\u001b[0m\u001b[0;34m]\u001b[0m\u001b[0;34m\u001b[0m\u001b[0;34m\u001b[0m\u001b[0m\n\u001b[1;32m     39\u001b[0m   \u001b[0;32mfor\u001b[0m \u001b[0mi\u001b[0m \u001b[0;32min\u001b[0m \u001b[0mrange\u001b[0m\u001b[0;34m(\u001b[0m\u001b[0mmax_gen_len\u001b[0m\u001b[0;34m)\u001b[0m\u001b[0;34m:\u001b[0m\u001b[0;34m\u001b[0m\u001b[0;34m\u001b[0m\u001b[0m\n\u001b[0;32m---> 40\u001b[0;31m     \u001b[0mprediction\u001b[0m \u001b[0;34m=\u001b[0m \u001b[0mmodel\u001b[0m\u001b[0;34m.\u001b[0m\u001b[0mpredict\u001b[0m\u001b[0;34m(\u001b[0m\u001b[0mx\u001b[0m\u001b[0;34m=\u001b[0m\u001b[0mnp\u001b[0m\u001b[0;34m.\u001b[0m\u001b[0marray\u001b[0m\u001b[0;34m(\u001b[0m\u001b[0mword_idxs\u001b[0m\u001b[0;34m)\u001b[0m\u001b[0;34m)\u001b[0m\u001b[0;34m\u001b[0m\u001b[0;34m\u001b[0m\u001b[0m\n\u001b[0m\u001b[1;32m     41\u001b[0m     \u001b[0midx\u001b[0m \u001b[0;34m=\u001b[0m \u001b[0msample\u001b[0m\u001b[0;34m(\u001b[0m\u001b[0mprediction\u001b[0m\u001b[0;34m[\u001b[0m\u001b[0;34m-\u001b[0m\u001b[0;36m1\u001b[0m\u001b[0;34m]\u001b[0m\u001b[0;34m,\u001b[0m \u001b[0mtemperature\u001b[0m\u001b[0;34m=\u001b[0m\u001b[0;36m0.3\u001b[0m\u001b[0;34m)\u001b[0m\u001b[0;34m\u001b[0m\u001b[0;34m\u001b[0m\u001b[0m\n\u001b[1;32m     42\u001b[0m     \u001b[0;32mif\u001b[0m \u001b[0mre_dictionary\u001b[0m\u001b[0;34m[\u001b[0m\u001b[0midx\u001b[0m\u001b[0;34m]\u001b[0m \u001b[0;34m==\u001b[0m \u001b[0;34m'</s>'\u001b[0m\u001b[0;34m:\u001b[0m\u001b[0;34m\u001b[0m\u001b[0;34m\u001b[0m\u001b[0m\n",
            "\u001b[0;32m/usr/local/lib/python3.7/dist-packages/tensorflow/python/keras/engine/training.py\u001b[0m in \u001b[0;36mpredict\u001b[0;34m(self, x, batch_size, verbose, steps, callbacks, max_queue_size, workers, use_multiprocessing)\u001b[0m\n\u001b[1;32m   1627\u001b[0m           \u001b[0;32mfor\u001b[0m \u001b[0mstep\u001b[0m \u001b[0;32min\u001b[0m \u001b[0mdata_handler\u001b[0m\u001b[0;34m.\u001b[0m\u001b[0msteps\u001b[0m\u001b[0;34m(\u001b[0m\u001b[0;34m)\u001b[0m\u001b[0;34m:\u001b[0m\u001b[0;34m\u001b[0m\u001b[0;34m\u001b[0m\u001b[0m\n\u001b[1;32m   1628\u001b[0m             \u001b[0mcallbacks\u001b[0m\u001b[0;34m.\u001b[0m\u001b[0mon_predict_batch_begin\u001b[0m\u001b[0;34m(\u001b[0m\u001b[0mstep\u001b[0m\u001b[0;34m)\u001b[0m\u001b[0;34m\u001b[0m\u001b[0;34m\u001b[0m\u001b[0m\n\u001b[0;32m-> 1629\u001b[0;31m             \u001b[0mtmp_batch_outputs\u001b[0m \u001b[0;34m=\u001b[0m \u001b[0mself\u001b[0m\u001b[0;34m.\u001b[0m\u001b[0mpredict_function\u001b[0m\u001b[0;34m(\u001b[0m\u001b[0miterator\u001b[0m\u001b[0;34m)\u001b[0m\u001b[0;34m\u001b[0m\u001b[0;34m\u001b[0m\u001b[0m\n\u001b[0m\u001b[1;32m   1630\u001b[0m             \u001b[0;32mif\u001b[0m \u001b[0mdata_handler\u001b[0m\u001b[0;34m.\u001b[0m\u001b[0mshould_sync\u001b[0m\u001b[0;34m:\u001b[0m\u001b[0;34m\u001b[0m\u001b[0;34m\u001b[0m\u001b[0m\n\u001b[1;32m   1631\u001b[0m               \u001b[0mcontext\u001b[0m\u001b[0;34m.\u001b[0m\u001b[0masync_wait\u001b[0m\u001b[0;34m(\u001b[0m\u001b[0;34m)\u001b[0m\u001b[0;34m\u001b[0m\u001b[0;34m\u001b[0m\u001b[0m\n",
            "\u001b[0;32m/usr/local/lib/python3.7/dist-packages/tensorflow/python/eager/def_function.py\u001b[0m in \u001b[0;36m__call__\u001b[0;34m(self, *args, **kwds)\u001b[0m\n\u001b[1;32m    826\u001b[0m     \u001b[0mtracing_count\u001b[0m \u001b[0;34m=\u001b[0m \u001b[0mself\u001b[0m\u001b[0;34m.\u001b[0m\u001b[0mexperimental_get_tracing_count\u001b[0m\u001b[0;34m(\u001b[0m\u001b[0;34m)\u001b[0m\u001b[0;34m\u001b[0m\u001b[0;34m\u001b[0m\u001b[0m\n\u001b[1;32m    827\u001b[0m     \u001b[0;32mwith\u001b[0m \u001b[0mtrace\u001b[0m\u001b[0;34m.\u001b[0m\u001b[0mTrace\u001b[0m\u001b[0;34m(\u001b[0m\u001b[0mself\u001b[0m\u001b[0;34m.\u001b[0m\u001b[0m_name\u001b[0m\u001b[0;34m)\u001b[0m \u001b[0;32mas\u001b[0m \u001b[0mtm\u001b[0m\u001b[0;34m:\u001b[0m\u001b[0;34m\u001b[0m\u001b[0;34m\u001b[0m\u001b[0m\n\u001b[0;32m--> 828\u001b[0;31m       \u001b[0mresult\u001b[0m \u001b[0;34m=\u001b[0m \u001b[0mself\u001b[0m\u001b[0;34m.\u001b[0m\u001b[0m_call\u001b[0m\u001b[0;34m(\u001b[0m\u001b[0;34m*\u001b[0m\u001b[0margs\u001b[0m\u001b[0;34m,\u001b[0m \u001b[0;34m**\u001b[0m\u001b[0mkwds\u001b[0m\u001b[0;34m)\u001b[0m\u001b[0;34m\u001b[0m\u001b[0;34m\u001b[0m\u001b[0m\n\u001b[0m\u001b[1;32m    829\u001b[0m       \u001b[0mcompiler\u001b[0m \u001b[0;34m=\u001b[0m \u001b[0;34m\"xla\"\u001b[0m \u001b[0;32mif\u001b[0m \u001b[0mself\u001b[0m\u001b[0;34m.\u001b[0m\u001b[0m_experimental_compile\u001b[0m \u001b[0;32melse\u001b[0m \u001b[0;34m\"nonXla\"\u001b[0m\u001b[0;34m\u001b[0m\u001b[0;34m\u001b[0m\u001b[0m\n\u001b[1;32m    830\u001b[0m       \u001b[0mnew_tracing_count\u001b[0m \u001b[0;34m=\u001b[0m \u001b[0mself\u001b[0m\u001b[0;34m.\u001b[0m\u001b[0mexperimental_get_tracing_count\u001b[0m\u001b[0;34m(\u001b[0m\u001b[0;34m)\u001b[0m\u001b[0;34m\u001b[0m\u001b[0;34m\u001b[0m\u001b[0m\n",
            "\u001b[0;32m/usr/local/lib/python3.7/dist-packages/tensorflow/python/eager/def_function.py\u001b[0m in \u001b[0;36m_call\u001b[0;34m(self, *args, **kwds)\u001b[0m\n\u001b[1;32m    860\u001b[0m       \u001b[0;31m# In this case we have not created variables on the first call. So we can\u001b[0m\u001b[0;34m\u001b[0m\u001b[0;34m\u001b[0m\u001b[0;34m\u001b[0m\u001b[0m\n\u001b[1;32m    861\u001b[0m       \u001b[0;31m# run the first trace but we should fail if variables are created.\u001b[0m\u001b[0;34m\u001b[0m\u001b[0;34m\u001b[0m\u001b[0;34m\u001b[0m\u001b[0m\n\u001b[0;32m--> 862\u001b[0;31m       \u001b[0mresults\u001b[0m \u001b[0;34m=\u001b[0m \u001b[0mself\u001b[0m\u001b[0;34m.\u001b[0m\u001b[0m_stateful_fn\u001b[0m\u001b[0;34m(\u001b[0m\u001b[0;34m*\u001b[0m\u001b[0margs\u001b[0m\u001b[0;34m,\u001b[0m \u001b[0;34m**\u001b[0m\u001b[0mkwds\u001b[0m\u001b[0;34m)\u001b[0m\u001b[0;34m\u001b[0m\u001b[0;34m\u001b[0m\u001b[0m\n\u001b[0m\u001b[1;32m    863\u001b[0m       \u001b[0;32mif\u001b[0m \u001b[0mself\u001b[0m\u001b[0;34m.\u001b[0m\u001b[0m_created_variables\u001b[0m\u001b[0;34m:\u001b[0m\u001b[0;34m\u001b[0m\u001b[0;34m\u001b[0m\u001b[0m\n\u001b[1;32m    864\u001b[0m         raise ValueError(\"Creating variables on a non-first call to a function\"\n",
            "\u001b[0;32m/usr/local/lib/python3.7/dist-packages/tensorflow/python/eager/function.py\u001b[0m in \u001b[0;36m__call__\u001b[0;34m(self, *args, **kwargs)\u001b[0m\n\u001b[1;32m   2939\u001b[0m     \u001b[0;32mwith\u001b[0m \u001b[0mself\u001b[0m\u001b[0;34m.\u001b[0m\u001b[0m_lock\u001b[0m\u001b[0;34m:\u001b[0m\u001b[0;34m\u001b[0m\u001b[0;34m\u001b[0m\u001b[0m\n\u001b[1;32m   2940\u001b[0m       (graph_function,\n\u001b[0;32m-> 2941\u001b[0;31m        filtered_flat_args) = self._maybe_define_function(args, kwargs)\n\u001b[0m\u001b[1;32m   2942\u001b[0m     return graph_function._call_flat(\n\u001b[1;32m   2943\u001b[0m         filtered_flat_args, captured_inputs=graph_function.captured_inputs)  # pylint: disable=protected-access\n",
            "\u001b[0;32m/usr/local/lib/python3.7/dist-packages/tensorflow/python/eager/function.py\u001b[0m in \u001b[0;36m_maybe_define_function\u001b[0;34m(self, args, kwargs)\u001b[0m\n\u001b[1;32m   3356\u001b[0m               call_context_key in self._function_cache.missed):\n\u001b[1;32m   3357\u001b[0m             return self._define_function_with_shape_relaxation(\n\u001b[0;32m-> 3358\u001b[0;31m                 args, kwargs, flat_args, filtered_flat_args, cache_key_context)\n\u001b[0m\u001b[1;32m   3359\u001b[0m \u001b[0;34m\u001b[0m\u001b[0m\n\u001b[1;32m   3360\u001b[0m           \u001b[0mself\u001b[0m\u001b[0;34m.\u001b[0m\u001b[0m_function_cache\u001b[0m\u001b[0;34m.\u001b[0m\u001b[0mmissed\u001b[0m\u001b[0;34m.\u001b[0m\u001b[0madd\u001b[0m\u001b[0;34m(\u001b[0m\u001b[0mcall_context_key\u001b[0m\u001b[0;34m)\u001b[0m\u001b[0;34m\u001b[0m\u001b[0;34m\u001b[0m\u001b[0m\n",
            "\u001b[0;32m/usr/local/lib/python3.7/dist-packages/tensorflow/python/eager/function.py\u001b[0m in \u001b[0;36m_define_function_with_shape_relaxation\u001b[0;34m(self, args, kwargs, flat_args, filtered_flat_args, cache_key_context)\u001b[0m\n\u001b[1;32m   3278\u001b[0m \u001b[0;34m\u001b[0m\u001b[0m\n\u001b[1;32m   3279\u001b[0m     graph_function = self._create_graph_function(\n\u001b[0;32m-> 3280\u001b[0;31m         args, kwargs, override_flat_arg_shapes=relaxed_arg_shapes)\n\u001b[0m\u001b[1;32m   3281\u001b[0m     \u001b[0mself\u001b[0m\u001b[0;34m.\u001b[0m\u001b[0m_function_cache\u001b[0m\u001b[0;34m.\u001b[0m\u001b[0marg_relaxed\u001b[0m\u001b[0;34m[\u001b[0m\u001b[0mrank_only_cache_key\u001b[0m\u001b[0;34m]\u001b[0m \u001b[0;34m=\u001b[0m \u001b[0mgraph_function\u001b[0m\u001b[0;34m\u001b[0m\u001b[0;34m\u001b[0m\u001b[0m\n\u001b[1;32m   3282\u001b[0m \u001b[0;34m\u001b[0m\u001b[0m\n",
            "\u001b[0;32m/usr/local/lib/python3.7/dist-packages/tensorflow/python/eager/function.py\u001b[0m in \u001b[0;36m_create_graph_function\u001b[0;34m(self, args, kwargs, override_flat_arg_shapes)\u001b[0m\n\u001b[1;32m   3204\u001b[0m             \u001b[0marg_names\u001b[0m\u001b[0;34m=\u001b[0m\u001b[0marg_names\u001b[0m\u001b[0;34m,\u001b[0m\u001b[0;34m\u001b[0m\u001b[0;34m\u001b[0m\u001b[0m\n\u001b[1;32m   3205\u001b[0m             \u001b[0moverride_flat_arg_shapes\u001b[0m\u001b[0;34m=\u001b[0m\u001b[0moverride_flat_arg_shapes\u001b[0m\u001b[0;34m,\u001b[0m\u001b[0;34m\u001b[0m\u001b[0;34m\u001b[0m\u001b[0m\n\u001b[0;32m-> 3206\u001b[0;31m             capture_by_value=self._capture_by_value),\n\u001b[0m\u001b[1;32m   3207\u001b[0m         \u001b[0mself\u001b[0m\u001b[0;34m.\u001b[0m\u001b[0m_function_attributes\u001b[0m\u001b[0;34m,\u001b[0m\u001b[0;34m\u001b[0m\u001b[0;34m\u001b[0m\u001b[0m\n\u001b[1;32m   3208\u001b[0m         \u001b[0mfunction_spec\u001b[0m\u001b[0;34m=\u001b[0m\u001b[0mself\u001b[0m\u001b[0;34m.\u001b[0m\u001b[0mfunction_spec\u001b[0m\u001b[0;34m,\u001b[0m\u001b[0;34m\u001b[0m\u001b[0;34m\u001b[0m\u001b[0m\n",
            "\u001b[0;32m/usr/local/lib/python3.7/dist-packages/tensorflow/python/framework/func_graph.py\u001b[0m in \u001b[0;36mfunc_graph_from_py_func\u001b[0;34m(name, python_func, args, kwargs, signature, func_graph, autograph, autograph_options, add_control_dependencies, arg_names, op_return_value, collections, capture_by_value, override_flat_arg_shapes)\u001b[0m\n\u001b[1;32m    988\u001b[0m         \u001b[0m_\u001b[0m\u001b[0;34m,\u001b[0m \u001b[0moriginal_func\u001b[0m \u001b[0;34m=\u001b[0m \u001b[0mtf_decorator\u001b[0m\u001b[0;34m.\u001b[0m\u001b[0munwrap\u001b[0m\u001b[0;34m(\u001b[0m\u001b[0mpython_func\u001b[0m\u001b[0;34m)\u001b[0m\u001b[0;34m\u001b[0m\u001b[0;34m\u001b[0m\u001b[0m\n\u001b[1;32m    989\u001b[0m \u001b[0;34m\u001b[0m\u001b[0m\n\u001b[0;32m--> 990\u001b[0;31m       \u001b[0mfunc_outputs\u001b[0m \u001b[0;34m=\u001b[0m \u001b[0mpython_func\u001b[0m\u001b[0;34m(\u001b[0m\u001b[0;34m*\u001b[0m\u001b[0mfunc_args\u001b[0m\u001b[0;34m,\u001b[0m \u001b[0;34m**\u001b[0m\u001b[0mfunc_kwargs\u001b[0m\u001b[0;34m)\u001b[0m\u001b[0;34m\u001b[0m\u001b[0;34m\u001b[0m\u001b[0m\n\u001b[0m\u001b[1;32m    991\u001b[0m \u001b[0;34m\u001b[0m\u001b[0m\n\u001b[1;32m    992\u001b[0m       \u001b[0;31m# invariant: `func_outputs` contains only Tensors, CompositeTensors,\u001b[0m\u001b[0;34m\u001b[0m\u001b[0;34m\u001b[0m\u001b[0;34m\u001b[0m\u001b[0m\n",
            "\u001b[0;32m/usr/local/lib/python3.7/dist-packages/tensorflow/python/eager/def_function.py\u001b[0m in \u001b[0;36mwrapped_fn\u001b[0;34m(*args, **kwds)\u001b[0m\n\u001b[1;32m    632\u001b[0m             \u001b[0mxla_context\u001b[0m\u001b[0;34m.\u001b[0m\u001b[0mExit\u001b[0m\u001b[0;34m(\u001b[0m\u001b[0;34m)\u001b[0m\u001b[0;34m\u001b[0m\u001b[0;34m\u001b[0m\u001b[0m\n\u001b[1;32m    633\u001b[0m         \u001b[0;32melse\u001b[0m\u001b[0;34m:\u001b[0m\u001b[0;34m\u001b[0m\u001b[0;34m\u001b[0m\u001b[0m\n\u001b[0;32m--> 634\u001b[0;31m           \u001b[0mout\u001b[0m \u001b[0;34m=\u001b[0m \u001b[0mweak_wrapped_fn\u001b[0m\u001b[0;34m(\u001b[0m\u001b[0;34m)\u001b[0m\u001b[0;34m.\u001b[0m\u001b[0m__wrapped__\u001b[0m\u001b[0;34m(\u001b[0m\u001b[0;34m*\u001b[0m\u001b[0margs\u001b[0m\u001b[0;34m,\u001b[0m \u001b[0;34m**\u001b[0m\u001b[0mkwds\u001b[0m\u001b[0;34m)\u001b[0m\u001b[0;34m\u001b[0m\u001b[0;34m\u001b[0m\u001b[0m\n\u001b[0m\u001b[1;32m    635\u001b[0m         \u001b[0;32mreturn\u001b[0m \u001b[0mout\u001b[0m\u001b[0;34m\u001b[0m\u001b[0;34m\u001b[0m\u001b[0m\n\u001b[1;32m    636\u001b[0m \u001b[0;34m\u001b[0m\u001b[0m\n",
            "\u001b[0;32m/usr/local/lib/python3.7/dist-packages/tensorflow/python/framework/func_graph.py\u001b[0m in \u001b[0;36mwrapper\u001b[0;34m(*args, **kwargs)\u001b[0m\n\u001b[1;32m    975\u001b[0m           \u001b[0;32mexcept\u001b[0m \u001b[0mException\u001b[0m \u001b[0;32mas\u001b[0m \u001b[0me\u001b[0m\u001b[0;34m:\u001b[0m  \u001b[0;31m# pylint:disable=broad-except\u001b[0m\u001b[0;34m\u001b[0m\u001b[0;34m\u001b[0m\u001b[0m\n\u001b[1;32m    976\u001b[0m             \u001b[0;32mif\u001b[0m \u001b[0mhasattr\u001b[0m\u001b[0;34m(\u001b[0m\u001b[0me\u001b[0m\u001b[0;34m,\u001b[0m \u001b[0;34m\"ag_error_metadata\"\u001b[0m\u001b[0;34m)\u001b[0m\u001b[0;34m:\u001b[0m\u001b[0;34m\u001b[0m\u001b[0;34m\u001b[0m\u001b[0m\n\u001b[0;32m--> 977\u001b[0;31m               \u001b[0;32mraise\u001b[0m \u001b[0me\u001b[0m\u001b[0;34m.\u001b[0m\u001b[0mag_error_metadata\u001b[0m\u001b[0;34m.\u001b[0m\u001b[0mto_exception\u001b[0m\u001b[0;34m(\u001b[0m\u001b[0me\u001b[0m\u001b[0;34m)\u001b[0m\u001b[0;34m\u001b[0m\u001b[0;34m\u001b[0m\u001b[0m\n\u001b[0m\u001b[1;32m    978\u001b[0m             \u001b[0;32melse\u001b[0m\u001b[0;34m:\u001b[0m\u001b[0;34m\u001b[0m\u001b[0;34m\u001b[0m\u001b[0m\n\u001b[1;32m    979\u001b[0m               \u001b[0;32mraise\u001b[0m\u001b[0;34m\u001b[0m\u001b[0;34m\u001b[0m\u001b[0m\n",
            "\u001b[0;31mValueError\u001b[0m: in user code:\n\n    /usr/local/lib/python3.7/dist-packages/tensorflow/python/keras/engine/training.py:1478 predict_function  *\n        return step_function(self, iterator)\n    /usr/local/lib/python3.7/dist-packages/tensorflow/python/keras/engine/training.py:1468 step_function  **\n        outputs = model.distribute_strategy.run(run_step, args=(data,))\n    /usr/local/lib/python3.7/dist-packages/tensorflow/python/distribute/distribute_lib.py:1259 run\n        return self._extended.call_for_each_replica(fn, args=args, kwargs=kwargs)\n    /usr/local/lib/python3.7/dist-packages/tensorflow/python/distribute/distribute_lib.py:2730 call_for_each_replica\n        return self._call_for_each_replica(fn, args, kwargs)\n    /usr/local/lib/python3.7/dist-packages/tensorflow/python/distribute/distribute_lib.py:3417 _call_for_each_replica\n        return fn(*args, **kwargs)\n    /usr/local/lib/python3.7/dist-packages/tensorflow/python/keras/engine/training.py:1461 run_step  **\n        outputs = model.predict_step(data)\n    /usr/local/lib/python3.7/dist-packages/tensorflow/python/keras/engine/training.py:1434 predict_step\n        return self(x, training=False)\n    /usr/local/lib/python3.7/dist-packages/tensorflow/python/keras/engine/base_layer.py:1012 __call__\n        outputs = call_fn(inputs, *args, **kwargs)\n    /usr/local/lib/python3.7/dist-packages/tensorflow/python/keras/engine/functional.py:425 call\n        inputs, training=training, mask=mask)\n    /usr/local/lib/python3.7/dist-packages/tensorflow/python/keras/engine/functional.py:560 _run_internal_graph\n        outputs = node.layer(*args, **kwargs)\n    /usr/local/lib/python3.7/dist-packages/tensorflow/python/keras/engine/base_layer.py:998 __call__\n        input_spec.assert_input_compatibility(self.input_spec, inputs, self.name)\n    /usr/local/lib/python3.7/dist-packages/tensorflow/python/keras/engine/input_spec.py:259 assert_input_compatibility\n        ' but received input with shape ' + display_shape(x.shape))\n\n    ValueError: Input 0 of layer dense_34 is incompatible with the layer: expected axis -1 of input shape to have value 7800 but received input with shape (None, 600)\n"
          ]
        }
      ]
    },
    {
      "cell_type": "code",
      "metadata": {
        "colab": {
          "base_uri": "https://localhost:8080/"
        },
        "id": "2-zf3jYgAWFR",
        "outputId": "dc2be72d-dcc9-4e75-e048-317481d98628"
      },
      "source": [
        "print(generate_next('ขอบคุณที่ทิ้งกันในวันที่ฉันไม่เหลือ'))"
      ],
      "execution_count": null,
      "outputs": [
        {
          "output_type": "stream",
          "text": [
            "ขอบคุณที่ทิ้งกันในวันที่ฉันไม่เหลือว่าจะไม่ใช่เราจะไม่ใช่ออกไปกับตัวเองได้นะ\n"
          ],
          "name": "stdout"
        }
      ]
    },
    {
      "cell_type": "code",
      "metadata": {
        "id": "LgnK33FgvDwu"
      },
      "source": [
        "data_df_quote[]"
      ],
      "execution_count": null,
      "outputs": []
    },
    {
      "cell_type": "code",
      "metadata": {
        "id": "s3Ta14cJnyzP"
      },
      "source": [
        "from keras.preprocessing.sequence import pad_sequences\n",
        "import copy\n",
        "def cal_score(score_list, length, normalized=False):\n",
        "  seq_score = 0\n",
        "  for i in range(length):\n",
        "    score_list[i] = score_list[i]+0.00000001\n",
        "  if normalized:\n",
        "    a = np.log(score_list)\n",
        "    seq_score = np.exp(a.mean())\n",
        "  else:\n",
        "    score_list = np.log(score_list)\n",
        "    for score in score_list:\n",
        "      seq_score += score\n",
        "    seq_score = np.exp(seq_score)\n",
        "  return seq_score"
      ],
      "execution_count": null,
      "outputs": []
    },
    {
      "cell_type": "code",
      "metadata": {
        "id": "zyFG8HP8qGKw"
      },
      "source": [
        "def texts_to_sequences(text, word_to_index):\n",
        "  text = text.strip().split(\" \")\n",
        "  token_list = [word_to_index[x] for x in text]\n",
        "  return token_list"
      ],
      "execution_count": null,
      "outputs": []
    },
    {
      "cell_type": "code",
      "metadata": {
        "id": "vXix8knHL8M-"
      },
      "source": [
        "def greedy_decode(seed_text, max_gen_length, model, word_to_index, index_to_word, input_len):\n",
        "  \"\"\"Greedy decodes with seed text.\n",
        "\n",
        "  Args:\n",
        "    seed_text: The seed string to be used as initial input to the model.\n",
        "    max_gen_length: Maximum length for generation.\n",
        "                    The decoding process must terminate when this length is reached\n",
        "    model: Pretrained keras model for prediction.\n",
        "    word_to_index: The dictionary for converting word to index.\n",
        "    input_len: A number indicating how many previously generated words will be used as \n",
        "               inputs for the model.\n",
        "  \n",
        "  Your code should do the followings:\n",
        "      1. Convert current_text to sequences of indices by calling texts_to_sequences()\n",
        "      2. Pad the sequence with 0s. You might find pad_sequences() function useful\n",
        "      3. Predict the next token using the model (by calling model.predict() or model.predict_classes())\n",
        "         and choose the token with the highest score as output\n",
        "      4. Convert the predicted index to word and concat it to current_text\n",
        "      5. Return text prediction and a list of probabilities of each step\n",
        "      \n",
        "  You do not need to stop early when end-of-sequence token is generated and can continue decoding\n",
        "  until max_gen_length is reached. We can filter the eos token out later.\n",
        "      \n",
        "  The index is converted back to text after every step purely for simplicity. \n",
        "  When working with real problem you should stick with index until the decoding is done.\n",
        "  But you can always call a function provided by the library so there is no need to implement this yourself.\n",
        "  \"\"\"\n",
        "  current_text = seed_text\n",
        "  probs = []\n",
        "  for _ in range(max_gen_length):\n",
        "    ### YOUR CODE HERE\n",
        "    current_seq = [texts_to_sequences(current_text,word_to_index)]\n",
        "    current_seq = pad_sequences(current_seq,maxlen=input_len)\n",
        "    prediction = model.predict(current_seq)\n",
        "    pos = np.argmax(prediction[0])\n",
        "    probs.append(prediction[0][pos])\n",
        "    output_word = index_to_word[pos]\n",
        "    ### END YOUR CODE\n",
        "    \n",
        "    current_text += \" \" + output_word\n",
        "  return current_text.title(), probs"
      ],
      "execution_count": null,
      "outputs": []
    },
    {
      "cell_type": "code",
      "metadata": {
        "id": "Bo4g3Coov3Sc"
      },
      "source": [
        "def beam_search_decode(seed_text, max_gen_len, model, word_to_index, index_to_word, max_sequence_len, beam_size, normalized=False):\n",
        "  \"\"\"We will do beam search decoing using seed text in this function.\n",
        "    \n",
        "  Output:\n",
        "    beams: A list of top k beams after the decoding ended, each beam is a list of \n",
        "      [seed_text, list of scores, length]\n",
        "\n",
        "  Your code should do the followings:\n",
        "    1.Loop until max_gen_len is reached.\n",
        "    2.During each step, loop through each beam and use it to predict the next word.\n",
        "      If a beam is already ended, continues without expanding.\n",
        "    3.Sort all hypotheses according to cal_score().\n",
        "    4.Keep top k hypotheses to be used at the next step.\n",
        "  \"\"\"\n",
        "  # For each beam we will store (generated text, list of scores, and current length)\n",
        "  # Add initial beam\n",
        "  beams = [[seed_text, [], 0]]\n",
        "  \n",
        "  for _ in range(max_gen_len):\n",
        "    all_h = []\n",
        "    all_h_skip = []\n",
        "    skip = []\n",
        "    for beam in beams:\n",
        "      current_text = beam[0]\n",
        "      if current_text.strip().split(\" \")[-1] == '</s>':\n",
        "        all_h_skip.append(beam)\n",
        "        continue\n",
        "      current_seq = [texts_to_sequences(current_text,word_to_index)]\n",
        "      current_seq = pad_sequences(current_seq,maxlen=max_sequence_len)\n",
        "      prediction = model.predict(current_seq)\n",
        "      \n",
        "      for pos in range(len(prediction[0])):\n",
        "        current_score = copy.deepcopy(beam[1])\n",
        "        temp_pos = sample(prediction[0],temperature)\n",
        "        current_score.append(prediction[0][temp_pos])\n",
        "        current_h = [current_text+\" \"+index_to_word[pos],current_score,len(current_score)]\n",
        "        all_h.append(current_h)\n",
        "    for beam_i in range(len(all_h)):\n",
        "      all_h[beam_i].append(cal_score(all_h[beam_i][1],all_h[beam_i][2],normalized))\n",
        "    all_h = all_h + all_h_skip\n",
        "    all_h.sort(reverse = True,key=lambda x:x[3])\n",
        "    beams = all_h[:beam_size]\n",
        "  return beams"
      ],
      "execution_count": null,
      "outputs": []
    },
    {
      "cell_type": "code",
      "metadata": {
        "id": "a4hDS5LjSWx_"
      },
      "source": [
        "def temperature_sampling_decode(seed_text, max_gen_length, model, word_to_index, index_to_word, input_len, temperature):\n",
        "  \"\"\"Greedy decodes with seed text using temperature sampling.\n",
        "\n",
        "  Args:\n",
        "    seed_text: The seed string to be used as initial input to the model.\n",
        "    max_gen_length: Maximum length for generation.\n",
        "                    The decoding process must terminate when this length is reached\n",
        "    model: Pretrained keras model for prediction.\n",
        "    word_to_index: The dictionary for converting word to index.\n",
        "    input_len: A number indicating how many previously generated words will be used as \n",
        "               inputs for the model.\n",
        "    temperature: temperature.\n",
        "\n",
        "  The retured probs must be before rescaling.\n",
        "  \"\"\"\n",
        "  current_text = seed_text\n",
        "  probs = []\n",
        "  for _ in range(max_gen_length):\n",
        "    ### YOUR CODE HERE\n",
        "    current_seq = [texts_to_sequences(current_text,word_to_index)]\n",
        "    current_seq = pad_sequences(current_seq,maxlen=input_len)\n",
        "    prediction = model.predict(current_seq)\n",
        "    pos = sample(prediction[0],temperature)\n",
        "    probs.append(prediction[0][pos])\n",
        "    output_word = index_to_word[pos]\n",
        "    ### END YOUR CODE\n",
        "    current_text += \" \" + output_word\n",
        "  return current_text.title(), probs"
      ],
      "execution_count": null,
      "outputs": []
    },
    {
      "cell_type": "code",
      "metadata": {
        "id": "1aJHwvbyQJQ5"
      },
      "source": [
        "def clean_output(text, eos_token):\n",
        "  \"\"\"Drop eos_token and every words that follow\"\"\"\n",
        "  text = text.strip().split(\" \")\n",
        "  trim_index = len(text)\n",
        "  for i in range(len(text)):\n",
        "    if text[i] == eos_token:\n",
        "      trim_index = i\n",
        "      break\n",
        "  return \" \".join(text[:trim_index]),trim_index"
      ],
      "execution_count": null,
      "outputs": []
    },
    {
      "cell_type": "code",
      "metadata": {
        "colab": {
          "base_uri": "https://localhost:8080/"
        },
        "id": "ST0MbpG5p35B",
        "outputId": "67a2b6b3-77e1-4aed-e4f3-ee51a60860da"
      },
      "source": [
        "max_length"
      ],
      "execution_count": null,
      "outputs": [
        {
          "output_type": "execute_result",
          "data": {
            "text/plain": [
              "45"
            ]
          },
          "metadata": {
            "tags": []
          },
          "execution_count": 110
        }
      ]
    },
    {
      "cell_type": "code",
      "metadata": {
        "id": "G5FNa48bnRtL"
      },
      "source": [
        "max_gen_length = 20\n",
        "beam_size = 10\n",
        "unnormal_result = beam_search_decode(\"ข้อ\",max_gen_length,model,dictionary,re_dictionary,max_length,beam_size,True)"
      ],
      "execution_count": null,
      "outputs": []
    },
    {
      "cell_type": "code",
      "metadata": {
        "colab": {
          "base_uri": "https://localhost:8080/",
          "height": 35
        },
        "id": "2iQXlmW1t78s",
        "outputId": "a414e2f2-e5e2-4399-bab0-052bbdd3e089"
      },
      "source": [
        "unnormal_result[4][0]"
      ],
      "execution_count": null,
      "outputs": [
        {
          "output_type": "execute_result",
          "data": {
            "application/vnd.google.colaboratory.intrinsic+json": {
              "type": "string"
            },
            "text/plain": [
              "'ข้อ ไม่ ต่าง ต่าง ต่าง ต่าง ต่าง ต่าง ต่าง ต่าง ต่าง ต่าง ต่าง ต่าง ต่าง ต่าง ต่าง ต่าง ต่าง ต่าง กลับ'"
            ]
          },
          "metadata": {
            "tags": []
          },
          "execution_count": 143
        }
      ]
    },
    {
      "cell_type": "code",
      "metadata": {
        "colab": {
          "base_uri": "https://localhost:8080/"
        },
        "id": "jWPKvG_iMCOK",
        "outputId": "778fe438-f18e-46ee-a343-0ad731220307"
      },
      "source": [
        "temperature_sampling_decode(\"แต่\", max_gen_length, model, dictionary,re_dictionary, max_length,0.)"
      ],
      "execution_count": null,
      "outputs": [
        {
          "output_type": "execute_result",
          "data": {
            "text/plain": [
              "('แต่ พอ </S> ไม่ เป็น เพราะ มัน ไม่ ได้ </S> ไม่ มี เพราะ มัน ก็ ไม่ มี </S> ไม่ มี มา',\n",
              " [0.09054024,\n",
              "  0.20589632,\n",
              "  0.057657424,\n",
              "  0.09423095,\n",
              "  0.05972365,\n",
              "  0.16843343,\n",
              "  0.08285365,\n",
              "  0.073434554,\n",
              "  0.09530953,\n",
              "  0.066845186,\n",
              "  0.1035137,\n",
              "  0.09030096,\n",
              "  0.1613467,\n",
              "  0.051099148,\n",
              "  0.107636385,\n",
              "  0.07352069,\n",
              "  0.11620278,\n",
              "  0.08714647,\n",
              "  0.09421642,\n",
              "  0.012144663])"
            ]
          },
          "metadata": {
            "tags": []
          },
          "execution_count": 133
        }
      ]
    }
  ]
}